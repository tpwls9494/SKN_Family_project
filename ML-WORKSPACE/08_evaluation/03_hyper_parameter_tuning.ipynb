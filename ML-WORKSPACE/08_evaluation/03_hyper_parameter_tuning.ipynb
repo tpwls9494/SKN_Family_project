{
 "cells": [
  {
   "cell_type": "markdown",
   "metadata": {},
   "source": [
    "# Hyper Parameter Tuning\n",
    "- hyper parameter: 모델 설정과 관련해 직접 지정할 수 있는 매개변수\n",
    "- model parameter: 회귀계수(가중치), 절편 등 모델의 학습 대상이 되는 변수"
   ]
  },
  {
   "cell_type": "markdown",
   "metadata": {},
   "source": [
    "### GridSearchCV\n"
   ]
  },
  {
   "cell_type": "code",
   "execution_count": 6,
   "metadata": {},
   "outputs": [
    {
     "name": "stdout",
     "output_type": "stream",
     "text": [
      "최적의 파라미터: {'n_neighbors': 7}\n",
      "최적화된 모델 객체: KNeighborsClassifier(n_neighbors=7)\n",
      "최적화된 점수: 0.9800000000000001\n"
     ]
    }
   ],
   "source": [
    "from sklearn.datasets import load_iris\n",
    "from sklearn.neighbors import KNeighborsClassifier\n",
    "from sklearn.model_selection import GridSearchCV\n",
    "\n",
    "# 데이터 로드\n",
    "iris_input, iris_target = load_iris(return_X_y=True)\n",
    "\n",
    "# 모델 생성\n",
    "knn = KNeighborsClassifier()\n",
    "\n",
    "# 테스트할 파라미터 값\n",
    "params = {\n",
    "    'n_neighbors': range(1, 13, 2)\n",
    "}\n",
    "\n",
    "# 첫 번째 인자: 모델\n",
    "# 두 번째 인자: 테스트 할 파라미터 (딕셔너리)\n",
    "# scoring: 평가 지표 (accuracy, precision, recall, f1)\n",
    "# cv: 반복 횟수 (KFold 사용, StratifiedKFold 객체 전달 가능)\n",
    "grid = GridSearchCV(knn, params, scoring='accuracy', cv=5)\n",
    "grid.fit(iris_input, iris_target)\n",
    "\n",
    "print('최적의 파라미터:', grid.best_params_)\n",
    "print('최적화된 모델 객체:', grid.best_estimator_)\n",
    "print('최적화된 점수:', grid.best_score_)"
   ]
  },
  {
   "cell_type": "code",
   "execution_count": 7,
   "metadata": {},
   "outputs": [
    {
     "data": {
      "text/plain": [
       "0.9733333333333334"
      ]
     },
     "execution_count": 7,
     "metadata": {},
     "output_type": "execute_result"
    }
   ],
   "source": [
    "best_knn = grid.best_estimator_\n",
    "best_knn.fit(iris_input, iris_target)\n",
    "best_knn.score(iris_input, iris_target)"
   ]
  },
  {
   "cell_type": "markdown",
   "metadata": {},
   "source": [
    "### RandomSearchCV\n",
    "- 하이퍼 파라미터의 값 목록이나 값의 범위를 제공하는데, 이 범위 중에 랜덤하게 값을 뽑아내 최적의 하이퍼 파라미터 조합을 찾는다.\n",
    "    - 탐색범위가 넓을 때 짧은 시간 내에 좋은 결과를 얻을 수 있다.\n",
    "    - 랜덤하게 값을 추출해 계산하므로, 전역 최적값을 놓칠 수 있다."
   ]
  },
  {
   "cell_type": "code",
   "execution_count": 8,
   "metadata": {},
   "outputs": [
    {
     "name": "stdout",
     "output_type": "stream",
     "text": [
      "최적의 파라미터: {'n_neighbors': 5}\n",
      "최적화된 모델 객체: KNeighborsClassifier()\n",
      "최적화된 파라미터: 0.9733333333333334\n"
     ]
    },
    {
     "data": {
      "text/plain": [
       "{'mean_fit_time': array([0.00096965, 0.00093102, 0.00077868, 0.00074735, 0.00074139,\n",
       "        0.0008224 , 0.00072551, 0.00070615, 0.00086832, 0.00070643]),\n",
       " 'std_fit_time': array([2.34508543e-04, 3.19760577e-04, 1.25891060e-04, 1.29107885e-04,\n",
       "        6.28699622e-05, 1.15810641e-04, 1.22662686e-04, 6.65172283e-05,\n",
       "        8.01972909e-05, 7.20133047e-05]),\n",
       " 'mean_score_time': array([0.00453033, 0.00320964, 0.00308061, 0.01420403, 0.00333223,\n",
       "        0.00353422, 0.00213704, 0.00199928, 0.00366817, 0.00341754]),\n",
       " 'std_score_time': array([0.00174211, 0.00041112, 0.00029284, 0.02455367, 0.0002837 ,\n",
       "        0.00029125, 0.0004465 , 0.00035921, 0.00034197, 0.0003337 ]),\n",
       " 'param_n_neighbors': masked_array(data=[57, 23, 21, 83, 5, 55, 77, 63, 45, 9],\n",
       "              mask=[False, False, False, False, False, False, False, False,\n",
       "                    False, False],\n",
       "        fill_value=999999),\n",
       " 'params': [{'n_neighbors': 57},\n",
       "  {'n_neighbors': 23},\n",
       "  {'n_neighbors': 21},\n",
       "  {'n_neighbors': 83},\n",
       "  {'n_neighbors': 5},\n",
       "  {'n_neighbors': 55},\n",
       "  {'n_neighbors': 77},\n",
       "  {'n_neighbors': 63},\n",
       "  {'n_neighbors': 45},\n",
       "  {'n_neighbors': 9}],\n",
       " 'split0_test_score': array([0.9       , 0.93333333, 0.93333333, 0.66666667, 0.96666667,\n",
       "        0.9       , 0.86666667, 0.9       , 0.9       , 0.96666667]),\n",
       " 'split1_test_score': array([0.93333333, 1.        , 1.        , 0.66666667, 1.        ,\n",
       "        0.93333333, 0.9       , 0.9       , 0.93333333, 1.        ]),\n",
       " 'split2_test_score': array([0.83333333, 0.93333333, 0.93333333, 0.66666667, 0.93333333,\n",
       "        0.83333333, 0.8       , 0.83333333, 0.9       , 0.96666667]),\n",
       " 'split3_test_score': array([0.93333333, 0.93333333, 0.96666667, 0.66666667, 0.96666667,\n",
       "        0.93333333, 0.93333333, 0.93333333, 0.96666667, 0.93333333]),\n",
       " 'split4_test_score': array([0.86666667, 1.        , 1.        , 0.63333333, 1.        ,\n",
       "        0.93333333, 0.86666667, 0.86666667, 1.        , 1.        ]),\n",
       " 'mean_test_score': array([0.89333333, 0.96      , 0.96666667, 0.66      , 0.97333333,\n",
       "        0.90666667, 0.87333333, 0.88666667, 0.94      , 0.97333333]),\n",
       " 'std_test_score': array([0.03887301, 0.03265986, 0.02981424, 0.01333333, 0.02494438,\n",
       "        0.03887301, 0.04422166, 0.03399346, 0.03887301, 0.02494438]),\n",
       " 'rank_test_score': array([ 7,  4,  3, 10,  1,  6,  9,  8,  5,  1], dtype=int32)}"
      ]
     },
     "execution_count": 8,
     "metadata": {},
     "output_type": "execute_result"
    }
   ],
   "source": [
    "from sklearn.model_selection import RandomizedSearchCV\n",
    "\n",
    "# 모델 생성\n",
    "knn = KNeighborsClassifier()\n",
    "\n",
    "# 테스트할 파라미터 생성\n",
    "params = {\n",
    "    'n_neighbors': range(1, 100, 2)  \n",
    "}\n",
    "\n",
    "# n_iter: 탐색할 최적의 하이퍼 파라미터 조합 수 (기본값: 10)\n",
    "#         값이 크면 시간이 오래 걸림 / 값이 작으면 좋은 조합을 찾을 가능성 저하\n",
    "rd_search = RandomizedSearchCV(knn, params, cv=5, n_iter=10, random_state=0)\n",
    "rd_search.fit(iris_input, iris_target)\n",
    "\n",
    "print('최적의 파라미터:', rd_search.best_params_)\n",
    "print('최적화된 모델 객체:', rd_search.best_estimator_)\n",
    "print('최적화된 파라미터:', rd_search.best_score_)\n",
    "rd_search.cv_results_"
   ]
  },
  {
   "cell_type": "markdown",
   "metadata": {},
   "source": [
    "---\n",
    "\n",
    "### HyperOpt"
   ]
  },
  {
   "cell_type": "code",
   "execution_count": 9,
   "metadata": {},
   "outputs": [
    {
     "name": "stdout",
     "output_type": "stream",
     "text": [
      "Requirement already satisfied: Hp in /usr/local/lib/python3.10/site-packages (0.0.3)\n",
      "\n",
      "\u001b[1m[\u001b[0m\u001b[34;49mnotice\u001b[0m\u001b[1;39;49m]\u001b[0m\u001b[39;49m A new release of pip is available: \u001b[0m\u001b[31;49m25.0\u001b[0m\u001b[39;49m -> \u001b[0m\u001b[32;49m25.0.1\u001b[0m\n",
      "\u001b[1m[\u001b[0m\u001b[34;49mnotice\u001b[0m\u001b[1;39;49m]\u001b[0m\u001b[39;49m To update, run: \u001b[0m\u001b[32;49mpython3.10 -m pip install --upgrade pip\u001b[0m\n"
     ]
    }
   ],
   "source": [
    "!pip3 install Hp"
   ]
  },
  {
   "cell_type": "code",
   "execution_count": 10,
   "metadata": {},
   "outputs": [],
   "source": [
    "import hyperopt\n",
    "from hyperopt import hp\n",
    "# 검색 공간\n",
    "search_space = {\n",
    "    'x': hp.quniform('x', -10, 10, 1),\n",
    "    'y': hp.quniform('y', -15, 15, 1)\n",
    "}"
   ]
  },
  {
   "cell_type": "code",
   "execution_count": 11,
   "metadata": {},
   "outputs": [],
   "source": [
    "# 목적 함수\n",
    "def objective(search_space):\n",
    "    x = search_space['x']\n",
    "    y = search_space['y']\n",
    "    return {\n",
    "        'loss': x**2 + 20 * y,\n",
    "        'status': hyperopt.STATUS_OK}"
   ]
  },
  {
   "cell_type": "code",
   "execution_count": 12,
   "metadata": {},
   "outputs": [
    {
     "name": "stdout",
     "output_type": "stream",
     "text": [
      "100%|██████████| 500/500 [00:08<00:00, 56.23trial/s, best loss: -300.0] \n"
     ]
    },
    {
     "data": {
      "text/plain": [
       "{'x': np.float64(-0.0), 'y': np.float64(-15.0)}"
      ]
     },
     "execution_count": 12,
     "metadata": {},
     "output_type": "execute_result"
    }
   ],
   "source": [
    "from hyperopt import fmin, tpe, Trials\n",
    "\n",
    "# 탐색 과정을 저장하는 객체\n",
    "trials = Trials()\n",
    "\n",
    "# fmin() : 목적 함수의 최소값을 찾는 함수\n",
    "fmin(\n",
    "    fn=objective,\n",
    "    space=search_space,\n",
    "    algo=tpe.suggest,\n",
    "    max_evals=500,\n",
    "    trials=trials\n",
    ")"
   ]
  },
  {
   "cell_type": "code",
   "execution_count": 13,
   "metadata": {},
   "outputs": [],
   "source": [
    "#!pip3 install --upgrade xgboost"
   ]
  },
  {
   "cell_type": "markdown",
   "metadata": {},
   "source": [
    "- hyperopt를 활용한 XGBoost 하이퍼 파라미터 튜닝"
   ]
  },
  {
   "cell_type": "code",
   "execution_count": 14,
   "metadata": {},
   "outputs": [
    {
     "name": "stdout",
     "output_type": "stream",
     "text": [
      "100%|██████████| 50/50 [00:29<00:00,  1.67trial/s, best loss: -0.9671361502347419]\n"
     ]
    },
    {
     "data": {
      "text/plain": [
       "{'colsample_bytree': np.float64(0.5057484080470731),\n",
       " 'learning_rate': np.float64(0.03042195517923342),\n",
       " 'max_depth': np.float64(3.0),\n",
       " 'n_estimators': np.float64(300.0)}"
      ]
     },
     "execution_count": 14,
     "metadata": {},
     "output_type": "execute_result"
    }
   ],
   "source": [
    "from xgboost import XGBClassifier\n",
    "from sklearn.datasets import load_breast_cancer\n",
    "from sklearn.model_selection import train_test_split, cross_val_score\n",
    "\n",
    "data = load_breast_cancer()\n",
    "X_train, X_test, y_train, y_test = train_test_split(data.data, data.target, random_state=42)\n",
    "\n",
    "# 1. 검색 공간\n",
    "search_space = {\n",
    "    'n_estimators': hp.quniform('n_estimators', 100, 500, 100),\n",
    "    'max_depth': hp.quniform('max_depth', 3, 10, 1),\n",
    "    'learning_rate': hp.uniform('learning_rate', 0.01, 0.2),\n",
    "    'colsample_bytree': hp.uniform('colsample_bytree', 0.5, 1)\n",
    "}\n",
    "\n",
    "# 2. 목적 함수\n",
    "def xgb_objective(ss):\n",
    "    xgb_clf = XGBClassifier(\n",
    "        n_estimators=int(ss['n_estimators']),\n",
    "        max_depth=int(ss['max_depth']),\n",
    "        learning_rate=ss['learning_rate'],\n",
    "        colsample_bytree=ss['colsample_bytree']    \n",
    "    )\n",
    "    mean_acc = cross_val_score(xgb_clf, X_train, y_train, scoring='accuracy', cv=3).mean()\n",
    "    return {\n",
    "        'loss': -1 * mean_acc,\n",
    "        'status': hyperopt.STATUS_OK\n",
    "    }\n",
    "\n",
    "# 3. Trials() + fmin()\n",
    "trials = Trials()\n",
    "best = fmin(\n",
    "    fn=xgb_objective,\n",
    "    space=search_space,\n",
    "    algo=tpe.suggest,\n",
    "    max_evals=50,\n",
    "    trials=trials\n",
    ")\n",
    "\n",
    "best"
   ]
  },
  {
   "cell_type": "markdown",
   "metadata": {},
   "source": [
    "---\n"
   ]
  },
  {
   "cell_type": "code",
   "execution_count": 15,
   "metadata": {},
   "outputs": [
    {
     "data": {
      "text/plain": [
       "{'colsample_bytree': [np.float64(0.8277375223786566),\n",
       "  np.float64(0.8817568773496226),\n",
       "  np.float64(0.5687404394272759),\n",
       "  np.float64(0.7798737435229448),\n",
       "  np.float64(0.7791438032256472),\n",
       "  np.float64(0.7900189490001761),\n",
       "  np.float64(0.5057484080470731),\n",
       "  np.float64(0.6364175808400087),\n",
       "  np.float64(0.8680915323231867),\n",
       "  np.float64(0.9501029761538042),\n",
       "  np.float64(0.9228091349460845),\n",
       "  np.float64(0.9997223091629328),\n",
       "  np.float64(0.8665202116474617),\n",
       "  np.float64(0.5967686111552134),\n",
       "  np.float64(0.7431658692595542),\n",
       "  np.float64(0.9351466393343004),\n",
       "  np.float64(0.8509254304504665),\n",
       "  np.float64(0.8502372939540088),\n",
       "  np.float64(0.5596252063032483),\n",
       "  np.float64(0.6176276009664499),\n",
       "  np.float64(0.6692292059993865),\n",
       "  np.float64(0.5201195653575879),\n",
       "  np.float64(0.9819883495175155),\n",
       "  np.float64(0.7108975703695168),\n",
       "  np.float64(0.5124160641997955),\n",
       "  np.float64(0.7059280029131089),\n",
       "  np.float64(0.9607334037528671),\n",
       "  np.float64(0.6553733847595331),\n",
       "  np.float64(0.8141785804111505),\n",
       "  np.float64(0.9017974683238411),\n",
       "  np.float64(0.7135555595683454),\n",
       "  np.float64(0.5690973642445403),\n",
       "  np.float64(0.8206446154433767),\n",
       "  np.float64(0.5412227269636846),\n",
       "  np.float64(0.7577675767078645),\n",
       "  np.float64(0.9568396246613717),\n",
       "  np.float64(0.8925043165647348),\n",
       "  np.float64(0.6791268322888658),\n",
       "  np.float64(0.9989245216931808),\n",
       "  np.float64(0.7938316994302843),\n",
       "  np.float64(0.605895717734927),\n",
       "  np.float64(0.7598719740799933),\n",
       "  np.float64(0.9166257779053052),\n",
       "  np.float64(0.5803218113129355),\n",
       "  np.float64(0.73677426868428),\n",
       "  np.float64(0.6382074835732854),\n",
       "  np.float64(0.5001974490246494),\n",
       "  np.float64(0.8019702089984644),\n",
       "  np.float64(0.8414076606557228),\n",
       "  np.float64(0.9397663786670548)],\n",
       " 'learning_rate': [np.float64(0.09204654740509258),\n",
       "  np.float64(0.03338729119312162),\n",
       "  np.float64(0.06377672797869757),\n",
       "  np.float64(0.0452413718304662),\n",
       "  np.float64(0.197342841265838),\n",
       "  np.float64(0.018152789022763724),\n",
       "  np.float64(0.03042195517923342),\n",
       "  np.float64(0.09977082177340202),\n",
       "  np.float64(0.051014610447310406),\n",
       "  np.float64(0.11934813629167812),\n",
       "  np.float64(0.11498497186096115),\n",
       "  np.float64(0.16104598547729318),\n",
       "  np.float64(0.17212632460846305),\n",
       "  np.float64(0.1927965231381532),\n",
       "  np.float64(0.18087024717662764),\n",
       "  np.float64(0.025731657972720666),\n",
       "  np.float64(0.03309045746938741),\n",
       "  np.float64(0.13430190270131487),\n",
       "  np.float64(0.13267136547622146),\n",
       "  np.float64(0.16201401642076924),\n",
       "  np.float64(0.07681680984480696),\n",
       "  np.float64(0.12723952724569648),\n",
       "  np.float64(0.07672256703955092),\n",
       "  np.float64(0.010311657069752914),\n",
       "  np.float64(0.15101288379159505),\n",
       "  np.float64(0.11822884962157076),\n",
       "  np.float64(0.0843050724209693),\n",
       "  np.float64(0.1450192029572699),\n",
       "  np.float64(0.0980359877851545),\n",
       "  np.float64(0.11215495110474097),\n",
       "  np.float64(0.05021865668450416),\n",
       "  np.float64(0.06445204458807641),\n",
       "  np.float64(0.08793118498796942),\n",
       "  np.float64(0.1064730045944393),\n",
       "  np.float64(0.06257386327204387),\n",
       "  np.float64(0.1441558037584392),\n",
       "  np.float64(0.04062772123311863),\n",
       "  np.float64(0.013622562893379347),\n",
       "  np.float64(0.06020167955845517),\n",
       "  np.float64(0.07773483563370978),\n",
       "  np.float64(0.10069048912426173),\n",
       "  np.float64(0.12305265757036553),\n",
       "  np.float64(0.18510275947631066),\n",
       "  np.float64(0.16886430192866783),\n",
       "  np.float64(0.09187074340054198),\n",
       "  np.float64(0.0229238249944251),\n",
       "  np.float64(0.1547705562591557),\n",
       "  np.float64(0.1345786474919234),\n",
       "  np.float64(0.031102483412170458),\n",
       "  np.float64(0.04076922847322733)],\n",
       " 'max_depth': [np.float64(4.0),\n",
       "  np.float64(7.0),\n",
       "  np.float64(4.0),\n",
       "  np.float64(10.0),\n",
       "  np.float64(5.0),\n",
       "  np.float64(5.0),\n",
       "  np.float64(3.0),\n",
       "  np.float64(9.0),\n",
       "  np.float64(4.0),\n",
       "  np.float64(9.0),\n",
       "  np.float64(9.0),\n",
       "  np.float64(7.0),\n",
       "  np.float64(3.0),\n",
       "  np.float64(9.0),\n",
       "  np.float64(4.0),\n",
       "  np.float64(9.0),\n",
       "  np.float64(5.0),\n",
       "  np.float64(8.0),\n",
       "  np.float64(6.0),\n",
       "  np.float64(5.0),\n",
       "  np.float64(10.0),\n",
       "  np.float64(8.0),\n",
       "  np.float64(6.0),\n",
       "  np.float64(8.0),\n",
       "  np.float64(3.0),\n",
       "  np.float64(7.0),\n",
       "  np.float64(10.0),\n",
       "  np.float64(6.0),\n",
       "  np.float64(8.0),\n",
       "  np.float64(3.0),\n",
       "  np.float64(7.0),\n",
       "  np.float64(10.0),\n",
       "  np.float64(6.0),\n",
       "  np.float64(4.0),\n",
       "  np.float64(9.0),\n",
       "  np.float64(8.0),\n",
       "  np.float64(5.0),\n",
       "  np.float64(3.0),\n",
       "  np.float64(10.0),\n",
       "  np.float64(4.0),\n",
       "  np.float64(7.0),\n",
       "  np.float64(9.0),\n",
       "  np.float64(6.0),\n",
       "  np.float64(7.0),\n",
       "  np.float64(5.0),\n",
       "  np.float64(9.0),\n",
       "  np.float64(8.0),\n",
       "  np.float64(4.0),\n",
       "  np.float64(5.0),\n",
       "  np.float64(9.0)],\n",
       " 'n_estimators': [np.float64(300.0),\n",
       "  np.float64(200.0),\n",
       "  np.float64(200.0),\n",
       "  np.float64(200.0),\n",
       "  np.float64(300.0),\n",
       "  np.float64(100.0),\n",
       "  np.float64(300.0),\n",
       "  np.float64(300.0),\n",
       "  np.float64(200.0),\n",
       "  np.float64(300.0),\n",
       "  np.float64(200.0),\n",
       "  np.float64(300.0),\n",
       "  np.float64(500.0),\n",
       "  np.float64(400.0),\n",
       "  np.float64(300.0),\n",
       "  np.float64(300.0),\n",
       "  np.float64(200.0),\n",
       "  np.float64(200.0),\n",
       "  np.float64(400.0),\n",
       "  np.float64(400.0),\n",
       "  np.float64(400.0),\n",
       "  np.float64(500.0),\n",
       "  np.float64(100.0),\n",
       "  np.float64(400.0),\n",
       "  np.float64(300.0),\n",
       "  np.float64(400.0),\n",
       "  np.float64(500.0),\n",
       "  np.float64(300.0),\n",
       "  np.float64(300.0),\n",
       "  np.float64(100.0),\n",
       "  np.float64(400.0),\n",
       "  np.float64(300.0),\n",
       "  np.float64(200.0),\n",
       "  np.float64(300.0),\n",
       "  np.float64(200.0),\n",
       "  np.float64(100.0),\n",
       "  np.float64(200.0),\n",
       "  np.float64(400.0),\n",
       "  np.float64(300.0),\n",
       "  np.float64(200.0),\n",
       "  np.float64(500.0),\n",
       "  np.float64(300.0),\n",
       "  np.float64(300.0),\n",
       "  np.float64(400.0),\n",
       "  np.float64(200.0),\n",
       "  np.float64(300.0),\n",
       "  np.float64(100.0),\n",
       "  np.float64(200.0),\n",
       "  np.float64(400.0),\n",
       "  np.float64(300.0)]}"
      ]
     },
     "execution_count": 15,
     "metadata": {},
     "output_type": "execute_result"
    }
   ],
   "source": [
    "# 탐색과정 -> 목적함수 반환값 (loss의 실행 상태 저장)\n",
    "trials.results\n",
    "\n",
    "# 탐색과정 -> 하이퍼 파라미터값을 딕셔너리 형태로 저장\n",
    "trials.vals"
   ]
  },
  {
   "cell_type": "markdown",
   "metadata": {},
   "source": [
    "### Optuna"
   ]
  },
  {
   "cell_type": "code",
   "execution_count": 16,
   "metadata": {},
   "outputs": [],
   "source": [
    "# !pip3 install Optuna"
   ]
  },
  {
   "cell_type": "code",
   "execution_count": 17,
   "metadata": {},
   "outputs": [
    {
     "name": "stderr",
     "output_type": "stream",
     "text": [
      "[I 2025-02-11 17:16:58,077] A new study created in memory with name: no-name-6e5e689c-6a36-428b-a485-606c4a18e200\n",
      "/var/folders/kp/5_0zhw410tzf9tkb2lt76sw40000gn/T/ipykernel_98880/3671184330.py:5: FutureWarning: suggest_uniform has been deprecated in v3.0.0. This feature will be removed in v6.0.0. See https://github.com/optuna/optuna/releases/tag/v3.0.0. Use suggest_float instead.\n",
      "  x = trial.suggest_uniform('x', -10, 10)\n",
      "/var/folders/kp/5_0zhw410tzf9tkb2lt76sw40000gn/T/ipykernel_98880/3671184330.py:6: FutureWarning: suggest_uniform has been deprecated in v3.0.0. This feature will be removed in v6.0.0. See https://github.com/optuna/optuna/releases/tag/v3.0.0. Use suggest_float instead.\n",
      "  y = trial.suggest_uniform('y', -15, 15)\n",
      "[I 2025-02-11 17:16:58,080] Trial 0 finished with value: 114.85903067557416 and parameters: {'x': -0.041814917616873615, 'y': 5.276497101762722}. Best is trial 0 with value: 114.85903067557416.\n",
      "[I 2025-02-11 17:16:58,082] Trial 1 finished with value: 49.6189973747138 and parameters: {'x': 9.294370563378433, 'y': -1.8377386911279974}. Best is trial 1 with value: 49.6189973747138.\n",
      "[I 2025-02-11 17:16:58,089] Trial 2 finished with value: 276.1871031239545 and parameters: {'x': 4.988811911626186, 'y': 11.49944636356409}. Best is trial 1 with value: 49.6189973747138.\n",
      "[I 2025-02-11 17:16:58,090] Trial 3 finished with value: 90.81127158157648 and parameters: {'x': -6.529414959424955, 'y': -5.0390142623198795}. Best is trial 1 with value: 49.6189973747138.\n",
      "[I 2025-02-11 17:16:58,094] Trial 4 finished with value: 54.52437600294733 and parameters: {'x': 9.664015011020084, 'y': -8.180452787866269}. Best is trial 1 with value: 49.6189973747138.\n",
      "[I 2025-02-11 17:16:58,096] Trial 5 finished with value: 77.25107329028816 and parameters: {'x': 1.9020197181696101, 'y': 3.7204078225160906}. Best is trial 1 with value: 49.6189973747138.\n",
      "[I 2025-02-11 17:16:58,098] Trial 6 finished with value: 3.0864074430854838 and parameters: {'x': 4.633250272362632, 'y': -5.647225610519911}. Best is trial 6 with value: 3.0864074430854838.\n",
      "[I 2025-02-11 17:16:58,099] Trial 7 finished with value: 155.70444639259804 and parameters: {'x': 6.794345805794684, 'y': 6.887278338570454}. Best is trial 6 with value: 3.0864074430854838.\n",
      "[I 2025-02-11 17:16:58,101] Trial 8 finished with value: 42.41235638196053 and parameters: {'x': 6.878408999587471, 'y': -10.231663216786746}. Best is trial 6 with value: 3.0864074430854838.\n",
      "[I 2025-02-11 17:16:58,103] Trial 9 finished with value: 26.909690964853272 and parameters: {'x': 4.868800808741678, 'y': -0.16086014852848862}. Best is trial 6 with value: 3.0864074430854838.\n",
      "[I 2025-02-11 17:16:58,115] Trial 10 finished with value: 124.1911921708321 and parameters: {'x': -3.064598920325909, 'y': -14.349429507002762}. Best is trial 6 with value: 3.0864074430854838.\n",
      "[I 2025-02-11 17:16:58,126] Trial 11 finished with value: 12.407402261546444 and parameters: {'x': 2.5924096021439675, 'y': -1.5012470322810725}. Best is trial 6 with value: 3.0864074430854838.\n",
      "[I 2025-02-11 17:16:58,137] Trial 12 finished with value: 3.9989767163189294 and parameters: {'x': 1.147184901872306, 'y': -4.247635109492081}. Best is trial 6 with value: 3.0864074430854838.\n",
      "[I 2025-02-11 17:16:58,148] Trial 13 finished with value: 23.264573266768657 and parameters: {'x': -1.6358930383985433, 'y': -6.331566372095879}. Best is trial 6 with value: 3.0864074430854838.\n",
      "[I 2025-02-11 17:16:58,159] Trial 14 finished with value: 218.61175742764885 and parameters: {'x': -9.768827201187104, 'y': -12.454448962456794}. Best is trial 6 with value: 3.0864074430854838.\n",
      "[I 2025-02-11 17:16:58,170] Trial 15 finished with value: 42.295972882568 and parameters: {'x': -3.481317123023711, 'y': -4.462876891795144}. Best is trial 6 with value: 3.0864074430854838.\n",
      "[I 2025-02-11 17:16:58,179] Trial 16 finished with value: 50.96956420757168 and parameters: {'x': 2.016299157498609, 'y': 2.071201938852668}. Best is trial 6 with value: 3.0864074430854838.\n",
      "[I 2025-02-11 17:16:58,187] Trial 17 finished with value: 380.7830075537599 and parameters: {'x': 4.349730169461172, 'y': 14.46692672260843}. Best is trial 6 with value: 3.0864074430854838.\n",
      "[I 2025-02-11 17:16:58,195] Trial 18 finished with value: 24.185977164931867 and parameters: {'x': -0.0855405607542763, 'y': -8.82954522272189}. Best is trial 6 with value: 3.0864074430854838.\n",
      "[I 2025-02-11 17:16:58,203] Trial 19 finished with value: 72.65082992047435 and parameters: {'x': -5.418575196170398, 'y': -3.6664252601001674}. Best is trial 6 with value: 3.0864074430854838.\n",
      "[I 2025-02-11 17:16:58,211] Trial 20 finished with value: 175.02848247884324 and parameters: {'x': 6.953967574930826, 'y': 7.625158331491883}. Best is trial 6 with value: 3.0864074430854838.\n",
      "[I 2025-02-11 17:16:58,220] Trial 21 finished with value: 20.461364804447527 and parameters: {'x': 2.4529547373014657, 'y': -0.5097765885196068}. Best is trial 6 with value: 3.0864074430854838.\n",
      "[I 2025-02-11 17:16:58,228] Trial 22 finished with value: 2.7729339051743516 and parameters: {'x': 3.2286398849412836, 'y': -3.350558364722053}. Best is trial 22 with value: 2.7729339051743516.\n",
      "[I 2025-02-11 17:16:58,238] Trial 23 finished with value: 4.787258880167955 and parameters: {'x': 3.3890118857523257, 'y': -7.153120673095536}. Best is trial 22 with value: 2.7729339051743516.\n",
      "[I 2025-02-11 17:16:58,246] Trial 24 finished with value: 52.44327589216288 and parameters: {'x': 0.5263538572848128, 'y': 1.8061994279328282}. Best is trial 22 with value: 2.7729339051743516.\n",
      "[I 2025-02-11 17:16:58,254] Trial 25 finished with value: 13.800734720038712 and parameters: {'x': 6.240653396284317, 'y': -3.183712499302594}. Best is trial 22 with value: 2.7729339051743516.\n",
      "[I 2025-02-11 17:16:58,263] Trial 26 finished with value: 62.16982754485636 and parameters: {'x': -1.1518685129954003, 'y': -11.703119825547931}. Best is trial 22 with value: 2.7729339051743516.\n",
      "[I 2025-02-11 17:16:58,272] Trial 27 finished with value: 30.54755416230205 and parameters: {'x': 8.438234033886832, 'y': -5.986491132741192}. Best is trial 22 with value: 2.7729339051743516.\n",
      "[I 2025-02-11 17:16:58,281] Trial 28 finished with value: 45.91340512203477 and parameters: {'x': 4.056157700106767, 'y': 1.6931260285863399}. Best is trial 22 with value: 2.7729339051743516.\n",
      "[I 2025-02-11 17:16:58,290] Trial 29 finished with value: 10.322348610846037 and parameters: {'x': 0.7617687669098068, 'y': -2.695077103661472}. Best is trial 22 with value: 2.7729339051743516.\n",
      "[I 2025-02-11 17:16:58,298] Trial 30 finished with value: 29.259968084988113 and parameters: {'x': 5.6229998799570495, 'y': -9.730733528189198}. Best is trial 22 with value: 2.7729339051743516.\n",
      "[I 2025-02-11 17:16:58,306] Trial 31 finished with value: 5.621681425986231 and parameters: {'x': 2.959297358343288, 'y': -7.370659132171556}. Best is trial 22 with value: 2.7729339051743516.\n",
      "[I 2025-02-11 17:16:58,315] Trial 32 finished with value: 3.850951826522411 and parameters: {'x': 3.8141849383827076, 'y': -6.785512450987995}. Best is trial 22 with value: 2.7729339051743516.\n",
      "[I 2025-02-11 17:16:58,324] Trial 33 finished with value: 3.3480597489296633 and parameters: {'x': 1.1786223334563521, 'y': -5.17505183445391}. Best is trial 22 with value: 2.7729339051743516.\n",
      "[I 2025-02-11 17:16:58,334] Trial 34 finished with value: 25.713451055925482 and parameters: {'x': 8.022136745983794, 'y': -5.701137333597916}. Best is trial 22 with value: 2.7729339051743516.\n",
      "[I 2025-02-11 17:16:58,343] Trial 35 finished with value: 12.702219192656917 and parameters: {'x': 3.797655981619901, 'y': -1.5263903317092593}. Best is trial 22 with value: 2.7729339051743516.\n",
      "[I 2025-02-11 17:16:58,352] Trial 36 finished with value: 26.019451914492386 and parameters: {'x': -0.6444054824463308, 'y': -8.568999943122375}. Best is trial 22 with value: 2.7729339051743516.\n",
      "[I 2025-02-11 17:16:58,363] Trial 37 finished with value: 58.48452815276724 and parameters: {'x': 5.510538944326067, 'y': -12.223691740501486}. Best is trial 22 with value: 2.7729339051743516.\n",
      "[I 2025-02-11 17:16:58,372] Trial 38 finished with value: 36.71804338586662 and parameters: {'x': 1.3440951502844407, 'y': -10.828895479810486}. Best is trial 22 with value: 2.7729339051743516.\n",
      "[I 2025-02-11 17:16:58,381] Trial 39 finished with value: 27.890504958804435 and parameters: {'x': -2.2580011340338184, 'y': -5.493891722246394}. Best is trial 22 with value: 2.7729339051743516.\n",
      "[I 2025-02-11 17:16:58,390] Trial 40 finished with value: 111.14720786389859 and parameters: {'x': 7.704323476204305, 'y': 4.434858159778112}. Best is trial 22 with value: 2.7729339051743516.\n",
      "[I 2025-02-11 17:16:58,399] Trial 41 finished with value: 4.235041688677516 and parameters: {'x': 1.371863940630305, 'y': -3.741344105461053}. Best is trial 22 with value: 2.7729339051743516.\n",
      "[I 2025-02-11 17:16:58,407] Trial 42 finished with value: 0.11951741273512656 and parameters: {'x': 3.2440605395931854, 'y': -4.755149299064492}. Best is trial 42 with value: 0.11951741273512656.\n",
      "[I 2025-02-11 17:16:58,416] Trial 43 finished with value: 6.76849976452383 and parameters: {'x': 4.524523527615022, 'y': -7.108157436785042}. Best is trial 42 with value: 0.11951741273512656.\n",
      "[I 2025-02-11 17:16:58,424] Trial 44 finished with value: 8.004044581160814 and parameters: {'x': 3.1706533705442137, 'y': -2.1760095594562094}. Best is trial 42 with value: 0.11951741273512656.\n",
      "[I 2025-02-11 17:16:58,433] Trial 45 finished with value: 37.64581217967917 and parameters: {'x': 5.9876489661867565, 'y': 0.3590825553001489}. Best is trial 42 with value: 0.11951741273512656.\n",
      "[I 2025-02-11 17:16:58,441] Trial 46 finished with value: 3.6978977489867533 and parameters: {'x': 4.9207355222385445, 'y': -4.906872116969303}. Best is trial 42 with value: 0.11951741273512656.\n",
      "[I 2025-02-11 17:16:58,449] Trial 47 finished with value: 3.9569968263932593 and parameters: {'x': 4.988118483238175, 'y': -5.066194584370615}. Best is trial 42 with value: 0.11951741273512656.\n",
      "[I 2025-02-11 17:16:58,457] Trial 48 finished with value: 65.74299710528203 and parameters: {'x': 9.889563056256804, 'y': -0.7248487747047556}. Best is trial 42 with value: 0.11951741273512656.\n",
      "[I 2025-02-11 17:16:58,466] Trial 49 finished with value: 87.43372639470147 and parameters: {'x': 1.9973420538408164, 'y': -14.29668776703323}. Best is trial 42 with value: 0.11951741273512656.\n",
      "[I 2025-02-11 17:16:58,475] Trial 50 finished with value: 53.604251433217 and parameters: {'x': 8.826075970029594, 'y': -9.434082794069223}. Best is trial 42 with value: 0.11951741273512656.\n",
      "[I 2025-02-11 17:16:58,482] Trial 51 finished with value: 0.38935330589097383 and parameters: {'x': 3.384452852160246, 'y': -4.508523336915347}. Best is trial 42 with value: 0.11951741273512656.\n",
      "[I 2025-02-11 17:16:58,491] Trial 52 finished with value: 0.31391037175704983 and parameters: {'x': 2.5982647132164587, 'y': -4.609463022096504}. Best is trial 42 with value: 0.11951741273512656.\n",
      "[I 2025-02-11 17:16:58,500] Trial 53 finished with value: 15.602365151425731 and parameters: {'x': -0.14545392222110332, 'y': -2.6107564430118035}. Best is trial 42 with value: 0.11951741273512656.\n",
      "[I 2025-02-11 17:16:58,508] Trial 54 finished with value: 9.966620905205142 and parameters: {'x': 2.4619504956909584, 'y': -8.110807553693725}. Best is trial 42 with value: 0.11951741273512656.\n",
      "[I 2025-02-11 17:16:58,516] Trial 55 finished with value: 2.7109828912389453 and parameters: {'x': 1.710271186418103, 'y': -3.976485232810206}. Best is trial 42 with value: 0.11951741273512656.\n",
      "[I 2025-02-11 17:16:58,525] Trial 56 finished with value: 1.8897429045493226 and parameters: {'x': 3.127253249410761, 'y': -3.631223350921077}. Best is trial 42 with value: 0.11951741273512656.\n",
      "[I 2025-02-11 17:16:58,534] Trial 57 finished with value: 2.9488833277048814 and parameters: {'x': 1.8038620091156212, 'y': -3.7678728821797796}. Best is trial 42 with value: 0.11951741273512656.\n",
      "[I 2025-02-11 17:16:58,543] Trial 58 finished with value: 30.872795828470196 and parameters: {'x': 3.1237842865612815, 'y': 0.5549503399104037}. Best is trial 42 with value: 0.11951741273512656.\n",
      "[I 2025-02-11 17:16:58,551] Trial 59 finished with value: 20.922063894983637 and parameters: {'x': 0.5338446282223652, 'y': -1.1477095673825484}. Best is trial 42 with value: 0.11951741273512656.\n",
      "[I 2025-02-11 17:16:58,560] Trial 60 finished with value: 8.553327460328777 and parameters: {'x': 2.626863055827261, 'y': -2.0992938305953484}. Best is trial 42 with value: 0.11951741273512656.\n",
      "[I 2025-02-11 17:16:58,569] Trial 61 finished with value: 2.7882102441466525 and parameters: {'x': 1.9235783373371165, 'y': -3.7234708588141334}. Best is trial 42 with value: 0.11951741273512656.\n",
      "[I 2025-02-11 17:16:58,577] Trial 62 finished with value: 2.1323696653368986 and parameters: {'x': 2.2168460433083528, 'y': -3.767506776710267}. Best is trial 42 with value: 0.11951741273512656.\n",
      "[I 2025-02-11 17:16:58,586] Trial 63 finished with value: 0.6619519624554088 and parameters: {'x': 3.3810834444844438, 'y': -4.281162486513621}. Best is trial 42 with value: 0.11951741273512656.\n",
      "[I 2025-02-11 17:16:58,595] Trial 64 finished with value: 1.0971647916994256 and parameters: {'x': 3.844022668820802, 'y': -4.379685139452523}. Best is trial 42 with value: 0.11951741273512656.\n",
      "[I 2025-02-11 17:16:58,603] Trial 65 finished with value: 2.5359810172443598 and parameters: {'x': 4.0535549761234115, 'y': -6.194153645696381}. Best is trial 42 with value: 0.11951741273512656.\n",
      "[I 2025-02-11 17:16:58,613] Trial 66 finished with value: 8.165737729139414 and parameters: {'x': 3.5647298295470904, 'y': -7.8012172262713095}. Best is trial 42 with value: 0.11951741273512656.\n",
      "[I 2025-02-11 17:16:58,621] Trial 67 finished with value: 12.54749551880473 and parameters: {'x': 6.509517936771598, 'y': -4.519604985159965}. Best is trial 42 with value: 0.11951741273512656.\n",
      "[I 2025-02-11 17:16:58,630] Trial 68 finished with value: 11.420151027158834 and parameters: {'x': 5.435692988407166, 'y': -2.6574478248322833}. Best is trial 42 with value: 0.11951741273512656.\n",
      "[I 2025-02-11 17:16:58,638] Trial 69 finished with value: 62.00728944056155 and parameters: {'x': 4.519583209618232, 'y': 2.7264581995638792}. Best is trial 42 with value: 0.11951741273512656.\n",
      "[I 2025-02-11 17:16:58,648] Trial 70 finished with value: 2.6246984730858043 and parameters: {'x': 2.4897944842059996, 'y': -6.537656920362661}. Best is trial 42 with value: 0.11951741273512656.\n",
      "[I 2025-02-11 17:16:58,657] Trial 71 finished with value: 1.8898934489523807 and parameters: {'x': 3.7827868556213406, 'y': -6.130105387837274}. Best is trial 42 with value: 0.11951741273512656.\n",
      "[I 2025-02-11 17:16:58,665] Trial 72 finished with value: 0.5433225366023772 and parameters: {'x': 3.640334537601666, 'y': -4.634905195111136}. Best is trial 42 with value: 0.11951741273512656.\n",
      "[I 2025-02-11 17:16:58,674] Trial 73 finished with value: 1.4722444073564356 and parameters: {'x': 4.144303267949022, 'y': -4.596497288339193}. Best is trial 42 with value: 0.11951741273512656.\n",
      "[I 2025-02-11 17:16:58,683] Trial 74 finished with value: 135.44899870150613 and parameters: {'x': -8.631035034547601, 'y': -4.590094246646345}. Best is trial 42 with value: 0.11951741273512656.\n",
      "[I 2025-02-11 17:16:58,691] Trial 75 finished with value: 5.4191281090100105 and parameters: {'x': 4.228771462648549, 'y': -3.022817964478092}. Best is trial 42 with value: 0.11951741273512656.\n",
      "[I 2025-02-11 17:16:58,700] Trial 76 finished with value: 28.55749815623604 and parameters: {'x': 6.9708088084779, 'y': -1.4236645064045845}. Best is trial 42 with value: 0.11951741273512656.\n",
      "[I 2025-02-11 17:16:58,708] Trial 77 finished with value: 183.58693428078215 and parameters: {'x': 2.912264766978595, 'y': 8.54914155249951}. Best is trial 42 with value: 0.11951741273512656.\n",
      "[I 2025-02-11 17:16:58,718] Trial 78 finished with value: 4.645364572097045 and parameters: {'x': 5.133412964024336, 'y': -5.306453417389892}. Best is trial 42 with value: 0.11951741273512656.\n",
      "[I 2025-02-11 17:16:58,726] Trial 79 finished with value: 22.35527493182836 and parameters: {'x': 3.447126571864018, 'y': -0.29305271321618775}. Best is trial 42 with value: 0.11951741273512656.\n",
      "[I 2025-02-11 17:16:58,734] Trial 80 finished with value: 24.086994888478003 and parameters: {'x': 5.944742380736812, 'y': -8.926256130153826}. Best is trial 42 with value: 0.11951741273512656.\n",
      "[I 2025-02-11 17:16:58,743] Trial 81 finished with value: 1.6319059974891907 and parameters: {'x': 3.643187527391943, 'y': -6.103728137766103}. Best is trial 42 with value: 0.11951741273512656.\n",
      "[I 2025-02-11 17:16:58,752] Trial 82 finished with value: 2.8926796974993816 and parameters: {'x': 4.5388585598843845, 'y': -5.72428863733317}. Best is trial 42 with value: 0.11951741273512656.\n",
      "[I 2025-02-11 17:16:58,760] Trial 83 finished with value: 2.7699896529760863 and parameters: {'x': 2.960211609880763, 'y': -6.663852919277364}. Best is trial 42 with value: 0.11951741273512656.\n",
      "[I 2025-02-11 17:16:58,769] Trial 84 finished with value: 7.377880301416889 and parameters: {'x': 3.944770816897381, 'y': -7.546622941260827}. Best is trial 42 with value: 0.11951741273512656.\n",
      "[I 2025-02-11 17:16:58,778] Trial 85 finished with value: 3.7923897713542893 and parameters: {'x': 4.935176070880925, 'y': -4.7820932629674955}. Best is trial 42 with value: 0.11951741273512656.\n",
      "[I 2025-02-11 17:16:58,786] Trial 86 finished with value: 13.485387261172985 and parameters: {'x': 0.9514892159292634, 'y': -1.9522154228491018}. Best is trial 42 with value: 0.11951741273512656.\n",
      "[I 2025-02-11 17:16:58,795] Trial 87 finished with value: 3.7231985235629184 and parameters: {'x': 2.7647054284539845, 'y': -3.084840740783186}. Best is trial 42 with value: 0.11951741273512656.\n",
      "[I 2025-02-11 17:16:58,803] Trial 88 finished with value: 390.9629079725251 and parameters: {'x': 3.3774630409731685, 'y': 14.769178779737523}. Best is trial 42 with value: 0.11951741273512656.\n",
      "[I 2025-02-11 17:16:58,812] Trial 89 finished with value: 6.41842307744967 and parameters: {'x': 5.504191858473862, 'y': -4.616012743176427}. Best is trial 42 with value: 0.11951741273512656.\n",
      "[I 2025-02-11 17:16:58,822] Trial 90 finished with value: 6.513142413649903 and parameters: {'x': 4.190358818297963, 'y': -7.257473875230936}. Best is trial 42 with value: 0.11951741273512656.\n",
      "[I 2025-02-11 17:16:58,831] Trial 91 finished with value: 1.6777822749812237 and parameters: {'x': 3.773581009128001, 'y': -6.038919966743217}. Best is trial 42 with value: 0.11951741273512656.\n",
      "[I 2025-02-11 17:16:58,840] Trial 92 finished with value: 2.470680829302717 and parameters: {'x': 1.4893902669817574, 'y': -5.434441093605647}. Best is trial 42 with value: 0.11951741273512656.\n",
      "[I 2025-02-11 17:16:58,850] Trial 93 finished with value: 1.0565596675614946 and parameters: {'x': 3.5344846388268714, 'y': -4.121998953064631}. Best is trial 42 with value: 0.11951741273512656.\n",
      "[I 2025-02-11 17:16:58,859] Trial 94 finished with value: 10.398701321592464 and parameters: {'x': 3.709180011989046, 'y': -8.145753491961454}. Best is trial 42 with value: 0.11951741273512656.\n",
      "[I 2025-02-11 17:16:58,868] Trial 95 finished with value: 4.192794874674878 and parameters: {'x': 4.734380921086877, 'y': -6.088447378261676}. Best is trial 42 with value: 0.11951741273512656.\n",
      "[I 2025-02-11 17:16:58,879] Trial 96 finished with value: 5.679975496594934 and parameters: {'x': 5.26426854944766, 'y': -4.256317653445288}. Best is trial 42 with value: 0.11951741273512656.\n",
      "[I 2025-02-11 17:16:58,888] Trial 97 finished with value: 6.230224671635374 and parameters: {'x': 2.291136739027962, 'y': -2.606730782197819}. Best is trial 42 with value: 0.11951741273512656.\n",
      "[I 2025-02-11 17:16:58,899] Trial 98 finished with value: 44.00757114808725 and parameters: {'x': 5.8605968538146, 'y': -10.98536187611353}. Best is trial 42 with value: 0.11951741273512656.\n",
      "[I 2025-02-11 17:16:58,907] Trial 99 finished with value: 3.38295152535299 and parameters: {'x': 3.4733236397949665, 'y': -6.777334030891277}. Best is trial 42 with value: 0.11951741273512656.\n",
      "[I 2025-02-11 17:16:58,917] Trial 100 finished with value: 1.8018891703339115 and parameters: {'x': 4.307694785094789, 'y': -5.303023958408911}. Best is trial 42 with value: 0.11951741273512656.\n",
      "[I 2025-02-11 17:16:58,926] Trial 101 finished with value: 1.7251885341241526 and parameters: {'x': 4.312490326987166, 'y': -5.050573468234592}. Best is trial 42 with value: 0.11951741273512656.\n",
      "[I 2025-02-11 17:16:58,937] Trial 102 finished with value: 3.066639214443051 and parameters: {'x': 2.722987572365815, 'y': -3.2708663066786112}. Best is trial 42 with value: 0.11951741273512656.\n",
      "[I 2025-02-11 17:16:58,947] Trial 103 finished with value: 1.2914198884134855 and parameters: {'x': 3.8296281948769124, 'y': -4.223381080143703}. Best is trial 42 with value: 0.11951741273512656.\n",
      "[I 2025-02-11 17:16:58,956] Trial 104 finished with value: 1.6539963675344929 and parameters: {'x': 3.775101227450495, 'y': -6.026262371296555}. Best is trial 42 with value: 0.11951741273512656.\n",
      "[I 2025-02-11 17:16:58,965] Trial 105 finished with value: 1.165326168164646 and parameters: {'x': 2.260068324126289, 'y': -4.21398009999532}. Best is trial 42 with value: 0.11951741273512656.\n",
      "[I 2025-02-11 17:16:58,975] Trial 106 finished with value: 1.5185154113466917 and parameters: {'x': 2.1585740772512496, 'y': -4.099712363811928}. Best is trial 42 with value: 0.11951741273512656.\n",
      "[I 2025-02-11 17:16:58,985] Trial 107 finished with value: 9.611685595229154 and parameters: {'x': 0.006521400835823421, 'y': -4.1932959206901}. Best is trial 42 with value: 0.11951741273512656.\n",
      "[I 2025-02-11 17:16:58,994] Trial 108 finished with value: 18.16699916549696 and parameters: {'x': 2.2098936370374576, 'y': -0.8115956378707816}. Best is trial 42 with value: 0.11951741273512656.\n",
      "[I 2025-02-11 17:16:59,003] Trial 109 finished with value: 11.054255881321495 and parameters: {'x': 1.698002738700296, 'y': -1.9407420813390766}. Best is trial 42 with value: 0.11951741273512656.\n",
      "[I 2025-02-11 17:16:59,012] Trial 110 finished with value: 7.553908376823088 and parameters: {'x': 0.36954665791969843, 'y': -4.203367341893605}. Best is trial 42 with value: 0.11951741273512656.\n",
      "[I 2025-02-11 17:16:59,021] Trial 111 finished with value: 3.22120070785227 and parameters: {'x': 3.2729518916893983, 'y': -3.226106549796339}. Best is trial 42 with value: 0.11951741273512656.\n",
      "[I 2025-02-11 17:16:59,030] Trial 112 finished with value: 6.642253626366409 and parameters: {'x': 2.621453929572995, 'y': -2.4506948988144472}. Best is trial 42 with value: 0.11951741273512656.\n",
      "[I 2025-02-11 17:16:59,039] Trial 113 finished with value: 0.7051243154600466 and parameters: {'x': 2.181256246421298, 'y': -4.813498039056142}. Best is trial 42 with value: 0.11951741273512656.\n",
      "[I 2025-02-11 17:16:59,049] Trial 114 finished with value: 0.9762683323798705 and parameters: {'x': 2.0258422883454577, 'y': -4.834818023973994}. Best is trial 42 with value: 0.11951741273512656.\n",
      "[I 2025-02-11 17:16:59,057] Trial 115 finished with value: 6.4967273116479305 and parameters: {'x': 1.0223597323077689, 'y': -3.39199929003432}. Best is trial 42 with value: 0.11951741273512656.\n",
      "[I 2025-02-11 17:16:59,066] Trial 116 finished with value: 0.0045026136799178485 and parameters: {'x': 3.027242458339188, 'y': -4.938677392883575}. Best is trial 116 with value: 0.0045026136799178485.\n",
      "[I 2025-02-11 17:16:59,076] Trial 117 finished with value: 0.0001587544180381312 and parameters: {'x': 2.993325202268755, 'y': -5.010686509873906}. Best is trial 117 with value: 0.0001587544180381312.\n",
      "[I 2025-02-11 17:16:59,084] Trial 118 finished with value: 2.550877882792807 and parameters: {'x': 1.4913187940476322, 'y': -5.524174495372406}. Best is trial 117 with value: 0.0001587544180381312.\n",
      "[I 2025-02-11 17:16:59,094] Trial 119 finished with value: 3.8603377431275727 and parameters: {'x': 2.9857804709670455, 'y': -6.964722766224704}. Best is trial 117 with value: 0.0001587544180381312.\n",
      "[I 2025-02-11 17:16:59,102] Trial 120 finished with value: 1.0693739394234494 and parameters: {'x': 1.9691037999689662, 'y': -4.918593832021005}. Best is trial 117 with value: 0.0001587544180381312.\n",
      "[I 2025-02-11 17:16:59,112] Trial 121 finished with value: 1.4927980859254488 and parameters: {'x': 1.7784542097460345, 'y': -4.975020643758018}. Best is trial 117 with value: 0.0001587544180381312.\n",
      "[I 2025-02-11 17:16:59,121] Trial 122 finished with value: 0.24688457279574733 and parameters: {'x': 2.5057453396295255, 'y': -4.949040177612022}. Best is trial 117 with value: 0.0001587544180381312.\n",
      "[I 2025-02-11 17:16:59,130] Trial 123 finished with value: 0.017705972206094496 and parameters: {'x': 3.0422862804485247, 'y': -5.126165933167092}. Best is trial 117 with value: 0.0001587544180381312.\n",
      "[I 2025-02-11 17:16:59,139] Trial 124 finished with value: 0.23845879826039107 and parameters: {'x': 2.7127671187163664, 'y': -5.394912737411562}. Best is trial 117 with value: 0.0001587544180381312.\n",
      "[I 2025-02-11 17:16:59,148] Trial 125 finished with value: 2.579006603059094 and parameters: {'x': 2.621089902075486, 'y': -6.560587626745108}. Best is trial 117 with value: 0.0001587544180381312.\n",
      "[I 2025-02-11 17:16:59,159] Trial 126 finished with value: 54.33329885437736 and parameters: {'x': -4.346050944393304, 'y': -5.607317360821841}. Best is trial 117 with value: 0.0001587544180381312.\n",
      "[I 2025-02-11 17:16:59,168] Trial 127 finished with value: 7.320992956075172 and parameters: {'x': 3.0215495274221245, 'y': -7.7056475332058785}. Best is trial 117 with value: 0.0001587544180381312.\n",
      "[I 2025-02-11 17:16:59,177] Trial 128 finished with value: 13.996388480291031 and parameters: {'x': 3.341667000489884, 'y': -8.725540516632087}. Best is trial 117 with value: 0.0001587544180381312.\n",
      "[I 2025-02-11 17:16:59,186] Trial 129 finished with value: 2.506236664866625 and parameters: {'x': 2.6857083441566614, 'y': -3.4484016563769226}. Best is trial 117 with value: 0.0001587544180381312.\n",
      "[I 2025-02-11 17:16:59,194] Trial 130 finished with value: 7.506827004826128 and parameters: {'x': 1.1637293986884794, 'y': -2.9665454803253763}. Best is trial 117 with value: 0.0001587544180381312.\n",
      "[I 2025-02-11 17:16:59,205] Trial 131 finished with value: 1.174847748100339 and parameters: {'x': 1.9176334011591778, 'y': -5.057708697906724}. Best is trial 117 with value: 0.0001587544180381312.\n",
      "[I 2025-02-11 17:16:59,214] Trial 132 finished with value: 0.9979560403615614 and parameters: {'x': 2.2345275657608648, 'y': -5.641878487551635}. Best is trial 117 with value: 0.0001587544180381312.\n",
      "[I 2025-02-11 17:16:59,223] Trial 133 finished with value: 0.6271249387593864 and parameters: {'x': 2.5112623046804767, 'y': -5.6231054516958965}. Best is trial 117 with value: 0.0001587544180381312.\n",
      "[I 2025-02-11 17:16:59,233] Trial 134 finished with value: 10.272974390084585 and parameters: {'x': 0.758607578748405, 'y': -7.29109895116743}. Best is trial 117 with value: 0.0001587544180381312.\n",
      "[I 2025-02-11 17:16:59,242] Trial 135 finished with value: 2.356087134189934 and parameters: {'x': 3.0954010618845023, 'y': -6.531987523311219}. Best is trial 117 with value: 0.0001587544180381312.\n",
      "[I 2025-02-11 17:16:59,251] Trial 136 finished with value: 0.7531357644997043 and parameters: {'x': 2.363802842345115, 'y': -5.590244814540162}. Best is trial 117 with value: 0.0001587544180381312.\n",
      "[I 2025-02-11 17:16:59,260] Trial 137 finished with value: 1.03834887549386 and parameters: {'x': 2.462198547531006, 'y': -5.865516304419565}. Best is trial 117 with value: 0.0001587544180381312.\n",
      "[I 2025-02-11 17:16:59,270] Trial 138 finished with value: 4.338726604998735 and parameters: {'x': 1.5773196460396788, 'y': -6.521416187456302}. Best is trial 117 with value: 0.0001587544180381312.\n",
      "[I 2025-02-11 17:16:59,279] Trial 139 finished with value: 0.017724372035984925 and parameters: {'x': 2.9303416890187086, 'y': -4.886544758837599}. Best is trial 117 with value: 0.0001587544180381312.\n",
      "[I 2025-02-11 17:16:59,288] Trial 140 finished with value: 1.7031198989974365 and parameters: {'x': 3.2097105166566573, 'y': -3.7119233725429863}. Best is trial 117 with value: 0.0001587544180381312.\n",
      "[I 2025-02-11 17:16:59,311] Trial 141 finished with value: 0.03256746163391867 and parameters: {'x': 2.8321441435272603, 'y': -5.066271208542788}. Best is trial 117 with value: 0.0001587544180381312.\n",
      "[I 2025-02-11 17:16:59,323] Trial 142 finished with value: 308.2455968728132 and parameters: {'x': 2.894126391432422, 'y': 12.556605242808818}. Best is trial 117 with value: 0.0001587544180381312.\n",
      "[I 2025-02-11 17:16:59,334] Trial 143 finished with value: 0.23629400405112033 and parameters: {'x': 2.513900704453986, 'y': -5.001216108872224}. Best is trial 117 with value: 0.0001587544180381312.\n",
      "[I 2025-02-11 17:16:59,345] Trial 144 finished with value: 2.7621866891949263 and parameters: {'x': 4.589506092594017, 'y': -5.485445229455833}. Best is trial 117 with value: 0.0001587544180381312.\n",
      "[I 2025-02-11 17:16:59,356] Trial 145 finished with value: 0.1846156438035499 and parameters: {'x': 3.365736341320363, 'y': -4.77449485052189}. Best is trial 117 with value: 0.0001587544180381312.\n",
      "[I 2025-02-11 17:16:59,368] Trial 146 finished with value: 1.7440563137966998 and parameters: {'x': 3.425697892371541, 'y': -3.7498649600034692}. Best is trial 117 with value: 0.0001587544180381312.\n",
      "[I 2025-02-11 17:16:59,378] Trial 147 finished with value: 1.493643208283165 and parameters: {'x': 4.163138485190532, 'y': -4.624830608188995}. Best is trial 117 with value: 0.0001587544180381312.\n",
      "[I 2025-02-11 17:16:59,387] Trial 148 finished with value: 1.6530884208535572 and parameters: {'x': 2.791388829158522, 'y': -6.268688220270727}. Best is trial 117 with value: 0.0001587544180381312.\n",
      "[I 2025-02-11 17:16:59,400] Trial 149 finished with value: 6.892117526791627 and parameters: {'x': 3.390808303075226, 'y': -2.4039671810550836}. Best is trial 117 with value: 0.0001587544180381312.\n",
      "[I 2025-02-11 17:16:59,409] Trial 150 finished with value: 3.163202478154311 and parameters: {'x': 4.767436723391024, 'y': -5.1984185146681385}. Best is trial 117 with value: 0.0001587544180381312.\n",
      "[I 2025-02-11 17:16:59,420] Trial 151 finished with value: 0.15529690122962514 and parameters: {'x': 2.8889624029353547, 'y': -4.62188949595689}. Best is trial 117 with value: 0.0001587544180381312.\n",
      "[I 2025-02-11 17:16:59,431] Trial 152 finished with value: 0.3185494903291637 and parameters: {'x': 2.855507107649308, 'y': -4.45440739155548}. Best is trial 117 with value: 0.0001587544180381312.\n",
      "[I 2025-02-11 17:16:59,442] Trial 153 finished with value: 3.854687182047188 and parameters: {'x': 2.7939877025142215, 'y': -6.952497404692723}. Best is trial 117 with value: 0.0001587544180381312.\n",
      "[I 2025-02-11 17:16:59,452] Trial 154 finished with value: 1.1894050710394841 and parameters: {'x': 4.017987724042892, 'y': -4.608712299276534}. Best is trial 117 with value: 0.0001587544180381312.\n",
      "[I 2025-02-11 17:16:59,463] Trial 155 finished with value: 1.6662205349292372 and parameters: {'x': 3.1060800120560574, 'y': -3.713544572878087}. Best is trial 117 with value: 0.0001587544180381312.\n",
      "[I 2025-02-11 17:16:59,474] Trial 156 finished with value: 1.0150132291095337 and parameters: {'x': 2.5196958059416983, 'y': -5.885619054830879}. Best is trial 117 with value: 0.0001587544180381312.\n",
      "[I 2025-02-11 17:16:59,485] Trial 157 finished with value: 7.367106791757961 and parameters: {'x': 1.3823774689925834, 'y': -2.820457814371302}. Best is trial 117 with value: 0.0001587544180381312.\n",
      "[I 2025-02-11 17:16:59,496] Trial 158 finished with value: 0.47598982668577067 and parameters: {'x': 3.67383320802904, 'y': -5.148116962036977}. Best is trial 117 with value: 0.0001587544180381312.\n",
      "[I 2025-02-11 17:16:59,507] Trial 159 finished with value: 0.7501581330915223 and parameters: {'x': 3.8597321002001497, 'y': -5.104970705327545}. Best is trial 117 with value: 0.0001587544180381312.\n",
      "[I 2025-02-11 17:16:59,517] Trial 160 finished with value: 1.3658843207371125 and parameters: {'x': 3.6171888787476423, 'y': -4.007547377106927}. Best is trial 117 with value: 0.0001587544180381312.\n",
      "[I 2025-02-11 17:16:59,528] Trial 161 finished with value: 0.2050168627597107 and parameters: {'x': 2.9159753981872054, 'y': -4.5550767155453515}. Best is trial 117 with value: 0.0001587544180381312.\n",
      "[I 2025-02-11 17:16:59,543] Trial 162 finished with value: 0.26391901996198325 and parameters: {'x': 2.92506177281768, 'y': -4.491764540720785}. Best is trial 117 with value: 0.0001587544180381312.\n",
      "[I 2025-02-11 17:16:59,555] Trial 163 finished with value: 2.9703773586705897 and parameters: {'x': 2.897879399295144, 'y': -3.279549843331034}. Best is trial 117 with value: 0.0001587544180381312.\n",
      "[I 2025-02-11 17:16:59,566] Trial 164 finished with value: 117.86930204455477 and parameters: {'x': 3.1762449045452024, 'y': 5.855332320024875}. Best is trial 117 with value: 0.0001587544180381312.\n",
      "[I 2025-02-11 17:16:59,578] Trial 165 finished with value: 1.4883719755700378 and parameters: {'x': 1.8607144222807395, 'y': -4.56365111668422}. Best is trial 117 with value: 0.0001587544180381312.\n",
      "[I 2025-02-11 17:16:59,588] Trial 166 finished with value: 0.15985834137314966 and parameters: {'x': 2.6312289697957563, 'y': -5.154487114851856}. Best is trial 117 with value: 0.0001587544180381312.\n",
      "[I 2025-02-11 17:16:59,598] Trial 167 finished with value: 1.9384580602913686 and parameters: {'x': 2.5144165053431045, 'y': -6.3048627245837645}. Best is trial 117 with value: 0.0001587544180381312.\n",
      "[I 2025-02-11 17:16:59,608] Trial 168 finished with value: 1.2247222741091621 and parameters: {'x': 2.927047960031917, 'y': -3.8957354148693994}. Best is trial 117 with value: 0.0001587544180381312.\n",
      "[I 2025-02-11 17:16:59,619] Trial 169 finished with value: 1.1424203330241143 and parameters: {'x': 2.1317246639684844, 'y': -4.376687659464797}. Best is trial 117 with value: 0.0001587544180381312.\n",
      "[I 2025-02-11 17:16:59,630] Trial 170 finished with value: 0.08244490578471411 and parameters: {'x': 3.2083069182205386, 'y': -5.197618657029583}. Best is trial 117 with value: 0.0001587544180381312.\n",
      "[I 2025-02-11 17:16:59,641] Trial 171 finished with value: 0.12093774041648563 and parameters: {'x': 3.176600149078597, 'y': -5.2995832568116965}. Best is trial 117 with value: 0.0001587544180381312.\n",
      "[I 2025-02-11 17:16:59,650] Trial 172 finished with value: 0.10985477460625387 and parameters: {'x': 3.2243852082860096, 'y': -5.243938625290662}. Best is trial 117 with value: 0.0001587544180381312.\n",
      "[I 2025-02-11 17:16:59,659] Trial 173 finished with value: 0.8673668514510877 and parameters: {'x': 3.245798104979694, 'y': -5.898304037082924}. Best is trial 117 with value: 0.0001587544180381312.\n",
      "[I 2025-02-11 17:16:59,670] Trial 174 finished with value: 0.2796314515798695 and parameters: {'x': 2.5062610447859903, 'y': -5.189349665127899}. Best is trial 117 with value: 0.0001587544180381312.\n",
      "[I 2025-02-11 17:16:59,680] Trial 175 finished with value: 0.3878112222476076 and parameters: {'x': 2.4164948207498673, 'y': -5.217561320174056}. Best is trial 117 with value: 0.0001587544180381312.\n",
      "[I 2025-02-11 17:16:59,690] Trial 176 finished with value: 5.692326302915236 and parameters: {'x': 4.106722995685441, 'y': -7.113643894731626}. Best is trial 117 with value: 0.0001587544180381312.\n",
      "[I 2025-02-11 17:16:59,701] Trial 177 finished with value: 2.1954405628222577 and parameters: {'x': 3.300367914952415, 'y': -6.450937517086589}. Best is trial 117 with value: 0.0001587544180381312.\n",
      "[I 2025-02-11 17:16:59,711] Trial 178 finished with value: 2.012840551097027 and parameters: {'x': 1.6899386700971917, 'y': -5.544591464301739}. Best is trial 117 with value: 0.0001587544180381312.\n",
      "[I 2025-02-11 17:16:59,722] Trial 179 finished with value: 0.1262088914556913 and parameters: {'x': 2.7321545570052543, 'y': -5.2333831830330535}. Best is trial 117 with value: 0.0001587544180381312.\n",
      "[I 2025-02-11 17:16:59,731] Trial 180 finished with value: 1.6672284124637167 and parameters: {'x': 3.645238199554817, 'y': -6.118434655354963}. Best is trial 117 with value: 0.0001587544180381312.\n",
      "[I 2025-02-11 17:16:59,744] Trial 181 finished with value: 0.07846832370127967 and parameters: {'x': 2.7378907135395134, 'y': -5.098828364614893}. Best is trial 117 with value: 0.0001587544180381312.\n",
      "[I 2025-02-11 17:16:59,757] Trial 182 finished with value: 0.002914134869118192 and parameters: {'x': 2.9584466434263708, 'y': -4.9655405538845585}. Best is trial 117 with value: 0.0001587544180381312.\n",
      "[I 2025-02-11 17:16:59,769] Trial 183 finished with value: 0.8000012982310601 and parameters: {'x': 2.1071811343528215, 'y': -5.053626219105449}. Best is trial 117 with value: 0.0001587544180381312.\n",
      "[I 2025-02-11 17:16:59,780] Trial 184 finished with value: 0.6672007300906764 and parameters: {'x': 3.1580373321710966, 'y': -5.801389375853535}. Best is trial 117 with value: 0.0001587544180381312.\n",
      "[I 2025-02-11 17:16:59,791] Trial 185 finished with value: 1.886878837524264 and parameters: {'x': 2.656588692495815, 'y': -3.669982138690412}. Best is trial 117 with value: 0.0001587544180381312.\n",
      "[I 2025-02-11 17:16:59,801] Trial 186 finished with value: 3.5819985749869865 and parameters: {'x': 3.483635403426085, 'y': -6.829780142951572}. Best is trial 117 with value: 0.0001587544180381312.\n",
      "[I 2025-02-11 17:16:59,812] Trial 187 finished with value: 24.957755956698623 and parameters: {'x': -1.9882428489683202, 'y': -5.274206557935872}. Best is trial 117 with value: 0.0001587544180381312.\n",
      "[I 2025-02-11 17:16:59,821] Trial 188 finished with value: 123.31396718794923 and parameters: {'x': -7.785463940753264, 'y': -7.643432384355672}. Best is trial 117 with value: 0.0001587544180381312.\n",
      "[I 2025-02-11 17:16:59,832] Trial 189 finished with value: 1.782812393222363 and parameters: {'x': 3.997916481122215, 'y': -5.887116164843714}. Best is trial 117 with value: 0.0001587544180381312.\n",
      "[I 2025-02-11 17:16:59,843] Trial 190 finished with value: 0.7012031149883435 and parameters: {'x': 2.1731694881276233, 'y': -4.867506907254729}. Best is trial 117 with value: 0.0001587544180381312.\n",
      "[I 2025-02-11 17:16:59,853] Trial 191 finished with value: 0.21953814381155437 and parameters: {'x': 2.94946463893697, 'y': -4.534184241256499}. Best is trial 117 with value: 0.0001587544180381312.\n",
      "[I 2025-02-11 17:16:59,863] Trial 192 finished with value: 0.8258125742514244 and parameters: {'x': 2.8946695093251438, 'y': -4.097382660267587}. Best is trial 117 with value: 0.0001587544180381312.\n",
      "[I 2025-02-11 17:16:59,873] Trial 193 finished with value: 0.24360234838858402 and parameters: {'x': 3.2948269258347005, 'y': -5.395827528339609}. Best is trial 117 with value: 0.0001587544180381312.\n",
      "[I 2025-02-11 17:16:59,883] Trial 194 finished with value: 0.36139989041085585 and parameters: {'x': 3.295097775817236, 'y': -5.523752988648825}. Best is trial 117 with value: 0.0001587544180381312.\n",
      "[I 2025-02-11 17:16:59,893] Trial 195 finished with value: 3.711543346098538 and parameters: {'x': 4.3610154488148725, 'y': -6.363517617849432}. Best is trial 117 with value: 0.0001587544180381312.\n",
      "[I 2025-02-11 17:16:59,904] Trial 196 finished with value: 1.2577995416873167 and parameters: {'x': 3.5994434010548098, 'y': -4.052124928791162}. Best is trial 117 with value: 0.0001587544180381312.\n",
      "[I 2025-02-11 17:16:59,914] Trial 197 finished with value: 0.020508843229226463 and parameters: {'x': 3.026027373982803, 'y': -4.859175928787775}. Best is trial 117 with value: 0.0001587544180381312.\n",
      "[I 2025-02-11 17:16:59,924] Trial 198 finished with value: 3.329254861355136 and parameters: {'x': 2.779468165854757, 'y': -3.1887516538354905}. Best is trial 117 with value: 0.0001587544180381312.\n",
      "[I 2025-02-11 17:16:59,935] Trial 199 finished with value: 0.08884284252821888 and parameters: {'x': 3.083143882435394, 'y': -4.713765939584772}. Best is trial 117 with value: 0.0001587544180381312.\n",
      "[I 2025-02-11 17:16:59,945] Trial 200 finished with value: 68.81355258135684 and parameters: {'x': 3.041922098922755, 'y': -13.29528752479254}. Best is trial 117 with value: 0.0001587544180381312.\n",
      "[I 2025-02-11 17:16:59,955] Trial 201 finished with value: 0.47102391525138987 and parameters: {'x': 2.4218056218314277, 'y': -4.630249846104633}. Best is trial 117 with value: 0.0001587544180381312.\n",
      "[I 2025-02-11 17:16:59,967] Trial 202 finished with value: 0.7353374025094753 and parameters: {'x': 3.841733031089329, 'y': -4.836222996477997}. Best is trial 117 with value: 0.0001587544180381312.\n",
      "[I 2025-02-11 17:16:59,978] Trial 203 finished with value: 1.2422475843876373 and parameters: {'x': 2.8621883041418914, 'y': -3.893991175047708}. Best is trial 117 with value: 0.0001587544180381312.\n",
      "[I 2025-02-11 17:16:59,989] Trial 204 finished with value: 0.9174214244953041 and parameters: {'x': 3.4571025608016224, 'y': -5.841711751969701}. Best is trial 117 with value: 0.0001587544180381312.\n",
      "[I 2025-02-11 17:17:00,003] Trial 205 finished with value: 0.34313501832840226 and parameters: {'x': 3.058663031842907, 'y': -4.41716754806943}. Best is trial 117 with value: 0.0001587544180381312.\n",
      "[I 2025-02-11 17:17:00,013] Trial 206 finished with value: 1.4224287923192995 and parameters: {'x': 1.8216044085668481, 'y': -5.183882088334378}. Best is trial 117 with value: 0.0001587544180381312.\n",
      "[I 2025-02-11 17:17:00,024] Trial 207 finished with value: 2.682491050881997 and parameters: {'x': 2.47714967223672, 'y': -3.447866440785514}. Best is trial 117 with value: 0.0001587544180381312.\n",
      "[I 2025-02-11 17:17:00,035] Trial 208 finished with value: 15.921586782458368 and parameters: {'x': -0.9720803355575645, 'y': -4.6203098759050025}. Best is trial 117 with value: 0.0001587544180381312.\n",
      "[I 2025-02-11 17:17:00,113] Trial 209 finished with value: 1.9238113507582009 and parameters: {'x': 2.1465418761736483, 'y': -6.093352908091895}. Best is trial 117 with value: 0.0001587544180381312.\n",
      "[I 2025-02-11 17:17:00,128] Trial 210 finished with value: 0.8263755852323811 and parameters: {'x': 3.8454305638626374, 'y': -5.334099905596042}. Best is trial 117 with value: 0.0001587544180381312.\n",
      "[I 2025-02-11 17:17:00,139] Trial 211 finished with value: 0.2780296749371196 and parameters: {'x': 3.2597230034218923, 'y': -5.458883031316948}. Best is trial 117 with value: 0.0001587544180381312.\n",
      "[I 2025-02-11 17:17:00,149] Trial 212 finished with value: 0.07269994297132788 and parameters: {'x': 2.8186914994905035, 'y': -4.800432541193897}. Best is trial 117 with value: 0.0001587544180381312.\n",
      "[I 2025-02-11 17:17:00,160] Trial 213 finished with value: 0.3579309882722 and parameters: {'x': 2.8249740524670592, 'y': -4.4279013144898896}. Best is trial 117 with value: 0.0001587544180381312.\n",
      "[I 2025-02-11 17:17:00,172] Trial 214 finished with value: 1.135080932657056 and parameters: {'x': 2.6284009861950333, 'y': -4.0015035775746455}. Best is trial 117 with value: 0.0001587544180381312.\n",
      "[I 2025-02-11 17:17:00,183] Trial 215 finished with value: 0.030902578898429834 and parameters: {'x': 3.0933031797937445, 'y': -4.85101310279489}. Best is trial 117 with value: 0.0001587544180381312.\n",
      "[I 2025-02-11 17:17:00,192] Trial 216 finished with value: 0.3067266531300949 and parameters: {'x': 3.5339612874291992, 'y': -4.852989807642303}. Best is trial 117 with value: 0.0001587544180381312.\n",
      "[I 2025-02-11 17:17:00,202] Trial 217 finished with value: 2.1853514390018214 and parameters: {'x': 3.1151340245143975, 'y': -3.526196893950573}. Best is trial 117 with value: 0.0001587544180381312.\n",
      "[I 2025-02-11 17:17:00,212] Trial 218 finished with value: 1.194987525924792 and parameters: {'x': 4.077701515760898, 'y': -4.816841683641025}. Best is trial 117 with value: 0.0001587544180381312.\n",
      "[I 2025-02-11 17:17:00,223] Trial 219 finished with value: 1.2020029422630043 and parameters: {'x': 2.3476223039711357, 'y': -4.118860803285273}. Best is trial 117 with value: 0.0001587544180381312.\n",
      "[I 2025-02-11 17:17:00,233] Trial 220 finished with value: 1.6215684123437482 and parameters: {'x': 3.1257796395152324, 'y': -6.267181082019127}. Best is trial 117 with value: 0.0001587544180381312.\n",
      "[I 2025-02-11 17:17:00,252] Trial 221 finished with value: 0.4947859516559155 and parameters: {'x': 2.7763567453615585, 'y': -5.66691052346671}. Best is trial 117 with value: 0.0001587544180381312.\n",
      "[I 2025-02-11 17:17:00,265] Trial 222 finished with value: 0.23143787240661265 and parameters: {'x': 3.4777158128387846, 'y': -5.056793261663616}. Best is trial 117 with value: 0.0001587544180381312.\n",
      "[I 2025-02-11 17:17:00,276] Trial 223 finished with value: 0.346550883388586 and parameters: {'x': 3.572069785803867, 'y': -4.861122199186105}. Best is trial 117 with value: 0.0001587544180381312.\n",
      "[I 2025-02-11 17:17:00,286] Trial 224 finished with value: 0.30264742236638265 and parameters: {'x': 3.1787258948350328, 'y': -4.479707316136581}. Best is trial 117 with value: 0.0001587544180381312.\n",
      "[I 2025-02-11 17:17:00,296] Trial 225 finished with value: 0.781094939074016 and parameters: {'x': 3.841886606322554, 'y': -5.2689272785879275}. Best is trial 117 with value: 0.0001587544180381312.\n",
      "[I 2025-02-11 17:17:00,307] Trial 226 finished with value: 35.97024854656871 and parameters: {'x': 3.4106927776783396, 'y': 0.9834421522173642}. Best is trial 117 with value: 0.0001587544180381312.\n",
      "[I 2025-02-11 17:17:00,317] Trial 227 finished with value: 0.9970696725261307 and parameters: {'x': 2.603358274977131, 'y': -5.916376022436758}. Best is trial 117 with value: 0.0001587544180381312.\n",
      "[I 2025-02-11 17:17:00,327] Trial 228 finished with value: 2.2466448275027053 and parameters: {'x': 2.0852479078706185, 'y': -3.8126190849404624}. Best is trial 117 with value: 0.0001587544180381312.\n",
      "[I 2025-02-11 17:17:00,338] Trial 229 finished with value: 0.010494984118876012 and parameters: {'x': 2.9392220516137626, 'y': -4.917531672086577}. Best is trial 117 with value: 0.0001587544180381312.\n",
      "[I 2025-02-11 17:17:00,349] Trial 230 finished with value: 2.154216418494845 and parameters: {'x': 4.26866935220524, 'y': -4.261965791260336}. Best is trial 117 with value: 0.0001587544180381312.\n",
      "[I 2025-02-11 17:17:00,360] Trial 231 finished with value: 0.02310653147264441 and parameters: {'x': 2.915299821829677, 'y': -4.873776344172101}. Best is trial 117 with value: 0.0001587544180381312.\n",
      "[I 2025-02-11 17:17:00,371] Trial 232 finished with value: 0.0049853296464668845 and parameters: {'x': 2.97528404265541, 'y': -4.933860366655028}. Best is trial 117 with value: 0.0001587544180381312.\n",
      "[I 2025-02-11 17:17:00,383] Trial 233 finished with value: 0.2230027997687534 and parameters: {'x': 2.9429361478821123, 'y': -4.531228716162966}. Best is trial 117 with value: 0.0001587544180381312.\n",
      "[I 2025-02-11 17:17:00,395] Trial 234 finished with value: 0.32477003491205725 and parameters: {'x': 3.0898429719628977, 'y': -5.562759518178885}. Best is trial 117 with value: 0.0001587544180381312.\n",
      "[I 2025-02-11 17:17:00,406] Trial 235 finished with value: 2.528805166362163 and parameters: {'x': 2.797660944843808, 'y': -6.577296444274399}. Best is trial 117 with value: 0.0001587544180381312.\n",
      "[I 2025-02-11 17:17:00,417] Trial 236 finished with value: 0.5935559668238312 and parameters: {'x': 2.2451269874920103, 'y': -4.845978242410549}. Best is trial 117 with value: 0.0001587544180381312.\n",
      "[I 2025-02-11 17:17:00,429] Trial 237 finished with value: 0.9689706605570122 and parameters: {'x': 3.2172352899256396, 'y': -4.0399065205054585}. Best is trial 117 with value: 0.0001587544180381312.\n",
      "[I 2025-02-11 17:17:00,442] Trial 238 finished with value: 4.166259777234775 and parameters: {'x': 3.696598613877278, 'y': -3.081404120618667}. Best is trial 117 with value: 0.0001587544180381312.\n",
      "[I 2025-02-11 17:17:00,452] Trial 239 finished with value: 0.5429632810794699 and parameters: {'x': 2.723437609818974, 'y': -5.682990867740432}. Best is trial 117 with value: 0.0001587544180381312.\n",
      "[I 2025-02-11 17:17:00,462] Trial 240 finished with value: 0.0007790740772181421 and parameters: {'x': 2.977642688953246, 'y': -4.983289981448938}. Best is trial 117 with value: 0.0001587544180381312.\n",
      "[I 2025-02-11 17:17:00,473] Trial 241 finished with value: 0.001179314496549763 and parameters: {'x': 3.014676558117332, 'y': -5.031046950548779}. Best is trial 117 with value: 0.0001587544180381312.\n",
      "[I 2025-02-11 17:17:00,482] Trial 242 finished with value: 0.13031225247774675 and parameters: {'x': 3.317643852250865, 'y': -5.171506954975527}. Best is trial 117 with value: 0.0001587544180381312.\n",
      "[I 2025-02-11 17:17:00,495] Trial 243 finished with value: 0.2908975345358425 and parameters: {'x': 3.441462009010327, 'y': -5.3098529153266245}. Best is trial 117 with value: 0.0001587544180381312.\n",
      "[I 2025-02-11 17:17:00,507] Trial 244 finished with value: 1.2055708997272274 and parameters: {'x': 2.459685350574946, 'y': -5.955840457055417}. Best is trial 117 with value: 0.0001587544180381312.\n",
      "[I 2025-02-11 17:17:00,519] Trial 245 finished with value: 0.16355374796857114 and parameters: {'x': 3.386997296271858, 'y': -5.117417377959324}. Best is trial 117 with value: 0.0001587544180381312.\n",
      "[I 2025-02-11 17:17:00,536] Trial 246 finished with value: 0.6195886205083891 and parameters: {'x': 3.73215494022146, 'y': -5.289029002035607}. Best is trial 117 with value: 0.0001587544180381312.\n",
      "[I 2025-02-11 17:17:00,550] Trial 247 finished with value: 1.289936663066209 and parameters: {'x': 3.1066454604281546, 'y': -6.130735782062404}. Best is trial 117 with value: 0.0001587544180381312.\n",
      "[I 2025-02-11 17:17:00,563] Trial 248 finished with value: 0.11961534474929779 and parameters: {'x': 2.674946078800291, 'y': -5.118132523303243}. Best is trial 117 with value: 0.0001587544180381312.\n",
      "[I 2025-02-11 17:17:00,575] Trial 249 finished with value: 190.1914907337094 and parameters: {'x': 2.5121419667538456, 'y': 8.782361382328741}. Best is trial 117 with value: 0.0001587544180381312.\n",
      "[I 2025-02-11 17:17:00,587] Trial 250 finished with value: 1.7890287877141944 and parameters: {'x': 1.9078659793565236, 'y': -5.772186550431506}. Best is trial 117 with value: 0.0001587544180381312.\n",
      "[I 2025-02-11 17:17:00,602] Trial 251 finished with value: 0.8311280713043833 and parameters: {'x': 2.809957809672472, 'y': -4.108365524892684}. Best is trial 117 with value: 0.0001587544180381312.\n",
      "[I 2025-02-11 17:17:00,617] Trial 252 finished with value: 0.3112990047242729 and parameters: {'x': 2.4424920057751183, 'y': -5.021996388331318}. Best is trial 117 with value: 0.0001587544180381312.\n",
      "[I 2025-02-11 17:17:00,630] Trial 253 finished with value: 1.70834000389196 and parameters: {'x': 3.055728434429986, 'y': -6.305846218161979}. Best is trial 117 with value: 0.0001587544180381312.\n",
      "[I 2025-02-11 17:17:00,643] Trial 254 finished with value: 0.9703082593094134 and parameters: {'x': 2.109522108359947, 'y': -5.4211382003685955}. Best is trial 117 with value: 0.0001587544180381312.\n",
      "[I 2025-02-11 17:17:00,656] Trial 255 finished with value: 3.2012631372191866 and parameters: {'x': 2.7089231275293715, 'y': -6.765371743155504}. Best is trial 117 with value: 0.0001587544180381312.\n",
      "[I 2025-02-11 17:17:00,671] Trial 256 finished with value: 0.9729649150500421 and parameters: {'x': 3.829222801481781, 'y': -4.465814207833315}. Best is trial 117 with value: 0.0001587544180381312.\n",
      "[I 2025-02-11 17:17:00,694] Trial 257 finished with value: 2.067354139144194 and parameters: {'x': 3.3342129600135206, 'y': -3.601552347599956}. Best is trial 117 with value: 0.0001587544180381312.\n",
      "[I 2025-02-11 17:17:00,711] Trial 258 finished with value: 0.3910313368242391 and parameters: {'x': 2.944456050888524, 'y': -5.6228532785025225}. Best is trial 117 with value: 0.0001587544180381312.\n",
      "[I 2025-02-11 17:17:00,727] Trial 259 finished with value: 0.379642877845517 and parameters: {'x': 2.4084454523867933, 'y': -4.827645437995824}. Best is trial 117 with value: 0.0001587544180381312.\n",
      "[I 2025-02-11 17:17:00,739] Trial 260 finished with value: 2.4372493775830626 and parameters: {'x': 1.5810661095036487, 'y': -4.3489424050178425}. Best is trial 117 with value: 0.0001587544180381312.\n",
      "[I 2025-02-11 17:17:00,751] Trial 261 finished with value: 0.34242928853916055 and parameters: {'x': 3.5796717380746026, 'y': -5.080062254631817}. Best is trial 117 with value: 0.0001587544180381312.\n",
      "[I 2025-02-11 17:17:00,761] Trial 262 finished with value: 36.01981691773108 and parameters: {'x': -2.930126067361194, 'y': -5.923808282564268}. Best is trial 117 with value: 0.0001587544180381312.\n",
      "[I 2025-02-11 17:17:00,772] Trial 263 finished with value: 2.129020078163378 and parameters: {'x': 3.110172110909611, 'y': -3.5450490784424726}. Best is trial 117 with value: 0.0001587544180381312.\n",
      "[I 2025-02-11 17:17:00,783] Trial 264 finished with value: 1.059954658281303 and parameters: {'x': 2.736721577877333, 'y': -4.004691439439054}. Best is trial 117 with value: 0.0001587544180381312.\n",
      "[I 2025-02-11 17:17:00,795] Trial 265 finished with value: 1.0766562319004251 and parameters: {'x': 4.037506226998455, 'y': -4.984603219821822}. Best is trial 117 with value: 0.0001587544180381312.\n",
      "[I 2025-02-11 17:17:00,806] Trial 266 finished with value: 3.519513982218256 and parameters: {'x': 2.1068896706987337, 'y': -6.649808450067352}. Best is trial 117 with value: 0.0001587544180381312.\n",
      "[I 2025-02-11 17:17:00,818] Trial 267 finished with value: 0.3391230466352058 and parameters: {'x': 3.2638087796315585, 'y': -5.519160836759201}. Best is trial 117 with value: 0.0001587544180381312.\n",
      "[I 2025-02-11 17:17:00,827] Trial 268 finished with value: 0.31265319586309315 and parameters: {'x': 2.6559284662417437, 'y': -4.559241590527947}. Best is trial 117 with value: 0.0001587544180381312.\n",
      "[I 2025-02-11 17:17:00,838] Trial 269 finished with value: 1.4632136219854914 and parameters: {'x': 3.5582282612577876, 'y': -6.073123865319656}. Best is trial 117 with value: 0.0001587544180381312.\n",
      "[I 2025-02-11 17:17:00,848] Trial 270 finished with value: 0.5971958097197504 and parameters: {'x': 2.330789783088723, 'y': -5.386462799375712}. Best is trial 117 with value: 0.0001587544180381312.\n",
      "[I 2025-02-11 17:17:00,859] Trial 271 finished with value: 0.5800136116732203 and parameters: {'x': 2.999617184678545, 'y': -4.2384138491768315}. Best is trial 117 with value: 0.0001587544180381312.\n",
      "[I 2025-02-11 17:17:00,870] Trial 272 finished with value: 0.908293625417434 and parameters: {'x': 3.929647610011295, 'y': -4.790121590872903}. Best is trial 117 with value: 0.0001587544180381312.\n",
      "[I 2025-02-11 17:17:00,882] Trial 273 finished with value: 6.547477553602343 and parameters: {'x': 4.464271956763279, 'y': -7.09842445426062}. Best is trial 117 with value: 0.0001587544180381312.\n",
      "[I 2025-02-11 17:17:00,893] Trial 274 finished with value: 2.5539278824814855 and parameters: {'x': 1.8281759646372753, 'y': -3.9133738855394165}. Best is trial 117 with value: 0.0001587544180381312.\n",
      "[I 2025-02-11 17:17:00,903] Trial 275 finished with value: 0.5082488502229423 and parameters: {'x': 3.2231260314294765, 'y': -5.67709941982066}. Best is trial 117 with value: 0.0001587544180381312.\n",
      "[I 2025-02-11 17:17:00,914] Trial 276 finished with value: 0.14216380391897748 and parameters: {'x': 2.7180279082564143, 'y': -4.749689106516068}. Best is trial 117 with value: 0.0001587544180381312.\n",
      "[I 2025-02-11 17:17:00,926] Trial 277 finished with value: 4.73278430586494 and parameters: {'x': 2.9338576921917805, 'y': -2.825509369764325}. Best is trial 117 with value: 0.0001587544180381312.\n",
      "[I 2025-02-11 17:17:00,938] Trial 278 finished with value: 0.29160291501246555 and parameters: {'x': 3.49486591736751, 'y': -4.783873558210758}. Best is trial 117 with value: 0.0001587544180381312.\n",
      "[I 2025-02-11 17:17:00,951] Trial 279 finished with value: 2.498477889589007 and parameters: {'x': 2.2788728395634457, 'y': -3.5934249013757853}. Best is trial 117 with value: 0.0001587544180381312.\n",
      "[I 2025-02-11 17:17:00,963] Trial 280 finished with value: 66.07368150124996 and parameters: {'x': 2.5711726105253634, 'y': 3.117252526026669}. Best is trial 117 with value: 0.0001587544180381312.\n",
      "[I 2025-02-11 17:17:00,975] Trial 281 finished with value: 0.5510687293744106 and parameters: {'x': 3.1030750464343577, 'y': -4.264850855827904}. Best is trial 117 with value: 0.0001587544180381312.\n",
      "[I 2025-02-11 17:17:00,986] Trial 282 finished with value: 1.5325747123881712 and parameters: {'x': 3.819450488816239, 'y': -5.927941597713454}. Best is trial 117 with value: 0.0001587544180381312.\n",
      "[I 2025-02-11 17:17:00,998] Trial 283 finished with value: 0.04310869830624567 and parameters: {'x': 2.7995604454535856, 'y': -5.054154254491043}. Best is trial 117 with value: 0.0001587544180381312.\n",
      "[I 2025-02-11 17:17:01,009] Trial 284 finished with value: 2.1696581150019756 and parameters: {'x': 3.494484505233887, 'y': -6.387495293356188}. Best is trial 117 with value: 0.0001587544180381312.\n",
      "[I 2025-02-11 17:17:01,020] Trial 285 finished with value: 0.8140759812367363 and parameters: {'x': 2.1151026797409584, 'y': -5.176161045169196}. Best is trial 117 with value: 0.0001587544180381312.\n",
      "[I 2025-02-11 17:17:01,033] Trial 286 finished with value: 0.2293402262307867 and parameters: {'x': 2.7251061389976665, 'y': -5.39213976005248}. Best is trial 117 with value: 0.0001587544180381312.\n",
      "[I 2025-02-11 17:17:01,045] Trial 287 finished with value: 0.13010852732843925 and parameters: {'x': 3.2471377356757505, 'y': -4.73726159981171}. Best is trial 117 with value: 0.0001587544180381312.\n",
      "[I 2025-02-11 17:17:01,057] Trial 288 finished with value: 2.1108839441497227 and parameters: {'x': 4.128969416824305, 'y': -4.085499043179773}. Best is trial 117 with value: 0.0001587544180381312.\n",
      "[I 2025-02-11 17:17:01,070] Trial 289 finished with value: 1.3029950264781565 and parameters: {'x': 3.182999770774826, 'y': -6.126723617563117}. Best is trial 117 with value: 0.0001587544180381312.\n",
      "[I 2025-02-11 17:17:01,084] Trial 290 finished with value: 2.974821720681454 and parameters: {'x': 3.6266983742764136, 'y': -3.3931176557193883}. Best is trial 117 with value: 0.0001587544180381312.\n",
      "[I 2025-02-11 17:17:01,099] Trial 291 finished with value: 0.40565510046549746 and parameters: {'x': 3.343520623686498, 'y': -5.536328893094095}. Best is trial 117 with value: 0.0001587544180381312.\n",
      "[I 2025-02-11 17:17:01,114] Trial 292 finished with value: 0.03677396533824756 and parameters: {'x': 3.000890838177422, 'y': -4.808236677788506}. Best is trial 117 with value: 0.0001587544180381312.\n",
      "[I 2025-02-11 17:17:01,126] Trial 293 finished with value: 0.9897603750855716 and parameters: {'x': 2.3521703526341837, 'y': -4.244965482193394}. Best is trial 117 with value: 0.0001587544180381312.\n",
      "[I 2025-02-11 17:17:01,136] Trial 294 finished with value: 36.44026558573451 and parameters: {'x': 9.033498915654752, 'y': -4.807239992406498}. Best is trial 117 with value: 0.0001587544180381312.\n",
      "[I 2025-02-11 17:17:01,147] Trial 295 finished with value: 2.4310839476934167 and parameters: {'x': 2.895859270476288, 'y': -6.555711623710412}. Best is trial 117 with value: 0.0001587544180381312.\n",
      "[I 2025-02-11 17:17:01,158] Trial 296 finished with value: 27.206309831056984 and parameters: {'x': 1.8079350674736785, 'y': -10.077921920204957}. Best is trial 117 with value: 0.0001587544180381312.\n",
      "[I 2025-02-11 17:17:01,169] Trial 297 finished with value: 1.5158553149846892 and parameters: {'x': 2.473106277094603, 'y': -3.8872384263699704}. Best is trial 117 with value: 0.0001587544180381312.\n",
      "[I 2025-02-11 17:17:01,180] Trial 298 finished with value: 1.4435602358557622 and parameters: {'x': 3.926829628496139, 'y': -5.7645567837626395}. Best is trial 117 with value: 0.0001587544180381312.\n",
      "[I 2025-02-11 17:17:01,191] Trial 299 finished with value: 0.1767215102624964 and parameters: {'x': 3.065417664899467, 'y': -4.584738589101278}. Best is trial 117 with value: 0.0001587544180381312.\n",
      "[I 2025-02-11 17:17:01,203] Trial 300 finished with value: 4.263063764556376 and parameters: {'x': 3.6850218246132136, 'y': -3.052229771158836}. Best is trial 117 with value: 0.0001587544180381312.\n",
      "[I 2025-02-11 17:17:01,214] Trial 301 finished with value: 0.09661473996639566 and parameters: {'x': 2.7807409060784964, 'y': -5.220318382571943}. Best is trial 117 with value: 0.0001587544180381312.\n",
      "[I 2025-02-11 17:17:01,224] Trial 302 finished with value: 0.810411984645679 and parameters: {'x': 2.191815866173443, 'y': -5.396548093522963}. Best is trial 117 with value: 0.0001587544180381312.\n",
      "[I 2025-02-11 17:17:01,235] Trial 303 finished with value: 0.8807332387281408 and parameters: {'x': 2.625185411460412, 'y': -5.860376233368891}. Best is trial 117 with value: 0.0001587544180381312.\n",
      "[I 2025-02-11 17:17:01,248] Trial 304 finished with value: 3.20216573983556 and parameters: {'x': 2.8482857769157945, 'y': -6.783016694916095}. Best is trial 117 with value: 0.0001587544180381312.\n",
      "[I 2025-02-11 17:17:01,264] Trial 305 finished with value: 163.97574989108213 and parameters: {'x': -9.802603363484277, 'y': -5.262863098176999}. Best is trial 117 with value: 0.0001587544180381312.\n",
      "[I 2025-02-11 17:17:01,282] Trial 306 finished with value: 2.4128652929823207 and parameters: {'x': 1.6165087806795606, 'y': -4.29372998149039}. Best is trial 117 with value: 0.0001587544180381312.\n",
      "[I 2025-02-11 17:17:01,299] Trial 307 finished with value: 1.8645957397329336 and parameters: {'x': 2.415693177122441, 'y': -6.2341723042070205}. Best is trial 117 with value: 0.0001587544180381312.\n",
      "[I 2025-02-11 17:17:01,317] Trial 308 finished with value: 8.542310006271922 and parameters: {'x': 1.3168633010767248, 'y': -7.389426889237162}. Best is trial 117 with value: 0.0001587544180381312.\n",
      "[I 2025-02-11 17:17:01,329] Trial 309 finished with value: 0.0011262225181045177 and parameters: {'x': 2.9756785456268666, 'y': -5.0231233512986355}. Best is trial 117 with value: 0.0001587544180381312.\n",
      "[I 2025-02-11 17:17:01,341] Trial 310 finished with value: 4.0481542491481655 and parameters: {'x': 4.408652360645868, 'y': -3.563388439418995}. Best is trial 117 with value: 0.0001587544180381312.\n",
      "[I 2025-02-11 17:17:01,354] Trial 311 finished with value: 0.21250400671254072 and parameters: {'x': 3.4525149009996654, 'y': -4.912055295294124}. Best is trial 117 with value: 0.0001587544180381312.\n",
      "[I 2025-02-11 17:17:01,365] Trial 312 finished with value: 0.7832288449522306 and parameters: {'x': 3.0752794925563545, 'y': -4.1182053283486635}. Best is trial 117 with value: 0.0001587544180381312.\n",
      "[I 2025-02-11 17:17:01,374] Trial 313 finished with value: 1.6150692136857585 and parameters: {'x': 1.95511050016838, 'y': -5.723377596299046}. Best is trial 117 with value: 0.0001587544180381312.\n",
      "[I 2025-02-11 17:17:01,385] Trial 314 finished with value: 0.016048035725492293 and parameters: {'x': 2.909871748528241, 'y': -4.910977901551718}. Best is trial 117 with value: 0.0001587544180381312.\n",
      "[I 2025-02-11 17:17:01,396] Trial 315 finished with value: 0.21324057340961183 and parameters: {'x': 2.792730571407867, 'y': -4.587350078903797}. Best is trial 117 with value: 0.0001587544180381312.\n",
      "[I 2025-02-11 17:17:01,407] Trial 316 finished with value: 2.1816591370219536 and parameters: {'x': 2.331159586209254, 'y': -3.6830673373698346}. Best is trial 117 with value: 0.0001587544180381312.\n",
      "[I 2025-02-11 17:17:01,418] Trial 317 finished with value: 0.563716787421285 and parameters: {'x': 3.7500043007444663, 'y': -4.965210112301288}. Best is trial 117 with value: 0.0001587544180381312.\n",
      "[I 2025-02-11 17:17:01,431] Trial 318 finished with value: 0.6523085873697854 and parameters: {'x': 3.0384107750804388, 'y': -4.193257662120361}. Best is trial 117 with value: 0.0001587544180381312.\n",
      "[I 2025-02-11 17:17:01,442] Trial 319 finished with value: 6.341332884967424 and parameters: {'x': 2.5204619929878405, 'y': -2.527880224423131}. Best is trial 117 with value: 0.0001587544180381312.\n",
      "[I 2025-02-11 17:17:01,453] Trial 320 finished with value: 95.27728463257334 and parameters: {'x': -6.716832734867715, 'y': -5.927602412230877}. Best is trial 117 with value: 0.0001587544180381312.\n",
      "[I 2025-02-11 17:17:01,463] Trial 321 finished with value: 0.22311946797311 and parameters: {'x': 3.459266280666594, 'y': -5.11042622612307}. Best is trial 117 with value: 0.0001587544180381312.\n",
      "[I 2025-02-11 17:17:01,474] Trial 322 finished with value: 1.1217426321264463 and parameters: {'x': 2.0240339347401104, 'y': -4.588620769134397}. Best is trial 117 with value: 0.0001587544180381312.\n",
      "[I 2025-02-11 17:17:01,486] Trial 323 finished with value: 1.9245699330027235 and parameters: {'x': 2.8323863178597017, 'y': -6.377125842674552}. Best is trial 117 with value: 0.0001587544180381312.\n",
      "[I 2025-02-11 17:17:01,498] Trial 324 finished with value: 4.3822921658823395 and parameters: {'x': 4.144239272967788, 'y': -3.2470000992354597}. Best is trial 117 with value: 0.0001587544180381312.\n",
      "[I 2025-02-11 17:17:01,511] Trial 325 finished with value: 0.41041764630652783 and parameters: {'x': 3.4025592058266003, 'y': -5.498361045940375}. Best is trial 117 with value: 0.0001587544180381312.\n",
      "[I 2025-02-11 17:17:01,523] Trial 326 finished with value: 0.43629234979190307 and parameters: {'x': 2.9965389219159513, 'y': -4.3394847687370115}. Best is trial 117 with value: 0.0001587544180381312.\n",
      "[I 2025-02-11 17:17:01,535] Trial 327 finished with value: 21.972502940578174 and parameters: {'x': 7.685860960247153, 'y': -5.12332883608389}. Best is trial 117 with value: 0.0001587544180381312.\n",
      "[I 2025-02-11 17:17:01,606] Trial 328 finished with value: 1.6572898447897084 and parameters: {'x': 2.5376040023992306, 'y': -3.7985509639637236}. Best is trial 117 with value: 0.0001587544180381312.\n",
      "[I 2025-02-11 17:17:01,624] Trial 329 finished with value: 1.1047836964734667 and parameters: {'x': 3.7251716383571774, 'y': -5.76086121690873}. Best is trial 117 with value: 0.0001587544180381312.\n",
      "[I 2025-02-11 17:17:01,635] Trial 330 finished with value: 0.17412080589857049 and parameters: {'x': 3.21914392144603, 'y': -4.644898961432346}. Best is trial 117 with value: 0.0001587544180381312.\n",
      "[I 2025-02-11 17:17:01,648] Trial 331 finished with value: 37.765259059603295 and parameters: {'x': 2.2094975505745493, 'y': -11.09428953505293}. Best is trial 117 with value: 0.0001587544180381312.\n",
      "[I 2025-02-11 17:17:01,659] Trial 332 finished with value: 329.35379648962663 and parameters: {'x': 2.7141840959624663, 'y': 13.145856434972305}. Best is trial 117 with value: 0.0001587544180381312.\n",
      "[I 2025-02-11 17:17:01,670] Trial 333 finished with value: 0.006746009932009236 and parameters: {'x': 3.060121419340045, 'y': -5.0559591357022935}. Best is trial 117 with value: 0.0001587544180381312.\n",
      "[I 2025-02-11 17:17:01,681] Trial 334 finished with value: 1.301848039120043 and parameters: {'x': 3.382716491218475, 'y': -3.9251157613633634}. Best is trial 117 with value: 0.0001587544180381312.\n",
      "[I 2025-02-11 17:17:01,690] Trial 335 finished with value: 5.71376363022647 and parameters: {'x': 4.9036667588349125, 'y': -6.445619763815316}. Best is trial 117 with value: 0.0001587544180381312.\n",
      "[I 2025-02-11 17:17:01,703] Trial 336 finished with value: 1.4195405484941963 and parameters: {'x': 4.008910026956737, 'y': -5.633751612227025}. Best is trial 117 with value: 0.0001587544180381312.\n",
      "[I 2025-02-11 17:17:01,715] Trial 337 finished with value: 0.1497452018130052 and parameters: {'x': 3.0518960580380807, 'y': -4.616526401204577}. Best is trial 117 with value: 0.0001587544180381312.\n",
      "[I 2025-02-11 17:17:01,726] Trial 338 finished with value: 11.880500216354886 and parameters: {'x': -0.44680799412557315, 'y': -4.9961440971319275}. Best is trial 117 with value: 0.0001587544180381312.\n",
      "[I 2025-02-11 17:17:01,737] Trial 339 finished with value: 223.15881937130538 and parameters: {'x': 3.619982471380843, 'y': 9.925630342015237}. Best is trial 117 with value: 0.0001587544180381312.\n",
      "[I 2025-02-11 17:17:01,748] Trial 340 finished with value: 3.272981555137762 and parameters: {'x': 3.0700390792274956, 'y': -3.192217910665468}. Best is trial 117 with value: 0.0001587544180381312.\n",
      "[I 2025-02-11 17:17:01,759] Trial 341 finished with value: 4.061915314306932 and parameters: {'x': 2.372990893218923, 'y': -6.915404629398323}. Best is trial 117 with value: 0.0001587544180381312.\n",
      "[I 2025-02-11 17:17:01,770] Trial 342 finished with value: 2.2608017434014154 and parameters: {'x': 1.8496195104352993, 'y': -5.9682078664369005}. Best is trial 117 with value: 0.0001587544180381312.\n",
      "[I 2025-02-11 17:17:01,780] Trial 343 finished with value: 62.77671477393507 and parameters: {'x': -4.885422230193779, 'y': -4.227451603133603}. Best is trial 117 with value: 0.0001587544180381312.\n",
      "[I 2025-02-11 17:17:01,792] Trial 344 finished with value: 0.6183848574353495 and parameters: {'x': 3.728716466222691, 'y': -5.295562462588305}. Best is trial 117 with value: 0.0001587544180381312.\n",
      "[I 2025-02-11 17:17:01,803] Trial 345 finished with value: 86.22831162601013 and parameters: {'x': 2.83028931627923, 'y': 4.284369117492107}. Best is trial 117 with value: 0.0001587544180381312.\n",
      "[I 2025-02-11 17:17:01,816] Trial 346 finished with value: 0.2441376351667977 and parameters: {'x': 3.3453844973090714, 'y': -4.646662789696078}. Best is trial 117 with value: 0.0001587544180381312.\n",
      "[I 2025-02-11 17:17:01,827] Trial 347 finished with value: 10.76544100557023 and parameters: {'x': 4.195012828647325, 'y': -8.05571355740988}. Best is trial 117 with value: 0.0001587544180381312.\n",
      "[I 2025-02-11 17:17:01,838] Trial 348 finished with value: 1.6832739999610895 and parameters: {'x': 2.5803969212740077, 'y': -3.77231630446407}. Best is trial 117 with value: 0.0001587544180381312.\n",
      "[I 2025-02-11 17:17:01,849] Trial 349 finished with value: 0.30221370393032193 and parameters: {'x': 3.1100721351231035, 'y': -5.5386073050003715}. Best is trial 117 with value: 0.0001587544180381312.\n",
      "[I 2025-02-11 17:17:01,862] Trial 350 finished with value: 1.7731273470828648 and parameters: {'x': 2.160426759206817, 'y': -6.033558958370008}. Best is trial 117 with value: 0.0001587544180381312.\n",
      "[I 2025-02-11 17:17:01,882] Trial 351 finished with value: 0.2802924698930752 and parameters: {'x': 3.509373653448862, 'y': -4.855670685357293}. Best is trial 117 with value: 0.0001587544180381312.\n",
      "[I 2025-02-11 17:17:01,894] Trial 352 finished with value: 0.6118035729518593 and parameters: {'x': 2.77648431423168, 'y': -4.250437253348743}. Best is trial 117 with value: 0.0001587544180381312.\n",
      "[I 2025-02-11 17:17:01,905] Trial 353 finished with value: 0.1305432727986077 and parameters: {'x': 3.0193794025838008, 'y': -5.3607876266643615}. Best is trial 117 with value: 0.0001587544180381312.\n",
      "[I 2025-02-11 17:17:01,917] Trial 354 finished with value: 2.687693403258623 and parameters: {'x': 3.839629899114273, 'y': -6.4080891434039176}. Best is trial 117 with value: 0.0001587544180381312.\n",
      "[I 2025-02-11 17:17:01,929] Trial 355 finished with value: 2.1785823463209666 and parameters: {'x': 1.5812976675041093, 'y': -4.592733455717652}. Best is trial 117 with value: 0.0001587544180381312.\n",
      "[I 2025-02-11 17:17:01,940] Trial 356 finished with value: 2.501912784083523 and parameters: {'x': 2.4111863293479137, 'y': -3.5319362257256195}. Best is trial 117 with value: 0.0001587544180381312.\n",
      "[I 2025-02-11 17:17:01,952] Trial 357 finished with value: 0.09466976400047813 and parameters: {'x': 3.300261384039092, 'y': -5.067177862837449}. Best is trial 117 with value: 0.0001587544180381312.\n",
      "[I 2025-02-11 17:17:01,964] Trial 358 finished with value: 0.4248272901429621 and parameters: {'x': 3.3450411786520453, 'y': -5.552968240658873}. Best is trial 117 with value: 0.0001587544180381312.\n",
      "[I 2025-02-11 17:17:01,977] Trial 359 finished with value: 4.30874762146347 and parameters: {'x': 2.7376766369044105, 'y': -7.059110020042079}. Best is trial 117 with value: 0.0001587544180381312.\n",
      "[I 2025-02-11 17:17:01,989] Trial 360 finished with value: 0.8707134838288327 and parameters: {'x': 2.070453105846245, 'y': -5.081584651730218}. Best is trial 117 with value: 0.0001587544180381312.\n",
      "[I 2025-02-11 17:17:02,002] Trial 361 finished with value: 1.2141050511134686 and parameters: {'x': 3.1819493653205893, 'y': -6.086737999507196}. Best is trial 117 with value: 0.0001587544180381312.\n",
      "[I 2025-02-11 17:17:02,014] Trial 362 finished with value: 1.1062538779906463 and parameters: {'x': 3.6655482716766055, 'y': -4.185568065422942}. Best is trial 117 with value: 0.0001587544180381312.\n",
      "[I 2025-02-11 17:17:02,027] Trial 363 finished with value: 13.862503781631405 and parameters: {'x': 4.365402886434173, 'y': -1.5361612711691333}. Best is trial 117 with value: 0.0001587544180381312.\n",
      "[I 2025-02-11 17:17:02,043] Trial 364 finished with value: 0.2723423298469294 and parameters: {'x': 2.4789163808672243, 'y': -4.971465955098903}. Best is trial 117 with value: 0.0001587544180381312.\n",
      "[I 2025-02-11 17:17:02,055] Trial 365 finished with value: 5.085015808156212 and parameters: {'x': 2.910205664994134, 'y': -2.746790558878943}. Best is trial 117 with value: 0.0001587544180381312.\n",
      "[I 2025-02-11 17:17:02,067] Trial 366 finished with value: 0.5530623794911139 and parameters: {'x': 3.366884542634585, 'y': -5.646883383514313}. Best is trial 117 with value: 0.0001587544180381312.\n",
      "[I 2025-02-11 17:17:02,079] Trial 367 finished with value: 1.3928616284871007 and parameters: {'x': 4.006319951678765, 'y': -4.383411171573512}. Best is trial 117 with value: 0.0001587544180381312.\n",
      "[I 2025-02-11 17:17:02,090] Trial 368 finished with value: 18.54987747553152 and parameters: {'x': 2.8020177355163263, 'y': -9.302404037103145}. Best is trial 117 with value: 0.0001587544180381312.\n",
      "[I 2025-02-11 17:17:02,103] Trial 369 finished with value: 1.0924227361075127 and parameters: {'x': 1.9548627324172938, 'y': -5.010527488649604}. Best is trial 117 with value: 0.0001587544180381312.\n",
      "[I 2025-02-11 17:17:02,115] Trial 370 finished with value: 2.340929388040798 and parameters: {'x': 2.390658061745662, 'y': -6.403435709366569}. Best is trial 117 with value: 0.0001587544180381312.\n",
      "[I 2025-02-11 17:17:02,128] Trial 371 finished with value: 4.942879082119298 and parameters: {'x': 1.0768791742721304, 'y': -3.884434954038513}. Best is trial 117 with value: 0.0001587544180381312.\n",
      "[I 2025-02-11 17:17:02,139] Trial 372 finished with value: 0.3985521247507618 and parameters: {'x': 3.180480220750232, 'y': -5.6049619944002345}. Best is trial 117 with value: 0.0001587544180381312.\n",
      "[I 2025-02-11 17:17:02,151] Trial 373 finished with value: 0.602598511640623 and parameters: {'x': 3.647092010242641, 'y': -4.571198831717123}. Best is trial 117 with value: 0.0001587544180381312.\n",
      "[I 2025-02-11 17:17:02,163] Trial 374 finished with value: 0.0825041758416485 and parameters: {'x': 2.746534460758532, 'y': -5.135127333499482}. Best is trial 117 with value: 0.0001587544180381312.\n",
      "[I 2025-02-11 17:17:02,179] Trial 375 finished with value: 2.7288759540942618 and parameters: {'x': 2.3605614116258145, 'y': -3.4768472677396103}. Best is trial 117 with value: 0.0001587544180381312.\n",
      "[I 2025-02-11 17:17:02,196] Trial 376 finished with value: 1.1982023963539377 and parameters: {'x': 2.7935879558787082, 'y': -6.07498672754393}. Best is trial 117 with value: 0.0001587544180381312.\n",
      "[I 2025-02-11 17:17:02,209] Trial 377 finished with value: 1.4305089455728093 and parameters: {'x': 1.8042379930107286, 'y': -4.9742673706396126}. Best is trial 117 with value: 0.0001587544180381312.\n",
      "[I 2025-02-11 17:17:02,220] Trial 378 finished with value: 0.9405043832307237 and parameters: {'x': 2.6309596968578965, 'y': -4.103164653970692}. Best is trial 117 with value: 0.0001587544180381312.\n",
      "[I 2025-02-11 17:17:02,232] Trial 379 finished with value: 0.06474835704314207 and parameters: {'x': 3.038034739707099, 'y': -5.2515983219708655}. Best is trial 117 with value: 0.0001587544180381312.\n",
      "[I 2025-02-11 17:17:02,244] Trial 380 finished with value: 0.6774112419918428 and parameters: {'x': 3.4822576708978046, 'y': -5.666962353399401}. Best is trial 117 with value: 0.0001587544180381312.\n",
      "[I 2025-02-11 17:17:02,256] Trial 381 finished with value: 0.4028487730073117 and parameters: {'x': 3.1068442688304243, 'y': -4.374353873802927}. Best is trial 117 with value: 0.0001587544180381312.\n",
      "[I 2025-02-11 17:17:02,268] Trial 382 finished with value: 5.496772032212149 and parameters: {'x': 4.621086379279083, 'y': -6.693768279053538}. Best is trial 117 with value: 0.0001587544180381312.\n",
      "[I 2025-02-11 17:17:02,280] Trial 383 finished with value: 0.9409425114533279 and parameters: {'x': 3.9465133030286936, 'y': -4.7877381837375355}. Best is trial 117 with value: 0.0001587544180381312.\n",
      "[I 2025-02-11 17:17:02,292] Trial 384 finished with value: 2.141280103320092 and parameters: {'x': 2.19111539997064, 'y': -3.7805797249695106}. Best is trial 117 with value: 0.0001587544180381312.\n",
      "[I 2025-02-11 17:17:02,304] Trial 385 finished with value: 0.7821375274792651 and parameters: {'x': 3.0754267304767455, 'y': -5.881163058581585}. Best is trial 117 with value: 0.0001587544180381312.\n",
      "[I 2025-02-11 17:17:02,315] Trial 386 finished with value: 0.31464330831287884 and parameters: {'x': 3.5177792908538885, 'y': -5.215749656490394}. Best is trial 117 with value: 0.0001587544180381312.\n",
      "[I 2025-02-11 17:17:02,327] Trial 387 finished with value: 13.213749775012117 and parameters: {'x': 6.611903110498621, 'y': -4.590237025364046}. Best is trial 117 with value: 0.0001587544180381312.\n",
      "[I 2025-02-11 17:17:02,338] Trial 388 finished with value: 7.66981725989172 and parameters: {'x': 2.5196085527263667, 'y': -2.272539401333529}. Best is trial 117 with value: 0.0001587544180381312.\n",
      "[I 2025-02-11 17:17:02,350] Trial 389 finished with value: 6.163608734472399 and parameters: {'x': 1.4261309930287864, 'y': -3.0799622182446917}. Best is trial 117 with value: 0.0001587544180381312.\n",
      "[I 2025-02-11 17:17:02,361] Trial 390 finished with value: 0.2765386743787508 and parameters: {'x': 2.944225088014564, 'y': -5.52290327362885}. Best is trial 117 with value: 0.0001587544180381312.\n",
      "[I 2025-02-11 17:17:02,373] Trial 391 finished with value: 27.176956634378172 and parameters: {'x': 3.346257650166439, 'y': 0.20164034455280166}. Best is trial 117 with value: 0.0001587544180381312.\n",
      "[I 2025-02-11 17:17:02,388] Trial 392 finished with value: 6.045378511162282 and parameters: {'x': 3.76426844485669, 'y': -7.336936510767594}. Best is trial 117 with value: 0.0001587544180381312.\n",
      "[I 2025-02-11 17:17:02,404] Trial 393 finished with value: 2.196886480115031 and parameters: {'x': 2.16111206459605, 'y': -6.221946607650567}. Best is trial 117 with value: 0.0001587544180381312.\n",
      "[I 2025-02-11 17:17:02,495] Trial 394 finished with value: 1.1449095764583876 and parameters: {'x': 2.6519912533963375, 'y': -3.988170227387168}. Best is trial 117 with value: 0.0001587544180381312.\n",
      "[I 2025-02-11 17:17:02,508] Trial 395 finished with value: 0.033329448073443006 and parameters: {'x': 3.0187978799930013, 'y': -4.818406806897363}. Best is trial 117 with value: 0.0001587544180381312.\n",
      "[I 2025-02-11 17:17:02,520] Trial 396 finished with value: 61.34132703833376 and parameters: {'x': 2.9683729244630923, 'y': -12.832006560673117}. Best is trial 117 with value: 0.0001587544180381312.\n",
      "[I 2025-02-11 17:17:02,531] Trial 397 finished with value: 7.918355888461557 and parameters: {'x': 0.2428983332986152, 'y': -4.437197825222749}. Best is trial 117 with value: 0.0001587544180381312.\n",
      "[I 2025-02-11 17:17:02,543] Trial 398 finished with value: 99.62472823371212 and parameters: {'x': 2.3738645158139184, 'y': -14.961560248733889}. Best is trial 117 with value: 0.0001587544180381312.\n",
      "[I 2025-02-11 17:17:02,555] Trial 399 finished with value: 3.6552996052309625 and parameters: {'x': 1.8896556104427609, 'y': -3.443582658214795}. Best is trial 117 with value: 0.0001587544180381312.\n",
      "[I 2025-02-11 17:17:02,567] Trial 400 finished with value: 0.11696026454711447 and parameters: {'x': 2.7175296378312703, 'y': -4.807202803331114}. Best is trial 117 with value: 0.0001587544180381312.\n",
      "[I 2025-02-11 17:17:02,580] Trial 401 finished with value: 0.1643098751361091 and parameters: {'x': 3.063858385402982, 'y': -5.400289872154959}. Best is trial 117 with value: 0.0001587544180381312.\n",
      "[I 2025-02-11 17:17:02,592] Trial 402 finished with value: 2.3611871912737987 and parameters: {'x': 4.22168460453214, 'y': -4.067973220168568}. Best is trial 117 with value: 0.0001587544180381312.\n",
      "[I 2025-02-11 17:17:02,603] Trial 403 finished with value: 1.2882012510546104 and parameters: {'x': 2.4594145670101084, 'y': -5.997982284759475}. Best is trial 117 with value: 0.0001587544180381312.\n",
      "[I 2025-02-11 17:17:02,615] Trial 404 finished with value: 0.42051434038341423 and parameters: {'x': 3.6440042772319643, 'y': -4.924020849633933}. Best is trial 117 with value: 0.0001587544180381312.\n",
      "[I 2025-02-11 17:17:02,627] Trial 405 finished with value: 2.4374137691912936 and parameters: {'x': 2.9108719373813363, 'y': -6.5586757063754915}. Best is trial 117 with value: 0.0001587544180381312.\n",
      "[I 2025-02-11 17:17:02,640] Trial 406 finished with value: 0.6101388469767364 and parameters: {'x': 3.4450114270029557, 'y': -4.358046982393938}. Best is trial 117 with value: 0.0001587544180381312.\n",
      "[I 2025-02-11 17:17:02,653] Trial 407 finished with value: 0.5152414765878282 and parameters: {'x': 2.6274246225458073, 'y': -5.613538152605601}. Best is trial 117 with value: 0.0001587544180381312.\n",
      "[I 2025-02-11 17:17:02,668] Trial 408 finished with value: 19.27949313416618 and parameters: {'x': -1.3897513936962214, 'y': -5.097856199130483}. Best is trial 117 with value: 0.0001587544180381312.\n",
      "[I 2025-02-11 17:17:02,681] Trial 409 finished with value: 2.8325222652921864 and parameters: {'x': 2.188113680818083, 'y': -3.5257670231549474}. Best is trial 117 with value: 0.0001587544180381312.\n",
      "[I 2025-02-11 17:17:02,693] Trial 410 finished with value: 0.34207640427802155 and parameters: {'x': 3.1245074815161247, 'y': -4.428533210654781}. Best is trial 117 with value: 0.0001587544180381312.\n",
      "[I 2025-02-11 17:17:02,709] Trial 411 finished with value: 1.879851431605188 and parameters: {'x': 4.032283640726764, 'y': -5.9023535430711656}. Best is trial 117 with value: 0.0001587544180381312.\n",
      "[I 2025-02-11 17:17:02,732] Trial 412 finished with value: 1.7958058633152614 and parameters: {'x': 1.707205016174648, 'y': -5.352827143387905}. Best is trial 117 with value: 0.0001587544180381312.\n",
      "[I 2025-02-11 17:17:02,745] Trial 413 finished with value: 1.1950260647536346 and parameters: {'x': 3.245343853206517, 'y': -3.934714846415565}. Best is trial 117 with value: 0.0001587544180381312.\n",
      "[I 2025-02-11 17:17:02,757] Trial 414 finished with value: 0.11671624806545809 and parameters: {'x': 2.7341749640162862, 'y': -4.785399677750206}. Best is trial 117 with value: 0.0001587544180381312.\n",
      "[I 2025-02-11 17:17:02,769] Trial 415 finished with value: 4.415661739769017 and parameters: {'x': 3.695639385239198, 'y': -3.017136518700027}. Best is trial 117 with value: 0.0001587544180381312.\n",
      "[I 2025-02-11 17:17:02,780] Trial 416 finished with value: 3.0144509504026717 and parameters: {'x': 2.1488036019928574, 'y': -6.513246722257259}. Best is trial 117 with value: 0.0001587544180381312.\n",
      "[I 2025-02-11 17:17:02,792] Trial 417 finished with value: 149.75703243075708 and parameters: {'x': -9.226478515514046, 'y': -5.5198610780107735}. Best is trial 117 with value: 0.0001587544180381312.\n",
      "[I 2025-02-11 17:17:02,805] Trial 418 finished with value: 0.3217351525921431 and parameters: {'x': 3.004786033987396, 'y': -4.432803167788452}. Best is trial 117 with value: 0.0001587544180381312.\n",
      "[I 2025-02-11 17:17:02,817] Trial 419 finished with value: 0.21658389651130852 and parameters: {'x': 2.5379993139242547, 'y': -4.943970877422101}. Best is trial 117 with value: 0.0001587544180381312.\n",
      "[I 2025-02-11 17:17:02,830] Trial 420 finished with value: 1.0972545678946803 and parameters: {'x': 3.5440055662715304, 'y': -5.895160606684785}. Best is trial 117 with value: 0.0001587544180381312.\n",
      "[I 2025-02-11 17:17:02,850] Trial 421 finished with value: 1.0762310044573786 and parameters: {'x': 3.1496249671661243, 'y': -3.9734312620881567}. Best is trial 117 with value: 0.0001587544180381312.\n",
      "[I 2025-02-11 17:17:02,862] Trial 422 finished with value: 114.13012632193801 and parameters: {'x': 2.7517596688479973, 'y': 5.680285719957475}. Best is trial 117 with value: 0.0001587544180381312.\n",
      "[I 2025-02-11 17:17:02,876] Trial 423 finished with value: 4.7016792618804235 and parameters: {'x': 3.9159461734577716, 'y': -6.9653808458434945}. Best is trial 117 with value: 0.0001587544180381312.\n",
      "[I 2025-02-11 17:17:02,888] Trial 424 finished with value: 0.5475547077226605 and parameters: {'x': 2.274458913094736, 'y': -5.145412650532849}. Best is trial 117 with value: 0.0001587544180381312.\n",
      "[I 2025-02-11 17:17:02,901] Trial 425 finished with value: 0.3945455061200779 and parameters: {'x': 3.3657126829585504, 'y': -4.489314441516762}. Best is trial 117 with value: 0.0001587544180381312.\n",
      "[I 2025-02-11 17:17:02,913] Trial 426 finished with value: 1.11131134843693 and parameters: {'x': 2.8722845765806957, 'y': -6.046422533710813}. Best is trial 117 with value: 0.0001587544180381312.\n",
      "[I 2025-02-11 17:17:02,926] Trial 427 finished with value: 5.458416334091245 and parameters: {'x': 0.7052518443524852, 'y': -5.438802046763202}. Best is trial 117 with value: 0.0001587544180381312.\n",
      "[I 2025-02-11 17:17:02,939] Trial 428 finished with value: 4.3577593043019505 and parameters: {'x': 4.478884670604258, 'y': -3.52668420379279}. Best is trial 117 with value: 0.0001587544180381312.\n",
      "[I 2025-02-11 17:17:02,952] Trial 429 finished with value: 142.29022122149644 and parameters: {'x': 1.9093244338999877, 'y': 6.878579377644822}. Best is trial 117 with value: 0.0001587544180381312.\n",
      "[I 2025-02-11 17:17:02,964] Trial 430 finished with value: 0.10572550381550823 and parameters: {'x': 3.3098339673432347, 'y': -4.9013672645829}. Best is trial 117 with value: 0.0001587544180381312.\n",
      "[I 2025-02-11 17:17:02,987] Trial 431 finished with value: 0.6740502933201434 and parameters: {'x': 2.6613447780850112, 'y': -4.252094301405683}. Best is trial 117 with value: 0.0001587544180381312.\n",
      "[I 2025-02-11 17:17:02,999] Trial 432 finished with value: 1.9821754023464342 and parameters: {'x': 2.3724981277836967, 'y': -6.2603240863807486}. Best is trial 117 with value: 0.0001587544180381312.\n",
      "[I 2025-02-11 17:17:03,011] Trial 433 finished with value: 0.7875866971220258 and parameters: {'x': 3.745528785328137, 'y': -5.481428631646663}. Best is trial 117 with value: 0.0001587544180381312.\n",
      "[I 2025-02-11 17:17:03,024] Trial 434 finished with value: 0.06243580042473269 and parameters: {'x': 2.9444239491982067, 'y': -4.756387391537283}. Best is trial 117 with value: 0.0001587544180381312.\n",
      "[I 2025-02-11 17:17:03,036] Trial 435 finished with value: 1.6575053589281241 and parameters: {'x': 2.910608468368424, 'y': -3.7156657315945023}. Best is trial 117 with value: 0.0001587544180381312.\n",
      "[I 2025-02-11 17:17:03,048] Trial 436 finished with value: 0.4685397150239795 and parameters: {'x': 2.355886888785852, 'y': -4.768358002542695}. Best is trial 117 with value: 0.0001587544180381312.\n",
      "[I 2025-02-11 17:17:03,061] Trial 437 finished with value: 0.524036873429378 and parameters: {'x': 3.276916170282369, 'y': -5.668845503883762}. Best is trial 117 with value: 0.0001587544180381312.\n",
      "[I 2025-02-11 17:17:03,074] Trial 438 finished with value: 41.66958045015452 and parameters: {'x': 1.258282531690018, 'y': 1.2157864112868602}. Best is trial 117 with value: 0.0001587544180381312.\n",
      "[I 2025-02-11 17:17:03,086] Trial 439 finished with value: 1.5281488319886884 and parameters: {'x': 2.05176943312802, 'y': -4.206899991149709}. Best is trial 117 with value: 0.0001587544180381312.\n",
      "[I 2025-02-11 17:17:03,097] Trial 440 finished with value: 6.13634947260573 and parameters: {'x': 2.7102753598746316, 'y': -7.460164446842925}. Best is trial 117 with value: 0.0001587544180381312.\n",
      "[I 2025-02-11 17:17:03,110] Trial 441 finished with value: 0.4519475624664622 and parameters: {'x': 3.5926714027129782, 'y': -5.317313994133087}. Best is trial 117 with value: 0.0001587544180381312.\n",
      "[I 2025-02-11 17:17:03,122] Trial 442 finished with value: 3.457756223999775 and parameters: {'x': 3.0515978358732396, 'y': -3.1412117153013437}. Best is trial 117 with value: 0.0001587544180381312.\n",
      "[I 2025-02-11 17:17:03,134] Trial 443 finished with value: 1.8818392587384323 and parameters: {'x': 1.637167819673415, 'y': -4.843386759803908}. Best is trial 117 with value: 0.0001587544180381312.\n",
      "[I 2025-02-11 17:17:03,146] Trial 444 finished with value: 1.845428690925057 and parameters: {'x': 2.482251607503728, 'y': -6.255932041550252}. Best is trial 117 with value: 0.0001587544180381312.\n",
      "[I 2025-02-11 17:17:03,159] Trial 445 finished with value: 46.27060753987315 and parameters: {'x': 9.54836948291155, 'y': -6.841049878505704}. Best is trial 117 with value: 0.0001587544180381312.\n",
      "[I 2025-02-11 17:17:03,172] Trial 446 finished with value: 1.3942937188118996 and parameters: {'x': 4.040679261067632, 'y': -4.442074920445741}. Best is trial 117 with value: 0.0001587544180381312.\n",
      "[I 2025-02-11 17:17:03,185] Trial 447 finished with value: 0.20125532190356596 and parameters: {'x': 3.398296668093339, 'y': -5.206434217341289}. Best is trial 117 with value: 0.0001587544180381312.\n",
      "[I 2025-02-11 17:17:03,197] Trial 448 finished with value: 1.2764923121621568 and parameters: {'x': 2.947987176971251, 'y': -3.8713782837448427}. Best is trial 117 with value: 0.0001587544180381312.\n",
      "[I 2025-02-11 17:17:03,210] Trial 449 finished with value: 6.007776538103084 and parameters: {'x': 2.619396363607216, 'y': -2.578653802103534}. Best is trial 117 with value: 0.0001587544180381312.\n",
      "[I 2025-02-11 17:17:03,223] Trial 450 finished with value: 35.09336839952263 and parameters: {'x': -2.9196811428554623, 'y': -4.774736673104395}. Best is trial 117 with value: 0.0001587544180381312.\n",
      "[I 2025-02-11 17:17:03,236] Trial 451 finished with value: 5.622157896247275 and parameters: {'x': 5.215936942234752, 'y': -5.843671360356966}. Best is trial 117 with value: 0.0001587544180381312.\n",
      "[I 2025-02-11 17:17:03,249] Trial 452 finished with value: 0.9717918143282676 and parameters: {'x': 2.073996714736918, 'y': -5.33809721976119}. Best is trial 117 with value: 0.0001587544180381312.\n",
      "[I 2025-02-11 17:17:03,262] Trial 453 finished with value: 1.2930248984420896 and parameters: {'x': 3.6453962380233746, 'y': -4.063790304265457}. Best is trial 117 with value: 0.0001587544180381312.\n",
      "[I 2025-02-11 17:17:03,278] Trial 454 finished with value: 1.1889118609411458 and parameters: {'x': 3.1668083999113046, 'y': -6.077537386200672}. Best is trial 117 with value: 0.0001587544180381312.\n",
      "[I 2025-02-11 17:17:03,292] Trial 455 finished with value: 0.13532898877368763 and parameters: {'x': 2.8851943788493477, 'y': -4.6505022773666465}. Best is trial 117 with value: 0.0001587544180381312.\n",
      "[I 2025-02-11 17:17:03,305] Trial 456 finished with value: 0.37955448999236663 and parameters: {'x': 2.450188066209138, 'y': -5.277959219047542}. Best is trial 117 with value: 0.0001587544180381312.\n",
      "[I 2025-02-11 17:17:03,317] Trial 457 finished with value: 86.60708685800401 and parameters: {'x': -6.206905115227435, 'y': -3.6435395113742155}. Best is trial 117 with value: 0.0001587544180381312.\n",
      "[I 2025-02-11 17:17:03,329] Trial 458 finished with value: 4.080114289449386 and parameters: {'x': 4.136374707973102, 'y': -6.669960123035407}. Best is trial 117 with value: 0.0001587544180381312.\n",
      "[I 2025-02-11 17:17:03,343] Trial 459 finished with value: 20.111283781173086 and parameters: {'x': 3.415223220343142, 'y': -0.5347034299544049}. Best is trial 117 with value: 0.0001587544180381312.\n",
      "[I 2025-02-11 17:17:03,435] Trial 460 finished with value: 0.24032281172864312 and parameters: {'x': 2.963668541583789, 'y': -4.511120836138423}. Best is trial 117 with value: 0.0001587544180381312.\n",
      "[I 2025-02-11 17:17:03,448] Trial 461 finished with value: 1.2873800150859407 and parameters: {'x': 3.841677833927333, 'y': -5.760893184988099}. Best is trial 117 with value: 0.0001587544180381312.\n",
      "[I 2025-02-11 17:17:03,463] Trial 462 finished with value: 76.20285430294922 and parameters: {'x': 7.196271177650166, 'y': 2.6546823909664408}. Best is trial 117 with value: 0.0001587544180381312.\n",
      "[I 2025-02-11 17:17:03,480] Trial 463 finished with value: 0.528214353578309 and parameters: {'x': 2.2776989415479623, 'y': -5.080594879101435}. Best is trial 117 with value: 0.0001587544180381312.\n",
      "[I 2025-02-11 17:17:03,494] Trial 464 finished with value: 3.0849530958775353 and parameters: {'x': 3.3244206640746436, 'y': -3.273817990883087}. Best is trial 117 with value: 0.0001587544180381312.\n",
      "[I 2025-02-11 17:17:03,506] Trial 465 finished with value: 0.7372589923734693 and parameters: {'x': 2.675505279799773, 'y': -4.2050395173748285}. Best is trial 117 with value: 0.0001587544180381312.\n",
      "[I 2025-02-11 17:17:03,519] Trial 466 finished with value: 2.2037852641465054 and parameters: {'x': 1.7414541568940878, 'y': -5.787304023200272}. Best is trial 117 with value: 0.0001587544180381312.\n",
      "[I 2025-02-11 17:17:03,532] Trial 467 finished with value: 0.013565475231176882 and parameters: {'x': 3.093804176409822, 'y': -4.930961954552204}. Best is trial 117 with value: 0.0001587544180381312.\n",
      "[I 2025-02-11 17:17:03,544] Trial 468 finished with value: 0.5752230401313747 and parameters: {'x': 3.6742637544210455, 'y': -4.652737232624327}. Best is trial 117 with value: 0.0001587544180381312.\n",
      "[I 2025-02-11 17:17:03,555] Trial 469 finished with value: 1.4604477858177862 and parameters: {'x': 3.165573982471274, 'y': -3.802906418801609}. Best is trial 117 with value: 0.0001587544180381312.\n",
      "[I 2025-02-11 17:17:03,569] Trial 470 finished with value: 0.18410191396600092 and parameters: {'x': 3.4199734464962153, 'y': -4.9121124684378294}. Best is trial 117 with value: 0.0001587544180381312.\n",
      "[I 2025-02-11 17:17:03,580] Trial 471 finished with value: 2.6609467671330465 and parameters: {'x': 4.532714320233295, 'y': -5.558331066379826}. Best is trial 117 with value: 0.0001587544180381312.\n",
      "[I 2025-02-11 17:17:03,593] Trial 472 finished with value: 2.0338154909143995 and parameters: {'x': 3.0189073230184404, 'y': -6.425993690045884}. Best is trial 117 with value: 0.0001587544180381312.\n",
      "[I 2025-02-11 17:17:03,605] Trial 473 finished with value: 10.138644062807293 and parameters: {'x': 4.008483537013703, 'y': -1.9798005002351875}. Best is trial 117 with value: 0.0001587544180381312.\n",
      "[I 2025-02-11 17:17:03,621] Trial 474 finished with value: 0.8149001421662427 and parameters: {'x': 2.509858276631533, 'y': -4.2419358647319925}. Best is trial 117 with value: 0.0001587544180381312.\n",
      "[I 2025-02-11 17:17:03,634] Trial 475 finished with value: 0.18148748135780937 and parameters: {'x': 3.4027349430027893, 'y': -5.138895813624275}. Best is trial 117 with value: 0.0001587544180381312.\n",
      "[I 2025-02-11 17:17:03,649] Trial 476 finished with value: 11.697538251098027 and parameters: {'x': 2.1291859510167264, 'y': -8.307449340986402}. Best is trial 117 with value: 0.0001587544180381312.\n",
      "[I 2025-02-11 17:17:03,668] Trial 477 finished with value: 3.276433780586301 and parameters: {'x': 2.9225760848270594, 'y': -3.191564400387563}. Best is trial 117 with value: 0.0001587544180381312.\n",
      "[I 2025-02-11 17:17:03,681] Trial 478 finished with value: 0.7971151899529572 and parameters: {'x': 3.7563891168094417, 'y': -4.525668160540334}. Best is trial 117 with value: 0.0001587544180381312.\n",
      "[I 2025-02-11 17:17:03,694] Trial 479 finished with value: 1.4644867368846182 and parameters: {'x': 2.4967590191004194, 'y': -6.1005613349685905}. Best is trial 117 with value: 0.0001587544180381312.\n",
      "[I 2025-02-11 17:17:03,705] Trial 480 finished with value: 1.0630448939959964 and parameters: {'x': 3.127853762110634, 'y': -3.9769172518754146}. Best is trial 117 with value: 0.0001587544180381312.\n",
      "[I 2025-02-11 17:17:03,719] Trial 481 finished with value: 46.05915263688414 and parameters: {'x': 2.871414716382511, 'y': -11.785471130416896}. Best is trial 117 with value: 0.0001587544180381312.\n",
      "[I 2025-02-11 17:17:03,731] Trial 482 finished with value: 0.5271411122861563 and parameters: {'x': 3.526804990352045, 'y': -5.49961746809568}. Best is trial 117 with value: 0.0001587544180381312.\n",
      "[I 2025-02-11 17:17:03,745] Trial 483 finished with value: 1.1146239361000854 and parameters: {'x': 1.9809921967617226, 'y': -4.723871346942072}. Best is trial 117 with value: 0.0001587544180381312.\n",
      "[I 2025-02-11 17:17:03,757] Trial 484 finished with value: 0.5336246612245794 and parameters: {'x': 2.617055315549533, 'y': -5.6220755821246415}. Best is trial 117 with value: 0.0001587544180381312.\n",
      "[I 2025-02-11 17:17:03,769] Trial 485 finished with value: 1.6605143229503698 and parameters: {'x': 3.270191870683628, 'y': -3.7400354465434944}. Best is trial 117 with value: 0.0001587544180381312.\n",
      "[I 2025-02-11 17:17:03,782] Trial 486 finished with value: 6.377591082538175 and parameters: {'x': 4.348359040366346, 'y': -7.13530301849656}. Best is trial 117 with value: 0.0001587544180381312.\n",
      "[I 2025-02-11 17:17:03,793] Trial 487 finished with value: 0.7663842052834673 and parameters: {'x': 3.872066166709769, 'y': -4.923287509728879}. Best is trial 117 with value: 0.0001587544180381312.\n",
      "[I 2025-02-11 17:17:03,806] Trial 488 finished with value: 1.6332626514613748 and parameters: {'x': 2.370548388914529, 'y': -6.112228987557544}. Best is trial 117 with value: 0.0001587544180381312.\n",
      "[I 2025-02-11 17:17:03,819] Trial 489 finished with value: 4.8399995346251234 and parameters: {'x': 3.007104519767938, 'y': -2.8000115772068277}. Best is trial 117 with value: 0.0001587544180381312.\n",
      "[I 2025-02-11 17:17:03,841] Trial 490 finished with value: 0.5406317529780523 and parameters: {'x': 2.7032373510735677, 'y': -4.327271463976576}. Best is trial 117 with value: 0.0001587544180381312.\n",
      "[I 2025-02-11 17:17:03,854] Trial 491 finished with value: 2.4763717051089063 and parameters: {'x': 1.456054669872692, 'y': -5.304309912239125}. Best is trial 117 with value: 0.0001587544180381312.\n",
      "[I 2025-02-11 17:17:03,866] Trial 492 finished with value: 0.29472831686799766 and parameters: {'x': 3.4967631110220676, 'y': -4.781014319199463}. Best is trial 117 with value: 0.0001587544180381312.\n",
      "[I 2025-02-11 17:17:03,878] Trial 493 finished with value: 3.3277442934892445 and parameters: {'x': 2.1298589807152104, 'y': -6.603308735099785}. Best is trial 117 with value: 0.0001587544180381312.\n",
      "[I 2025-02-11 17:17:03,890] Trial 494 finished with value: 0.5017053226111515 and parameters: {'x': 3.171969758412473, 'y': -5.6871184212366215}. Best is trial 117 with value: 0.0001587544180381312.\n",
      "[I 2025-02-11 17:17:03,903] Trial 495 finished with value: 0.916796538337729 and parameters: {'x': 2.849670597503355, 'y': -4.054379775447495}. Best is trial 117 with value: 0.0001587544180381312.\n",
      "[I 2025-02-11 17:17:03,915] Trial 496 finished with value: 0.7409796516412441 and parameters: {'x': 3.8558052436413686, 'y': -5.092612291825556}. Best is trial 117 with value: 0.0001587544180381312.\n",
      "[I 2025-02-11 17:17:03,930] Trial 497 finished with value: 0.6007040622692652 and parameters: {'x': 2.402582646259609, 'y': -4.506242399836626}. Best is trial 117 with value: 0.0001587544180381312.\n",
      "[I 2025-02-11 17:17:03,942] Trial 498 finished with value: 1.9698294459260306 and parameters: {'x': 3.284474917899507, 'y': -3.6256261545663424}. Best is trial 117 with value: 0.0001587544180381312.\n",
      "[I 2025-02-11 17:17:03,955] Trial 499 finished with value: 0.8528544523745896 and parameters: {'x': 2.761034607636112, 'y': -5.892048201403356}. Best is trial 117 with value: 0.0001587544180381312.\n"
     ]
    },
    {
     "name": "stdout",
     "output_type": "stream",
     "text": [
      "0.0001587544180381312\n",
      "{'x': 2.993325202268755, 'y': -5.010686509873906}\n"
     ]
    }
   ],
   "source": [
    "import optuna\n",
    "\n",
    "# 목적 함수\n",
    "def objective(trial):\n",
    "    x = trial.suggest_uniform('x', -10, 10)\n",
    "    y = trial.suggest_uniform('y', -15, 15)\n",
    "    return (x - 3) ** 2 + (y + 5) ** 2\n",
    "\n",
    "# 스터디 생성\n",
    "study = optuna.create_study(direction='minimize')\n",
    "\n",
    "# 최적화 실행\n",
    "study.optimize(objective, n_trials=500)\n",
    "\n",
    "# 결과 확인\n",
    "print(study.best_value)\n",
    "print(study.best_params)"
   ]
  },
  {
   "cell_type": "code",
   "execution_count": 18,
   "metadata": {},
   "outputs": [
    {
     "data": {
      "application/vnd.plotly.v1+json": {
       "config": {
        "plotlyServerURL": "https://plot.ly"
       },
       "data": [
        {
         "cliponaxis": false,
         "hovertemplate": [
          "x (FloatDistribution): 0.06688501106192009<extra></extra>",
          "y (FloatDistribution): 0.9331149889380799<extra></extra>"
         ],
         "name": "Objective Value",
         "orientation": "h",
         "text": [
          "0.07",
          "0.93"
         ],
         "textposition": "outside",
         "type": "bar",
         "x": [
          0.06688501106192009,
          0.9331149889380799
         ],
         "y": [
          "x",
          "y"
         ]
        }
       ],
       "layout": {
        "template": {
         "data": {
          "bar": [
           {
            "error_x": {
             "color": "#2a3f5f"
            },
            "error_y": {
             "color": "#2a3f5f"
            },
            "marker": {
             "line": {
              "color": "#E5ECF6",
              "width": 0.5
             },
             "pattern": {
              "fillmode": "overlay",
              "size": 10,
              "solidity": 0.2
             }
            },
            "type": "bar"
           }
          ],
          "barpolar": [
           {
            "marker": {
             "line": {
              "color": "#E5ECF6",
              "width": 0.5
             },
             "pattern": {
              "fillmode": "overlay",
              "size": 10,
              "solidity": 0.2
             }
            },
            "type": "barpolar"
           }
          ],
          "carpet": [
           {
            "aaxis": {
             "endlinecolor": "#2a3f5f",
             "gridcolor": "white",
             "linecolor": "white",
             "minorgridcolor": "white",
             "startlinecolor": "#2a3f5f"
            },
            "baxis": {
             "endlinecolor": "#2a3f5f",
             "gridcolor": "white",
             "linecolor": "white",
             "minorgridcolor": "white",
             "startlinecolor": "#2a3f5f"
            },
            "type": "carpet"
           }
          ],
          "choropleth": [
           {
            "colorbar": {
             "outlinewidth": 0,
             "ticks": ""
            },
            "type": "choropleth"
           }
          ],
          "contour": [
           {
            "colorbar": {
             "outlinewidth": 0,
             "ticks": ""
            },
            "colorscale": [
             [
              0,
              "#0d0887"
             ],
             [
              0.1111111111111111,
              "#46039f"
             ],
             [
              0.2222222222222222,
              "#7201a8"
             ],
             [
              0.3333333333333333,
              "#9c179e"
             ],
             [
              0.4444444444444444,
              "#bd3786"
             ],
             [
              0.5555555555555556,
              "#d8576b"
             ],
             [
              0.6666666666666666,
              "#ed7953"
             ],
             [
              0.7777777777777778,
              "#fb9f3a"
             ],
             [
              0.8888888888888888,
              "#fdca26"
             ],
             [
              1,
              "#f0f921"
             ]
            ],
            "type": "contour"
           }
          ],
          "contourcarpet": [
           {
            "colorbar": {
             "outlinewidth": 0,
             "ticks": ""
            },
            "type": "contourcarpet"
           }
          ],
          "heatmap": [
           {
            "colorbar": {
             "outlinewidth": 0,
             "ticks": ""
            },
            "colorscale": [
             [
              0,
              "#0d0887"
             ],
             [
              0.1111111111111111,
              "#46039f"
             ],
             [
              0.2222222222222222,
              "#7201a8"
             ],
             [
              0.3333333333333333,
              "#9c179e"
             ],
             [
              0.4444444444444444,
              "#bd3786"
             ],
             [
              0.5555555555555556,
              "#d8576b"
             ],
             [
              0.6666666666666666,
              "#ed7953"
             ],
             [
              0.7777777777777778,
              "#fb9f3a"
             ],
             [
              0.8888888888888888,
              "#fdca26"
             ],
             [
              1,
              "#f0f921"
             ]
            ],
            "type": "heatmap"
           }
          ],
          "histogram": [
           {
            "marker": {
             "pattern": {
              "fillmode": "overlay",
              "size": 10,
              "solidity": 0.2
             }
            },
            "type": "histogram"
           }
          ],
          "histogram2d": [
           {
            "colorbar": {
             "outlinewidth": 0,
             "ticks": ""
            },
            "colorscale": [
             [
              0,
              "#0d0887"
             ],
             [
              0.1111111111111111,
              "#46039f"
             ],
             [
              0.2222222222222222,
              "#7201a8"
             ],
             [
              0.3333333333333333,
              "#9c179e"
             ],
             [
              0.4444444444444444,
              "#bd3786"
             ],
             [
              0.5555555555555556,
              "#d8576b"
             ],
             [
              0.6666666666666666,
              "#ed7953"
             ],
             [
              0.7777777777777778,
              "#fb9f3a"
             ],
             [
              0.8888888888888888,
              "#fdca26"
             ],
             [
              1,
              "#f0f921"
             ]
            ],
            "type": "histogram2d"
           }
          ],
          "histogram2dcontour": [
           {
            "colorbar": {
             "outlinewidth": 0,
             "ticks": ""
            },
            "colorscale": [
             [
              0,
              "#0d0887"
             ],
             [
              0.1111111111111111,
              "#46039f"
             ],
             [
              0.2222222222222222,
              "#7201a8"
             ],
             [
              0.3333333333333333,
              "#9c179e"
             ],
             [
              0.4444444444444444,
              "#bd3786"
             ],
             [
              0.5555555555555556,
              "#d8576b"
             ],
             [
              0.6666666666666666,
              "#ed7953"
             ],
             [
              0.7777777777777778,
              "#fb9f3a"
             ],
             [
              0.8888888888888888,
              "#fdca26"
             ],
             [
              1,
              "#f0f921"
             ]
            ],
            "type": "histogram2dcontour"
           }
          ],
          "mesh3d": [
           {
            "colorbar": {
             "outlinewidth": 0,
             "ticks": ""
            },
            "type": "mesh3d"
           }
          ],
          "parcoords": [
           {
            "line": {
             "colorbar": {
              "outlinewidth": 0,
              "ticks": ""
             }
            },
            "type": "parcoords"
           }
          ],
          "pie": [
           {
            "automargin": true,
            "type": "pie"
           }
          ],
          "scatter": [
           {
            "fillpattern": {
             "fillmode": "overlay",
             "size": 10,
             "solidity": 0.2
            },
            "type": "scatter"
           }
          ],
          "scatter3d": [
           {
            "line": {
             "colorbar": {
              "outlinewidth": 0,
              "ticks": ""
             }
            },
            "marker": {
             "colorbar": {
              "outlinewidth": 0,
              "ticks": ""
             }
            },
            "type": "scatter3d"
           }
          ],
          "scattercarpet": [
           {
            "marker": {
             "colorbar": {
              "outlinewidth": 0,
              "ticks": ""
             }
            },
            "type": "scattercarpet"
           }
          ],
          "scattergeo": [
           {
            "marker": {
             "colorbar": {
              "outlinewidth": 0,
              "ticks": ""
             }
            },
            "type": "scattergeo"
           }
          ],
          "scattergl": [
           {
            "marker": {
             "colorbar": {
              "outlinewidth": 0,
              "ticks": ""
             }
            },
            "type": "scattergl"
           }
          ],
          "scattermap": [
           {
            "marker": {
             "colorbar": {
              "outlinewidth": 0,
              "ticks": ""
             }
            },
            "type": "scattermap"
           }
          ],
          "scattermapbox": [
           {
            "marker": {
             "colorbar": {
              "outlinewidth": 0,
              "ticks": ""
             }
            },
            "type": "scattermapbox"
           }
          ],
          "scatterpolar": [
           {
            "marker": {
             "colorbar": {
              "outlinewidth": 0,
              "ticks": ""
             }
            },
            "type": "scatterpolar"
           }
          ],
          "scatterpolargl": [
           {
            "marker": {
             "colorbar": {
              "outlinewidth": 0,
              "ticks": ""
             }
            },
            "type": "scatterpolargl"
           }
          ],
          "scatterternary": [
           {
            "marker": {
             "colorbar": {
              "outlinewidth": 0,
              "ticks": ""
             }
            },
            "type": "scatterternary"
           }
          ],
          "surface": [
           {
            "colorbar": {
             "outlinewidth": 0,
             "ticks": ""
            },
            "colorscale": [
             [
              0,
              "#0d0887"
             ],
             [
              0.1111111111111111,
              "#46039f"
             ],
             [
              0.2222222222222222,
              "#7201a8"
             ],
             [
              0.3333333333333333,
              "#9c179e"
             ],
             [
              0.4444444444444444,
              "#bd3786"
             ],
             [
              0.5555555555555556,
              "#d8576b"
             ],
             [
              0.6666666666666666,
              "#ed7953"
             ],
             [
              0.7777777777777778,
              "#fb9f3a"
             ],
             [
              0.8888888888888888,
              "#fdca26"
             ],
             [
              1,
              "#f0f921"
             ]
            ],
            "type": "surface"
           }
          ],
          "table": [
           {
            "cells": {
             "fill": {
              "color": "#EBF0F8"
             },
             "line": {
              "color": "white"
             }
            },
            "header": {
             "fill": {
              "color": "#C8D4E3"
             },
             "line": {
              "color": "white"
             }
            },
            "type": "table"
           }
          ]
         },
         "layout": {
          "annotationdefaults": {
           "arrowcolor": "#2a3f5f",
           "arrowhead": 0,
           "arrowwidth": 1
          },
          "autotypenumbers": "strict",
          "coloraxis": {
           "colorbar": {
            "outlinewidth": 0,
            "ticks": ""
           }
          },
          "colorscale": {
           "diverging": [
            [
             0,
             "#8e0152"
            ],
            [
             0.1,
             "#c51b7d"
            ],
            [
             0.2,
             "#de77ae"
            ],
            [
             0.3,
             "#f1b6da"
            ],
            [
             0.4,
             "#fde0ef"
            ],
            [
             0.5,
             "#f7f7f7"
            ],
            [
             0.6,
             "#e6f5d0"
            ],
            [
             0.7,
             "#b8e186"
            ],
            [
             0.8,
             "#7fbc41"
            ],
            [
             0.9,
             "#4d9221"
            ],
            [
             1,
             "#276419"
            ]
           ],
           "sequential": [
            [
             0,
             "#0d0887"
            ],
            [
             0.1111111111111111,
             "#46039f"
            ],
            [
             0.2222222222222222,
             "#7201a8"
            ],
            [
             0.3333333333333333,
             "#9c179e"
            ],
            [
             0.4444444444444444,
             "#bd3786"
            ],
            [
             0.5555555555555556,
             "#d8576b"
            ],
            [
             0.6666666666666666,
             "#ed7953"
            ],
            [
             0.7777777777777778,
             "#fb9f3a"
            ],
            [
             0.8888888888888888,
             "#fdca26"
            ],
            [
             1,
             "#f0f921"
            ]
           ],
           "sequentialminus": [
            [
             0,
             "#0d0887"
            ],
            [
             0.1111111111111111,
             "#46039f"
            ],
            [
             0.2222222222222222,
             "#7201a8"
            ],
            [
             0.3333333333333333,
             "#9c179e"
            ],
            [
             0.4444444444444444,
             "#bd3786"
            ],
            [
             0.5555555555555556,
             "#d8576b"
            ],
            [
             0.6666666666666666,
             "#ed7953"
            ],
            [
             0.7777777777777778,
             "#fb9f3a"
            ],
            [
             0.8888888888888888,
             "#fdca26"
            ],
            [
             1,
             "#f0f921"
            ]
           ]
          },
          "colorway": [
           "#636efa",
           "#EF553B",
           "#00cc96",
           "#ab63fa",
           "#FFA15A",
           "#19d3f3",
           "#FF6692",
           "#B6E880",
           "#FF97FF",
           "#FECB52"
          ],
          "font": {
           "color": "#2a3f5f"
          },
          "geo": {
           "bgcolor": "white",
           "lakecolor": "white",
           "landcolor": "#E5ECF6",
           "showlakes": true,
           "showland": true,
           "subunitcolor": "white"
          },
          "hoverlabel": {
           "align": "left"
          },
          "hovermode": "closest",
          "mapbox": {
           "style": "light"
          },
          "paper_bgcolor": "white",
          "plot_bgcolor": "#E5ECF6",
          "polar": {
           "angularaxis": {
            "gridcolor": "white",
            "linecolor": "white",
            "ticks": ""
           },
           "bgcolor": "#E5ECF6",
           "radialaxis": {
            "gridcolor": "white",
            "linecolor": "white",
            "ticks": ""
           }
          },
          "scene": {
           "xaxis": {
            "backgroundcolor": "#E5ECF6",
            "gridcolor": "white",
            "gridwidth": 2,
            "linecolor": "white",
            "showbackground": true,
            "ticks": "",
            "zerolinecolor": "white"
           },
           "yaxis": {
            "backgroundcolor": "#E5ECF6",
            "gridcolor": "white",
            "gridwidth": 2,
            "linecolor": "white",
            "showbackground": true,
            "ticks": "",
            "zerolinecolor": "white"
           },
           "zaxis": {
            "backgroundcolor": "#E5ECF6",
            "gridcolor": "white",
            "gridwidth": 2,
            "linecolor": "white",
            "showbackground": true,
            "ticks": "",
            "zerolinecolor": "white"
           }
          },
          "shapedefaults": {
           "line": {
            "color": "#2a3f5f"
           }
          },
          "ternary": {
           "aaxis": {
            "gridcolor": "white",
            "linecolor": "white",
            "ticks": ""
           },
           "baxis": {
            "gridcolor": "white",
            "linecolor": "white",
            "ticks": ""
           },
           "bgcolor": "#E5ECF6",
           "caxis": {
            "gridcolor": "white",
            "linecolor": "white",
            "ticks": ""
           }
          },
          "title": {
           "x": 0.05
          },
          "xaxis": {
           "automargin": true,
           "gridcolor": "white",
           "linecolor": "white",
           "ticks": "",
           "title": {
            "standoff": 15
           },
           "zerolinecolor": "white",
           "zerolinewidth": 2
          },
          "yaxis": {
           "automargin": true,
           "gridcolor": "white",
           "linecolor": "white",
           "ticks": "",
           "title": {
            "standoff": 15
           },
           "zerolinecolor": "white",
           "zerolinewidth": 2
          }
         }
        },
        "title": {
         "text": "Hyperparameter Importances"
        },
        "xaxis": {
         "title": {
          "text": "Hyperparameter Importance"
         }
        },
        "yaxis": {
         "title": {
          "text": "Hyperparameter"
         }
        }
       }
      }
     },
     "metadata": {},
     "output_type": "display_data"
    }
   ],
   "source": [
    "import optuna.visualization as vis\n",
    "vis.plot_param_importances(study).show()"
   ]
  },
  {
   "cell_type": "code",
   "execution_count": 19,
   "metadata": {},
   "outputs": [
    {
     "data": {
      "application/vnd.plotly.v1+json": {
       "config": {
        "plotlyServerURL": "https://plot.ly"
       },
       "data": [
        {
         "mode": "markers",
         "name": "Objective Value",
         "type": "scatter",
         "x": [
          0,
          1,
          2,
          3,
          4,
          5,
          6,
          7,
          8,
          9,
          10,
          11,
          12,
          13,
          14,
          15,
          16,
          17,
          18,
          19,
          20,
          21,
          22,
          23,
          24,
          25,
          26,
          27,
          28,
          29,
          30,
          31,
          32,
          33,
          34,
          35,
          36,
          37,
          38,
          39,
          40,
          41,
          42,
          43,
          44,
          45,
          46,
          47,
          48,
          49,
          50,
          51,
          52,
          53,
          54,
          55,
          56,
          57,
          58,
          59,
          60,
          61,
          62,
          63,
          64,
          65,
          66,
          67,
          68,
          69,
          70,
          71,
          72,
          73,
          74,
          75,
          76,
          77,
          78,
          79,
          80,
          81,
          82,
          83,
          84,
          85,
          86,
          87,
          88,
          89,
          90,
          91,
          92,
          93,
          94,
          95,
          96,
          97,
          98,
          99,
          100,
          101,
          102,
          103,
          104,
          105,
          106,
          107,
          108,
          109,
          110,
          111,
          112,
          113,
          114,
          115,
          116,
          117,
          118,
          119,
          120,
          121,
          122,
          123,
          124,
          125,
          126,
          127,
          128,
          129,
          130,
          131,
          132,
          133,
          134,
          135,
          136,
          137,
          138,
          139,
          140,
          141,
          142,
          143,
          144,
          145,
          146,
          147,
          148,
          149,
          150,
          151,
          152,
          153,
          154,
          155,
          156,
          157,
          158,
          159,
          160,
          161,
          162,
          163,
          164,
          165,
          166,
          167,
          168,
          169,
          170,
          171,
          172,
          173,
          174,
          175,
          176,
          177,
          178,
          179,
          180,
          181,
          182,
          183,
          184,
          185,
          186,
          187,
          188,
          189,
          190,
          191,
          192,
          193,
          194,
          195,
          196,
          197,
          198,
          199,
          200,
          201,
          202,
          203,
          204,
          205,
          206,
          207,
          208,
          209,
          210,
          211,
          212,
          213,
          214,
          215,
          216,
          217,
          218,
          219,
          220,
          221,
          222,
          223,
          224,
          225,
          226,
          227,
          228,
          229,
          230,
          231,
          232,
          233,
          234,
          235,
          236,
          237,
          238,
          239,
          240,
          241,
          242,
          243,
          244,
          245,
          246,
          247,
          248,
          249,
          250,
          251,
          252,
          253,
          254,
          255,
          256,
          257,
          258,
          259,
          260,
          261,
          262,
          263,
          264,
          265,
          266,
          267,
          268,
          269,
          270,
          271,
          272,
          273,
          274,
          275,
          276,
          277,
          278,
          279,
          280,
          281,
          282,
          283,
          284,
          285,
          286,
          287,
          288,
          289,
          290,
          291,
          292,
          293,
          294,
          295,
          296,
          297,
          298,
          299,
          300,
          301,
          302,
          303,
          304,
          305,
          306,
          307,
          308,
          309,
          310,
          311,
          312,
          313,
          314,
          315,
          316,
          317,
          318,
          319,
          320,
          321,
          322,
          323,
          324,
          325,
          326,
          327,
          328,
          329,
          330,
          331,
          332,
          333,
          334,
          335,
          336,
          337,
          338,
          339,
          340,
          341,
          342,
          343,
          344,
          345,
          346,
          347,
          348,
          349,
          350,
          351,
          352,
          353,
          354,
          355,
          356,
          357,
          358,
          359,
          360,
          361,
          362,
          363,
          364,
          365,
          366,
          367,
          368,
          369,
          370,
          371,
          372,
          373,
          374,
          375,
          376,
          377,
          378,
          379,
          380,
          381,
          382,
          383,
          384,
          385,
          386,
          387,
          388,
          389,
          390,
          391,
          392,
          393,
          394,
          395,
          396,
          397,
          398,
          399,
          400,
          401,
          402,
          403,
          404,
          405,
          406,
          407,
          408,
          409,
          410,
          411,
          412,
          413,
          414,
          415,
          416,
          417,
          418,
          419,
          420,
          421,
          422,
          423,
          424,
          425,
          426,
          427,
          428,
          429,
          430,
          431,
          432,
          433,
          434,
          435,
          436,
          437,
          438,
          439,
          440,
          441,
          442,
          443,
          444,
          445,
          446,
          447,
          448,
          449,
          450,
          451,
          452,
          453,
          454,
          455,
          456,
          457,
          458,
          459,
          460,
          461,
          462,
          463,
          464,
          465,
          466,
          467,
          468,
          469,
          470,
          471,
          472,
          473,
          474,
          475,
          476,
          477,
          478,
          479,
          480,
          481,
          482,
          483,
          484,
          485,
          486,
          487,
          488,
          489,
          490,
          491,
          492,
          493,
          494,
          495,
          496,
          497,
          498,
          499
         ],
         "y": [
          114.85903067557416,
          49.6189973747138,
          276.1871031239545,
          90.81127158157648,
          54.52437600294733,
          77.25107329028816,
          3.0864074430854838,
          155.70444639259804,
          42.41235638196053,
          26.909690964853272,
          124.1911921708321,
          12.407402261546444,
          3.9989767163189294,
          23.264573266768657,
          218.61175742764885,
          42.295972882568,
          50.96956420757168,
          380.7830075537599,
          24.185977164931867,
          72.65082992047435,
          175.02848247884324,
          20.461364804447527,
          2.7729339051743516,
          4.787258880167955,
          52.44327589216288,
          13.800734720038712,
          62.16982754485636,
          30.54755416230205,
          45.91340512203477,
          10.322348610846037,
          29.259968084988113,
          5.621681425986231,
          3.850951826522411,
          3.3480597489296633,
          25.713451055925482,
          12.702219192656917,
          26.019451914492386,
          58.48452815276724,
          36.71804338586662,
          27.890504958804435,
          111.14720786389859,
          4.235041688677516,
          0.11951741273512656,
          6.76849976452383,
          8.004044581160814,
          37.64581217967917,
          3.6978977489867533,
          3.9569968263932593,
          65.74299710528203,
          87.43372639470147,
          53.604251433217,
          0.38935330589097383,
          0.31391037175704983,
          15.602365151425731,
          9.966620905205142,
          2.7109828912389453,
          1.8897429045493226,
          2.9488833277048814,
          30.872795828470196,
          20.922063894983637,
          8.553327460328777,
          2.7882102441466525,
          2.1323696653368986,
          0.6619519624554088,
          1.0971647916994256,
          2.5359810172443598,
          8.165737729139414,
          12.54749551880473,
          11.420151027158834,
          62.00728944056155,
          2.6246984730858043,
          1.8898934489523807,
          0.5433225366023772,
          1.4722444073564356,
          135.44899870150613,
          5.4191281090100105,
          28.55749815623604,
          183.58693428078215,
          4.645364572097045,
          22.35527493182836,
          24.086994888478003,
          1.6319059974891907,
          2.8926796974993816,
          2.7699896529760863,
          7.377880301416889,
          3.7923897713542893,
          13.485387261172985,
          3.7231985235629184,
          390.9629079725251,
          6.41842307744967,
          6.513142413649903,
          1.6777822749812237,
          2.470680829302717,
          1.0565596675614946,
          10.398701321592464,
          4.192794874674878,
          5.679975496594934,
          6.230224671635374,
          44.00757114808725,
          3.38295152535299,
          1.8018891703339115,
          1.7251885341241526,
          3.066639214443051,
          1.2914198884134855,
          1.6539963675344929,
          1.165326168164646,
          1.5185154113466917,
          9.611685595229154,
          18.16699916549696,
          11.054255881321495,
          7.553908376823088,
          3.22120070785227,
          6.642253626366409,
          0.7051243154600466,
          0.9762683323798705,
          6.4967273116479305,
          0.0045026136799178485,
          0.0001587544180381312,
          2.550877882792807,
          3.8603377431275727,
          1.0693739394234494,
          1.4927980859254488,
          0.24688457279574733,
          0.017705972206094496,
          0.23845879826039107,
          2.579006603059094,
          54.33329885437736,
          7.320992956075172,
          13.996388480291031,
          2.506236664866625,
          7.506827004826128,
          1.174847748100339,
          0.9979560403615614,
          0.6271249387593864,
          10.272974390084585,
          2.356087134189934,
          0.7531357644997043,
          1.03834887549386,
          4.338726604998735,
          0.017724372035984925,
          1.7031198989974365,
          0.03256746163391867,
          308.2455968728132,
          0.23629400405112033,
          2.7621866891949263,
          0.1846156438035499,
          1.7440563137966998,
          1.493643208283165,
          1.6530884208535572,
          6.892117526791627,
          3.163202478154311,
          0.15529690122962514,
          0.3185494903291637,
          3.854687182047188,
          1.1894050710394841,
          1.6662205349292372,
          1.0150132291095337,
          7.367106791757961,
          0.47598982668577067,
          0.7501581330915223,
          1.3658843207371125,
          0.2050168627597107,
          0.26391901996198325,
          2.9703773586705897,
          117.86930204455477,
          1.4883719755700378,
          0.15985834137314966,
          1.9384580602913686,
          1.2247222741091621,
          1.1424203330241143,
          0.08244490578471411,
          0.12093774041648563,
          0.10985477460625387,
          0.8673668514510877,
          0.2796314515798695,
          0.3878112222476076,
          5.692326302915236,
          2.1954405628222577,
          2.012840551097027,
          0.1262088914556913,
          1.6672284124637167,
          0.07846832370127967,
          0.002914134869118192,
          0.8000012982310601,
          0.6672007300906764,
          1.886878837524264,
          3.5819985749869865,
          24.957755956698623,
          123.31396718794923,
          1.782812393222363,
          0.7012031149883435,
          0.21953814381155437,
          0.8258125742514244,
          0.24360234838858402,
          0.36139989041085585,
          3.711543346098538,
          1.2577995416873167,
          0.020508843229226463,
          3.329254861355136,
          0.08884284252821888,
          68.81355258135684,
          0.47102391525138987,
          0.7353374025094753,
          1.2422475843876373,
          0.9174214244953041,
          0.34313501832840226,
          1.4224287923192995,
          2.682491050881997,
          15.921586782458368,
          1.9238113507582009,
          0.8263755852323811,
          0.2780296749371196,
          0.07269994297132788,
          0.3579309882722,
          1.135080932657056,
          0.030902578898429834,
          0.3067266531300949,
          2.1853514390018214,
          1.194987525924792,
          1.2020029422630043,
          1.6215684123437482,
          0.4947859516559155,
          0.23143787240661265,
          0.346550883388586,
          0.30264742236638265,
          0.781094939074016,
          35.97024854656871,
          0.9970696725261307,
          2.2466448275027053,
          0.010494984118876012,
          2.154216418494845,
          0.02310653147264441,
          0.0049853296464668845,
          0.2230027997687534,
          0.32477003491205725,
          2.528805166362163,
          0.5935559668238312,
          0.9689706605570122,
          4.166259777234775,
          0.5429632810794699,
          0.0007790740772181421,
          0.001179314496549763,
          0.13031225247774675,
          0.2908975345358425,
          1.2055708997272274,
          0.16355374796857114,
          0.6195886205083891,
          1.289936663066209,
          0.11961534474929779,
          190.1914907337094,
          1.7890287877141944,
          0.8311280713043833,
          0.3112990047242729,
          1.70834000389196,
          0.9703082593094134,
          3.2012631372191866,
          0.9729649150500421,
          2.067354139144194,
          0.3910313368242391,
          0.379642877845517,
          2.4372493775830626,
          0.34242928853916055,
          36.01981691773108,
          2.129020078163378,
          1.059954658281303,
          1.0766562319004251,
          3.519513982218256,
          0.3391230466352058,
          0.31265319586309315,
          1.4632136219854914,
          0.5971958097197504,
          0.5800136116732203,
          0.908293625417434,
          6.547477553602343,
          2.5539278824814855,
          0.5082488502229423,
          0.14216380391897748,
          4.73278430586494,
          0.29160291501246555,
          2.498477889589007,
          66.07368150124996,
          0.5510687293744106,
          1.5325747123881712,
          0.04310869830624567,
          2.1696581150019756,
          0.8140759812367363,
          0.2293402262307867,
          0.13010852732843925,
          2.1108839441497227,
          1.3029950264781565,
          2.974821720681454,
          0.40565510046549746,
          0.03677396533824756,
          0.9897603750855716,
          36.44026558573451,
          2.4310839476934167,
          27.206309831056984,
          1.5158553149846892,
          1.4435602358557622,
          0.1767215102624964,
          4.263063764556376,
          0.09661473996639566,
          0.810411984645679,
          0.8807332387281408,
          3.20216573983556,
          163.97574989108213,
          2.4128652929823207,
          1.8645957397329336,
          8.542310006271922,
          0.0011262225181045177,
          4.0481542491481655,
          0.21250400671254072,
          0.7832288449522306,
          1.6150692136857585,
          0.016048035725492293,
          0.21324057340961183,
          2.1816591370219536,
          0.563716787421285,
          0.6523085873697854,
          6.341332884967424,
          95.27728463257334,
          0.22311946797311,
          1.1217426321264463,
          1.9245699330027235,
          4.3822921658823395,
          0.41041764630652783,
          0.43629234979190307,
          21.972502940578174,
          1.6572898447897084,
          1.1047836964734667,
          0.17412080589857049,
          37.765259059603295,
          329.35379648962663,
          0.006746009932009236,
          1.301848039120043,
          5.71376363022647,
          1.4195405484941963,
          0.1497452018130052,
          11.880500216354886,
          223.15881937130538,
          3.272981555137762,
          4.061915314306932,
          2.2608017434014154,
          62.77671477393507,
          0.6183848574353495,
          86.22831162601013,
          0.2441376351667977,
          10.76544100557023,
          1.6832739999610895,
          0.30221370393032193,
          1.7731273470828648,
          0.2802924698930752,
          0.6118035729518593,
          0.1305432727986077,
          2.687693403258623,
          2.1785823463209666,
          2.501912784083523,
          0.09466976400047813,
          0.4248272901429621,
          4.30874762146347,
          0.8707134838288327,
          1.2141050511134686,
          1.1062538779906463,
          13.862503781631405,
          0.2723423298469294,
          5.085015808156212,
          0.5530623794911139,
          1.3928616284871007,
          18.54987747553152,
          1.0924227361075127,
          2.340929388040798,
          4.942879082119298,
          0.3985521247507618,
          0.602598511640623,
          0.0825041758416485,
          2.7288759540942618,
          1.1982023963539377,
          1.4305089455728093,
          0.9405043832307237,
          0.06474835704314207,
          0.6774112419918428,
          0.4028487730073117,
          5.496772032212149,
          0.9409425114533279,
          2.141280103320092,
          0.7821375274792651,
          0.31464330831287884,
          13.213749775012117,
          7.66981725989172,
          6.163608734472399,
          0.2765386743787508,
          27.176956634378172,
          6.045378511162282,
          2.196886480115031,
          1.1449095764583876,
          0.033329448073443006,
          61.34132703833376,
          7.918355888461557,
          99.62472823371212,
          3.6552996052309625,
          0.11696026454711447,
          0.1643098751361091,
          2.3611871912737987,
          1.2882012510546104,
          0.42051434038341423,
          2.4374137691912936,
          0.6101388469767364,
          0.5152414765878282,
          19.27949313416618,
          2.8325222652921864,
          0.34207640427802155,
          1.879851431605188,
          1.7958058633152614,
          1.1950260647536346,
          0.11671624806545809,
          4.415661739769017,
          3.0144509504026717,
          149.75703243075708,
          0.3217351525921431,
          0.21658389651130852,
          1.0972545678946803,
          1.0762310044573786,
          114.13012632193801,
          4.7016792618804235,
          0.5475547077226605,
          0.3945455061200779,
          1.11131134843693,
          5.458416334091245,
          4.3577593043019505,
          142.29022122149644,
          0.10572550381550823,
          0.6740502933201434,
          1.9821754023464342,
          0.7875866971220258,
          0.06243580042473269,
          1.6575053589281241,
          0.4685397150239795,
          0.524036873429378,
          41.66958045015452,
          1.5281488319886884,
          6.13634947260573,
          0.4519475624664622,
          3.457756223999775,
          1.8818392587384323,
          1.845428690925057,
          46.27060753987315,
          1.3942937188118996,
          0.20125532190356596,
          1.2764923121621568,
          6.007776538103084,
          35.09336839952263,
          5.622157896247275,
          0.9717918143282676,
          1.2930248984420896,
          1.1889118609411458,
          0.13532898877368763,
          0.37955448999236663,
          86.60708685800401,
          4.080114289449386,
          20.111283781173086,
          0.24032281172864312,
          1.2873800150859407,
          76.20285430294922,
          0.528214353578309,
          3.0849530958775353,
          0.7372589923734693,
          2.2037852641465054,
          0.013565475231176882,
          0.5752230401313747,
          1.4604477858177862,
          0.18410191396600092,
          2.6609467671330465,
          2.0338154909143995,
          10.138644062807293,
          0.8149001421662427,
          0.18148748135780937,
          11.697538251098027,
          3.276433780586301,
          0.7971151899529572,
          1.4644867368846182,
          1.0630448939959964,
          46.05915263688414,
          0.5271411122861563,
          1.1146239361000854,
          0.5336246612245794,
          1.6605143229503698,
          6.377591082538175,
          0.7663842052834673,
          1.6332626514613748,
          4.8399995346251234,
          0.5406317529780523,
          2.4763717051089063,
          0.29472831686799766,
          3.3277442934892445,
          0.5017053226111515,
          0.916796538337729,
          0.7409796516412441,
          0.6007040622692652,
          1.9698294459260306,
          0.8528544523745896
         ]
        },
        {
         "mode": "lines",
         "name": "Best Value",
         "type": "scatter",
         "x": [
          0,
          1,
          2,
          3,
          4,
          5,
          6,
          7,
          8,
          9,
          10,
          11,
          12,
          13,
          14,
          15,
          16,
          17,
          18,
          19,
          20,
          21,
          22,
          23,
          24,
          25,
          26,
          27,
          28,
          29,
          30,
          31,
          32,
          33,
          34,
          35,
          36,
          37,
          38,
          39,
          40,
          41,
          42,
          43,
          44,
          45,
          46,
          47,
          48,
          49,
          50,
          51,
          52,
          53,
          54,
          55,
          56,
          57,
          58,
          59,
          60,
          61,
          62,
          63,
          64,
          65,
          66,
          67,
          68,
          69,
          70,
          71,
          72,
          73,
          74,
          75,
          76,
          77,
          78,
          79,
          80,
          81,
          82,
          83,
          84,
          85,
          86,
          87,
          88,
          89,
          90,
          91,
          92,
          93,
          94,
          95,
          96,
          97,
          98,
          99,
          100,
          101,
          102,
          103,
          104,
          105,
          106,
          107,
          108,
          109,
          110,
          111,
          112,
          113,
          114,
          115,
          116,
          117,
          118,
          119,
          120,
          121,
          122,
          123,
          124,
          125,
          126,
          127,
          128,
          129,
          130,
          131,
          132,
          133,
          134,
          135,
          136,
          137,
          138,
          139,
          140,
          141,
          142,
          143,
          144,
          145,
          146,
          147,
          148,
          149,
          150,
          151,
          152,
          153,
          154,
          155,
          156,
          157,
          158,
          159,
          160,
          161,
          162,
          163,
          164,
          165,
          166,
          167,
          168,
          169,
          170,
          171,
          172,
          173,
          174,
          175,
          176,
          177,
          178,
          179,
          180,
          181,
          182,
          183,
          184,
          185,
          186,
          187,
          188,
          189,
          190,
          191,
          192,
          193,
          194,
          195,
          196,
          197,
          198,
          199,
          200,
          201,
          202,
          203,
          204,
          205,
          206,
          207,
          208,
          209,
          210,
          211,
          212,
          213,
          214,
          215,
          216,
          217,
          218,
          219,
          220,
          221,
          222,
          223,
          224,
          225,
          226,
          227,
          228,
          229,
          230,
          231,
          232,
          233,
          234,
          235,
          236,
          237,
          238,
          239,
          240,
          241,
          242,
          243,
          244,
          245,
          246,
          247,
          248,
          249,
          250,
          251,
          252,
          253,
          254,
          255,
          256,
          257,
          258,
          259,
          260,
          261,
          262,
          263,
          264,
          265,
          266,
          267,
          268,
          269,
          270,
          271,
          272,
          273,
          274,
          275,
          276,
          277,
          278,
          279,
          280,
          281,
          282,
          283,
          284,
          285,
          286,
          287,
          288,
          289,
          290,
          291,
          292,
          293,
          294,
          295,
          296,
          297,
          298,
          299,
          300,
          301,
          302,
          303,
          304,
          305,
          306,
          307,
          308,
          309,
          310,
          311,
          312,
          313,
          314,
          315,
          316,
          317,
          318,
          319,
          320,
          321,
          322,
          323,
          324,
          325,
          326,
          327,
          328,
          329,
          330,
          331,
          332,
          333,
          334,
          335,
          336,
          337,
          338,
          339,
          340,
          341,
          342,
          343,
          344,
          345,
          346,
          347,
          348,
          349,
          350,
          351,
          352,
          353,
          354,
          355,
          356,
          357,
          358,
          359,
          360,
          361,
          362,
          363,
          364,
          365,
          366,
          367,
          368,
          369,
          370,
          371,
          372,
          373,
          374,
          375,
          376,
          377,
          378,
          379,
          380,
          381,
          382,
          383,
          384,
          385,
          386,
          387,
          388,
          389,
          390,
          391,
          392,
          393,
          394,
          395,
          396,
          397,
          398,
          399,
          400,
          401,
          402,
          403,
          404,
          405,
          406,
          407,
          408,
          409,
          410,
          411,
          412,
          413,
          414,
          415,
          416,
          417,
          418,
          419,
          420,
          421,
          422,
          423,
          424,
          425,
          426,
          427,
          428,
          429,
          430,
          431,
          432,
          433,
          434,
          435,
          436,
          437,
          438,
          439,
          440,
          441,
          442,
          443,
          444,
          445,
          446,
          447,
          448,
          449,
          450,
          451,
          452,
          453,
          454,
          455,
          456,
          457,
          458,
          459,
          460,
          461,
          462,
          463,
          464,
          465,
          466,
          467,
          468,
          469,
          470,
          471,
          472,
          473,
          474,
          475,
          476,
          477,
          478,
          479,
          480,
          481,
          482,
          483,
          484,
          485,
          486,
          487,
          488,
          489,
          490,
          491,
          492,
          493,
          494,
          495,
          496,
          497,
          498,
          499
         ],
         "y": [
          114.85903067557416,
          49.6189973747138,
          49.6189973747138,
          49.6189973747138,
          49.6189973747138,
          49.6189973747138,
          3.0864074430854838,
          3.0864074430854838,
          3.0864074430854838,
          3.0864074430854838,
          3.0864074430854838,
          3.0864074430854838,
          3.0864074430854838,
          3.0864074430854838,
          3.0864074430854838,
          3.0864074430854838,
          3.0864074430854838,
          3.0864074430854838,
          3.0864074430854838,
          3.0864074430854838,
          3.0864074430854838,
          3.0864074430854838,
          2.7729339051743516,
          2.7729339051743516,
          2.7729339051743516,
          2.7729339051743516,
          2.7729339051743516,
          2.7729339051743516,
          2.7729339051743516,
          2.7729339051743516,
          2.7729339051743516,
          2.7729339051743516,
          2.7729339051743516,
          2.7729339051743516,
          2.7729339051743516,
          2.7729339051743516,
          2.7729339051743516,
          2.7729339051743516,
          2.7729339051743516,
          2.7729339051743516,
          2.7729339051743516,
          2.7729339051743516,
          0.11951741273512656,
          0.11951741273512656,
          0.11951741273512656,
          0.11951741273512656,
          0.11951741273512656,
          0.11951741273512656,
          0.11951741273512656,
          0.11951741273512656,
          0.11951741273512656,
          0.11951741273512656,
          0.11951741273512656,
          0.11951741273512656,
          0.11951741273512656,
          0.11951741273512656,
          0.11951741273512656,
          0.11951741273512656,
          0.11951741273512656,
          0.11951741273512656,
          0.11951741273512656,
          0.11951741273512656,
          0.11951741273512656,
          0.11951741273512656,
          0.11951741273512656,
          0.11951741273512656,
          0.11951741273512656,
          0.11951741273512656,
          0.11951741273512656,
          0.11951741273512656,
          0.11951741273512656,
          0.11951741273512656,
          0.11951741273512656,
          0.11951741273512656,
          0.11951741273512656,
          0.11951741273512656,
          0.11951741273512656,
          0.11951741273512656,
          0.11951741273512656,
          0.11951741273512656,
          0.11951741273512656,
          0.11951741273512656,
          0.11951741273512656,
          0.11951741273512656,
          0.11951741273512656,
          0.11951741273512656,
          0.11951741273512656,
          0.11951741273512656,
          0.11951741273512656,
          0.11951741273512656,
          0.11951741273512656,
          0.11951741273512656,
          0.11951741273512656,
          0.11951741273512656,
          0.11951741273512656,
          0.11951741273512656,
          0.11951741273512656,
          0.11951741273512656,
          0.11951741273512656,
          0.11951741273512656,
          0.11951741273512656,
          0.11951741273512656,
          0.11951741273512656,
          0.11951741273512656,
          0.11951741273512656,
          0.11951741273512656,
          0.11951741273512656,
          0.11951741273512656,
          0.11951741273512656,
          0.11951741273512656,
          0.11951741273512656,
          0.11951741273512656,
          0.11951741273512656,
          0.11951741273512656,
          0.11951741273512656,
          0.11951741273512656,
          0.0045026136799178485,
          0.0001587544180381312,
          0.0001587544180381312,
          0.0001587544180381312,
          0.0001587544180381312,
          0.0001587544180381312,
          0.0001587544180381312,
          0.0001587544180381312,
          0.0001587544180381312,
          0.0001587544180381312,
          0.0001587544180381312,
          0.0001587544180381312,
          0.0001587544180381312,
          0.0001587544180381312,
          0.0001587544180381312,
          0.0001587544180381312,
          0.0001587544180381312,
          0.0001587544180381312,
          0.0001587544180381312,
          0.0001587544180381312,
          0.0001587544180381312,
          0.0001587544180381312,
          0.0001587544180381312,
          0.0001587544180381312,
          0.0001587544180381312,
          0.0001587544180381312,
          0.0001587544180381312,
          0.0001587544180381312,
          0.0001587544180381312,
          0.0001587544180381312,
          0.0001587544180381312,
          0.0001587544180381312,
          0.0001587544180381312,
          0.0001587544180381312,
          0.0001587544180381312,
          0.0001587544180381312,
          0.0001587544180381312,
          0.0001587544180381312,
          0.0001587544180381312,
          0.0001587544180381312,
          0.0001587544180381312,
          0.0001587544180381312,
          0.0001587544180381312,
          0.0001587544180381312,
          0.0001587544180381312,
          0.0001587544180381312,
          0.0001587544180381312,
          0.0001587544180381312,
          0.0001587544180381312,
          0.0001587544180381312,
          0.0001587544180381312,
          0.0001587544180381312,
          0.0001587544180381312,
          0.0001587544180381312,
          0.0001587544180381312,
          0.0001587544180381312,
          0.0001587544180381312,
          0.0001587544180381312,
          0.0001587544180381312,
          0.0001587544180381312,
          0.0001587544180381312,
          0.0001587544180381312,
          0.0001587544180381312,
          0.0001587544180381312,
          0.0001587544180381312,
          0.0001587544180381312,
          0.0001587544180381312,
          0.0001587544180381312,
          0.0001587544180381312,
          0.0001587544180381312,
          0.0001587544180381312,
          0.0001587544180381312,
          0.0001587544180381312,
          0.0001587544180381312,
          0.0001587544180381312,
          0.0001587544180381312,
          0.0001587544180381312,
          0.0001587544180381312,
          0.0001587544180381312,
          0.0001587544180381312,
          0.0001587544180381312,
          0.0001587544180381312,
          0.0001587544180381312,
          0.0001587544180381312,
          0.0001587544180381312,
          0.0001587544180381312,
          0.0001587544180381312,
          0.0001587544180381312,
          0.0001587544180381312,
          0.0001587544180381312,
          0.0001587544180381312,
          0.0001587544180381312,
          0.0001587544180381312,
          0.0001587544180381312,
          0.0001587544180381312,
          0.0001587544180381312,
          0.0001587544180381312,
          0.0001587544180381312,
          0.0001587544180381312,
          0.0001587544180381312,
          0.0001587544180381312,
          0.0001587544180381312,
          0.0001587544180381312,
          0.0001587544180381312,
          0.0001587544180381312,
          0.0001587544180381312,
          0.0001587544180381312,
          0.0001587544180381312,
          0.0001587544180381312,
          0.0001587544180381312,
          0.0001587544180381312,
          0.0001587544180381312,
          0.0001587544180381312,
          0.0001587544180381312,
          0.0001587544180381312,
          0.0001587544180381312,
          0.0001587544180381312,
          0.0001587544180381312,
          0.0001587544180381312,
          0.0001587544180381312,
          0.0001587544180381312,
          0.0001587544180381312,
          0.0001587544180381312,
          0.0001587544180381312,
          0.0001587544180381312,
          0.0001587544180381312,
          0.0001587544180381312,
          0.0001587544180381312,
          0.0001587544180381312,
          0.0001587544180381312,
          0.0001587544180381312,
          0.0001587544180381312,
          0.0001587544180381312,
          0.0001587544180381312,
          0.0001587544180381312,
          0.0001587544180381312,
          0.0001587544180381312,
          0.0001587544180381312,
          0.0001587544180381312,
          0.0001587544180381312,
          0.0001587544180381312,
          0.0001587544180381312,
          0.0001587544180381312,
          0.0001587544180381312,
          0.0001587544180381312,
          0.0001587544180381312,
          0.0001587544180381312,
          0.0001587544180381312,
          0.0001587544180381312,
          0.0001587544180381312,
          0.0001587544180381312,
          0.0001587544180381312,
          0.0001587544180381312,
          0.0001587544180381312,
          0.0001587544180381312,
          0.0001587544180381312,
          0.0001587544180381312,
          0.0001587544180381312,
          0.0001587544180381312,
          0.0001587544180381312,
          0.0001587544180381312,
          0.0001587544180381312,
          0.0001587544180381312,
          0.0001587544180381312,
          0.0001587544180381312,
          0.0001587544180381312,
          0.0001587544180381312,
          0.0001587544180381312,
          0.0001587544180381312,
          0.0001587544180381312,
          0.0001587544180381312,
          0.0001587544180381312,
          0.0001587544180381312,
          0.0001587544180381312,
          0.0001587544180381312,
          0.0001587544180381312,
          0.0001587544180381312,
          0.0001587544180381312,
          0.0001587544180381312,
          0.0001587544180381312,
          0.0001587544180381312,
          0.0001587544180381312,
          0.0001587544180381312,
          0.0001587544180381312,
          0.0001587544180381312,
          0.0001587544180381312,
          0.0001587544180381312,
          0.0001587544180381312,
          0.0001587544180381312,
          0.0001587544180381312,
          0.0001587544180381312,
          0.0001587544180381312,
          0.0001587544180381312,
          0.0001587544180381312,
          0.0001587544180381312,
          0.0001587544180381312,
          0.0001587544180381312,
          0.0001587544180381312,
          0.0001587544180381312,
          0.0001587544180381312,
          0.0001587544180381312,
          0.0001587544180381312,
          0.0001587544180381312,
          0.0001587544180381312,
          0.0001587544180381312,
          0.0001587544180381312,
          0.0001587544180381312,
          0.0001587544180381312,
          0.0001587544180381312,
          0.0001587544180381312,
          0.0001587544180381312,
          0.0001587544180381312,
          0.0001587544180381312,
          0.0001587544180381312,
          0.0001587544180381312,
          0.0001587544180381312,
          0.0001587544180381312,
          0.0001587544180381312,
          0.0001587544180381312,
          0.0001587544180381312,
          0.0001587544180381312,
          0.0001587544180381312,
          0.0001587544180381312,
          0.0001587544180381312,
          0.0001587544180381312,
          0.0001587544180381312,
          0.0001587544180381312,
          0.0001587544180381312,
          0.0001587544180381312,
          0.0001587544180381312,
          0.0001587544180381312,
          0.0001587544180381312,
          0.0001587544180381312,
          0.0001587544180381312,
          0.0001587544180381312,
          0.0001587544180381312,
          0.0001587544180381312,
          0.0001587544180381312,
          0.0001587544180381312,
          0.0001587544180381312,
          0.0001587544180381312,
          0.0001587544180381312,
          0.0001587544180381312,
          0.0001587544180381312,
          0.0001587544180381312,
          0.0001587544180381312,
          0.0001587544180381312,
          0.0001587544180381312,
          0.0001587544180381312,
          0.0001587544180381312,
          0.0001587544180381312,
          0.0001587544180381312,
          0.0001587544180381312,
          0.0001587544180381312,
          0.0001587544180381312,
          0.0001587544180381312,
          0.0001587544180381312,
          0.0001587544180381312,
          0.0001587544180381312,
          0.0001587544180381312,
          0.0001587544180381312,
          0.0001587544180381312,
          0.0001587544180381312,
          0.0001587544180381312,
          0.0001587544180381312,
          0.0001587544180381312,
          0.0001587544180381312,
          0.0001587544180381312,
          0.0001587544180381312,
          0.0001587544180381312,
          0.0001587544180381312,
          0.0001587544180381312,
          0.0001587544180381312,
          0.0001587544180381312,
          0.0001587544180381312,
          0.0001587544180381312,
          0.0001587544180381312,
          0.0001587544180381312,
          0.0001587544180381312,
          0.0001587544180381312,
          0.0001587544180381312,
          0.0001587544180381312,
          0.0001587544180381312,
          0.0001587544180381312,
          0.0001587544180381312,
          0.0001587544180381312,
          0.0001587544180381312,
          0.0001587544180381312,
          0.0001587544180381312,
          0.0001587544180381312,
          0.0001587544180381312,
          0.0001587544180381312,
          0.0001587544180381312,
          0.0001587544180381312,
          0.0001587544180381312,
          0.0001587544180381312,
          0.0001587544180381312,
          0.0001587544180381312,
          0.0001587544180381312,
          0.0001587544180381312,
          0.0001587544180381312,
          0.0001587544180381312,
          0.0001587544180381312,
          0.0001587544180381312,
          0.0001587544180381312,
          0.0001587544180381312,
          0.0001587544180381312,
          0.0001587544180381312,
          0.0001587544180381312,
          0.0001587544180381312,
          0.0001587544180381312,
          0.0001587544180381312,
          0.0001587544180381312,
          0.0001587544180381312,
          0.0001587544180381312,
          0.0001587544180381312,
          0.0001587544180381312,
          0.0001587544180381312,
          0.0001587544180381312,
          0.0001587544180381312,
          0.0001587544180381312,
          0.0001587544180381312,
          0.0001587544180381312,
          0.0001587544180381312,
          0.0001587544180381312,
          0.0001587544180381312,
          0.0001587544180381312,
          0.0001587544180381312,
          0.0001587544180381312,
          0.0001587544180381312,
          0.0001587544180381312,
          0.0001587544180381312,
          0.0001587544180381312,
          0.0001587544180381312,
          0.0001587544180381312,
          0.0001587544180381312,
          0.0001587544180381312,
          0.0001587544180381312,
          0.0001587544180381312,
          0.0001587544180381312,
          0.0001587544180381312,
          0.0001587544180381312,
          0.0001587544180381312,
          0.0001587544180381312,
          0.0001587544180381312,
          0.0001587544180381312,
          0.0001587544180381312,
          0.0001587544180381312,
          0.0001587544180381312,
          0.0001587544180381312,
          0.0001587544180381312,
          0.0001587544180381312,
          0.0001587544180381312,
          0.0001587544180381312,
          0.0001587544180381312,
          0.0001587544180381312,
          0.0001587544180381312,
          0.0001587544180381312,
          0.0001587544180381312,
          0.0001587544180381312,
          0.0001587544180381312,
          0.0001587544180381312,
          0.0001587544180381312,
          0.0001587544180381312,
          0.0001587544180381312,
          0.0001587544180381312,
          0.0001587544180381312,
          0.0001587544180381312,
          0.0001587544180381312,
          0.0001587544180381312,
          0.0001587544180381312,
          0.0001587544180381312,
          0.0001587544180381312,
          0.0001587544180381312,
          0.0001587544180381312,
          0.0001587544180381312,
          0.0001587544180381312,
          0.0001587544180381312,
          0.0001587544180381312,
          0.0001587544180381312,
          0.0001587544180381312,
          0.0001587544180381312,
          0.0001587544180381312,
          0.0001587544180381312
         ]
        },
        {
         "marker": {
          "color": "#cccccc"
         },
         "mode": "markers",
         "name": "Infeasible Trial",
         "showlegend": false,
         "type": "scatter",
         "x": [],
         "y": []
        }
       ],
       "layout": {
        "template": {
         "data": {
          "bar": [
           {
            "error_x": {
             "color": "#2a3f5f"
            },
            "error_y": {
             "color": "#2a3f5f"
            },
            "marker": {
             "line": {
              "color": "#E5ECF6",
              "width": 0.5
             },
             "pattern": {
              "fillmode": "overlay",
              "size": 10,
              "solidity": 0.2
             }
            },
            "type": "bar"
           }
          ],
          "barpolar": [
           {
            "marker": {
             "line": {
              "color": "#E5ECF6",
              "width": 0.5
             },
             "pattern": {
              "fillmode": "overlay",
              "size": 10,
              "solidity": 0.2
             }
            },
            "type": "barpolar"
           }
          ],
          "carpet": [
           {
            "aaxis": {
             "endlinecolor": "#2a3f5f",
             "gridcolor": "white",
             "linecolor": "white",
             "minorgridcolor": "white",
             "startlinecolor": "#2a3f5f"
            },
            "baxis": {
             "endlinecolor": "#2a3f5f",
             "gridcolor": "white",
             "linecolor": "white",
             "minorgridcolor": "white",
             "startlinecolor": "#2a3f5f"
            },
            "type": "carpet"
           }
          ],
          "choropleth": [
           {
            "colorbar": {
             "outlinewidth": 0,
             "ticks": ""
            },
            "type": "choropleth"
           }
          ],
          "contour": [
           {
            "colorbar": {
             "outlinewidth": 0,
             "ticks": ""
            },
            "colorscale": [
             [
              0,
              "#0d0887"
             ],
             [
              0.1111111111111111,
              "#46039f"
             ],
             [
              0.2222222222222222,
              "#7201a8"
             ],
             [
              0.3333333333333333,
              "#9c179e"
             ],
             [
              0.4444444444444444,
              "#bd3786"
             ],
             [
              0.5555555555555556,
              "#d8576b"
             ],
             [
              0.6666666666666666,
              "#ed7953"
             ],
             [
              0.7777777777777778,
              "#fb9f3a"
             ],
             [
              0.8888888888888888,
              "#fdca26"
             ],
             [
              1,
              "#f0f921"
             ]
            ],
            "type": "contour"
           }
          ],
          "contourcarpet": [
           {
            "colorbar": {
             "outlinewidth": 0,
             "ticks": ""
            },
            "type": "contourcarpet"
           }
          ],
          "heatmap": [
           {
            "colorbar": {
             "outlinewidth": 0,
             "ticks": ""
            },
            "colorscale": [
             [
              0,
              "#0d0887"
             ],
             [
              0.1111111111111111,
              "#46039f"
             ],
             [
              0.2222222222222222,
              "#7201a8"
             ],
             [
              0.3333333333333333,
              "#9c179e"
             ],
             [
              0.4444444444444444,
              "#bd3786"
             ],
             [
              0.5555555555555556,
              "#d8576b"
             ],
             [
              0.6666666666666666,
              "#ed7953"
             ],
             [
              0.7777777777777778,
              "#fb9f3a"
             ],
             [
              0.8888888888888888,
              "#fdca26"
             ],
             [
              1,
              "#f0f921"
             ]
            ],
            "type": "heatmap"
           }
          ],
          "histogram": [
           {
            "marker": {
             "pattern": {
              "fillmode": "overlay",
              "size": 10,
              "solidity": 0.2
             }
            },
            "type": "histogram"
           }
          ],
          "histogram2d": [
           {
            "colorbar": {
             "outlinewidth": 0,
             "ticks": ""
            },
            "colorscale": [
             [
              0,
              "#0d0887"
             ],
             [
              0.1111111111111111,
              "#46039f"
             ],
             [
              0.2222222222222222,
              "#7201a8"
             ],
             [
              0.3333333333333333,
              "#9c179e"
             ],
             [
              0.4444444444444444,
              "#bd3786"
             ],
             [
              0.5555555555555556,
              "#d8576b"
             ],
             [
              0.6666666666666666,
              "#ed7953"
             ],
             [
              0.7777777777777778,
              "#fb9f3a"
             ],
             [
              0.8888888888888888,
              "#fdca26"
             ],
             [
              1,
              "#f0f921"
             ]
            ],
            "type": "histogram2d"
           }
          ],
          "histogram2dcontour": [
           {
            "colorbar": {
             "outlinewidth": 0,
             "ticks": ""
            },
            "colorscale": [
             [
              0,
              "#0d0887"
             ],
             [
              0.1111111111111111,
              "#46039f"
             ],
             [
              0.2222222222222222,
              "#7201a8"
             ],
             [
              0.3333333333333333,
              "#9c179e"
             ],
             [
              0.4444444444444444,
              "#bd3786"
             ],
             [
              0.5555555555555556,
              "#d8576b"
             ],
             [
              0.6666666666666666,
              "#ed7953"
             ],
             [
              0.7777777777777778,
              "#fb9f3a"
             ],
             [
              0.8888888888888888,
              "#fdca26"
             ],
             [
              1,
              "#f0f921"
             ]
            ],
            "type": "histogram2dcontour"
           }
          ],
          "mesh3d": [
           {
            "colorbar": {
             "outlinewidth": 0,
             "ticks": ""
            },
            "type": "mesh3d"
           }
          ],
          "parcoords": [
           {
            "line": {
             "colorbar": {
              "outlinewidth": 0,
              "ticks": ""
             }
            },
            "type": "parcoords"
           }
          ],
          "pie": [
           {
            "automargin": true,
            "type": "pie"
           }
          ],
          "scatter": [
           {
            "fillpattern": {
             "fillmode": "overlay",
             "size": 10,
             "solidity": 0.2
            },
            "type": "scatter"
           }
          ],
          "scatter3d": [
           {
            "line": {
             "colorbar": {
              "outlinewidth": 0,
              "ticks": ""
             }
            },
            "marker": {
             "colorbar": {
              "outlinewidth": 0,
              "ticks": ""
             }
            },
            "type": "scatter3d"
           }
          ],
          "scattercarpet": [
           {
            "marker": {
             "colorbar": {
              "outlinewidth": 0,
              "ticks": ""
             }
            },
            "type": "scattercarpet"
           }
          ],
          "scattergeo": [
           {
            "marker": {
             "colorbar": {
              "outlinewidth": 0,
              "ticks": ""
             }
            },
            "type": "scattergeo"
           }
          ],
          "scattergl": [
           {
            "marker": {
             "colorbar": {
              "outlinewidth": 0,
              "ticks": ""
             }
            },
            "type": "scattergl"
           }
          ],
          "scattermap": [
           {
            "marker": {
             "colorbar": {
              "outlinewidth": 0,
              "ticks": ""
             }
            },
            "type": "scattermap"
           }
          ],
          "scattermapbox": [
           {
            "marker": {
             "colorbar": {
              "outlinewidth": 0,
              "ticks": ""
             }
            },
            "type": "scattermapbox"
           }
          ],
          "scatterpolar": [
           {
            "marker": {
             "colorbar": {
              "outlinewidth": 0,
              "ticks": ""
             }
            },
            "type": "scatterpolar"
           }
          ],
          "scatterpolargl": [
           {
            "marker": {
             "colorbar": {
              "outlinewidth": 0,
              "ticks": ""
             }
            },
            "type": "scatterpolargl"
           }
          ],
          "scatterternary": [
           {
            "marker": {
             "colorbar": {
              "outlinewidth": 0,
              "ticks": ""
             }
            },
            "type": "scatterternary"
           }
          ],
          "surface": [
           {
            "colorbar": {
             "outlinewidth": 0,
             "ticks": ""
            },
            "colorscale": [
             [
              0,
              "#0d0887"
             ],
             [
              0.1111111111111111,
              "#46039f"
             ],
             [
              0.2222222222222222,
              "#7201a8"
             ],
             [
              0.3333333333333333,
              "#9c179e"
             ],
             [
              0.4444444444444444,
              "#bd3786"
             ],
             [
              0.5555555555555556,
              "#d8576b"
             ],
             [
              0.6666666666666666,
              "#ed7953"
             ],
             [
              0.7777777777777778,
              "#fb9f3a"
             ],
             [
              0.8888888888888888,
              "#fdca26"
             ],
             [
              1,
              "#f0f921"
             ]
            ],
            "type": "surface"
           }
          ],
          "table": [
           {
            "cells": {
             "fill": {
              "color": "#EBF0F8"
             },
             "line": {
              "color": "white"
             }
            },
            "header": {
             "fill": {
              "color": "#C8D4E3"
             },
             "line": {
              "color": "white"
             }
            },
            "type": "table"
           }
          ]
         },
         "layout": {
          "annotationdefaults": {
           "arrowcolor": "#2a3f5f",
           "arrowhead": 0,
           "arrowwidth": 1
          },
          "autotypenumbers": "strict",
          "coloraxis": {
           "colorbar": {
            "outlinewidth": 0,
            "ticks": ""
           }
          },
          "colorscale": {
           "diverging": [
            [
             0,
             "#8e0152"
            ],
            [
             0.1,
             "#c51b7d"
            ],
            [
             0.2,
             "#de77ae"
            ],
            [
             0.3,
             "#f1b6da"
            ],
            [
             0.4,
             "#fde0ef"
            ],
            [
             0.5,
             "#f7f7f7"
            ],
            [
             0.6,
             "#e6f5d0"
            ],
            [
             0.7,
             "#b8e186"
            ],
            [
             0.8,
             "#7fbc41"
            ],
            [
             0.9,
             "#4d9221"
            ],
            [
             1,
             "#276419"
            ]
           ],
           "sequential": [
            [
             0,
             "#0d0887"
            ],
            [
             0.1111111111111111,
             "#46039f"
            ],
            [
             0.2222222222222222,
             "#7201a8"
            ],
            [
             0.3333333333333333,
             "#9c179e"
            ],
            [
             0.4444444444444444,
             "#bd3786"
            ],
            [
             0.5555555555555556,
             "#d8576b"
            ],
            [
             0.6666666666666666,
             "#ed7953"
            ],
            [
             0.7777777777777778,
             "#fb9f3a"
            ],
            [
             0.8888888888888888,
             "#fdca26"
            ],
            [
             1,
             "#f0f921"
            ]
           ],
           "sequentialminus": [
            [
             0,
             "#0d0887"
            ],
            [
             0.1111111111111111,
             "#46039f"
            ],
            [
             0.2222222222222222,
             "#7201a8"
            ],
            [
             0.3333333333333333,
             "#9c179e"
            ],
            [
             0.4444444444444444,
             "#bd3786"
            ],
            [
             0.5555555555555556,
             "#d8576b"
            ],
            [
             0.6666666666666666,
             "#ed7953"
            ],
            [
             0.7777777777777778,
             "#fb9f3a"
            ],
            [
             0.8888888888888888,
             "#fdca26"
            ],
            [
             1,
             "#f0f921"
            ]
           ]
          },
          "colorway": [
           "#636efa",
           "#EF553B",
           "#00cc96",
           "#ab63fa",
           "#FFA15A",
           "#19d3f3",
           "#FF6692",
           "#B6E880",
           "#FF97FF",
           "#FECB52"
          ],
          "font": {
           "color": "#2a3f5f"
          },
          "geo": {
           "bgcolor": "white",
           "lakecolor": "white",
           "landcolor": "#E5ECF6",
           "showlakes": true,
           "showland": true,
           "subunitcolor": "white"
          },
          "hoverlabel": {
           "align": "left"
          },
          "hovermode": "closest",
          "mapbox": {
           "style": "light"
          },
          "paper_bgcolor": "white",
          "plot_bgcolor": "#E5ECF6",
          "polar": {
           "angularaxis": {
            "gridcolor": "white",
            "linecolor": "white",
            "ticks": ""
           },
           "bgcolor": "#E5ECF6",
           "radialaxis": {
            "gridcolor": "white",
            "linecolor": "white",
            "ticks": ""
           }
          },
          "scene": {
           "xaxis": {
            "backgroundcolor": "#E5ECF6",
            "gridcolor": "white",
            "gridwidth": 2,
            "linecolor": "white",
            "showbackground": true,
            "ticks": "",
            "zerolinecolor": "white"
           },
           "yaxis": {
            "backgroundcolor": "#E5ECF6",
            "gridcolor": "white",
            "gridwidth": 2,
            "linecolor": "white",
            "showbackground": true,
            "ticks": "",
            "zerolinecolor": "white"
           },
           "zaxis": {
            "backgroundcolor": "#E5ECF6",
            "gridcolor": "white",
            "gridwidth": 2,
            "linecolor": "white",
            "showbackground": true,
            "ticks": "",
            "zerolinecolor": "white"
           }
          },
          "shapedefaults": {
           "line": {
            "color": "#2a3f5f"
           }
          },
          "ternary": {
           "aaxis": {
            "gridcolor": "white",
            "linecolor": "white",
            "ticks": ""
           },
           "baxis": {
            "gridcolor": "white",
            "linecolor": "white",
            "ticks": ""
           },
           "bgcolor": "#E5ECF6",
           "caxis": {
            "gridcolor": "white",
            "linecolor": "white",
            "ticks": ""
           }
          },
          "title": {
           "x": 0.05
          },
          "xaxis": {
           "automargin": true,
           "gridcolor": "white",
           "linecolor": "white",
           "ticks": "",
           "title": {
            "standoff": 15
           },
           "zerolinecolor": "white",
           "zerolinewidth": 2
          },
          "yaxis": {
           "automargin": true,
           "gridcolor": "white",
           "linecolor": "white",
           "ticks": "",
           "title": {
            "standoff": 15
           },
           "zerolinecolor": "white",
           "zerolinewidth": 2
          }
         }
        },
        "title": {
         "text": "Optimization History Plot"
        },
        "xaxis": {
         "title": {
          "text": "Trial"
         }
        },
        "yaxis": {
         "title": {
          "text": "Objective Value"
         }
        }
       }
      }
     },
     "metadata": {},
     "output_type": "display_data"
    }
   ],
   "source": [
    "\n",
    "vis.plot_optimization_history(study).show()"
   ]
  },
  {
   "cell_type": "markdown",
   "metadata": {},
   "source": [
    "- Optuna를 활용한 XGBoost 하이퍼 파라미터 튜닝"
   ]
  },
  {
   "cell_type": "code",
   "execution_count": 26,
   "metadata": {},
   "outputs": [
    {
     "name": "stderr",
     "output_type": "stream",
     "text": [
      "[I 2025-02-11 17:22:41,188] A new study created in memory with name: no-name-b15952d0-7d06-409f-9190-8ae8719b0115\n"
     ]
    },
    {
     "name": "stderr",
     "output_type": "stream",
     "text": [
      "/var/folders/kp/5_0zhw410tzf9tkb2lt76sw40000gn/T/ipykernel_98880/982337466.py:4: FutureWarning:\n",
      "\n",
      "suggest_int() got {'step'} as positional arguments but they were expected to be given as keyword arguments.\n",
      "\n",
      "[W 2025-02-11 17:22:41,493] Trial 0 failed with parameters: {'n_estimators': 100, 'max_depth': 5, 'learning_rate': 0.07681268322739324, 'colsample_bytree': 0.7136522256956832} because of the following error: The value <built-in method mean of numpy.ndarray object at 0x121fec7b0> could not be cast to float.\n",
      "[W 2025-02-11 17:22:41,494] Trial 0 failed with value <built-in method mean of numpy.ndarray object at 0x121fec7b0>.\n",
      "/var/folders/kp/5_0zhw410tzf9tkb2lt76sw40000gn/T/ipykernel_98880/982337466.py:4: FutureWarning:\n",
      "\n",
      "suggest_int() got {'step'} as positional arguments but they were expected to be given as keyword arguments.\n",
      "\n",
      "[W 2025-02-11 17:22:41,821] Trial 1 failed with parameters: {'n_estimators': 200, 'max_depth': 6, 'learning_rate': 0.08387103221864273, 'colsample_bytree': 0.9856329213938652} because of the following error: The value <built-in method mean of numpy.ndarray object at 0x121fecff0> could not be cast to float.\n",
      "[W 2025-02-11 17:22:41,822] Trial 1 failed with value <built-in method mean of numpy.ndarray object at 0x121fecff0>.\n",
      "/var/folders/kp/5_0zhw410tzf9tkb2lt76sw40000gn/T/ipykernel_98880/982337466.py:4: FutureWarning:\n",
      "\n",
      "suggest_int() got {'step'} as positional arguments but they were expected to be given as keyword arguments.\n",
      "\n",
      "[W 2025-02-11 17:22:42,066] Trial 2 failed with parameters: {'n_estimators': 300, 'max_depth': 10, 'learning_rate': 0.18660807947308072, 'colsample_bytree': 0.5450074721044083} because of the following error: The value <built-in method mean of numpy.ndarray object at 0x121fed230> could not be cast to float.\n",
      "[W 2025-02-11 17:22:42,066] Trial 2 failed with value <built-in method mean of numpy.ndarray object at 0x121fed230>.\n",
      "/var/folders/kp/5_0zhw410tzf9tkb2lt76sw40000gn/T/ipykernel_98880/982337466.py:4: FutureWarning:\n",
      "\n",
      "suggest_int() got {'step'} as positional arguments but they were expected to be given as keyword arguments.\n",
      "\n",
      "[W 2025-02-11 17:22:42,514] Trial 3 failed with parameters: {'n_estimators': 200, 'max_depth': 10, 'learning_rate': 0.03921963201113973, 'colsample_bytree': 0.8999149550568801} because of the following error: The value <built-in method mean of numpy.ndarray object at 0x121fed6b0> could not be cast to float.\n",
      "[W 2025-02-11 17:22:42,515] Trial 3 failed with value <built-in method mean of numpy.ndarray object at 0x121fed6b0>.\n",
      "/var/folders/kp/5_0zhw410tzf9tkb2lt76sw40000gn/T/ipykernel_98880/982337466.py:4: FutureWarning:\n",
      "\n",
      "suggest_int() got {'step'} as positional arguments but they were expected to be given as keyword arguments.\n",
      "\n",
      "[W 2025-02-11 17:22:42,944] Trial 4 failed with parameters: {'n_estimators': 400, 'max_depth': 10, 'learning_rate': 0.05412465527723396, 'colsample_bytree': 0.5233156030992885} because of the following error: The value <built-in method mean of numpy.ndarray object at 0x121fed950> could not be cast to float.\n",
      "[W 2025-02-11 17:22:42,945] Trial 4 failed with value <built-in method mean of numpy.ndarray object at 0x121fed950>.\n",
      "/var/folders/kp/5_0zhw410tzf9tkb2lt76sw40000gn/T/ipykernel_98880/982337466.py:4: FutureWarning:\n",
      "\n",
      "suggest_int() got {'step'} as positional arguments but they were expected to be given as keyword arguments.\n",
      "\n",
      "[W 2025-02-11 17:22:43,431] Trial 5 failed with parameters: {'n_estimators': 500, 'max_depth': 4, 'learning_rate': 0.04780973934826362, 'colsample_bytree': 0.5596778423238371} because of the following error: The value <built-in method mean of numpy.ndarray object at 0x121fedd70> could not be cast to float.\n",
      "[W 2025-02-11 17:22:43,432] Trial 5 failed with value <built-in method mean of numpy.ndarray object at 0x121fedd70>.\n",
      "/var/folders/kp/5_0zhw410tzf9tkb2lt76sw40000gn/T/ipykernel_98880/982337466.py:4: FutureWarning:\n",
      "\n",
      "suggest_int() got {'step'} as positional arguments but they were expected to be given as keyword arguments.\n",
      "\n",
      "[W 2025-02-11 17:22:43,629] Trial 6 failed with parameters: {'n_estimators': 100, 'max_depth': 6, 'learning_rate': 0.10852389783741516, 'colsample_bytree': 0.6646940008207584} because of the following error: The value <built-in method mean of numpy.ndarray object at 0x121fedbf0> could not be cast to float.\n",
      "[W 2025-02-11 17:22:43,629] Trial 6 failed with value <built-in method mean of numpy.ndarray object at 0x121fedbf0>.\n",
      "/var/folders/kp/5_0zhw410tzf9tkb2lt76sw40000gn/T/ipykernel_98880/982337466.py:4: FutureWarning:\n",
      "\n",
      "suggest_int() got {'step'} as positional arguments but they were expected to be given as keyword arguments.\n",
      "\n",
      "[W 2025-02-11 17:22:43,879] Trial 7 failed with parameters: {'n_estimators': 300, 'max_depth': 3, 'learning_rate': 0.12268560252888859, 'colsample_bytree': 0.8275974137579699} because of the following error: The value <built-in method mean of numpy.ndarray object at 0x121fed770> could not be cast to float.\n",
      "[W 2025-02-11 17:22:43,879] Trial 7 failed with value <built-in method mean of numpy.ndarray object at 0x121fed770>.\n",
      "/var/folders/kp/5_0zhw410tzf9tkb2lt76sw40000gn/T/ipykernel_98880/982337466.py:4: FutureWarning:\n",
      "\n",
      "suggest_int() got {'step'} as positional arguments but they were expected to be given as keyword arguments.\n",
      "\n",
      "[W 2025-02-11 17:22:44,192] Trial 8 failed with parameters: {'n_estimators': 400, 'max_depth': 10, 'learning_rate': 0.13915868139708007, 'colsample_bytree': 0.6521418089322051} because of the following error: The value <built-in method mean of numpy.ndarray object at 0x121fed9b0> could not be cast to float.\n",
      "[W 2025-02-11 17:22:44,192] Trial 8 failed with value <built-in method mean of numpy.ndarray object at 0x121fed9b0>.\n",
      "/var/folders/kp/5_0zhw410tzf9tkb2lt76sw40000gn/T/ipykernel_98880/982337466.py:4: FutureWarning:\n",
      "\n",
      "suggest_int() got {'step'} as positional arguments but they were expected to be given as keyword arguments.\n",
      "\n",
      "[W 2025-02-11 17:22:44,859] Trial 9 failed with parameters: {'n_estimators': 500, 'max_depth': 5, 'learning_rate': 0.05845054423086752, 'colsample_bytree': 0.7314525789282798} because of the following error: The value <built-in method mean of numpy.ndarray object at 0x121fed650> could not be cast to float.\n",
      "[W 2025-02-11 17:22:44,859] Trial 9 failed with value <built-in method mean of numpy.ndarray object at 0x121fed650>.\n",
      "/var/folders/kp/5_0zhw410tzf9tkb2lt76sw40000gn/T/ipykernel_98880/982337466.py:4: FutureWarning:\n",
      "\n",
      "suggest_int() got {'step'} as positional arguments but they were expected to be given as keyword arguments.\n",
      "\n",
      "[W 2025-02-11 17:22:45,256] Trial 10 failed with parameters: {'n_estimators': 400, 'max_depth': 5, 'learning_rate': 0.07422276577782695, 'colsample_bytree': 0.6345858035003498} because of the following error: The value <built-in method mean of numpy.ndarray object at 0x121fed5f0> could not be cast to float.\n",
      "[W 2025-02-11 17:22:45,256] Trial 10 failed with value <built-in method mean of numpy.ndarray object at 0x121fed5f0>.\n",
      "/var/folders/kp/5_0zhw410tzf9tkb2lt76sw40000gn/T/ipykernel_98880/982337466.py:4: FutureWarning:\n",
      "\n",
      "suggest_int() got {'step'} as positional arguments but they were expected to be given as keyword arguments.\n",
      "\n",
      "[W 2025-02-11 17:22:45,518] Trial 11 failed with parameters: {'n_estimators': 300, 'max_depth': 3, 'learning_rate': 0.13673414445885373, 'colsample_bytree': 0.5055514292279155} because of the following error: The value <built-in method mean of numpy.ndarray object at 0x121fed110> could not be cast to float.\n",
      "[W 2025-02-11 17:22:45,519] Trial 11 failed with value <built-in method mean of numpy.ndarray object at 0x121fed110>.\n",
      "/var/folders/kp/5_0zhw410tzf9tkb2lt76sw40000gn/T/ipykernel_98880/982337466.py:4: FutureWarning:\n",
      "\n",
      "suggest_int() got {'step'} as positional arguments but they were expected to be given as keyword arguments.\n",
      "\n",
      "[W 2025-02-11 17:22:45,889] Trial 12 failed with parameters: {'n_estimators': 300, 'max_depth': 5, 'learning_rate': 0.10456069494822529, 'colsample_bytree': 0.9950095264890757} because of the following error: The value <built-in method mean of numpy.ndarray object at 0x121fed290> could not be cast to float.\n",
      "[W 2025-02-11 17:22:45,890] Trial 12 failed with value <built-in method mean of numpy.ndarray object at 0x121fed290>.\n",
      "/var/folders/kp/5_0zhw410tzf9tkb2lt76sw40000gn/T/ipykernel_98880/982337466.py:4: FutureWarning:\n",
      "\n",
      "suggest_int() got {'step'} as positional arguments but they were expected to be given as keyword arguments.\n",
      "\n",
      "[W 2025-02-11 17:22:46,141] Trial 13 failed with parameters: {'n_estimators': 100, 'max_depth': 6, 'learning_rate': 0.016163466298687177, 'colsample_bytree': 0.54593340690182} because of the following error: The value <built-in method mean of numpy.ndarray object at 0x121fedfb0> could not be cast to float.\n",
      "[W 2025-02-11 17:22:46,142] Trial 13 failed with value <built-in method mean of numpy.ndarray object at 0x121fedfb0>.\n",
      "/var/folders/kp/5_0zhw410tzf9tkb2lt76sw40000gn/T/ipykernel_98880/982337466.py:4: FutureWarning:\n",
      "\n",
      "suggest_int() got {'step'} as positional arguments but they were expected to be given as keyword arguments.\n",
      "\n",
      "[W 2025-02-11 17:22:46,568] Trial 14 failed with parameters: {'n_estimators': 400, 'max_depth': 8, 'learning_rate': 0.0814648565895632, 'colsample_bytree': 0.5910484394556084} because of the following error: The value <built-in method mean of numpy.ndarray object at 0x121fee4f0> could not be cast to float.\n",
      "[W 2025-02-11 17:22:46,569] Trial 14 failed with value <built-in method mean of numpy.ndarray object at 0x121fee4f0>.\n",
      "/var/folders/kp/5_0zhw410tzf9tkb2lt76sw40000gn/T/ipykernel_98880/982337466.py:4: FutureWarning:\n",
      "\n",
      "suggest_int() got {'step'} as positional arguments but they were expected to be given as keyword arguments.\n",
      "\n",
      "[W 2025-02-11 17:22:47,224] Trial 15 failed with parameters: {'n_estimators': 300, 'max_depth': 7, 'learning_rate': 0.04693059693934761, 'colsample_bytree': 0.9260200294274059} because of the following error: The value <built-in method mean of numpy.ndarray object at 0x121fee730> could not be cast to float.\n",
      "[W 2025-02-11 17:22:47,225] Trial 15 failed with value <built-in method mean of numpy.ndarray object at 0x121fee730>.\n",
      "/var/folders/kp/5_0zhw410tzf9tkb2lt76sw40000gn/T/ipykernel_98880/982337466.py:4: FutureWarning:\n",
      "\n",
      "suggest_int() got {'step'} as positional arguments but they were expected to be given as keyword arguments.\n",
      "\n",
      "[W 2025-02-11 17:22:47,943] Trial 16 failed with parameters: {'n_estimators': 500, 'max_depth': 3, 'learning_rate': 0.1822272239662761, 'colsample_bytree': 0.5532502660896434} because of the following error: The value <built-in method mean of numpy.ndarray object at 0x1219c4090> could not be cast to float.\n",
      "[W 2025-02-11 17:22:47,943] Trial 16 failed with value <built-in method mean of numpy.ndarray object at 0x1219c4090>.\n",
      "/var/folders/kp/5_0zhw410tzf9tkb2lt76sw40000gn/T/ipykernel_98880/982337466.py:4: FutureWarning:\n",
      "\n",
      "suggest_int() got {'step'} as positional arguments but they were expected to be given as keyword arguments.\n",
      "\n",
      "[W 2025-02-11 17:22:48,716] Trial 17 failed with parameters: {'n_estimators': 400, 'max_depth': 5, 'learning_rate': 0.018661584891344864, 'colsample_bytree': 0.5288454152983035} because of the following error: The value <built-in method mean of numpy.ndarray object at 0x121feed90> could not be cast to float.\n",
      "[W 2025-02-11 17:22:48,717] Trial 17 failed with value <built-in method mean of numpy.ndarray object at 0x121feed90>.\n",
      "/var/folders/kp/5_0zhw410tzf9tkb2lt76sw40000gn/T/ipykernel_98880/982337466.py:4: FutureWarning:\n",
      "\n",
      "suggest_int() got {'step'} as positional arguments but they were expected to be given as keyword arguments.\n",
      "\n",
      "[W 2025-02-11 17:22:49,157] Trial 18 failed with parameters: {'n_estimators': 500, 'max_depth': 4, 'learning_rate': 0.1272341123588737, 'colsample_bytree': 0.7628041577969946} because of the following error: The value <built-in method mean of numpy.ndarray object at 0x121feef10> could not be cast to float.\n",
      "[W 2025-02-11 17:22:49,158] Trial 18 failed with value <built-in method mean of numpy.ndarray object at 0x121feef10>.\n",
      "/var/folders/kp/5_0zhw410tzf9tkb2lt76sw40000gn/T/ipykernel_98880/982337466.py:4: FutureWarning:\n",
      "\n",
      "suggest_int() got {'step'} as positional arguments but they were expected to be given as keyword arguments.\n",
      "\n",
      "[W 2025-02-11 17:22:49,957] Trial 19 failed with parameters: {'n_estimators': 400, 'max_depth': 5, 'learning_rate': 0.03209252472865062, 'colsample_bytree': 0.969037425469899} because of the following error: The value <built-in method mean of numpy.ndarray object at 0x121feecd0> could not be cast to float.\n",
      "[W 2025-02-11 17:22:49,958] Trial 19 failed with value <built-in method mean of numpy.ndarray object at 0x121feecd0>.\n",
      "/var/folders/kp/5_0zhw410tzf9tkb2lt76sw40000gn/T/ipykernel_98880/982337466.py:4: FutureWarning:\n",
      "\n",
      "suggest_int() got {'step'} as positional arguments but they were expected to be given as keyword arguments.\n",
      "\n",
      "[W 2025-02-11 17:22:50,167] Trial 20 failed with parameters: {'n_estimators': 100, 'max_depth': 3, 'learning_rate': 0.015661357626415254, 'colsample_bytree': 0.7053085244770776} because of the following error: The value <built-in method mean of numpy.ndarray object at 0x121fed890> could not be cast to float.\n",
      "[W 2025-02-11 17:22:50,168] Trial 20 failed with value <built-in method mean of numpy.ndarray object at 0x121fed890>.\n",
      "/var/folders/kp/5_0zhw410tzf9tkb2lt76sw40000gn/T/ipykernel_98880/982337466.py:4: FutureWarning:\n",
      "\n",
      "suggest_int() got {'step'} as positional arguments but they were expected to be given as keyword arguments.\n",
      "\n",
      "[W 2025-02-11 17:22:50,749] Trial 21 failed with parameters: {'n_estimators': 400, 'max_depth': 8, 'learning_rate': 0.0453422513882673, 'colsample_bytree': 0.7619366435601488} because of the following error: The value <built-in method mean of numpy.ndarray object at 0x121feecd0> could not be cast to float.\n",
      "[W 2025-02-11 17:22:50,750] Trial 21 failed with value <built-in method mean of numpy.ndarray object at 0x121feecd0>.\n",
      "/var/folders/kp/5_0zhw410tzf9tkb2lt76sw40000gn/T/ipykernel_98880/982337466.py:4: FutureWarning:\n",
      "\n",
      "suggest_int() got {'step'} as positional arguments but they were expected to be given as keyword arguments.\n",
      "\n",
      "[W 2025-02-11 17:22:51,133] Trial 22 failed with parameters: {'n_estimators': 300, 'max_depth': 8, 'learning_rate': 0.16475074807634063, 'colsample_bytree': 0.9674322348147547} because of the following error: The value <built-in method mean of numpy.ndarray object at 0x121fee5b0> could not be cast to float.\n",
      "[W 2025-02-11 17:22:51,134] Trial 22 failed with value <built-in method mean of numpy.ndarray object at 0x121fee5b0>.\n",
      "/var/folders/kp/5_0zhw410tzf9tkb2lt76sw40000gn/T/ipykernel_98880/982337466.py:4: FutureWarning:\n",
      "\n",
      "suggest_int() got {'step'} as positional arguments but they were expected to be given as keyword arguments.\n",
      "\n",
      "[W 2025-02-11 17:22:51,454] Trial 23 failed with parameters: {'n_estimators': 400, 'max_depth': 9, 'learning_rate': 0.168604425834372, 'colsample_bytree': 0.6616155137056222} because of the following error: The value <built-in method mean of numpy.ndarray object at 0x121feda70> could not be cast to float.\n",
      "[W 2025-02-11 17:22:51,455] Trial 23 failed with value <built-in method mean of numpy.ndarray object at 0x121feda70>.\n",
      "/var/folders/kp/5_0zhw410tzf9tkb2lt76sw40000gn/T/ipykernel_98880/982337466.py:4: FutureWarning:\n",
      "\n",
      "suggest_int() got {'step'} as positional arguments but they were expected to be given as keyword arguments.\n",
      "\n",
      "[W 2025-02-11 17:22:51,693] Trial 24 failed with parameters: {'n_estimators': 200, 'max_depth': 6, 'learning_rate': 0.1867327643048353, 'colsample_bytree': 0.6356747867375199} because of the following error: The value <built-in method mean of numpy.ndarray object at 0x121fed1d0> could not be cast to float.\n",
      "[W 2025-02-11 17:22:51,694] Trial 24 failed with value <built-in method mean of numpy.ndarray object at 0x121fed1d0>.\n",
      "/var/folders/kp/5_0zhw410tzf9tkb2lt76sw40000gn/T/ipykernel_98880/982337466.py:4: FutureWarning:\n",
      "\n",
      "suggest_int() got {'step'} as positional arguments but they were expected to be given as keyword arguments.\n",
      "\n",
      "[W 2025-02-11 17:22:52,007] Trial 25 failed with parameters: {'n_estimators': 200, 'max_depth': 3, 'learning_rate': 0.048441459766393434, 'colsample_bytree': 0.7852398816344196} because of the following error: The value <built-in method mean of numpy.ndarray object at 0x121fec7b0> could not be cast to float.\n",
      "[W 2025-02-11 17:22:52,007] Trial 25 failed with value <built-in method mean of numpy.ndarray object at 0x121fec7b0>.\n",
      "/var/folders/kp/5_0zhw410tzf9tkb2lt76sw40000gn/T/ipykernel_98880/982337466.py:4: FutureWarning:\n",
      "\n",
      "suggest_int() got {'step'} as positional arguments but they were expected to be given as keyword arguments.\n",
      "\n",
      "[W 2025-02-11 17:22:52,200] Trial 26 failed with parameters: {'n_estimators': 100, 'max_depth': 4, 'learning_rate': 0.07741568573357463, 'colsample_bytree': 0.6995956829426924} because of the following error: The value <built-in method mean of numpy.ndarray object at 0x121fed590> could not be cast to float.\n",
      "[W 2025-02-11 17:22:52,201] Trial 26 failed with value <built-in method mean of numpy.ndarray object at 0x121fed590>.\n",
      "/var/folders/kp/5_0zhw410tzf9tkb2lt76sw40000gn/T/ipykernel_98880/982337466.py:4: FutureWarning:\n",
      "\n",
      "suggest_int() got {'step'} as positional arguments but they were expected to be given as keyword arguments.\n",
      "\n",
      "[W 2025-02-11 17:22:52,716] Trial 27 failed with parameters: {'n_estimators': 500, 'max_depth': 9, 'learning_rate': 0.11519722208304754, 'colsample_bytree': 0.9723415800018801} because of the following error: The value <built-in method mean of numpy.ndarray object at 0x121fee730> could not be cast to float.\n",
      "[W 2025-02-11 17:22:52,716] Trial 27 failed with value <built-in method mean of numpy.ndarray object at 0x121fee730>.\n",
      "/var/folders/kp/5_0zhw410tzf9tkb2lt76sw40000gn/T/ipykernel_98880/982337466.py:4: FutureWarning:\n",
      "\n",
      "suggest_int() got {'step'} as positional arguments but they were expected to be given as keyword arguments.\n",
      "\n",
      "[W 2025-02-11 17:22:53,052] Trial 28 failed with parameters: {'n_estimators': 300, 'max_depth': 8, 'learning_rate': 0.17903359374381864, 'colsample_bytree': 0.8381370477356761} because of the following error: The value <built-in method mean of numpy.ndarray object at 0x121fedc50> could not be cast to float.\n",
      "[W 2025-02-11 17:22:53,053] Trial 28 failed with value <built-in method mean of numpy.ndarray object at 0x121fedc50>.\n",
      "/var/folders/kp/5_0zhw410tzf9tkb2lt76sw40000gn/T/ipykernel_98880/982337466.py:4: FutureWarning:\n",
      "\n",
      "suggest_int() got {'step'} as positional arguments but they were expected to be given as keyword arguments.\n",
      "\n",
      "[W 2025-02-11 17:22:53,536] Trial 29 failed with parameters: {'n_estimators': 300, 'max_depth': 4, 'learning_rate': 0.046279780154007445, 'colsample_bytree': 0.8784187597015376} because of the following error: The value <built-in method mean of numpy.ndarray object at 0x121fedb30> could not be cast to float.\n",
      "[W 2025-02-11 17:22:53,537] Trial 29 failed with value <built-in method mean of numpy.ndarray object at 0x121fedb30>.\n",
      "/var/folders/kp/5_0zhw410tzf9tkb2lt76sw40000gn/T/ipykernel_98880/982337466.py:4: FutureWarning:\n",
      "\n",
      "suggest_int() got {'step'} as positional arguments but they were expected to be given as keyword arguments.\n",
      "\n",
      "[W 2025-02-11 17:22:53,716] Trial 30 failed with parameters: {'n_estimators': 100, 'max_depth': 4, 'learning_rate': 0.14981903963044363, 'colsample_bytree': 0.928302538361915} because of the following error: The value <built-in method mean of numpy.ndarray object at 0x121feda70> could not be cast to float.\n",
      "[W 2025-02-11 17:22:53,716] Trial 30 failed with value <built-in method mean of numpy.ndarray object at 0x121feda70>.\n",
      "/var/folders/kp/5_0zhw410tzf9tkb2lt76sw40000gn/T/ipykernel_98880/982337466.py:4: FutureWarning:\n",
      "\n",
      "suggest_int() got {'step'} as positional arguments but they were expected to be given as keyword arguments.\n",
      "\n",
      "[W 2025-02-11 17:22:53,970] Trial 31 failed with parameters: {'n_estimators': 200, 'max_depth': 9, 'learning_rate': 0.18016854535275822, 'colsample_bytree': 0.8443789455488679} because of the following error: The value <built-in method mean of numpy.ndarray object at 0x121fee5b0> could not be cast to float.\n",
      "[W 2025-02-11 17:22:53,970] Trial 31 failed with value <built-in method mean of numpy.ndarray object at 0x121fee5b0>.\n",
      "/var/folders/kp/5_0zhw410tzf9tkb2lt76sw40000gn/T/ipykernel_98880/982337466.py:4: FutureWarning:\n",
      "\n",
      "suggest_int() got {'step'} as positional arguments but they were expected to be given as keyword arguments.\n",
      "\n",
      "[W 2025-02-11 17:22:54,239] Trial 32 failed with parameters: {'n_estimators': 200, 'max_depth': 6, 'learning_rate': 0.1778905911536252, 'colsample_bytree': 0.9170590744289311} because of the following error: The value <built-in method mean of numpy.ndarray object at 0x121feecd0> could not be cast to float.\n",
      "[W 2025-02-11 17:22:54,240] Trial 32 failed with value <built-in method mean of numpy.ndarray object at 0x121feecd0>.\n",
      "/var/folders/kp/5_0zhw410tzf9tkb2lt76sw40000gn/T/ipykernel_98880/982337466.py:4: FutureWarning:\n",
      "\n",
      "suggest_int() got {'step'} as positional arguments but they were expected to be given as keyword arguments.\n",
      "\n",
      "[W 2025-02-11 17:22:54,665] Trial 33 failed with parameters: {'n_estimators': 400, 'max_depth': 9, 'learning_rate': 0.19472946742072364, 'colsample_bytree': 0.7986899707329458} because of the following error: The value <built-in method mean of numpy.ndarray object at 0x121fed890> could not be cast to float.\n",
      "[W 2025-02-11 17:22:54,665] Trial 33 failed with value <built-in method mean of numpy.ndarray object at 0x121fed890>.\n",
      "/var/folders/kp/5_0zhw410tzf9tkb2lt76sw40000gn/T/ipykernel_98880/982337466.py:4: FutureWarning:\n",
      "\n",
      "suggest_int() got {'step'} as positional arguments but they were expected to be given as keyword arguments.\n",
      "\n",
      "[W 2025-02-11 17:22:55,219] Trial 34 failed with parameters: {'n_estimators': 500, 'max_depth': 4, 'learning_rate': 0.060853506464435714, 'colsample_bytree': 0.8137786359921217} because of the following error: The value <built-in method mean of numpy.ndarray object at 0x121fee790> could not be cast to float.\n",
      "[W 2025-02-11 17:22:55,219] Trial 34 failed with value <built-in method mean of numpy.ndarray object at 0x121fee790>.\n",
      "/var/folders/kp/5_0zhw410tzf9tkb2lt76sw40000gn/T/ipykernel_98880/982337466.py:4: FutureWarning:\n",
      "\n",
      "suggest_int() got {'step'} as positional arguments but they were expected to be given as keyword arguments.\n",
      "\n",
      "[W 2025-02-11 17:22:55,479] Trial 35 failed with parameters: {'n_estimators': 200, 'max_depth': 10, 'learning_rate': 0.1356425181342537, 'colsample_bytree': 0.5207617487695971} because of the following error: The value <built-in method mean of numpy.ndarray object at 0x121feef10> could not be cast to float.\n",
      "[W 2025-02-11 17:22:55,480] Trial 35 failed with value <built-in method mean of numpy.ndarray object at 0x121feef10>.\n",
      "/var/folders/kp/5_0zhw410tzf9tkb2lt76sw40000gn/T/ipykernel_98880/982337466.py:4: FutureWarning:\n",
      "\n",
      "suggest_int() got {'step'} as positional arguments but they were expected to be given as keyword arguments.\n",
      "\n",
      "[W 2025-02-11 17:22:55,751] Trial 36 failed with parameters: {'n_estimators': 200, 'max_depth': 10, 'learning_rate': 0.11737147332252608, 'colsample_bytree': 0.6145538753109916} because of the following error: The value <built-in method mean of numpy.ndarray object at 0x121feed90> could not be cast to float.\n",
      "[W 2025-02-11 17:22:55,752] Trial 36 failed with value <built-in method mean of numpy.ndarray object at 0x121feed90>.\n",
      "/var/folders/kp/5_0zhw410tzf9tkb2lt76sw40000gn/T/ipykernel_98880/982337466.py:4: FutureWarning:\n",
      "\n",
      "suggest_int() got {'step'} as positional arguments but they were expected to be given as keyword arguments.\n",
      "\n",
      "[W 2025-02-11 17:22:56,193] Trial 37 failed with parameters: {'n_estimators': 300, 'max_depth': 10, 'learning_rate': 0.07676499670234697, 'colsample_bytree': 0.9398164275257356} because of the following error: The value <built-in method mean of numpy.ndarray object at 0x121fedef0> could not be cast to float.\n",
      "[W 2025-02-11 17:22:56,194] Trial 37 failed with value <built-in method mean of numpy.ndarray object at 0x121fedef0>.\n",
      "/var/folders/kp/5_0zhw410tzf9tkb2lt76sw40000gn/T/ipykernel_98880/982337466.py:4: FutureWarning:\n",
      "\n",
      "suggest_int() got {'step'} as positional arguments but they were expected to be given as keyword arguments.\n",
      "\n",
      "[W 2025-02-11 17:22:56,565] Trial 38 failed with parameters: {'n_estimators': 400, 'max_depth': 6, 'learning_rate': 0.16591328886749765, 'colsample_bytree': 0.9151775370618204} because of the following error: The value <built-in method mean of numpy.ndarray object at 0x121f6fed0> could not be cast to float.\n",
      "[W 2025-02-11 17:22:56,565] Trial 38 failed with value <built-in method mean of numpy.ndarray object at 0x121f6fed0>.\n",
      "/var/folders/kp/5_0zhw410tzf9tkb2lt76sw40000gn/T/ipykernel_98880/982337466.py:4: FutureWarning:\n",
      "\n",
      "suggest_int() got {'step'} as positional arguments but they were expected to be given as keyword arguments.\n",
      "\n",
      "[W 2025-02-11 17:22:56,878] Trial 39 failed with parameters: {'n_estimators': 400, 'max_depth': 4, 'learning_rate': 0.18243898588848556, 'colsample_bytree': 0.5123626151735132} because of the following error: The value <built-in method mean of numpy.ndarray object at 0x121f6f930> could not be cast to float.\n",
      "[W 2025-02-11 17:22:56,879] Trial 39 failed with value <built-in method mean of numpy.ndarray object at 0x121f6f930>.\n",
      "/var/folders/kp/5_0zhw410tzf9tkb2lt76sw40000gn/T/ipykernel_98880/982337466.py:4: FutureWarning:\n",
      "\n",
      "suggest_int() got {'step'} as positional arguments but they were expected to be given as keyword arguments.\n",
      "\n",
      "[W 2025-02-11 17:22:57,155] Trial 40 failed with parameters: {'n_estimators': 200, 'max_depth': 10, 'learning_rate': 0.13187253725791406, 'colsample_bytree': 0.9539950002264519} because of the following error: The value <built-in method mean of numpy.ndarray object at 0x121f6f0f0> could not be cast to float.\n",
      "[W 2025-02-11 17:22:57,156] Trial 40 failed with value <built-in method mean of numpy.ndarray object at 0x121f6f0f0>.\n",
      "/var/folders/kp/5_0zhw410tzf9tkb2lt76sw40000gn/T/ipykernel_98880/982337466.py:4: FutureWarning:\n",
      "\n",
      "suggest_int() got {'step'} as positional arguments but they were expected to be given as keyword arguments.\n",
      "\n",
      "[W 2025-02-11 17:22:57,344] Trial 41 failed with parameters: {'n_estimators': 100, 'max_depth': 5, 'learning_rate': 0.10687759498092497, 'colsample_bytree': 0.6416267219098777} because of the following error: The value <built-in method mean of numpy.ndarray object at 0x121f6efd0> could not be cast to float.\n",
      "[W 2025-02-11 17:22:57,345] Trial 41 failed with value <built-in method mean of numpy.ndarray object at 0x121f6efd0>.\n",
      "/var/folders/kp/5_0zhw410tzf9tkb2lt76sw40000gn/T/ipykernel_98880/982337466.py:4: FutureWarning:\n",
      "\n",
      "suggest_int() got {'step'} as positional arguments but they were expected to be given as keyword arguments.\n",
      "\n",
      "[W 2025-02-11 17:22:57,633] Trial 42 failed with parameters: {'n_estimators': 300, 'max_depth': 6, 'learning_rate': 0.19882258397859773, 'colsample_bytree': 0.6063644601897672} because of the following error: The value <built-in method mean of numpy.ndarray object at 0x121f6d470> could not be cast to float.\n",
      "[W 2025-02-11 17:22:57,634] Trial 42 failed with value <built-in method mean of numpy.ndarray object at 0x121f6d470>.\n",
      "/var/folders/kp/5_0zhw410tzf9tkb2lt76sw40000gn/T/ipykernel_98880/982337466.py:4: FutureWarning:\n",
      "\n",
      "suggest_int() got {'step'} as positional arguments but they were expected to be given as keyword arguments.\n",
      "\n",
      "[W 2025-02-11 17:22:58,087] Trial 43 failed with parameters: {'n_estimators': 500, 'max_depth': 6, 'learning_rate': 0.14427875815697225, 'colsample_bytree': 0.603311602291799} because of the following error: The value <built-in method mean of numpy.ndarray object at 0x121f6d290> could not be cast to float.\n",
      "[W 2025-02-11 17:22:58,088] Trial 43 failed with value <built-in method mean of numpy.ndarray object at 0x121f6d290>.\n",
      "/var/folders/kp/5_0zhw410tzf9tkb2lt76sw40000gn/T/ipykernel_98880/982337466.py:4: FutureWarning:\n",
      "\n",
      "suggest_int() got {'step'} as positional arguments but they were expected to be given as keyword arguments.\n",
      "\n",
      "[W 2025-02-11 17:22:59,008] Trial 44 failed with parameters: {'n_estimators': 500, 'max_depth': 9, 'learning_rate': 0.017669608399991488, 'colsample_bytree': 0.8139950165083264} because of the following error: The value <built-in method mean of numpy.ndarray object at 0x121a1f4b0> could not be cast to float.\n",
      "[W 2025-02-11 17:22:59,009] Trial 44 failed with value <built-in method mean of numpy.ndarray object at 0x121a1f4b0>.\n",
      "/var/folders/kp/5_0zhw410tzf9tkb2lt76sw40000gn/T/ipykernel_98880/982337466.py:4: FutureWarning:\n",
      "\n",
      "suggest_int() got {'step'} as positional arguments but they were expected to be given as keyword arguments.\n",
      "\n",
      "[W 2025-02-11 17:22:59,159] Trial 45 failed with parameters: {'n_estimators': 100, 'max_depth': 5, 'learning_rate': 0.18995578067253072, 'colsample_bytree': 0.6413051110754231} because of the following error: The value <built-in method mean of numpy.ndarray object at 0x121f6da70> could not be cast to float.\n",
      "[W 2025-02-11 17:22:59,160] Trial 45 failed with value <built-in method mean of numpy.ndarray object at 0x121f6da70>.\n",
      "/var/folders/kp/5_0zhw410tzf9tkb2lt76sw40000gn/T/ipykernel_98880/982337466.py:4: FutureWarning:\n",
      "\n",
      "suggest_int() got {'step'} as positional arguments but they were expected to be given as keyword arguments.\n",
      "\n",
      "[W 2025-02-11 17:22:59,527] Trial 46 failed with parameters: {'n_estimators': 400, 'max_depth': 4, 'learning_rate': 0.1284694231401032, 'colsample_bytree': 0.7234286702781229} because of the following error: The value <built-in method mean of numpy.ndarray object at 0x121f6d470> could not be cast to float.\n",
      "[W 2025-02-11 17:22:59,528] Trial 46 failed with value <built-in method mean of numpy.ndarray object at 0x121f6d470>.\n",
      "/var/folders/kp/5_0zhw410tzf9tkb2lt76sw40000gn/T/ipykernel_98880/982337466.py:4: FutureWarning:\n",
      "\n",
      "suggest_int() got {'step'} as positional arguments but they were expected to be given as keyword arguments.\n",
      "\n",
      "[W 2025-02-11 17:23:00,449] Trial 47 failed with parameters: {'n_estimators': 200, 'max_depth': 8, 'learning_rate': 0.049082574465754654, 'colsample_bytree': 0.9638761289721061} because of the following error: The value <built-in method mean of numpy.ndarray object at 0x1219bae50> could not be cast to float.\n",
      "[W 2025-02-11 17:23:00,449] Trial 47 failed with value <built-in method mean of numpy.ndarray object at 0x1219bae50>.\n",
      "/var/folders/kp/5_0zhw410tzf9tkb2lt76sw40000gn/T/ipykernel_98880/982337466.py:4: FutureWarning:\n",
      "\n",
      "suggest_int() got {'step'} as positional arguments but they were expected to be given as keyword arguments.\n",
      "\n",
      "[W 2025-02-11 17:23:00,832] Trial 48 failed with parameters: {'n_estimators': 300, 'max_depth': 7, 'learning_rate': 0.19990752825477143, 'colsample_bytree': 0.8502323344016565} because of the following error: The value <built-in method mean of numpy.ndarray object at 0x1219ba370> could not be cast to float.\n",
      "[W 2025-02-11 17:23:00,833] Trial 48 failed with value <built-in method mean of numpy.ndarray object at 0x1219ba370>.\n",
      "/var/folders/kp/5_0zhw410tzf9tkb2lt76sw40000gn/T/ipykernel_98880/982337466.py:4: FutureWarning:\n",
      "\n",
      "suggest_int() got {'step'} as positional arguments but they were expected to be given as keyword arguments.\n",
      "\n",
      "[W 2025-02-11 17:23:01,264] Trial 49 failed with parameters: {'n_estimators': 300, 'max_depth': 6, 'learning_rate': 0.06156593309996036, 'colsample_bytree': 0.8102152294027272} because of the following error: The value <built-in method mean of numpy.ndarray object at 0x121f6def0> could not be cast to float.\n",
      "[W 2025-02-11 17:23:01,265] Trial 49 failed with value <built-in method mean of numpy.ndarray object at 0x121f6def0>.\n"
     ]
    },
    {
     "ename": "ValueError",
     "evalue": "No trials are completed yet.",
     "output_type": "error",
     "traceback": [
      "\u001b[0;31m---------------------------------------------------------------------------\u001b[0m",
      "\u001b[0;31mValueError\u001b[0m                                Traceback (most recent call last)",
      "Cell \u001b[0;32mIn[26], line 19\u001b[0m\n\u001b[1;32m     15\u001b[0m study\u001b[38;5;241m.\u001b[39moptimize(xgb_optuna_objective, n_trials\u001b[38;5;241m=\u001b[39m\u001b[38;5;241m50\u001b[39m)\n\u001b[1;32m     18\u001b[0m \u001b[38;5;66;03m# 3. 결과 출력\u001b[39;00m\n\u001b[0;32m---> 19\u001b[0m \u001b[38;5;28mprint\u001b[39m(\u001b[43mstudy\u001b[49m\u001b[38;5;241;43m.\u001b[39;49m\u001b[43mbest_params\u001b[49m)\n\u001b[1;32m     20\u001b[0m \u001b[38;5;28mprint\u001b[39m(study\u001b[38;5;241m.\u001b[39mbest_value)\n",
      "File \u001b[0;32m/Library/Frameworks/Python.framework/Versions/3.13/lib/python3.13/site-packages/optuna/study/study.py:119\u001b[0m, in \u001b[0;36mStudy.best_params\u001b[0;34m(self)\u001b[0m\n\u001b[1;32m    107\u001b[0m \u001b[38;5;129m@property\u001b[39m\n\u001b[1;32m    108\u001b[0m \u001b[38;5;28;01mdef\u001b[39;00m\u001b[38;5;250m \u001b[39m\u001b[38;5;21mbest_params\u001b[39m(\u001b[38;5;28mself\u001b[39m) \u001b[38;5;241m-\u001b[39m\u001b[38;5;241m>\u001b[39m \u001b[38;5;28mdict\u001b[39m[\u001b[38;5;28mstr\u001b[39m, Any]:\n\u001b[1;32m    109\u001b[0m \u001b[38;5;250m    \u001b[39m\u001b[38;5;124;03m\"\"\"Return parameters of the best trial in the study.\u001b[39;00m\n\u001b[1;32m    110\u001b[0m \n\u001b[1;32m    111\u001b[0m \u001b[38;5;124;03m    .. note::\u001b[39;00m\n\u001b[0;32m   (...)\u001b[0m\n\u001b[1;32m    116\u001b[0m \n\u001b[1;32m    117\u001b[0m \u001b[38;5;124;03m    \"\"\"\u001b[39;00m\n\u001b[0;32m--> 119\u001b[0m     \u001b[38;5;28;01mreturn\u001b[39;00m \u001b[38;5;28;43mself\u001b[39;49m\u001b[38;5;241;43m.\u001b[39;49m\u001b[43mbest_trial\u001b[49m\u001b[38;5;241m.\u001b[39mparams\n",
      "File \u001b[0;32m/Library/Frameworks/Python.framework/Versions/3.13/lib/python3.13/site-packages/optuna/study/study.py:162\u001b[0m, in \u001b[0;36mStudy.best_trial\u001b[0;34m(self)\u001b[0m\n\u001b[1;32m    156\u001b[0m \u001b[38;5;28;01mif\u001b[39;00m \u001b[38;5;28mself\u001b[39m\u001b[38;5;241m.\u001b[39m_is_multi_objective():\n\u001b[1;32m    157\u001b[0m     \u001b[38;5;28;01mraise\u001b[39;00m \u001b[38;5;167;01mRuntimeError\u001b[39;00m(\n\u001b[1;32m    158\u001b[0m         \u001b[38;5;124m\"\u001b[39m\u001b[38;5;124mA single best trial cannot be retrieved from a multi-objective study. Consider \u001b[39m\u001b[38;5;124m\"\u001b[39m\n\u001b[1;32m    159\u001b[0m         \u001b[38;5;124m\"\u001b[39m\u001b[38;5;124musing Study.best_trials to retrieve a list containing the best trials.\u001b[39m\u001b[38;5;124m\"\u001b[39m\n\u001b[1;32m    160\u001b[0m     )\n\u001b[0;32m--> 162\u001b[0m best_trial \u001b[38;5;241m=\u001b[39m \u001b[38;5;28;43mself\u001b[39;49m\u001b[38;5;241;43m.\u001b[39;49m\u001b[43m_storage\u001b[49m\u001b[38;5;241;43m.\u001b[39;49m\u001b[43mget_best_trial\u001b[49m\u001b[43m(\u001b[49m\u001b[38;5;28;43mself\u001b[39;49m\u001b[38;5;241;43m.\u001b[39;49m\u001b[43m_study_id\u001b[49m\u001b[43m)\u001b[49m\n\u001b[1;32m    164\u001b[0m \u001b[38;5;66;03m# If the trial with the best value is infeasible, select the best trial from all feasible\u001b[39;00m\n\u001b[1;32m    165\u001b[0m \u001b[38;5;66;03m# trials. Note that the behavior is undefined when constrained optimization without the\u001b[39;00m\n\u001b[1;32m    166\u001b[0m \u001b[38;5;66;03m# violation value in the best-valued trial.\u001b[39;00m\n\u001b[1;32m    167\u001b[0m constraints \u001b[38;5;241m=\u001b[39m best_trial\u001b[38;5;241m.\u001b[39msystem_attrs\u001b[38;5;241m.\u001b[39mget(_CONSTRAINTS_KEY)\n",
      "File \u001b[0;32m/Library/Frameworks/Python.framework/Versions/3.13/lib/python3.13/site-packages/optuna/storages/_in_memory.py:249\u001b[0m, in \u001b[0;36mInMemoryStorage.get_best_trial\u001b[0;34m(self, study_id)\u001b[0m\n\u001b[1;32m    246\u001b[0m best_trial_id \u001b[38;5;241m=\u001b[39m \u001b[38;5;28mself\u001b[39m\u001b[38;5;241m.\u001b[39m_studies[study_id]\u001b[38;5;241m.\u001b[39mbest_trial_id\n\u001b[1;32m    248\u001b[0m \u001b[38;5;28;01mif\u001b[39;00m best_trial_id \u001b[38;5;129;01mis\u001b[39;00m \u001b[38;5;28;01mNone\u001b[39;00m:\n\u001b[0;32m--> 249\u001b[0m     \u001b[38;5;28;01mraise\u001b[39;00m \u001b[38;5;167;01mValueError\u001b[39;00m(\u001b[38;5;124m\"\u001b[39m\u001b[38;5;124mNo trials are completed yet.\u001b[39m\u001b[38;5;124m\"\u001b[39m)\n\u001b[1;32m    250\u001b[0m \u001b[38;5;28;01melif\u001b[39;00m \u001b[38;5;28mlen\u001b[39m(\u001b[38;5;28mself\u001b[39m\u001b[38;5;241m.\u001b[39m_studies[study_id]\u001b[38;5;241m.\u001b[39mdirections) \u001b[38;5;241m>\u001b[39m \u001b[38;5;241m1\u001b[39m:\n\u001b[1;32m    251\u001b[0m     \u001b[38;5;28;01mraise\u001b[39;00m \u001b[38;5;167;01mRuntimeError\u001b[39;00m(\n\u001b[1;32m    252\u001b[0m         \u001b[38;5;124m\"\u001b[39m\u001b[38;5;124mBest trial can be obtained only for single-objective optimization.\u001b[39m\u001b[38;5;124m\"\u001b[39m\n\u001b[1;32m    253\u001b[0m     )\n",
      "\u001b[0;31mValueError\u001b[0m: No trials are completed yet."
     ]
    }
   ],
   "source": [
    "# 1. 목적 함수\n",
    "def xgb_optuna_objective(trial):\n",
    "    params = {\n",
    "        'n_estimators': trial.suggest_int('n_estimators', 100, 500, 100),\n",
    "        'max_depth': trial.suggest_int('max_depth', 3, 10),\n",
    "        'learning_rate': trial.suggest_float('learning_rate', 0.01, 0.2),\n",
    "        'colsample_bytree': trial.suggest_float('colsample_bytree', 0.5, 1.0)    \n",
    "    }\n",
    "\n",
    "    xgb_clf = XGBClassifier(**params)\n",
    "    return cross_val_score(xgb_clf, X_train, y_train, scoring='accuracy', cv=3).mean\n",
    "\n",
    "# 2. study 객체 -> 최적화\n",
    "study = optuna.create_study(direction='maximize')\n",
    "study.optimize(xgb_optuna_objective, n_trials=50)\n",
    "\n",
    "\n",
    "# 3. 결과 출력\n",
    "print(study.best_params)\n",
    "print(study.best_value)\n"
   ]
  },
  {
   "cell_type": "markdown",
   "metadata": {},
   "source": [
    "##### HyperOpt vs Optuna"
   ]
  },
  {
   "cell_type": "code",
   "execution_count": 25,
   "metadata": {},
   "outputs": [
    {
     "name": "stdout",
     "output_type": "stream",
     "text": [
      "HyperOpt 최적 파라미터 적용: 0.958041958041958\n",
      "Optuna 최적 파라미터 적용: 0.972027972027972\n"
     ]
    }
   ],
   "source": [
    "from sklearn.metrics import accuracy_score\n",
    "\n",
    "xgb_hpopt = XGBClassifier(\n",
    "    n_estimators=400,\n",
    "    max_depth=10,\n",
    "    learning_rate=0.11,\n",
    "    colsample_bytree=0.6\n",
    ")\n",
    "\n",
    "xgb_optuna = XGBClassifier(\n",
    "    n_estimators=500,\n",
    "    max_depth=7,\n",
    "    learning_rate=0.2,\n",
    "    colsample_bytree=0.55    \n",
    ")\n",
    "\n",
    "xgb_hpopt.fit(X_train, y_train)\n",
    "xgb_optuna.fit(X_train, y_train)\n",
    "\n",
    "hpopt_pred = xgb_hpopt.predict(X_test)\n",
    "optuna_pred = xgb_optuna.predict(X_test)\n",
    "\n",
    "print(f'HyperOpt 최적 파라미터 적용: {accuracy_score(y_test, hpopt_pred)}')\n",
    "print(f'Optuna 최적 파라미터 적용: {accuracy_score(y_test, optuna_pred)}')"
   ]
  }
 ],
 "metadata": {
  "kernelspec": {
   "display_name": "Python 3",
   "language": "python",
   "name": "python3"
  },
  "language_info": {
   "codemirror_mode": {
    "name": "ipython",
    "version": 3
   },
   "file_extension": ".py",
   "mimetype": "text/x-python",
   "name": "python",
   "nbconvert_exporter": "python",
   "pygments_lexer": "ipython3",
   "version": "3.13.1"
  }
 },
 "nbformat": 4,
 "nbformat_minor": 2
}
