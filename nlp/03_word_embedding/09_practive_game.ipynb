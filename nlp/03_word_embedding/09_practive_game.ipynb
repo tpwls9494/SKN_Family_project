{
 "cells": [
  {
   "cell_type": "markdown",
   "metadata": {},
   "source": [
    "# 유사한 단어 찾기 게임"
   ]
  },
  {
   "cell_type": "markdown",
   "metadata": {},
   "source": [
    "1. 사전 학습된 모델 또는 적절한 데이터셋을 찾는다\n",
    "2. 워드 임베딩 모델을 학습시킨다\n",
    "3. 단어 유사도가 0.8 이상인 A,B를 랜덤 추출한다\n",
    "4. A,B와 대응되는 C를 추출한다.\n",
    "5. D를 입력받는다\n",
    "=> A:B = C:answer 관계에 대응하는 answer를 찾는 게임을 만든다\n",
    "ex) A:산, B:바다, C:나무/ D-> 물"
   ]
  },
  {
   "cell_type": "code",
   "execution_count": 3,
   "metadata": {},
   "outputs": [
    {
     "name": "stdout",
     "output_type": "stream",
     "text": [
      "Requirement already satisfied: wikipedia-api in /usr/local/lib/python3.10/site-packages (0.8.1)\n",
      "Requirement already satisfied: requests in /usr/local/lib/python3.10/site-packages (from wikipedia-api) (2.32.3)\n",
      "Requirement already satisfied: charset-normalizer<4,>=2 in /usr/local/lib/python3.10/site-packages (from requests->wikipedia-api) (3.4.1)\n",
      "Requirement already satisfied: idna<4,>=2.5 in /usr/local/lib/python3.10/site-packages (from requests->wikipedia-api) (3.10)\n",
      "Requirement already satisfied: urllib3<3,>=1.21.1 in /usr/local/lib/python3.10/site-packages (from requests->wikipedia-api) (2.3.0)\n",
      "Requirement already satisfied: certifi>=2017.4.17 in /usr/local/lib/python3.10/site-packages (from requests->wikipedia-api) (2025.1.31)\n",
      "\n",
      "\u001b[1m[\u001b[0m\u001b[34;49mnotice\u001b[0m\u001b[1;39;49m]\u001b[0m\u001b[39;49m A new release of pip is available: \u001b[0m\u001b[31;49m25.0\u001b[0m\u001b[39;49m -> \u001b[0m\u001b[32;49m25.0.1\u001b[0m\n",
      "\u001b[1m[\u001b[0m\u001b[34;49mnotice\u001b[0m\u001b[1;39;49m]\u001b[0m\u001b[39;49m To update, run: \u001b[0m\u001b[32;49mpython3.10 -m pip install --upgrade pip\u001b[0m\n"
     ]
    }
   ],
   "source": [
    "!pip install wikipedia-api"
   ]
  },
  {
   "cell_type": "code",
   "execution_count": 5,
   "metadata": {},
   "outputs": [],
   "source": [
    "import wikipediaapi\n",
    "from gensim.corpora import WikiCorpus\n",
    "from gensim.models import Word2Vec\n",
    "import konlpy\n",
    "from konlpy.tag import Okt\n",
    "import tqdm\n",
    "import re"
   ]
  },
  {
   "cell_type": "code",
   "execution_count": null,
   "metadata": {},
   "outputs": [
    {
     "name": "stderr",
     "output_type": "stream",
     "text": [
      "Processing documents: 0it [00:00, ?it/s]/usr/local/lib/python3.10/site-packages/gensim/utils.py:1332: UserWarning: detected OSX with python3.8+; aliasing chunkize to chunkize_serial\n",
      "  warnings.warn(\"detected %s; aliasing chunkize to chunkize_serial\" % entity)\n",
      "Processing documents: 1it [00:03,  3.29s/it]"
     ]
    },
    {
     "name": "stdout",
     "output_type": "stream",
     "text": [
      "Processed 0 documents\n"
     ]
    },
    {
     "name": "stderr",
     "output_type": "stream",
     "text": [
      "Processing documents: 1000it [02:37,  4.32it/s]"
     ]
    },
    {
     "name": "stdout",
     "output_type": "stream",
     "text": [
      "Processed 1000 documents\n"
     ]
    },
    {
     "name": "stderr",
     "output_type": "stream",
     "text": [
      "Processing documents: 2006it [04:34, 20.67it/s]"
     ]
    },
    {
     "name": "stdout",
     "output_type": "stream",
     "text": [
      "Processed 2000 documents\n"
     ]
    },
    {
     "name": "stderr",
     "output_type": "stream",
     "text": [
      "Processing documents: 3000it [06:47,  7.36it/s]"
     ]
    },
    {
     "name": "stdout",
     "output_type": "stream",
     "text": [
      "Total processed documents: 3000\n"
     ]
    },
    {
     "name": "stderr",
     "output_type": "stream",
     "text": [
      "\n"
     ]
    }
   ],
   "source": [
    "wiki = WikiCorpus('kowiki-latest-pages-articles.xml.bz2', dictionary={})\n",
    "\n",
    "okt = Okt()\n",
    "\n",
    "def preprocess_text(text):\n",
    "    return okt.morphs(text)\n",
    "\n",
    "\n",
    "max_docs = 3000\n",
    "\n",
    "sentences = []\n",
    "for i, text in tqdm.tqdm(enumerate(wiki.get_texts()), desc=\"Processing documents\"):\n",
    "    if i >= max_docs:  # 지정된 수만큼만 처리\n",
    "        break\n",
    "    text = ' '.join(text)  # text를 문자열로 변환\n",
    "    text = re.sub(r'[^가-힣ㄱ-ㅎㅏ-ㅣ\\s]', '', text)  # 한글과 공백만 남기기\n",
    "    tokens = preprocess_text(text)\n",
    "    if tokens:  # 빈 리스트가 아닐 경우만 추가\n",
    "        sentences.append(tokens)\n",
    "    \n",
    "    if i % 1000 == 0:\n",
    "        print(f\"Processed {i} documents\")\n",
    "\n",
    "print(f\"Total processed documents: {len(sentences)}\")"
   ]
  },
  {
   "cell_type": "code",
   "execution_count": 8,
   "metadata": {},
   "outputs": [],
   "source": [
    "model = Word2Vec(\n",
    "    sentences=sentences,\n",
    "    vector_size=100,\n",
    "    window=5,\n",
    "    min_count=5,\n",
    "    sg=0\n",
    ")\n",
    "model.save('wiki_word2vec.model')"
   ]
  },
  {
   "cell_type": "code",
   "execution_count": null,
   "metadata": {},
   "outputs": [
    {
     "name": "stdout",
     "output_type": "stream",
     "text": [
      "\n",
      "단어 유추 게임!\n",
      "파전 : 홍문종 = 저지 : ?\n",
      "\n",
      "가장 적절한 답들:\n",
      "사수: 0.802\n",
      "협조: 0.796\n",
      "해임: 0.796\n",
      "\n",
      "모델이 이 단어를 모릅니다.\n"
     ]
    }
   ],
   "source": [
    "import random\n",
    "import numpy as np\n",
    "\n",
    "# 모델 로드\n",
    "model = Word2Vec.load('wiki_word2vec.model')\n",
    "\n",
    "def find_similar_pairs(model, similarity_threshold=0.8, max_attempts=1000):\n",
    "    \"\"\"유사도가 threshold 이상인 단어 쌍을 찾습니다\"\"\"\n",
    "    vocabulary = model.wv.index_to_key\n",
    "    \n",
    "    while max_attempts > 0:\n",
    "        word_a = random.choice(vocabulary)\n",
    "        word_b = random.choice(vocabulary)\n",
    "        \n",
    "        try:\n",
    "            similarity = model.wv.similarity(word_a, word_b)\n",
    "            if similarity >= similarity_threshold:\n",
    "                return word_a, word_b\n",
    "        except KeyError:\n",
    "            continue\n",
    "        \n",
    "        max_attempts -= 1\n",
    "    \n",
    "    return None, None\n",
    "\n",
    "def word_analogy_game():\n",
    "    \"\"\"단어 유추 게임을 실행합니다\"\"\"\n",
    "    # 유사한 단어 쌍 찾기\n",
    "    word_a, word_b = find_similar_pairs(model)\n",
    "    if word_a is None:\n",
    "        print(\"적절한 단어 쌍을 찾을 수 없습니다.\")\n",
    "        return\n",
    "    \n",
    "    # C 단어 선택 (A와 유사하지 않은 단어)\n",
    "    while True:\n",
    "        word_c = random.choice(model.wv.index_to_key)\n",
    "        try:\n",
    "            if model.wv.similarity(word_a, word_c) < 0.3:  # 낮은 유사도\n",
    "                break\n",
    "        except KeyError:\n",
    "            continue\n",
    "    \n",
    "    print(f\"\\n단어 유추 게임!\")\n",
    "    print(f\"{word_a} : {word_b} = {word_c} : ?\")\n",
    "    \n",
    "    answer = input(\"답을 입력하세요: \")\n",
    "    \n",
    "    try:\n",
    "        # 정답 평가\n",
    "        result = model.wv.most_similar(\n",
    "            positive=[word_b, word_c],\n",
    "            negative=[word_a],\n",
    "            topn=3\n",
    "        )\n",
    "        \n",
    "        print(\"\\n가장 적절한 답들:\")\n",
    "        for word, score in result:\n",
    "            print(f\"{word}: {score:.3f}\")\n",
    "        \n",
    "        # 사용자의 답 평가\n",
    "        if answer in [word for word, _ in result]:\n",
    "            print(\"\\n정답입니다!\")\n",
    "        else:\n",
    "            try:\n",
    "                user_answer_score = model.wv.similarity(answer, result[0][0])\n",
    "                if user_answer_score > 0.5:\n",
    "                    print(f\"\\n괜찮은 답변입니다! (유사도: {user_answer_score:.3f})\")\n",
    "                else:\n",
    "                    print(\"\\n다른 답을 생각해보세요.\")\n",
    "            except KeyError:\n",
    "                print(\"\\n모델이 이 단어를 모릅니다.\")\n",
    "                \n",
    "    except KeyError:\n",
    "        print(\"죄송합니다. 이 단어들로는 유추가 어렵습니다.\")\n",
    "\n",
    "# 게임 실행\n",
    "while True:\n",
    "    word_analogy_game()\n",
    "    \n",
    "    play_again = input(\"\\n다시 하시겠습니까? (y/n): \")\n",
    "    if play_again.lower() != 'y':\n",
    "        break"
   ]
  },
  {
   "cell_type": "code",
   "execution_count": 5,
   "metadata": {},
   "outputs": [
    {
     "name": "stdout",
     "output_type": "stream",
     "text": [
      "\u001b[H\u001b[2J\n",
      "야생의 단어 쌍이 나타났다!\n",
      "\n",
      "야생의 (A)'미코'와(과) (B)'엘바'가 나타났다!\n",
      "\n",
      "두근두근...\n",
      "...\n",
      "\n",
      "갑자기 (C)'않았을까'가 나타났다!\n",
      "\n",
      "어떤 단어와 관련이 있을까...?\n",
      "...\n",
      "\n",
      "분석중\n",
      "...\n",
      "\n",
      "가장 적절한 답들이야!\n",
      "허락: 0.730\n",
      "않겠다고: 0.720\n",
      "않도록: 0.720\n",
      "\n",
      "그런 단어는 모르겠어...\n",
      "\u001b[H\u001b[2J\n",
      "야생의 단어 쌍이 나타났다!\n",
      "\n",
      "야생의 (A)'미노국'와(과) (B)'간문제'가 나타났다!\n",
      "\n",
      "두근두근...\n",
      "...\n",
      "\n",
      "갑자기 (C)'받았으며'가 나타났다!\n",
      "\n",
      "어떤 단어와 관련이 있을까...?\n",
      "...\n",
      "\n",
      "분석중\n",
      "...\n",
      "\n",
      "가장 적절한 답들이야!\n",
      "받았고: 0.774\n",
      "받았다: 0.669\n",
      "받았으나: 0.643\n",
      "\n",
      "아쉽게도 틀렸어... 다시 도전해봐!\n",
      "\n",
      "게임을 종료합니다... 다음에 또 만나요!\n"
     ]
    }
   ],
   "source": [
    "import random\n",
    "import numpy as np\n",
    "import time\n",
    "import os\n",
    "from gensim.models import Word2Vec\n",
    "\n",
    "# 모델 로드\n",
    "model = Word2Vec.load('wiki_word2vec.model')\n",
    "\n",
    "def clear_screen():\n",
    "    os.system('cls' if os.name == 'nt' else 'clear')\n",
    "\n",
    "def print_with_delay(text, delay=0.03):\n",
    "    for char in text:\n",
    "        print(char, end='', flush=True)\n",
    "        time.sleep(delay)\n",
    "    print()\n",
    "\n",
    "def dramatic_dots(count=3, delay=0.5):\n",
    "    for _ in range(count):\n",
    "        print(\".\", end='', flush=True)\n",
    "        time.sleep(delay)\n",
    "    print()\n",
    "\n",
    "def find_similar_pairs(model, similarity_threshold=0.7, max_attempts=1000):\n",
    "    \"\"\"유사도가 threshold 이상인 단어 쌍을 찾습니다\"\"\"\n",
    "    vocabulary = model.wv.index_to_key\n",
    "    \n",
    "    while max_attempts > 0:\n",
    "        word_a = random.choice(vocabulary)\n",
    "        word_b = random.choice(vocabulary)\n",
    "        \n",
    "        try:\n",
    "            similarity = model.wv.similarity(word_a, word_b)\n",
    "            if similarity >= similarity_threshold:\n",
    "                return word_a, word_b\n",
    "        except KeyError:\n",
    "            continue\n",
    "        \n",
    "        max_attempts -= 1\n",
    "    \n",
    "    return None, None\n",
    "\n",
    "def pokemon_style_word_analogy_game():\n",
    "    clear_screen()\n",
    "    print_with_delay(\"\\n야생의 단어 쌍이 나타났다!\")\n",
    "    time.sleep(1)\n",
    "\n",
    "    # 유사한 단어 쌍 찾기\n",
    "    word_a, word_b = find_similar_pairs(model, similarity_threshold=0.7)\n",
    "    if word_a is None:\n",
    "        print_with_delay(\"앗! 단어 쌍이 도망가버렸다...\")\n",
    "        return\n",
    "\n",
    "    print_with_delay(f\"\\n야생의 (A)'{word_a}'와(과) (B)'{word_b}'가 나타났다!\", 0.05)\n",
    "    time.sleep(1)\n",
    "    \n",
    "    print_with_delay(\"\\n두근두근...\", 0.1)\n",
    "    dramatic_dots()\n",
    "    \n",
    "    # C 단어 선택\n",
    "    while True:\n",
    "        word_c = random.choice(model.wv.index_to_key)\n",
    "        try:\n",
    "            if model.wv.similarity(word_a, word_c) < 0.3:\n",
    "                break\n",
    "        except KeyError:\n",
    "            continue\n",
    "\n",
    "    print_with_delay(f\"\\n갑자기 (C)'{word_c}'가 나타났다!\", 0.05)\n",
    "    time.sleep(1)\n",
    "    \n",
    "    print_with_delay(\"\\n어떤 단어와 관련이 있을까...?\", 0.05)\n",
    "    dramatic_dots(3, 0.3)\n",
    "    \n",
    "    answer = input(\"\\n당신의 추측은? : \")\n",
    "    \n",
    "    print_with_delay(\"\\n분석중\", 0.1)\n",
    "    dramatic_dots(3, 0.3)\n",
    "    \n",
    "    try:\n",
    "        result = model.wv.most_similar(\n",
    "            positive=[word_b, word_c],\n",
    "            negative=[word_a],\n",
    "            topn=3\n",
    "        )\n",
    "        \n",
    "        print_with_delay(\"\\n가장 적절한 답들이야!\", 0.05)\n",
    "        time.sleep(0.5)\n",
    "        for word, score in result:\n",
    "            print_with_delay(f\"{word}: {score:.3f}\", 0.03)\n",
    "        \n",
    "        if answer in [word for word, _ in result]:\n",
    "            print_with_delay(\"\\n와! 정확한 답이야!\", 0.05)\n",
    "            print_with_delay(\"게임의 승자가 되었다!\", 0.05)\n",
    "        else:\n",
    "            try:\n",
    "                user_answer_score = model.wv.similarity(answer, result[0][0])\n",
    "                if user_answer_score > 0.5:\n",
    "                    print_with_delay(f\"\\n꽤 괜찮은 시도였어! (유사도: {user_answer_score:.3f})\", 0.05)\n",
    "                else:\n",
    "                    print_with_delay(\"\\n아쉽게도 틀렸어... 다시 도전해봐!\", 0.05)\n",
    "            except KeyError:\n",
    "                print_with_delay(\"\\n그런 단어는 모르겠어...\", 0.05)\n",
    "                \n",
    "    except KeyError:\n",
    "        print_with_delay(\"앗! 뭔가 잘못된 것 같아...\", 0.05)\n",
    "\n",
    "# 게임 실행\n",
    "while True:\n",
    "    pokemon_style_word_analogy_game()\n",
    "    time.sleep(1)\n",
    "    play_again = input(\"\\n다시 도전하시겠습니까? (y/n): \")\n",
    "    if play_again.lower() != 'y':\n",
    "        print_with_delay(\"\\n게임을 종료합니다... 다음에 또 만나요!\", 0.05)\n",
    "        break"
   ]
  }
 ],
 "metadata": {
  "kernelspec": {
   "display_name": "Python 3",
   "language": "python",
   "name": "python3"
  },
  "language_info": {
   "codemirror_mode": {
    "name": "ipython",
    "version": 3
   },
   "file_extension": ".py",
   "mimetype": "text/x-python",
   "name": "python",
   "nbconvert_exporter": "python",
   "pygments_lexer": "ipython3",
   "version": "3.10.16"
  }
 },
 "nbformat": 4,
 "nbformat_minor": 2
}
