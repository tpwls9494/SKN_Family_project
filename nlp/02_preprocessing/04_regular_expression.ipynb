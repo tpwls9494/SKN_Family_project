{
 "cells": [
  {
   "cell_type": "markdown",
   "metadata": {},
   "source": [
    "# 정규표현식 (Regular Expression)\n",
    "- 특정한 규칙을 가진 문자열을 찾기 위한 패턴\n",
    "- 정규 표현식을 사용하면 대량의 텍스트 데이터에서 특정 패턴을 효율적으로 추출, 삭제, 대체 가능"
   ]
  },
  {
   "cell_type": "code",
   "execution_count": 3,
   "metadata": {},
   "outputs": [],
   "source": [
    "import re"
   ]
  },
  {
   "cell_type": "markdown",
   "metadata": {},
   "source": [
    "### Syntax"
   ]
  },
  {
   "cell_type": "markdown",
   "metadata": {},
   "source": [
    "### 임의의 한 글자"
   ]
  },
  {
   "cell_type": "code",
   "execution_count": 7,
   "metadata": {},
   "outputs": [
    {
     "name": "stdout",
     "output_type": "stream",
     "text": [
      "<re.Match object; span=(0, 3), match='abc'>\n",
      "<re.Match object; span=(19, 22), match='abc'>\n",
      "<re.Match object; span=(0, 3), match='aXc'>\n",
      "<re.Match object; span=(0, 3), match='a c'>\n",
      "None\n",
      "None\n"
     ]
    }
   ],
   "source": [
    "reg_exp = re.compile('a.c')\n",
    "\n",
    "print(reg_exp.search('abc'))\n",
    "print(reg_exp.search('abladsflkjadlgfahlaabcsgjnlac'))\n",
    "print(reg_exp.search('aXc'))\n",
    "print(reg_exp.search('a c'))\n",
    "print(reg_exp.search('ac'))\n",
    "print(reg_exp.search('bc'))"
   ]
  },
  {
   "cell_type": "markdown",
   "metadata": {},
   "source": [
    "### 수량자 *"
   ]
  },
  {
   "cell_type": "code",
   "execution_count": null,
   "metadata": {},
   "outputs": [
    {
     "name": "stdout",
     "output_type": "stream",
     "text": [
      "<re.Match object; span=(0, 2), match='ac'>\n",
      "None\n",
      "<re.Match object; span=(0, 3), match='abc'>\n",
      "<re.Match object; span=(0, 8), match='abbbbbbc'>\n"
     ]
    }
   ],
   "source": [
    "reg_exp = re.compile('ab*c') # a로 시작 + b가 0개 이상 + c로 끝\n",
    "\n",
    "print(reg_exp.search('ac'))\n",
    "print(reg_exp.search('ab'))\n",
    "print(reg_exp.search('abc'))\n",
    "print(reg_exp.search('abbbbbbc'))"
   ]
  },
  {
   "cell_type": "markdown",
   "metadata": {},
   "source": [
    "### 수량자 ?"
   ]
  },
  {
   "cell_type": "code",
   "execution_count": null,
   "metadata": {},
   "outputs": [
    {
     "name": "stdout",
     "output_type": "stream",
     "text": [
      "<re.Match object; span=(0, 2), match='ac'>\n",
      "None\n",
      "<re.Match object; span=(0, 3), match='abc'>\n",
      "None\n"
     ]
    }
   ],
   "source": [
    "reg_exp = re.compile('ab?c') # a로 시작 + b가 0개나 1개 + c로 끝\n",
    "\n",
    "print(reg_exp.search('ac'))\n",
    "print(reg_exp.search('ab'))\n",
    "print(reg_exp.search('abc'))\n",
    "print(reg_exp.search('abbbbbbc'))"
   ]
  },
  {
   "cell_type": "markdown",
   "metadata": {},
   "source": [
    "### 수량자 +"
   ]
  },
  {
   "cell_type": "code",
   "execution_count": 13,
   "metadata": {},
   "outputs": [
    {
     "name": "stdout",
     "output_type": "stream",
     "text": [
      "None\n",
      "None\n",
      "<re.Match object; span=(0, 3), match='abc'>\n",
      "<re.Match object; span=(0, 8), match='abbbbbbc'>\n"
     ]
    }
   ],
   "source": [
    "reg_exp = re.compile('ab+c') # a로 시작 + b가 1개 이상 + c로 끝\n",
    "\n",
    "print(reg_exp.search('ac'))\n",
    "print(reg_exp.search('ab'))\n",
    "print(reg_exp.search('abc'))\n",
    "print(reg_exp.search('abbbbbbc'))"
   ]
  },
  {
   "cell_type": "markdown",
   "metadata": {},
   "source": [
    "### 수량자 {n} : n개"
   ]
  },
  {
   "cell_type": "code",
   "execution_count": 17,
   "metadata": {},
   "outputs": [
    {
     "name": "stdout",
     "output_type": "stream",
     "text": [
      "None\n",
      "None\n",
      "None\n",
      "<re.Match object; span=(0, 5), match='abbbc'>\n",
      "None\n",
      "None\n",
      "None\n"
     ]
    }
   ],
   "source": [
    "reg_exp = re.compile('ab{3}c') # a로 시작 + b가 3개일 때 + c로 끝\n",
    "\n",
    "print(reg_exp.search('ac'))\n",
    "print(reg_exp.search('abc'))\n",
    "print(reg_exp.search('abbc'))\n",
    "print(reg_exp.search('abbbc'))\n",
    "print(reg_exp.search('abbbbc'))\n",
    "print(reg_exp.search('abbbbbc'))\n",
    "print(reg_exp.search('abbbbbbc'))"
   ]
  },
  {
   "cell_type": "markdown",
   "metadata": {},
   "source": [
    "### 수량자 {min, max} : min ~ max개"
   ]
  },
  {
   "cell_type": "code",
   "execution_count": 18,
   "metadata": {},
   "outputs": [
    {
     "name": "stdout",
     "output_type": "stream",
     "text": [
      "None\n",
      "<re.Match object; span=(0, 3), match='abc'>\n",
      "<re.Match object; span=(0, 4), match='abbc'>\n",
      "<re.Match object; span=(0, 5), match='abbbc'>\n",
      "None\n",
      "None\n",
      "None\n"
     ]
    }
   ],
   "source": [
    "reg_exp = re.compile('ab{1,3}c') # a로 시작 + b가 3개일 때 + c로 끝\n",
    "\n",
    "print(reg_exp.search('ac'))\n",
    "print(reg_exp.search('abc'))\n",
    "print(reg_exp.search('abbc'))\n",
    "print(reg_exp.search('abbbc'))\n",
    "print(reg_exp.search('abbbbc'))\n",
    "print(reg_exp.search('abbbbbc'))\n",
    "print(reg_exp.search('abbbbbbc'))"
   ]
  },
  {
   "cell_type": "markdown",
   "metadata": {},
   "source": [
    "### 문자 매칭 []"
   ]
  },
  {
   "cell_type": "code",
   "execution_count": 20,
   "metadata": {},
   "outputs": [
    {
     "name": "stdout",
     "output_type": "stream",
     "text": [
      "<re.Match object; span=(6, 7), match='a'>\n",
      "<re.Match object; span=(6, 7), match='c'>\n",
      "<re.Match object; span=(6, 7), match='A'>\n"
     ]
    }
   ],
   "source": [
    "reg_exp = re.compile('[abc]', re.IGNORECASE)\n",
    "\n",
    "print(reg_exp.search('안녕하세요 abc입니다'))\n",
    "print(reg_exp.search('안녕하세요 cba입니다'))\n",
    "print(reg_exp.search('안녕하세요 ABC입니다'))"
   ]
  },
  {
   "cell_type": "code",
   "execution_count": 25,
   "metadata": {},
   "outputs": [
    {
     "name": "stdout",
     "output_type": "stream",
     "text": [
      "<re.Match object; span=(0, 1), match='3'>\n"
     ]
    }
   ],
   "source": [
    "# reg_exp = re.compile('[abcdefghijklmnopqrstuvwxyz]')\n",
    "reg_exp = re.compile('[a-zA-Z0-9]')\n",
    "\n",
    "print(reg_exp.search('300살 X씨, 안녕하세요 x!'))"
   ]
  },
  {
   "cell_type": "markdown",
   "metadata": {},
   "source": [
    "### 시작하는 문자열 ^"
   ]
  },
  {
   "cell_type": "code",
   "execution_count": 28,
   "metadata": {},
   "outputs": [
    {
     "name": "stdout",
     "output_type": "stream",
     "text": [
      "<re.Match object; span=(0, 3), match='who'>\n",
      "['who', 'who']\n",
      "['who']\n"
     ]
    }
   ],
   "source": [
    "reg_exp = re.compile('^who')\n",
    "\n",
    "print(reg_exp.search('who is who'))\n",
    "\n",
    "print(re.findall('who', 'who is who'))\n",
    "print(re.findall('^who', 'who is who'))"
   ]
  },
  {
   "cell_type": "markdown",
   "metadata": {},
   "source": [
    "### re 모듈 함수 & re 모듈 메소드"
   ]
  },
  {
   "cell_type": "markdown",
   "metadata": {},
   "source": [
    "### 메소드 search() : 문자열 패턴 검사"
   ]
  },
  {
   "cell_type": "code",
   "execution_count": null,
   "metadata": {},
   "outputs": [
    {
     "name": "stdout",
     "output_type": "stream",
     "text": [
      "<re.Match object; span=(0, 2), match='ab'>\n",
      "None\n",
      "<re.Match object; span=(3, 5), match='ab'>\n"
     ]
    }
   ],
   "source": [
    "reg_exp = re.compile('ab')\n",
    "\n",
    "print(reg_exp.search('abc'))\n",
    "print(reg_exp.search('123'))\n",
    "print(reg_exp.search('123abc'))"
   ]
  },
  {
   "cell_type": "markdown",
   "metadata": {},
   "source": [
    "### 메소드 match() : 시작하는 문자열 패턴 검사"
   ]
  },
  {
   "cell_type": "code",
   "execution_count": null,
   "metadata": {},
   "outputs": [
    {
     "name": "stdout",
     "output_type": "stream",
     "text": [
      "<re.Match object; span=(0, 2), match='ab'>\n",
      "None\n",
      "None\n"
     ]
    }
   ],
   "source": [
    "reg_exp = re.compile('ab')\n",
    "\n",
    "print(reg_exp.match('abc'))\n",
    "print(reg_exp.match('123'))\n",
    "print(reg_exp.match('123abc'))"
   ]
  },
  {
   "cell_type": "markdown",
   "metadata": {},
   "source": [
    "### 함수 split() : 정규식 패턴으로 분할"
   ]
  },
  {
   "cell_type": "code",
   "execution_count": 33,
   "metadata": {},
   "outputs": [
    {
     "data": {
      "text/plain": [
       "['Apple ', 'anana ', 'range']"
      ]
     },
     "execution_count": 33,
     "metadata": {},
     "output_type": "execute_result"
    }
   ],
   "source": [
    "text = 'Apple Banana Orange'\n",
    "split_text = re.split('[BO]', text)      # re 모듈이 제공하는 split -> 정규식 패턴을 넘겨줌\n",
    "split_text"
   ]
  },
  {
   "cell_type": "markdown",
   "metadata": {},
   "source": [
    "### 함수 findall() : 매칭된 결과 모두 반환"
   ]
  },
  {
   "cell_type": "code",
   "execution_count": 35,
   "metadata": {},
   "outputs": [
    {
     "data": {
      "text/plain": [
       "['010-1234-5678']"
      ]
     },
     "execution_count": 35,
     "metadata": {},
     "output_type": "execute_result"
    }
   ],
   "source": [
    "text = '제 전화번호는 010-1234-5678 입니다.'\n",
    "\n",
    "nums = re.findall('[0-9]+', text)\n",
    "nums = re.findall('[0-9]+-[0-9]+-[0-9]+', text)\n",
    "nums"
   ]
  },
  {
   "cell_type": "markdown",
   "metadata": {},
   "source": [
    "### 함수 sub()"
   ]
  },
  {
   "cell_type": "code",
   "execution_count": 45,
   "metadata": {},
   "outputs": [
    {
     "data": {
      "text/plain": [
       "'Hello everyone Welcome to NLP'"
      ]
     },
     "execution_count": 45,
     "metadata": {},
     "output_type": "execute_result"
    }
   ],
   "source": [
    "text = 'Hello, everyone! Welcome to NLP🚊🚊🚊'\n",
    "\n",
    "sub_text = re.sub('[^a-zA-Z ]', '', text)\n",
    "sub_text"
   ]
  },
  {
   "cell_type": "markdown",
   "metadata": {},
   "source": [
    "### 정규표현식 토큰화"
   ]
  },
  {
   "cell_type": "code",
   "execution_count": 62,
   "metadata": {},
   "outputs": [
    {
     "data": {
      "text/plain": [
       "['He',\n",
       " 's',\n",
       " 'a',\n",
       " 'runner',\n",
       " 'but',\n",
       " 'not',\n",
       " 'a',\n",
       " 'long_distance',\n",
       " 'runner',\n",
       " 'His',\n",
       " 'number',\n",
       " 'is',\n",
       " '1234']"
      ]
     },
     "execution_count": 62,
     "metadata": {},
     "output_type": "execute_result"
    }
   ],
   "source": [
    "from nltk.tokenize import RegexpTokenizer\n",
    "\n",
    "text = \"He's a runner, but not a long_distance runner. His number is 1234.\"\n",
    "\n",
    "# tokenizer = RegexpTokenizer('[a-zA-Z0-9_]+')\n",
    "tokenizer = RegexpTokenizer('\\w+')\n",
    "tokens = tokenizer.tokenize(text)\n",
    "tokens"
   ]
  }
 ],
 "metadata": {
  "kernelspec": {
   "display_name": "Python 3",
   "language": "python",
   "name": "python3"
  },
  "language_info": {
   "codemirror_mode": {
    "name": "ipython",
    "version": 3
   },
   "file_extension": ".py",
   "mimetype": "text/x-python",
   "name": "python",
   "nbconvert_exporter": "python",
   "pygments_lexer": "ipython3",
   "version": "3.10.16"
  }
 },
 "nbformat": 4,
 "nbformat_minor": 2
}
