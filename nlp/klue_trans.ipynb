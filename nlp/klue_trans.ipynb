{
 "cells": [
  {
   "cell_type": "code",
   "execution_count": 7,
   "metadata": {},
   "outputs": [
    {
     "name": "stdout",
     "output_type": "stream",
     "text": [
      "통합 데이터셋이 combined_dataset.txt 파일에 생성되었습니다.\n",
      "총 1038개의 문장이 포함되어 있습니다.\n"
     ]
    }
   ],
   "source": [
    "import json\n",
    "\n",
    "# JSON 파일 읽기\n",
    "with open('klue-sts-v1.1_dev.json', 'r', encoding='utf-8') as file:\n",
    "    data = json.load(file)\n",
    "\n",
    "# 통합 데이터셋 생성 (id, sentence, label 형식)\n",
    "with open('combined_dataset.txt', 'w', encoding='utf-8') as output_file:\n",
    "    # 헤더 추가\n",
    "    output_file.write(\"id\\tsentence\\tlabel\\n\")\n",
    "    \n",
    "    for i, item in enumerate(data):\n",
    "        # 라벨 값 가져오기 (3.0 이상이면 1, 미만이면 0)\n",
    "        label_value = item['labels']['label']\n",
    "        binary_label = 1 if label_value >= 3.0 else 0\n",
    "        \n",
    "        # sentence1 추가 (id는 항목 인덱스_1 형식)\n",
    "        s1_id = i*2+1\n",
    "        s1 = item['sentence1'].replace('\\t', ' ').replace('\\n', ' ')\n",
    "        output_file.write(f\"{s1_id}\\t{s1}\\t{binary_label}\\n\")\n",
    "        \n",
    "        # sentence2 추가 (id는 항목 인덱스_2 형식)\n",
    "        s2_id = i*2+2\n",
    "        s2 = item['sentence2'].replace('\\t', ' ').replace('\\n', ' ')\n",
    "        output_file.write(f\"{s2_id}\\t{s2}\\t{binary_label}\\n\")\n",
    "\n",
    "print(f\"통합 데이터셋이 combined_dataset.txt 파일에 생성되었습니다.\")\n",
    "print(f\"총 {len(data)*2}개의 문장이 포함되어 있습니다.\")"
   ]
  }
 ],
 "metadata": {
  "kernelspec": {
   "display_name": "Python 3",
   "language": "python",
   "name": "python3"
  },
  "language_info": {
   "codemirror_mode": {
    "name": "ipython",
    "version": 3
   },
   "file_extension": ".py",
   "mimetype": "text/x-python",
   "name": "python",
   "nbconvert_exporter": "python",
   "pygments_lexer": "ipython3",
   "version": "3.10.16"
  }
 },
 "nbformat": 4,
 "nbformat_minor": 2
}
