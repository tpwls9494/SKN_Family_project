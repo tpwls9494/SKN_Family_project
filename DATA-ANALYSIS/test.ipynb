{
 "cells": [
  {
   "cell_type": "code",
   "execution_count": 11,
   "metadata": {},
   "outputs": [],
   "source": [
    "import numpy as np"
   ]
  },
  {
   "cell_type": "code",
   "execution_count": 19,
   "metadata": {},
   "outputs": [
    {
     "name": "stdout",
     "output_type": "stream",
     "text": [
      "(2, 2)\n",
      "float64\n",
      "float64\n",
      "[[9.88075317 1.9743305 ]\n",
      " [0.09757673 6.8652004 ]]\n"
     ]
    },
    {
     "data": {
      "text/plain": [
       "array([[9.88075317e+00, 1.97433050e+00],\n",
       "       [9.75767273e-02, 6.86520040e+00],\n",
       "       [1.76919629e+00, 1.35871918e-03],\n",
       "       [3.29151519e+00, 8.86549482e+00]])"
      ]
     },
     "execution_count": 19,
     "metadata": {},
     "output_type": "execute_result"
    }
   ],
   "source": [
    "a = np.random.random((2, 2)) * 10\n",
    "b = np.random.random((2, 2)) * 10\n",
    "print(a.shape)\n",
    "print(a.dtype)\n",
    "print(a.dtype.name)\n",
    "print(a.astype(float))\n",
    "np.concatenate((a, b), axis=0)"
   ]
  }
 ],
 "metadata": {
  "kernelspec": {
   "display_name": "Python 3",
   "language": "python",
   "name": "python3"
  },
  "language_info": {
   "codemirror_mode": {
    "name": "ipython",
    "version": 3
   },
   "file_extension": ".py",
   "mimetype": "text/x-python",
   "name": "python",
   "nbconvert_exporter": "python",
   "pygments_lexer": "ipython3",
   "version": "3.13.1"
  }
 },
 "nbformat": 4,
 "nbformat_minor": 2
}
