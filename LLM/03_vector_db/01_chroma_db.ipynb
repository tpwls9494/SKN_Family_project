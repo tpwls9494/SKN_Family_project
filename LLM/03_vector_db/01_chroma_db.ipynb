{
 "cells": [
  {
   "cell_type": "markdown",
   "metadata": {},
   "source": [
    "# Chroma DB"
   ]
  },
  {
   "cell_type": "code",
   "execution_count": 58,
   "metadata": {},
   "outputs": [
    {
     "name": "stderr",
     "output_type": "stream",
     "text": [
      "Filter: 100%|██████████| 11679/11679 [00:00<00:00, 61945.05 examples/s]\n"
     ]
    },
    {
     "data": {
      "text/plain": [
       "Dataset({\n",
       "    features: ['question', 'distractor3', 'distractor1', 'distractor2', 'correct_answer', 'support'],\n",
       "    num_rows: 10481\n",
       "})"
      ]
     },
     "execution_count": 58,
     "metadata": {},
     "output_type": "execute_result"
    }
   ],
   "source": [
    "# 데이터셋 로드 \n",
    "from datasets import load_dataset\n",
    "\n",
    "dataset = load_dataset('sciq', split='train')    # sciq : 과학 관련 질문 \n",
    "dataset = dataset.filter(lambda x: x['support'] != \"\")\n",
    "dataset"
   ]
  },
  {
   "cell_type": "code",
   "execution_count": 59,
   "metadata": {},
   "outputs": [
    {
     "name": "stdout",
     "output_type": "stream",
     "text": [
      "{'ids': [['61', '80']], 'embeddings': None, 'documents': [[None, None]], 'uris': None, 'data': None, 'metadatas': [[{'text': 'Mariana Ruiz Villarreal (LadyofHats) for CK-12 Foundation. The nitrogen cycle tracks the flow of nitrogen through an ecosystem . CC BY-NC 3.0.', 'type': 'support'}, {'text': 'All of the changes of state that occur between solid, liquid and gas are summarized in the diagram in the figure below. Freezing is the opposite of melting and both represent the equilibrium between the solid and liquid states. Evaporation occurs when a liquid turns to a gas. Condensation is the opposite of vaporization and both represent the equilibrium between the liquid and gas states. Deposition is the opposite of sublimation and both represent the equilibrium between the solid and gas states.', 'type': 'support'}]], 'distances': [[1.6950156688690186, 1.695570707321167]], 'included': [<IncludeEnum.distances: 'distances'>, <IncludeEnum.documents: 'documents'>, <IncludeEnum.metadatas: 'metadatas'>]}\n"
     ]
    }
   ],
   "source": [
    "# 필요한 모듈 임포트\n",
    "import chromadb\n",
    "from sentence_transformers import SentenceTransformer\n",
    "import torch\n",
    "\n",
    "# 1. 임베딩 모델 초기화 (올바른 인터페이스 사용)\n",
    "class CustomEmbeddingFunction:\n",
    "    def __init__(self, model_name):\n",
    "        self.model = SentenceTransformer(model_name)\n",
    "    \n",
    "    def __call__(self, input):  # 'texts' 대신 'input' 사용\n",
    "        # NumPy 변환을 건너뛰고 텐서에서 직접 리스트로 변환\n",
    "        embeddings = self.model.encode(input, convert_to_numpy=False)\n",
    "        return [tensor.cpu().detach().tolist() for tensor in embeddings]\n",
    "\n",
    "# 2. 임베딩 함수 생성\n",
    "embedding_function = CustomEmbeddingFunction('all-MiniLM-L6-v2')\n",
    "\n",
    "# 3. ChromaDB 클라이언트 초기화\n",
    "client = chromadb.Client()\n",
    "\n",
    "# 4. 기존 컬렉션이 있다면 삭제\n",
    "try:\n",
    "    client.delete_collection(\"my_collection\")\n",
    "except:\n",
    "    pass\n",
    "\n",
    "# 5. 새 컬렉션 생성 (임베딩 함수 지정)\n",
    "collection = client.create_collection(\n",
    "    name=\"my_collection\",\n",
    "    embedding_function=embedding_function\n",
    ")\n",
    "\n",
    "# 6. 데이터 준비\n",
    "supports = dataset['support'][:100]\n",
    "\n",
    "# 7. 임베딩 계산 (같은 커스텀 임베딩 함수 사용)\n",
    "support_embeddings = embedding_function(supports)\n",
    "\n",
    "# 8. 데이터 추가\n",
    "collection.add(\n",
    "    ids=[str(i) for i in range(100)],\n",
    "    embeddings=support_embeddings,\n",
    "    metadatas=[{'type': 'support', 'text': text} for text in supports]\n",
    ")\n",
    "\n",
    "# 9. 쿼리 실행\n",
    "query_text = ['This is a query document about vietnam']\n",
    "query_embedding = embedding_function(query_text)\n",
    "\n",
    "# 10. 임베딩을 직접 사용하여 쿼리\n",
    "results = collection.query(\n",
    "    query_embeddings=query_embedding,\n",
    "    n_results=2\n",
    ")\n",
    "\n",
    "print(results)"
   ]
  },
  {
   "cell_type": "markdown",
   "metadata": {},
   "source": [
    "### SciQ dataset 활용 ChromaDB 검색"
   ]
  },
  {
   "cell_type": "code",
   "execution_count": 13,
   "metadata": {},
   "outputs": [
    {
     "name": "stderr",
     "output_type": "stream",
     "text": [
      "Generating train split: 100%|██████████| 11679/11679 [00:00<00:00, 222182.65 examples/s]\n",
      "Generating validation split: 100%|██████████| 1000/1000 [00:00<00:00, 163100.95 examples/s]\n",
      "Generating test split: 100%|██████████| 1000/1000 [00:00<00:00, 147127.26 examples/s]\n"
     ]
    }
   ],
   "source": [
    "from datasets import load_dataset\n",
    "\n",
    "dataset = load_dataset('sciq', split='train')"
   ]
  },
  {
   "cell_type": "code",
   "execution_count": null,
   "metadata": {},
   "outputs": [],
   "source": [
    "# chroma db 클라이언트 객체 및 콜렉션 생성\n",
    "import chromadb\n",
    "\n",
    "client = chromadb.Client()\n",
    "collection = client.create_collection(name=\"sciq_support\")"
   ]
  },
  {
   "cell_type": "code",
   "execution_count": 37,
   "metadata": {},
   "outputs": [],
   "source": [
    "# 임베딩 모델 로드\n",
    "from sentence_transformers import SentenceTransformer\n",
    "import torch\n",
    "\n",
    "embedding_model = SentenceTransformer('all-MiniLM-L6-v2')\n",
    "\n",
    "supports = dataset['support'][:100]\n",
    "\n",
    "# NumPy 변환 과정을 건너뛰고 직접 텐서에서 리스트로 변환합니다\n",
    "embeddings = embedding_model.encode(supports, convert_to_numpy=False)\n",
    "support_embeddings = [tensor.cpu().detach().tolist() for tensor in embeddings]"
   ]
  },
  {
   "cell_type": "code",
   "execution_count": 38,
   "metadata": {},
   "outputs": [
    {
     "data": {
      "text/plain": [
       "100"
      ]
     },
     "execution_count": 38,
     "metadata": {},
     "output_type": "execute_result"
    }
   ],
   "source": [
    "len(support_embeddings)"
   ]
  },
  {
   "cell_type": "code",
   "execution_count": 43,
   "metadata": {},
   "outputs": [
    {
     "name": "stderr",
     "output_type": "stream",
     "text": [
      "Insert of existing embedding ID: 0\n",
      "Insert of existing embedding ID: 1\n",
      "Insert of existing embedding ID: 2\n",
      "Insert of existing embedding ID: 3\n",
      "Insert of existing embedding ID: 4\n",
      "Insert of existing embedding ID: 5\n",
      "Insert of existing embedding ID: 6\n",
      "Insert of existing embedding ID: 7\n",
      "Insert of existing embedding ID: 8\n",
      "Insert of existing embedding ID: 9\n",
      "Insert of existing embedding ID: 10\n",
      "Insert of existing embedding ID: 11\n",
      "Insert of existing embedding ID: 12\n",
      "Insert of existing embedding ID: 13\n",
      "Insert of existing embedding ID: 14\n",
      "Insert of existing embedding ID: 15\n",
      "Insert of existing embedding ID: 16\n",
      "Insert of existing embedding ID: 17\n",
      "Insert of existing embedding ID: 18\n",
      "Insert of existing embedding ID: 19\n",
      "Insert of existing embedding ID: 20\n",
      "Insert of existing embedding ID: 21\n",
      "Insert of existing embedding ID: 22\n",
      "Insert of existing embedding ID: 23\n",
      "Insert of existing embedding ID: 24\n",
      "Insert of existing embedding ID: 25\n",
      "Insert of existing embedding ID: 26\n",
      "Insert of existing embedding ID: 27\n",
      "Insert of existing embedding ID: 28\n",
      "Insert of existing embedding ID: 29\n",
      "Insert of existing embedding ID: 30\n",
      "Insert of existing embedding ID: 31\n",
      "Insert of existing embedding ID: 32\n",
      "Insert of existing embedding ID: 33\n",
      "Insert of existing embedding ID: 34\n",
      "Insert of existing embedding ID: 35\n",
      "Insert of existing embedding ID: 36\n",
      "Insert of existing embedding ID: 37\n",
      "Insert of existing embedding ID: 38\n",
      "Insert of existing embedding ID: 39\n",
      "Insert of existing embedding ID: 40\n",
      "Insert of existing embedding ID: 41\n",
      "Insert of existing embedding ID: 42\n",
      "Insert of existing embedding ID: 43\n",
      "Insert of existing embedding ID: 44\n",
      "Insert of existing embedding ID: 45\n",
      "Insert of existing embedding ID: 46\n",
      "Insert of existing embedding ID: 47\n",
      "Insert of existing embedding ID: 48\n",
      "Insert of existing embedding ID: 49\n",
      "Insert of existing embedding ID: 50\n",
      "Insert of existing embedding ID: 51\n",
      "Insert of existing embedding ID: 52\n",
      "Insert of existing embedding ID: 53\n",
      "Insert of existing embedding ID: 54\n",
      "Insert of existing embedding ID: 55\n",
      "Insert of existing embedding ID: 56\n",
      "Insert of existing embedding ID: 57\n",
      "Insert of existing embedding ID: 58\n",
      "Insert of existing embedding ID: 59\n",
      "Insert of existing embedding ID: 60\n",
      "Insert of existing embedding ID: 61\n",
      "Insert of existing embedding ID: 62\n",
      "Insert of existing embedding ID: 63\n",
      "Insert of existing embedding ID: 64\n",
      "Insert of existing embedding ID: 65\n",
      "Insert of existing embedding ID: 66\n",
      "Insert of existing embedding ID: 67\n",
      "Insert of existing embedding ID: 68\n",
      "Insert of existing embedding ID: 69\n",
      "Insert of existing embedding ID: 70\n",
      "Insert of existing embedding ID: 71\n",
      "Insert of existing embedding ID: 72\n",
      "Insert of existing embedding ID: 73\n",
      "Insert of existing embedding ID: 74\n",
      "Insert of existing embedding ID: 75\n",
      "Insert of existing embedding ID: 76\n",
      "Insert of existing embedding ID: 77\n",
      "Insert of existing embedding ID: 78\n",
      "Insert of existing embedding ID: 79\n",
      "Insert of existing embedding ID: 80\n",
      "Insert of existing embedding ID: 81\n",
      "Insert of existing embedding ID: 82\n",
      "Insert of existing embedding ID: 83\n",
      "Insert of existing embedding ID: 84\n",
      "Insert of existing embedding ID: 85\n",
      "Insert of existing embedding ID: 86\n",
      "Insert of existing embedding ID: 87\n",
      "Insert of existing embedding ID: 88\n",
      "Insert of existing embedding ID: 89\n",
      "Insert of existing embedding ID: 90\n",
      "Insert of existing embedding ID: 91\n",
      "Insert of existing embedding ID: 92\n",
      "Insert of existing embedding ID: 93\n",
      "Insert of existing embedding ID: 94\n",
      "Insert of existing embedding ID: 95\n",
      "Insert of existing embedding ID: 96\n",
      "Insert of existing embedding ID: 97\n",
      "Insert of existing embedding ID: 98\n",
      "Insert of existing embedding ID: 99\n",
      "Add of existing embedding ID: 0\n",
      "Add of existing embedding ID: 1\n",
      "Add of existing embedding ID: 2\n",
      "Add of existing embedding ID: 3\n",
      "Add of existing embedding ID: 4\n",
      "Add of existing embedding ID: 5\n",
      "Add of existing embedding ID: 6\n",
      "Add of existing embedding ID: 7\n",
      "Add of existing embedding ID: 8\n",
      "Add of existing embedding ID: 9\n",
      "Add of existing embedding ID: 10\n",
      "Add of existing embedding ID: 11\n",
      "Add of existing embedding ID: 12\n",
      "Add of existing embedding ID: 13\n",
      "Add of existing embedding ID: 14\n",
      "Add of existing embedding ID: 15\n",
      "Add of existing embedding ID: 16\n",
      "Add of existing embedding ID: 17\n",
      "Add of existing embedding ID: 18\n",
      "Add of existing embedding ID: 19\n",
      "Add of existing embedding ID: 20\n",
      "Add of existing embedding ID: 21\n",
      "Add of existing embedding ID: 22\n",
      "Add of existing embedding ID: 23\n",
      "Add of existing embedding ID: 24\n",
      "Add of existing embedding ID: 25\n",
      "Add of existing embedding ID: 26\n",
      "Add of existing embedding ID: 27\n",
      "Add of existing embedding ID: 28\n",
      "Add of existing embedding ID: 29\n",
      "Add of existing embedding ID: 30\n",
      "Add of existing embedding ID: 31\n",
      "Add of existing embedding ID: 32\n",
      "Add of existing embedding ID: 33\n",
      "Add of existing embedding ID: 34\n",
      "Add of existing embedding ID: 35\n",
      "Add of existing embedding ID: 36\n",
      "Add of existing embedding ID: 37\n",
      "Add of existing embedding ID: 38\n",
      "Add of existing embedding ID: 39\n",
      "Add of existing embedding ID: 40\n",
      "Add of existing embedding ID: 41\n",
      "Add of existing embedding ID: 42\n",
      "Add of existing embedding ID: 43\n",
      "Add of existing embedding ID: 44\n",
      "Add of existing embedding ID: 45\n",
      "Add of existing embedding ID: 46\n",
      "Add of existing embedding ID: 47\n",
      "Add of existing embedding ID: 48\n",
      "Add of existing embedding ID: 49\n",
      "Add of existing embedding ID: 50\n",
      "Add of existing embedding ID: 51\n",
      "Add of existing embedding ID: 52\n",
      "Add of existing embedding ID: 53\n",
      "Add of existing embedding ID: 54\n",
      "Add of existing embedding ID: 55\n",
      "Add of existing embedding ID: 56\n",
      "Add of existing embedding ID: 57\n",
      "Add of existing embedding ID: 58\n",
      "Add of existing embedding ID: 59\n",
      "Add of existing embedding ID: 60\n",
      "Add of existing embedding ID: 61\n",
      "Add of existing embedding ID: 62\n",
      "Add of existing embedding ID: 63\n",
      "Add of existing embedding ID: 64\n",
      "Add of existing embedding ID: 65\n",
      "Add of existing embedding ID: 66\n",
      "Add of existing embedding ID: 67\n",
      "Add of existing embedding ID: 68\n",
      "Add of existing embedding ID: 69\n",
      "Add of existing embedding ID: 70\n",
      "Add of existing embedding ID: 71\n",
      "Add of existing embedding ID: 72\n",
      "Add of existing embedding ID: 73\n",
      "Add of existing embedding ID: 74\n",
      "Add of existing embedding ID: 75\n",
      "Add of existing embedding ID: 76\n",
      "Add of existing embedding ID: 77\n",
      "Add of existing embedding ID: 78\n",
      "Add of existing embedding ID: 79\n",
      "Add of existing embedding ID: 80\n",
      "Add of existing embedding ID: 81\n",
      "Add of existing embedding ID: 82\n",
      "Add of existing embedding ID: 83\n",
      "Add of existing embedding ID: 84\n",
      "Add of existing embedding ID: 85\n",
      "Add of existing embedding ID: 86\n",
      "Add of existing embedding ID: 87\n",
      "Add of existing embedding ID: 88\n",
      "Add of existing embedding ID: 89\n",
      "Add of existing embedding ID: 90\n",
      "Add of existing embedding ID: 91\n",
      "Add of existing embedding ID: 92\n",
      "Add of existing embedding ID: 93\n",
      "Add of existing embedding ID: 94\n",
      "Add of existing embedding ID: 95\n",
      "Add of existing embedding ID: 96\n",
      "Add of existing embedding ID: 97\n",
      "Add of existing embedding ID: 98\n",
      "Add of existing embedding ID: 99\n"
     ]
    }
   ],
   "source": [
    "collection.add(\n",
    "    ids=[str(i) for i in range(0, 100)],\n",
    "    embeddings=support_embeddings,\n",
    "    metadatas=[{'type': 'support', 'text': text} for text in supports]\n",
    ")"
   ]
  },
  {
   "cell_type": "code",
   "execution_count": null,
   "metadata": {},
   "outputs": [],
   "source": [
    "# 앞서 정의한 CustomEmbeddingFunction 사용\n",
    "questions = dataset['question'][:3]\n",
    "question_embeddings = embedding_function(questions)\n",
    "\n",
    "results = collection.query(\n",
    "    query_embeddings=question_embeddings,\n",
    "    n_results=1\n",
    ")"
   ]
  },
  {
   "cell_type": "code",
   "execution_count": 46,
   "metadata": {},
   "outputs": [
    {
     "data": {
      "text/plain": [
       "{'ids': [['38'], ['1'], ['2']],\n",
       " 'embeddings': None,\n",
       " 'documents': [[None], [None], [None]],\n",
       " 'uris': None,\n",
       " 'data': None,\n",
       " 'metadatas': [[{'text': 'Agents of Decomposition The fungus-like protist saprobes are specialized to absorb nutrients from nonliving organic matter, such as dead organisms or their wastes. For instance, many types of oomycetes grow on dead animals or algae. Saprobic protists have the essential function of returning inorganic nutrients to the soil and water. This process allows for new plant growth, which in turn generates sustenance for other organisms along the food chain. Indeed, without saprobe species, such as protists, fungi, and bacteria, life would cease to exist as all organic carbon became “tied up” in dead organisms.',\n",
       "    'type': 'support'}],\n",
       "  [{'text': 'Without Coriolis Effect the global winds would blow north to south or south to north. But Coriolis makes them blow northeast to southwest or the reverse in the Northern Hemisphere. The winds blow northwest to southeast or the reverse in the southern hemisphere.',\n",
       "    'type': 'support'}],\n",
       "  [{'text': 'Summary Changes of state are examples of phase changes, or phase transitions. All phase changes are accompanied by changes in the energy of a system. Changes from a more-ordered state to a less-ordered state (such as a liquid to a gas) areendothermic. Changes from a less-ordered state to a more-ordered state (such as a liquid to a solid) are always exothermic. The conversion of a solid to a liquid is called fusion (or melting). The energy required to melt 1 mol of a substance is its enthalpy of fusion (ΔHfus). The energy change required to vaporize 1 mol of a substance is the enthalpy of vaporization (ΔHvap). The direct conversion of a solid to a gas is sublimation. The amount of energy needed to sublime 1 mol of a substance is its enthalpy of sublimation (ΔHsub) and is the sum of the enthalpies of fusion and vaporization. Plots of the temperature of a substance versus heat added or versus heating time at a constant rate of heating are calledheating curves. Heating curves relate temperature changes to phase transitions. A superheated liquid, a liquid at a temperature and pressure at which it should be a gas, is not stable. A cooling curve is not exactly the reverse of the heating curve because many liquids do not freeze at the expected temperature. Instead, they form a supercooled liquid, a metastable liquid phase that exists below the normal melting point. Supercooled liquids usually crystallize on standing, or adding a seed crystal of the same or another substance can induce crystallization.',\n",
       "    'type': 'support'}]],\n",
       " 'distances': [[1.1048439741134644],\n",
       "  [0.4666745662689209],\n",
       "  [0.9318017363548279]],\n",
       " 'included': [<IncludeEnum.distances: 'distances'>,\n",
       "  <IncludeEnum.documents: 'documents'>,\n",
       "  <IncludeEnum.metadatas: 'metadatas'>]}"
      ]
     },
     "execution_count": 46,
     "metadata": {},
     "output_type": "execute_result"
    }
   ],
   "source": [
    "results"
   ]
  },
  {
   "cell_type": "code",
   "execution_count": 52,
   "metadata": {},
   "outputs": [
    {
     "name": "stdout",
     "output_type": "stream",
     "text": [
      "Question: What type of organism is commonly used in preparation of foods such as cheese and yogurt?\n",
      "Support: Agents of Decomposition The fungus-like protist saprobes are specialized to absorb nutrients from nonliving organic matter, such as dead organisms or their wastes. For instance, many types of oomycetes grow on dead animals or algae. Saprobic protists have the essential function of returning inorganic nutrients to the soil and water. This process allows for new plant growth, which in turn generates sustenance for other organisms along the food chain. Indeed, without saprobe species, such as protists, fungi, and bacteria, life would cease to exist as all organic carbon became “tied up” in dead organisms.\n",
      "Question: What phenomenon makes global winds blow northeast to southwest or the reverse in the northern hemisphere and northwest to southeast or the reverse in the southern hemisphere?\n",
      "Support: Without Coriolis Effect the global winds would blow north to south or south to north. But Coriolis makes them blow northeast to southwest or the reverse in the Northern Hemisphere. The winds blow northwest to southeast or the reverse in the southern hemisphere.\n",
      "Question: Changes from a less-ordered state to a more-ordered state (such as a liquid to a solid) are always what?\n",
      "Support: Summary Changes of state are examples of phase changes, or phase transitions. All phase changes are accompanied by changes in the energy of a system. Changes from a more-ordered state to a less-ordered state (such as a liquid to a gas) areendothermic. Changes from a less-ordered state to a more-ordered state (such as a liquid to a solid) are always exothermic. The conversion of a solid to a liquid is called fusion (or melting). The energy required to melt 1 mol of a substance is its enthalpy of fusion (ΔHfus). The energy change required to vaporize 1 mol of a substance is the enthalpy of vaporization (ΔHvap). The direct conversion of a solid to a gas is sublimation. The amount of energy needed to sublime 1 mol of a substance is its enthalpy of sublimation (ΔHsub) and is the sum of the enthalpies of fusion and vaporization. Plots of the temperature of a substance versus heat added or versus heating time at a constant rate of heating are calledheating curves. Heating curves relate temperature changes to phase transitions. A superheated liquid, a liquid at a temperature and pressure at which it should be a gas, is not stable. A cooling curve is not exactly the reverse of the heating curve because many liquids do not freeze at the expected temperature. Instead, they form a supercooled liquid, a metastable liquid phase that exists below the normal melting point. Supercooled liquids usually crystallize on standing, or adding a seed crystal of the same or another substance can induce crystallization.\n"
     ]
    }
   ],
   "source": [
    "for i, q in enumerate(questions):\n",
    "    print('Question:', q)\n",
    "    print('Support:', results['metadatas'][i][0]['text'])"
   ]
  },
  {
   "cell_type": "markdown",
   "metadata": {},
   "source": [
    "### Chroma DB를 활용한 키워드 기반 검색"
   ]
  },
  {
   "cell_type": "code",
   "execution_count": 48,
   "metadata": {},
   "outputs": [],
   "source": [
    "documents = [\n",
    "    '인공지능은 인간의 작업을 자동화하는 기술이다.',\n",
    "    '기계 학습은 데이터에서 패턴을 학습하여 예측하는 기술이다.',\n",
    "    '벡터 데이터베이스는 유사도를 기반으로 데이터를 겁색하는 DB이다.'\n",
    "    ]"
   ]
  },
  {
   "cell_type": "code",
   "execution_count": null,
   "metadata": {},
   "outputs": [],
   "source": [
    "import chromadb\n",
    "from sentence_transformers import SentenceTransformer\n",
    "\n",
    "# ChromaDB 클라이언트, 컬렉션 생성\n",
    "client = chromadb.PersistentClient(path='./chroma_db')      # 해당 데이터에 경로를 지정\n",
    "collection = client.get_or_create_collection(name='ai_documents')\n",
    "\n",
    "# 텍스트 임베딩 모델 생성\n",
    "model = SentenceTransformer('all-MiniLM-L6-v2')"
   ]
  },
  {
   "cell_type": "code",
   "execution_count": null,
   "metadata": {},
   "outputs": [
    {
     "name": "stderr",
     "output_type": "stream",
     "text": [
      "Insert of existing embedding ID: 0\n",
      "Add of existing embedding ID: 0\n",
      "Insert of existing embedding ID: 1\n",
      "Add of existing embedding ID: 1\n",
      "Insert of existing embedding ID: 2\n",
      "Add of existing embedding ID: 2\n"
     ]
    }
   ],
   "source": [
    "# NumPy 변환을 건너뛰는 함수\n",
    "def encode_to_list(text):\n",
    "    # convert_to_numpy=False로 설정하여 텐서 반환\n",
    "    embedding_tensor = model.encode(text, convert_to_numpy=False)\n",
    "    # 텐서를 리스트로 직접 변환\n",
    "    if isinstance(embedding_tensor, list):\n",
    "        return [t.cpu().detach().tolist() for t in embedding_tensor]\n",
    "    else:\n",
    "        return embedding_tensor.cpu().detach().tolist()\n",
    "\n",
    "# 문서 추가\n",
    "for i, doc in enumerate(documents):\n",
    "    embedding = encode_to_list(doc)\n",
    "    collection.add(ids=[str(i)], embeddings=[embedding], metadatas=[{'text': doc}])"
   ]
  },
  {
   "cell_type": "code",
   "execution_count": 100,
   "metadata": {},
   "outputs": [
    {
     "name": "stdout",
     "output_type": "stream",
     "text": [
      "검색된 문서: As humanity picks up the pieces, following the conclusion of \"Transformers: Dark of the Moon,\" Autobots and Decepticons have all but vanished from the face of the planet. However, a group of powerful, ingenious businessman and scientists attempt to learn from past Transformer incursions and push the boundaries of technology beyond what they can control - all while an ancient, powerful Transformer menace sets Earth in his cross-hairs.\n",
      "검색된 문서: WALL·E is the last robot left on an Earth that has been overrun with garbage and all humans have fled to outer space. For 700 years he has continued to try and clean up the mess, but has developed some rather interesting human-like qualities. When a ship arrives with a sleek new type of robot, WALL·E thinks he's finally found a friend and stows away on the ship when it leaves.\n"
     ]
    }
   ],
   "source": [
    "query_keyword = 'AI'\n",
    "query_embedding = encode_to_list(query_keyword)\n",
    "results = collection.query(query_embeddings=query_embedding, n_results=2)\n",
    "\n",
    "for result in results['metadatas'][0]:\n",
    "    print('검색된 문서:', result['text'])"
   ]
  },
  {
   "cell_type": "markdown",
   "metadata": {},
   "source": [
    "### 영화 추천 시스템"
   ]
  },
  {
   "cell_type": "markdown",
   "metadata": {},
   "source": [
    "\n",
    "- title = 이걸로 찾기, overview = 유사도 파악(임베딩)\n",
    "- vector db에서 검색 시 추천영화 나오도록 하게 함"
   ]
  },
  {
   "cell_type": "code",
   "execution_count": null,
   "metadata": {},
   "outputs": [
    {
     "data": {
      "text/plain": [
       "Index(['budget', 'genres', 'homepage', 'id', 'keywords', 'original_language',\n",
       "       'original_title', 'overview', 'popularity', 'production_companies',\n",
       "       'production_countries', 'release_date', 'revenue', 'runtime',\n",
       "       'spoken_languages', 'status', 'tagline', 'title', 'vote_average',\n",
       "       'vote_count'],\n",
       "      dtype='object')"
      ]
     },
     "execution_count": 69,
     "metadata": {},
     "output_type": "execute_result"
    }
   ],
   "source": [
    "# 데이터셋 로드\n",
    "import pandas as pd\n",
    "df = pd.read_csv('./data/tmdb_5000_movies.csv')\n",
    "df.columns"
   ]
  },
  {
   "cell_type": "code",
   "execution_count": null,
   "metadata": {},
   "outputs": [],
   "source": [
    "# chroma db 클라이언트 객체 및 콜렉션 생성\n",
    "import chromadb\n",
    "\n",
    "client = chromadb.Client()\n",
    "collection = client.create_collection(name='movie_search')"
   ]
  },
  {
   "cell_type": "code",
   "execution_count": null,
   "metadata": {},
   "outputs": [],
   "source": [
    "# 임베딩 모델 로드\n",
    "from sentence_transformers import SentenceTransformer\n",
    "import torch\n",
    "\n",
    "embedding_model = SentenceTransformer('all-MiniLM-L6-v2')\n",
    "\n",
    "overviews = df['overview'][:100]\n",
    "\n",
    "# NumPy 변환 과정 건너 뜀\n",
    "embeddings = embedding_model.encode(overviews, convert_to_numpy=False)\n",
    "overview_embeddings = [tensor.cpu().detach().tolist() for tensor in embeddings]"
   ]
  },
  {
   "cell_type": "code",
   "execution_count": null,
   "metadata": {},
   "outputs": [],
   "source": [
    "# 내용들 벡터화 시킴\n",
    "collection.add(\n",
    "    ids=[str(i) for i in range(0, 100)],\n",
    "    embeddings=overview_embeddings,\n",
    "    metadatas=[{'type': 'overview', 'text': text} for text in overviews]\n",
    ")"
   ]
  },
  {
   "cell_type": "code",
   "execution_count": 90,
   "metadata": {},
   "outputs": [
    {
     "data": {
      "text/plain": [
       "{'ids': [['81'],\n",
       "  ['17'],\n",
       "  ['2'],\n",
       "  ['3'],\n",
       "  ['4'],\n",
       "  ['5'],\n",
       "  ['95'],\n",
       "  ['26'],\n",
       "  ['8'],\n",
       "  ['9']],\n",
       " 'embeddings': None,\n",
       " 'documents': [[None],\n",
       "  [None],\n",
       "  [None],\n",
       "  [None],\n",
       "  [None],\n",
       "  [None],\n",
       "  [None],\n",
       "  [None],\n",
       "  [None],\n",
       "  [None]],\n",
       " 'uris': None,\n",
       " 'data': None,\n",
       " 'metadatas': [[{'text': \"The untold story of Disney's most iconic villain from the 1959 classic 'Sleeping Beauty'. A beautiful, pure-hearted young woman, Maleficent has an idyllic life growing up in a peaceable forest kingdom, until one day when an invading army threatens the harmony of the land.  Maleficent rises to be the land's fiercest protector, but she ultimately suffers a ruthless betrayal – an act that begins to turn her heart into stone. Bent on revenge, Maleficent faces an epic battle with the invading King's successor and, as a result, places a curse upon his newborn infant Aurora. As the child grows, Maleficent realizes that Aurora holds the key to peace in the kingdom - and to Maleficent's true happiness as well.\",\n",
       "    'type': 'overview'}],\n",
       "  [{'text': \"Captain Jack Sparrow crosses paths with a woman from his past, and he's not sure if it's love -- or if she's a ruthless con artist who's using him to find the fabled Fountain of Youth. When she forces him aboard the Queen Anne's Revenge, the ship of the formidable pirate Blackbeard, Jack finds himself on an unexpected adventure in which he doesn't know who to fear more: Blackbeard or the woman from his past.\",\n",
       "    'type': 'overview'}],\n",
       "  [{'text': 'A cryptic message from Bond’s past sends him on a trail to uncover a sinister organization. While M battles political forces to keep the secret service alive, Bond peels back the layers of deceit to reveal the terrible truth behind SPECTRE.',\n",
       "    'type': 'overview'}],\n",
       "  [{'text': \"Following the death of District Attorney Harvey Dent, Batman assumes responsibility for Dent's crimes to protect the late attorney's reputation and is subsequently hunted by the Gotham City Police Department. Eight years later, Batman encounters the mysterious Selina Kyle and the villainous Bane, a new terrorist leader who overwhelms Gotham's finest. The Dark Knight resurfaces to protect a city that has branded him an enemy.\",\n",
       "    'type': 'overview'}],\n",
       "  [{'text': \"John Carter is a war-weary, former military captain who's inexplicably transported to the mysterious and exotic planet of Barsoom (Mars) and reluctantly becomes embroiled in an epic conflict. It's a world on the brink of collapse, and Carter rediscovers his humanity when he realizes the survival of Barsoom and its people rests in his hands.\",\n",
       "    'type': 'overview'}],\n",
       "  [{'text': 'The seemingly invincible Spider-Man goes up against an all-new crop of villain – including the shape-shifting Sandman. While Spider-Man’s superpowers are altered by an alien organism, his alter ego, Peter Parker, deals with nemesis Eddie Brock and also gets caught up in a love triangle.',\n",
       "    'type': 'overview'}],\n",
       "  [{'text': 'Interstellar chronicles the adventures of a group of explorers who make use of a newly discovered wormhole to surpass the limitations on human space travel and conquer the vast distances involved in an interstellar voyage.',\n",
       "    'type': 'overview'}],\n",
       "  [{'text': 'Following the events of Age of Ultron, the collective governments of the world pass an act designed to regulate all superhuman activity. This polarizes opinion amongst the Avengers, causing two factions to side with Iron Man or Captain America, which causes an epic battle between former allies.',\n",
       "    'type': 'overview'}],\n",
       "  [{'text': \"As Harry begins his sixth year at Hogwarts, he discovers an old book marked as 'Property of the Half-Blood Prince', and begins to learn more about Lord Voldemort's dark past.\",\n",
       "    'type': 'overview'}],\n",
       "  [{'text': 'Fearing the actions of a god-like Super Hero left unchecked, Gotham City’s own formidable, forceful vigilante takes on Metropolis’s most revered, modern-day savior, while the world wrestles with what sort of hero it really needs. And with Batman and Superman at war with one another, a new threat quickly arises, putting mankind in greater danger than it’s ever known before.',\n",
       "    'type': 'overview'}]],\n",
       " 'distances': [[1.4151747226715088],\n",
       "  [1.060114860534668],\n",
       "  [0.9778836965560913],\n",
       "  [0.9683777093887329],\n",
       "  [0.7897436618804932],\n",
       "  [0.8528634309768677],\n",
       "  [1.4398926496505737],\n",
       "  [0.7117043733596802],\n",
       "  [0.7448121309280396],\n",
       "  [0.9107694625854492]],\n",
       " 'included': [<IncludeEnum.distances: 'distances'>,\n",
       "  <IncludeEnum.documents: 'documents'>,\n",
       "  <IncludeEnum.metadatas: 'metadatas'>]}"
      ]
     },
     "execution_count": 90,
     "metadata": {},
     "output_type": "execute_result"
    }
   ],
   "source": [
    "# chroma db로 벡터화 사용\n",
    "titles = df['title'][:10]\n",
    "title_embeddings = embedding_function(titles)\n",
    "\n",
    "results = collection.query(\n",
    "    query_embeddings=title_embeddings,\n",
    "    n_results=1\n",
    ")\n",
    "\n",
    "results"
   ]
  },
  {
   "cell_type": "code",
   "execution_count": 91,
   "metadata": {},
   "outputs": [
    {
     "name": "stdout",
     "output_type": "stream",
     "text": [
      "Question: Avatar\n",
      "Support: The untold story of Disney's most iconic villain from the 1959 classic 'Sleeping Beauty'. A beautiful, pure-hearted young woman, Maleficent has an idyllic life growing up in a peaceable forest kingdom, until one day when an invading army threatens the harmony of the land.  Maleficent rises to be the land's fiercest protector, but she ultimately suffers a ruthless betrayal – an act that begins to turn her heart into stone. Bent on revenge, Maleficent faces an epic battle with the invading King's successor and, as a result, places a curse upon his newborn infant Aurora. As the child grows, Maleficent realizes that Aurora holds the key to peace in the kingdom - and to Maleficent's true happiness as well.\n",
      "Question: Pirates of the Caribbean: At World's End\n",
      "Support: Captain Jack Sparrow crosses paths with a woman from his past, and he's not sure if it's love -- or if she's a ruthless con artist who's using him to find the fabled Fountain of Youth. When she forces him aboard the Queen Anne's Revenge, the ship of the formidable pirate Blackbeard, Jack finds himself on an unexpected adventure in which he doesn't know who to fear more: Blackbeard or the woman from his past.\n",
      "Question: Spectre\n",
      "Support: A cryptic message from Bond’s past sends him on a trail to uncover a sinister organization. While M battles political forces to keep the secret service alive, Bond peels back the layers of deceit to reveal the terrible truth behind SPECTRE.\n",
      "Question: The Dark Knight Rises\n",
      "Support: Following the death of District Attorney Harvey Dent, Batman assumes responsibility for Dent's crimes to protect the late attorney's reputation and is subsequently hunted by the Gotham City Police Department. Eight years later, Batman encounters the mysterious Selina Kyle and the villainous Bane, a new terrorist leader who overwhelms Gotham's finest. The Dark Knight resurfaces to protect a city that has branded him an enemy.\n",
      "Question: John Carter\n",
      "Support: John Carter is a war-weary, former military captain who's inexplicably transported to the mysterious and exotic planet of Barsoom (Mars) and reluctantly becomes embroiled in an epic conflict. It's a world on the brink of collapse, and Carter rediscovers his humanity when he realizes the survival of Barsoom and its people rests in his hands.\n",
      "Question: Spider-Man 3\n",
      "Support: The seemingly invincible Spider-Man goes up against an all-new crop of villain – including the shape-shifting Sandman. While Spider-Man’s superpowers are altered by an alien organism, his alter ego, Peter Parker, deals with nemesis Eddie Brock and also gets caught up in a love triangle.\n",
      "Question: Tangled\n",
      "Support: Interstellar chronicles the adventures of a group of explorers who make use of a newly discovered wormhole to surpass the limitations on human space travel and conquer the vast distances involved in an interstellar voyage.\n",
      "Question: Avengers: Age of Ultron\n",
      "Support: Following the events of Age of Ultron, the collective governments of the world pass an act designed to regulate all superhuman activity. This polarizes opinion amongst the Avengers, causing two factions to side with Iron Man or Captain America, which causes an epic battle between former allies.\n",
      "Question: Harry Potter and the Half-Blood Prince\n",
      "Support: As Harry begins his sixth year at Hogwarts, he discovers an old book marked as 'Property of the Half-Blood Prince', and begins to learn more about Lord Voldemort's dark past.\n",
      "Question: Batman v Superman: Dawn of Justice\n",
      "Support: Fearing the actions of a god-like Super Hero left unchecked, Gotham City’s own formidable, forceful vigilante takes on Metropolis’s most revered, modern-day savior, while the world wrestles with what sort of hero it really needs. And with Batman and Superman at war with one another, a new threat quickly arises, putting mankind in greater danger than it’s ever known before.\n"
     ]
    }
   ],
   "source": [
    "for i, q in enumerate(titles):\n",
    "    print('Question:', q)\n",
    "    print('Support:', results['metadatas'][i][0]['text'])"
   ]
  },
  {
   "cell_type": "code",
   "execution_count": 96,
   "metadata": {},
   "outputs": [
    {
     "name": "stdout",
     "output_type": "stream",
     "text": [
      "Harry Potter and the Half-Blood Prince의 줄거리입니다. \n",
      " -> As Harry begins his sixth year at Hogwarts, he discovers an old book marked as 'Property of the Half-Blood Prince', and begins to learn more about Lord Voldemort's dark past.\n"
     ]
    }
   ],
   "source": [
    "movie_name = input('당신이 원하는 영화는 무엇인가요?')\n",
    "for i in range(len(df)):\n",
    "    if movie_name == df['title'][i]:\n",
    "        cnt = i\n",
    "        break\n",
    "    movie_embedding = embedding_model.encode(movie_name, convert_to_numpy=False).cpu().detach().tolist()\n",
    "    \n",
    "result = collection.query(\n",
    "    query_embeddings=[movie_embedding],\n",
    "    n_results=1\n",
    ")\n",
    "\n",
    "print(f\"{movie_name}의 줄거리입니다. \\n -> {result['metadatas'][0][0]['text']}\")"
   ]
  },
  {
   "cell_type": "code",
   "execution_count": 101,
   "metadata": {},
   "outputs": [
    {
     "name": "stdout",
     "output_type": "stream",
     "text": [
      "\n",
      "'John Carter'와(과) 비슷한 영화 추천:\n",
      "\n",
      "1. Battleship (유사도: -0.10)\n",
      "줄거리: When mankind beams a radio signal into space, a reply comes from ‘Planet G’, in the form of several alien crafts that splash down in the waters off Ha...\n",
      "\n",
      "2. Pirates of the Caribbean: At World's End (유사도: -0.10)\n",
      "줄거리: Captain Barbossa, long believed to be dead, has come back to life and is headed to the edge of the Earth with Will Turner and Elizabeth Swann. But not...\n",
      "\n",
      "3. Waterworld (유사도: -0.21)\n",
      "줄거리: In a futuristic world where the polar ice caps have melted and made Earth a liquid planet, a beautiful barmaid rescues a mutant seafarer from a floati...\n",
      "\n",
      "4. Iron Man 3 (유사도: -0.24)\n",
      "줄거리: When Tony Stark's world is torn apart by a formidable terrorist called the Mandarin, he starts an odyssey of rebuilding and retribution....\n",
      "\n",
      "5. Terminator Salvation (유사도: -0.24)\n",
      "줄거리: All grown up in post-apocalyptic 2018, John Connor must lead the resistance of humans against the increasingly dominating militaristic robots. But whe...\n"
     ]
    }
   ],
   "source": [
    "def recommend_movies(movie_name, top_n=5):\n",
    "    \"\"\"\n",
    "    사용자가 입력한 영화와 유사한 영화를 추천하는 함수\n",
    "    \n",
    "    Args:\n",
    "        movie_name (str): 사용자가 입력한 영화 제목\n",
    "        top_n (int): 추천할 영화 수\n",
    "    \n",
    "    Returns:\n",
    "        list: 추천 영화 정보 리스트\n",
    "    \"\"\"\n",
    "    # DataFrame에서 영화 제목 찾기\n",
    "    movie_idx = df[df['title'] == movie_name].index\n",
    "    \n",
    "    if not movie_idx.empty:\n",
    "        # 찾은 영화의 인덱스\n",
    "        idx = movie_idx[0]\n",
    "        \n",
    "        # 찾은 영화의 overview\n",
    "        movie_overview = df.loc[idx, 'overview']\n",
    "        \n",
    "        # 영화 줄거리로 임베딩 생성\n",
    "        movie_embedding = embedding_model.encode(movie_overview, convert_to_numpy=False).cpu().detach().tolist()\n",
    "        \n",
    "        # ChromaDB로 유사한 영화 검색 (top_n+1개 가져옴 - 자기 자신 포함될 수 있으므로)\n",
    "        results = collection.query(\n",
    "            query_embeddings=[movie_embedding],\n",
    "            n_results=top_n+1\n",
    "        )\n",
    "        \n",
    "        # 추천 영화 정보 저장할 리스트\n",
    "        recommendations = []\n",
    "        \n",
    "        # 결과 중에서 입력 영화와 다른 영화들만 선택\n",
    "        for i, metadata in enumerate(results['metadatas'][0]):\n",
    "            # 검색된 영화의 줄거리\n",
    "            found_overview = metadata['text']\n",
    "            \n",
    "            # 검색된 영화의 제목 찾기\n",
    "            found_idx = df[df['overview'] == found_overview].index\n",
    "            \n",
    "            if not found_idx.empty:\n",
    "                found_title = df.loc[found_idx[0], 'title']\n",
    "                \n",
    "                # 입력한 영화와 다른 경우에만 추가\n",
    "                if found_title != movie_name:\n",
    "                    # 유사도 점수 계산 (거리가 작을수록 유사함)\n",
    "                    similarity_score = 1 - results['distances'][0][i]  # 거리를 유사도로 변환\n",
    "                    \n",
    "                    recommendations.append({\n",
    "                        'title': found_title,\n",
    "                        'overview': found_overview,\n",
    "                        'similarity': similarity_score\n",
    "                    })\n",
    "                    \n",
    "                    # top_n개 채웠으면 종료\n",
    "                    if len(recommendations) >= top_n:\n",
    "                        break\n",
    "        \n",
    "        return recommendations\n",
    "    else:\n",
    "        return []\n",
    "\n",
    "# 사용 예시\n",
    "movie_name = input('어떤 영화와 비슷한 영화를 추천받고 싶으신가요? ')\n",
    "recommendations = recommend_movies(movie_name)\n",
    "\n",
    "if recommendations:\n",
    "    print(f\"\\n'{movie_name}'와(과) 비슷한 영화 추천:\")\n",
    "    for i, movie in enumerate(recommendations, 1):\n",
    "        print(f\"\\n{i}. {movie['title']} (유사도: {movie['similarity']:.2f})\")\n",
    "        print(f\"줄거리: {movie['overview'][:150]}...\")  # 줄거리는 150자만 보여주기\n",
    "else:\n",
    "    print(f\"'{movie_name}' 영화를 찾을 수 없거나 추천할 영화가 없습니다.\")"
   ]
  }
 ],
 "metadata": {
  "kernelspec": {
   "display_name": "vectordb_env",
   "language": "python",
   "name": "python3"
  },
  "language_info": {
   "codemirror_mode": {
    "name": "ipython",
    "version": 3
   },
   "file_extension": ".py",
   "mimetype": "text/x-python",
   "name": "python",
   "nbconvert_exporter": "python",
   "pygments_lexer": "ipython3",
   "version": "3.9.21"
  }
 },
 "nbformat": 4,
 "nbformat_minor": 2
}
