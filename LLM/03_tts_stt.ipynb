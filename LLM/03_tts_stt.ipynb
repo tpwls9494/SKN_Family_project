{
  "cells": [
    {
      "cell_type": "markdown",
      "metadata": {
        "id": "wuq3mTbToq1C"
      },
      "source": [
        "# gtts"
      ]
    },
    {
      "cell_type": "code",
      "execution_count": 3,
      "metadata": {
        "colab": {
          "base_uri": "https://localhost:8080/"
        },
        "id": "wybhmZq3omDB",
        "outputId": "aae961c7-09cd-4932-e777-d1e19d6a1920"
      },
      "outputs": [],
      "source": [
        "#!pip install SpeechRecognition"
      ]
    },
    {
      "cell_type": "code",
      "execution_count": 10,
      "metadata": {},
      "outputs": [
        {
          "name": "stdout",
          "output_type": "stream",
          "text": [
            "Collecting gTTS\n",
            "  Downloading gTTS-2.5.4-py3-none-any.whl.metadata (4.1 kB)\n",
            "Requirement already satisfied: requests<3,>=2.27 in /usr/local/lib/python3.10/site-packages (from gTTS) (2.32.3)\n",
            "Requirement already satisfied: click<8.2,>=7.1 in /usr/local/lib/python3.10/site-packages (from gTTS) (8.1.8)\n",
            "Requirement already satisfied: charset-normalizer<4,>=2 in /usr/local/lib/python3.10/site-packages (from requests<3,>=2.27->gTTS) (3.4.1)\n",
            "Requirement already satisfied: idna<4,>=2.5 in /usr/local/lib/python3.10/site-packages (from requests<3,>=2.27->gTTS) (3.10)\n",
            "Requirement already satisfied: urllib3<3,>=1.21.1 in /usr/local/lib/python3.10/site-packages (from requests<3,>=2.27->gTTS) (2.3.0)\n",
            "Requirement already satisfied: certifi>=2017.4.17 in /usr/local/lib/python3.10/site-packages (from requests<3,>=2.27->gTTS) (2025.1.31)\n",
            "Downloading gTTS-2.5.4-py3-none-any.whl (29 kB)\n",
            "Installing collected packages: gTTS\n",
            "Successfully installed gTTS-2.5.4\n",
            "\n",
            "\u001b[1m[\u001b[0m\u001b[34;49mnotice\u001b[0m\u001b[1;39;49m]\u001b[0m\u001b[39;49m A new release of pip is available: \u001b[0m\u001b[31;49m25.0\u001b[0m\u001b[39;49m -> \u001b[0m\u001b[32;49m25.0.1\u001b[0m\n",
            "\u001b[1m[\u001b[0m\u001b[34;49mnotice\u001b[0m\u001b[1;39;49m]\u001b[0m\u001b[39;49m To update, run: \u001b[0m\u001b[32;49mpython3.10 -m pip install --upgrade pip\u001b[0m\n"
          ]
        }
      ],
      "source": [
        "# ! brew install portaudio\n",
        "# !pip install pyaudio\n",
        "# !pip install gTTS"
      ]
    },
    {
      "cell_type": "code",
      "execution_count": 18,
      "metadata": {
        "id": "O76ynunGovUp"
      },
      "outputs": [],
      "source": [
        "from gtts import gTTS\n",
        "\n",
        "tts = gTTS(text=\"안녕하세요. 저는 다람쥐입니다. 좋은 아침입니다!\", lang='ko')\n",
        "\n",
        "tts.save('gtts_output.mp3')"
      ]
    },
    {
      "cell_type": "code",
      "execution_count": 15,
      "metadata": {
        "colab": {
          "base_uri": "https://localhost:8080/",
          "height": 525
        },
        "id": "TpMoD0WypXBa",
        "outputId": "800eccc4-a819-48d5-c68b-5bccda7feb38"
      },
      "outputs": [
        {
          "name": "stdout",
          "output_type": "stream",
          "text": [
            "말씀하세요.\n"
          ]
        },
        {
          "ename": "AttributeError",
          "evalue": "'Recognizer' object has no attribute 'recognizer_google'",
          "output_type": "error",
          "traceback": [
            "\u001b[0;31m---------------------------------------------------------------------------\u001b[0m",
            "\u001b[0;31mAttributeError\u001b[0m                            Traceback (most recent call last)",
            "Cell \u001b[0;32mIn[15], line 9\u001b[0m\n\u001b[1;32m      7\u001b[0m \u001b[38;5;28mprint\u001b[39m(\u001b[38;5;124m'\u001b[39m\u001b[38;5;124m말씀하세요.\u001b[39m\u001b[38;5;124m'\u001b[39m)\n\u001b[1;32m      8\u001b[0m audio \u001b[38;5;241m=\u001b[39m recognizer\u001b[38;5;241m.\u001b[39mlisten(source)\n\u001b[0;32m----> 9\u001b[0m txt \u001b[38;5;241m=\u001b[39m \u001b[43mrecognizer\u001b[49m\u001b[38;5;241;43m.\u001b[39;49m\u001b[43mrecognizer_google\u001b[49m(audio, language\u001b[38;5;241m=\u001b[39m\u001b[38;5;124m'\u001b[39m\u001b[38;5;124mko-KR\u001b[39m\u001b[38;5;124m'\u001b[39m)\n\u001b[1;32m     10\u001b[0m \u001b[38;5;28mprint\u001b[39m(txt)\n",
            "\u001b[0;31mAttributeError\u001b[0m: 'Recognizer' object has no attribute 'recognizer_google'"
          ]
        }
      ],
      "source": [
        "import speech_recognition as sr\n",
        "\n",
        "recognizer = sr.Recognizer()\n",
        "\n",
        "while True:\n",
        "  with sr.Microphone() as source:\n",
        "    print('말씀하세요.')\n",
        "    audio = recognizer.listen(source)\n",
        "    txt = recognizer.recognizer_google(audio, language='ko-KR')\n",
        "    print(txt)\n"
      ]
    },
    {
      "cell_type": "code",
      "execution_count": null,
      "metadata": {},
      "outputs": [
        {
          "name": "stdout",
          "output_type": "stream",
          "text": [
            "Channels:\n",
            " - conda-forge\n",
            "Platform: osx-64\n",
            "Collecting package metadata (repodata.json): done\n",
            "Solving environment: done\n",
            "\n",
            "# All requested packages already installed.\n",
            "\n"
          ]
        }
      ],
      "source": [
        "#!conda install -c conda-forge ffmpeg -y"
      ]
    },
    {
      "cell_type": "code",
      "execution_count": 27,
      "metadata": {},
      "outputs": [
        {
          "name": "stdout",
          "output_type": "stream",
          "text": [
            "안녕하세요 저는 다람쥐입니다 좋은 아침입니다\n"
          ]
        }
      ],
      "source": [
        "from pydub import AudioSegment\n",
        "import speech_recognition as sr\n",
        "\n",
        "# .mp3 -> wav변환\n",
        "audio = AudioSegment.from_mp3('gtts_output.mp3')\n",
        "audio.export('gtts_output_wav.wav', format='wav')\n",
        "\n",
        "# 파일 로드\n",
        "r = sr.Recognizer()\n",
        "input_audio = sr.AudioFile('gtts_output_wav.wav')\n",
        "\n",
        "# 음성 데이터 읽기\n",
        "with input_audio as source:\n",
        "    audio = r.record(source)\n",
        "\n",
        "# 음성 데이터 -> 텍스트 변환\n",
        "result_txt = r.recognize_google(audio_data=audio, language='ko_KR')\n",
        "print(result_txt)"
      ]
    },
    {
      "cell_type": "code",
      "execution_count": null,
      "metadata": {},
      "outputs": [],
      "source": [
        "import yt_dlp\n",
        "\n",
        "url = \"https://www.youtube.com/watch?v=KhEAe2_T-4c\"\n",
        "output_path = 'youtube_output'\n",
        "\n",
        "ydl_opts = {\n",
        "    'format': 'bestaudio/best',\n",
        "    'outtmpl': output_path,\n",
        "    'postprocessors': [{\n",
        "        'key': 'FFmpegExtracAudio',\n",
        "        'preferredcodec': 'mp3',\n",
        "        'preferredquality': '192'\n",
        "    }]\n",
        "}\n",
        "\n",
        "with yt_dlp.Youtube\n",
        "\n",
        "print('')"
      ]
    }
  ],
  "metadata": {
    "colab": {
      "provenance": []
    },
    "kernelspec": {
      "display_name": "Python 3",
      "name": "python3"
    },
    "language_info": {
      "codemirror_mode": {
        "name": "ipython",
        "version": 3
      },
      "file_extension": ".py",
      "mimetype": "text/x-python",
      "name": "python",
      "nbconvert_exporter": "python",
      "pygments_lexer": "ipython3",
      "version": "3.10.16"
    }
  },
  "nbformat": 4,
  "nbformat_minor": 0
}
