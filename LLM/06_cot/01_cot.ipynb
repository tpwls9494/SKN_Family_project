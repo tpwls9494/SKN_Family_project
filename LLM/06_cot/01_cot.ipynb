{
 "cells": [
  {
   "cell_type": "code",
   "execution_count": 1,
   "metadata": {},
   "outputs": [
    {
     "data": {
      "text/plain": [
       "True"
      ]
     },
     "execution_count": 1,
     "metadata": {},
     "output_type": "execute_result"
    }
   ],
   "source": [
    "from dotenv import load_dotenv\n",
    "load_dotenv()"
   ]
  },
  {
   "cell_type": "code",
   "execution_count": 3,
   "metadata": {},
   "outputs": [],
   "source": [
    "import openai\n",
    "client = openai.OpenAI()"
   ]
  },
  {
   "cell_type": "markdown",
   "metadata": {},
   "source": [
    "# 일반 프롬프트 vs Zero-shot CoT"
   ]
  },
  {
   "cell_type": "code",
   "execution_count": 4,
   "metadata": {},
   "outputs": [],
   "source": [
    "# 일반 프롬프트\n",
    "prompt = '123 x 31은 얼마인가요?'\n",
    "\n",
    "# Zero shot CoT 적용 프롬프트\n",
    "cot_prompt = '단계별로 생각해보세요: 123 x 31은 얼마인가요?'\n",
    "\n",
    "res = client.chat.completions.create(\n",
    "    model='gpt-4',\n",
    "    messages=[{'role':'user', 'content':prompt}]\n",
    ")\n",
    "\n",
    "cot_res = client.chat.completions.create(\n",
    "    model='gpt-4',\n",
    "    messages=[{'role':'user', 'content':cot_prompt}]\n",
    ")"
   ]
  },
  {
   "cell_type": "code",
   "execution_count": 5,
   "metadata": {},
   "outputs": [
    {
     "data": {
      "text/plain": [
       "ChatCompletion(id='chatcmpl-BARf03hX6prEDCcZeUerHFyxzGe6c', choices=[Choice(finish_reason='stop', index=0, logprobs=None, message=ChatCompletionMessage(content='123 x 31 = 3813', refusal=None, role='assistant', audio=None, function_call=None, tool_calls=None, annotations=[]))], created=1741829306, model='gpt-4-0613', object='chat.completion', service_tier='default', system_fingerprint=None, usage=CompletionUsage(completion_tokens=9, prompt_tokens=20, total_tokens=29, completion_tokens_details=CompletionTokensDetails(accepted_prediction_tokens=0, audio_tokens=0, reasoning_tokens=0, rejected_prediction_tokens=0), prompt_tokens_details=PromptTokensDetails(audio_tokens=0, cached_tokens=0)))"
      ]
     },
     "execution_count": 5,
     "metadata": {},
     "output_type": "execute_result"
    }
   ],
   "source": [
    "res"
   ]
  },
  {
   "cell_type": "code",
   "execution_count": 7,
   "metadata": {},
   "outputs": [
    {
     "data": {
      "text/plain": [
       "ChatCompletion(id='chatcmpl-BARf1JUyqSQ6uPrdXjJho1AqwnY0v', choices=[Choice(finish_reason='stop', index=0, logprobs=None, message=ChatCompletionMessage(content='123 x 31을 계산하기 위해선 아래와 같은 단계를 거칩니다.\\n\\n단계 1: 123 에 1를 곱하세요. -> 123\\n단계 2: 123 에 30 을 곱하세요. -> 3690\\n단계 3: 단계 1에서 계산한 123과 단계 2에서 계산한 3690을 합하세요. -> 3813\\n\\n따라서, 123 x 31 = 3813입니다.', refusal=None, role='assistant', audio=None, function_call=None, tool_calls=None, annotations=[]))], created=1741829307, model='gpt-4-0613', object='chat.completion', service_tier='default', system_fingerprint=None, usage=CompletionUsage(completion_tokens=131, prompt_tokens=35, total_tokens=166, completion_tokens_details=CompletionTokensDetails(accepted_prediction_tokens=0, audio_tokens=0, reasoning_tokens=0, rejected_prediction_tokens=0), prompt_tokens_details=PromptTokensDetails(audio_tokens=0, cached_tokens=0)))"
      ]
     },
     "execution_count": 7,
     "metadata": {},
     "output_type": "execute_result"
    }
   ],
   "source": [
    "cot_res"
   ]
  },
  {
   "cell_type": "markdown",
   "metadata": {},
   "source": [
    "### Few-shot CoT"
   ]
  },
  {
   "cell_type": "code",
   "execution_count": 11,
   "metadata": {},
   "outputs": [],
   "source": [
    "few_shot_cot = '''\n",
    "123 x 31을 단계별로 계산해 보겠습니다.\n",
    "\n",
    "1. 123를 분해합니다: ( 123 = 100 + 20 + 3 )\n",
    "2. 각 항을 31과 곱합니다:\n",
    "( 100 \\times 31 = 3100 )\n",
    "( 20 \\times 31 = 620 )\n",
    "( 3 \\times 31 = 93 )\n",
    "\n",
    "3. 이제 이 결과들을 더합니다:\n",
    "( 3100 + 620 + 93 )\n",
    "\n",
    "4. 계산을 진행하면:\n",
    "( 3100 + 620 = 3720 )\n",
    "( 3720 + 93 = 3813 )\n",
    "\n",
    "따라서, ( 123 \\times 31 = 3813 )입니다.\n",
    "\n",
    "Q: 789 x 456 은 얼마인가요?\n",
    "A: \n",
    "'''\n",
    "\n",
    "res = client.chat.completions.create(\n",
    "    model='gpt-4',\n",
    "    messages=[{'role':'user', 'content':few_shot_cot}]\n",
    ")"
   ]
  },
  {
   "cell_type": "code",
   "execution_count": 12,
   "metadata": {},
   "outputs": [
    {
     "name": "stdout",
     "output_type": "stream",
     "text": [
      "1. 789를 분해합니다: (789 = 700 + 80 + 9)\n",
      "2. 각 항을 456과 곱합니다:\n",
      "(700 * 456 = 319200)\n",
      "(80 * 456 = 36480)\n",
      "(9 * 456 = 4104)\n",
      "3. 이제 이 결과들을 더합니다:\n",
      "(319200 + 36480 + 4104)\n",
      "4. 계산을 진행하면:\n",
      "(319200 + 36480 = 355680)\n",
      "(355680 + 4104 = 359784)\n",
      "\n",
      "따라서, (789 * 456 = 359784)입니다.\n"
     ]
    }
   ],
   "source": [
    "print(res.choices[0].message.content)"
   ]
  },
  {
   "cell_type": "markdown",
   "metadata": {},
   "source": [
    "### 논리 문제 해결"
   ]
  },
  {
   "cell_type": "code",
   "execution_count": 13,
   "metadata": {},
   "outputs": [],
   "source": [
    "prompt = \"앨리스(Alice)는 밥(Bob)보다 나이가 많다. 밥(Bob)은 찰리(Charlie)보다 나이가 많다. 데이비드(David)는 앨리스보다 어리지만, 에밀리(Emily)보다는 많다. 찰리(Charlie)는 프랭크(Frank)보다 많다. 에밀리(Emily)는 찰리보다 나이가 많지만, 밥보다는 어리다. 프랭크(Frank)는 데이비드보다 어리다.\"\n",
    "cot_prompt = \"단계적으로 생각해서 대답해주세요: 앨리스(Alice)는 밥(Bob)보다 나이가 많다. 밥(Bob)은 찰리(Charlie)보다 나이가 많다. 데이비드(David)는 앨리스보다 어리지만, 에밀리(Emily)보다는 많다. 찰리(Charlie)는 프랭크(Frank)보다 많다. 에밀리(Emily)는 찰리보다 나이가 많지만, 밥보다는 어리다. 프랭크(Frank)는 데이비드보다 어리다.\""
   ]
  },
  {
   "cell_type": "code",
   "execution_count": 14,
   "metadata": {},
   "outputs": [],
   "source": [
    "res = client.chat.completions.create(\n",
    "    model='gpt-4',\n",
    "    messages=[{'role':'user', 'content':prompt}]\n",
    ")\n",
    "\n",
    "cot_res = client.chat.completions.create(\n",
    "    model='gpt-4',\n",
    "    messages=[{'role':'user', 'content':cot_prompt}]\n",
    ")"
   ]
  },
  {
   "cell_type": "code",
   "execution_count": null,
   "metadata": {},
   "outputs": [],
   "source": [
    "print(res.choices[0].message.content)"
   ]
  },
  {
   "cell_type": "code",
   "execution_count": null,
   "metadata": {},
   "outputs": [],
   "source": [
    "print(cot_res.choices[0].message.content)"
   ]
  },
  {
   "cell_type": "markdown",
   "metadata": {},
   "source": [
    "### 코드 디버깅"
   ]
  },
  {
   "cell_type": "code",
   "execution_count": 18,
   "metadata": {},
   "outputs": [],
   "source": [
    "prompt = \"\"\"\n",
    "다음과 같이 코드를 작성했더니 에라가 발생합니다. 왜죠?\n",
    "\n",
    "def add_numbers(a, b):\n",
    "return a + b\n",
    "\n",
    "print(add_numbers(1, 2))\n",
    "\"\"\"\n",
    "\n",
    "cot_prompt = \"\"\"\n",
    "다음과 같이 코드를 작성했더니 에라가 발생합니다.\n",
    "실수가 무엇인지 찾아 단계별로 설명해 주세요.\n",
    "\n",
    "def add_numbers(a, b):\n",
    "return a + b\n",
    "\n",
    "print(add_numbers(1, 2))\n",
    "\"\"\""
   ]
  },
  {
   "cell_type": "code",
   "execution_count": null,
   "metadata": {},
   "outputs": [],
   "source": [
    "res = client.chat.completions.create(\n",
    "    model='gpt-4',\n",
    "    messages=[{'role':'user', 'content':prompt}]\n",
    ")\n",
    "\n",
    "cot_res = client.chat.completions.create(\n",
    "    model='gpt-4',\n",
    "    messages=[{'role':'user', 'content':cot_prompt}]\n",
    ")"
   ]
  },
  {
   "cell_type": "code",
   "execution_count": null,
   "metadata": {},
   "outputs": [],
   "source": [
    "print(cot_res.choices[0].message.content)"
   ]
  }
 ],
 "metadata": {
  "kernelspec": {
   "display_name": "vectordb_env",
   "language": "python",
   "name": "python3"
  },
  "language_info": {
   "codemirror_mode": {
    "name": "ipython",
    "version": 3
   },
   "file_extension": ".py",
   "mimetype": "text/x-python",
   "name": "python",
   "nbconvert_exporter": "python",
   "pygments_lexer": "ipython3",
   "version": "3.9.21"
  }
 },
 "nbformat": 4,
 "nbformat_minor": 2
}
