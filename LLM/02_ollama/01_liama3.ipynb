{
 "cells": [
  {
   "cell_type": "markdown",
   "metadata": {},
   "source": [
    "# Ollama를 이용한 LLaMA3 모델 사용"
   ]
  },
  {
   "cell_type": "code",
   "execution_count": null,
   "metadata": {},
   "outputs": [],
   "source": [
    "!pip install ollama"
   ]
  },
  {
   "cell_type": "code",
   "execution_count": null,
   "metadata": {},
   "outputs": [
    {
     "data": {
      "text/plain": [
       "GenerateResponse(model='llama3', created_at='2025-03-06T02:06:16.562277Z', done=True, done_reason='stop', total_duration=38393257866, load_duration=8252027424, prompt_eval_count=29, prompt_eval_duration=6270000000, eval_count=78, eval_duration=23862000000, response='😊\\n\\nAI (Artificial Intelligence)는 컴퓨터가 지능적으로 작동하는 기술입니다. 사람의 지성을模擬하여 학습하고 문제를 해결하는 방식으로, 여러 분야에 적용됩니다. AI는 자동화, 예측, 분석 등을 가능하게 하여 업무 효율을 높이고 삶을 편리하게 합니다. 🤖', context=[128006, 882, 128007, 271, 101193, 116024, 11, 15592, 18918, 104008, 32179, 17835, 49011, 100, 35495, 105131, 89881, 102893, 114942, 34983, 59269, 246, 13, 128009, 128006, 78191, 128007, 271, 76460, 232, 271, 15836, 320, 9470, 16895, 22107, 114484, 118209, 126692, 20565, 67890, 67119, 104182, 69332, 58189, 44005, 113094, 80052, 13, 102745, 21028, 67890, 111490, 54872, 101658, 105, 83290, 102533, 36630, 101360, 107651, 18918, 125347, 44005, 75908, 77437, 43139, 11, 110714, 127290, 19954, 115839, 114409, 13, 15592, 16969, 114153, 57390, 11, 96717, 115394, 11, 109862, 120908, 96451, 102893, 55000, 58126, 107022, 100981, 111516, 106304, 18359, 108499, 109816, 124883, 18359, 105613, 29102, 102893, 109670, 13, 11410, 97, 244])"
      ]
     },
     "execution_count": 3,
     "metadata": {},
     "output_type": "execute_result"
    }
   ],
   "source": [
    "import ollama\n",
    "\n",
    "# prompt = \"Explain AI is simple terms\"\n",
    "prompt = \"안녕, AI를 한국어로 짧고 간결하게 설명해줘.\"\n",
    "response = ollama.generate(model='llama3', prompt=prompt)\n",
    "\n",
    "response"
   ]
  },
  {
   "cell_type": "markdown",
   "metadata": {},
   "source": [
    "### 2. 입력 프롬프트에 따른 출력 변화"
   ]
  },
  {
   "cell_type": "code",
   "execution_count": 5,
   "metadata": {},
   "outputs": [
    {
     "name": "stdout",
     "output_type": "stream",
     "text": [
      "[ Explain AI in simple terms.What is artificial intelligence?Can you describe how AI works?Give me a short introduction to artificial intelligence ]\n",
      "I'd be happy to explain AI in simple terms.\n",
      "\n",
      "**What is Artificial Intelligence (AI)?**\n",
      "\n",
      "Artificial Intelligence refers to the ability of machines, such as computers or robots, to perform tasks that would typically require human intelligence, like learning, problem-solving, decision-making, and perception. In other words, AI enables machines to think and act like humans!\n",
      "\n",
      "**How does AI work?**\n",
      "\n",
      "Imagine you're playing a game with a friend. You make moves, and your friend responds accordingly. If you keep playing, you start to learn patterns and strategies from each other's moves. This is similar to how AI works:\n",
      "\n",
      "1. **Data Input**: AI systems are fed massive amounts of data (like images, text, or audio) which serves as the foundation for learning.\n",
      "2. **Pattern Recognition**: The system analyzes this data, looking for patterns, relationships, and rules that help it understand what's happening.\n",
      "3. **Learning**: Based on this analysis, the AI system learns to make predictions, classify objects, or even generate new ideas (like music, text, or images).\n",
      "4. **Decision-Making**: When faced with a new situation or task, the AI system uses its learned patterns and rules to make decisions quickly and efficiently.\n",
      "5. **Improvement**: Through continuous exposure to data and interactions, the AI system refines its abilities, adapting to changing situations and getting better over time.\n",
      "\n",
      "**Types of Artificial Intelligence:**\n",
      "\n",
      "There are three main categories of AI:\n",
      "\n",
      "1. **Narrow or Weak AI**: Designed for specific tasks, like image recognition or speech recognition.\n",
      "2. **General or Strong AI**: Aims to replicate human intelligence, allowing the AI system to learn, reason, and solve complex problems across multiple domains.\n",
      "3. **Superintelligence**: Theoretical AI that could surpass human intelligence in all aspects, revolutionizing society.\n",
      "\n",
      "**Applications of Artificial Intelligence:**\n",
      "\n",
      "AI is being used in various fields, including:\n",
      "\n",
      "1. **Healthcare**: Diagnosing diseases, developing personalized treatment plans, and analyzing patient data.\n",
      "2. **Finance**: Automating financial tasks, predicting market trends, and detecting fraud.\n",
      "3. **Customer Service**: Chatbots and virtual assistants providing 24/7 support.\n",
      "4. **Transportation**: Autonomous vehicles, smart traffic management, and route optimization.\n",
      "\n",
      "This is just a brief introduction to AI, but I hope it gives you a solid starting point for exploring the world of Artificial Intelligence!\n",
      "====================================================================================================\n"
     ]
    }
   ],
   "source": [
    "prompts = [\n",
    "    'Explain AI in simple terms.'\n",
    "    'What is artificial intelligence?'\n",
    "    'Can you describe how AI works?'\n",
    "    'Give me a short introduction to artificial intelligence'\n",
    "    ]\n",
    "\n",
    "for prompt in prompts:\n",
    "    response = ollama.generate(model='llama3', prompt=prompt)\n",
    "    print(\"[\", prompt, \"]\")\n",
    "    print(response['response'])\n",
    "    print('=' * 100)\n",
    "\n"
   ]
  }
 ],
 "metadata": {
  "kernelspec": {
   "display_name": "Python 3",
   "language": "python",
   "name": "python3"
  },
  "language_info": {
   "codemirror_mode": {
    "name": "ipython",
    "version": 3
   },
   "file_extension": ".py",
   "mimetype": "text/x-python",
   "name": "python",
   "nbconvert_exporter": "python",
   "pygments_lexer": "ipython3",
   "version": "3.10.16"
  }
 },
 "nbformat": 4,
 "nbformat_minor": 2
}
