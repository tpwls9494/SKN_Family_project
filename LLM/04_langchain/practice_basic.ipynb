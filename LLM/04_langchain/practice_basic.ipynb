{
 "cells": [
  {
   "cell_type": "code",
   "execution_count": 4,
   "metadata": {},
   "outputs": [
    {
     "data": {
      "text/plain": [
       "True"
      ]
     },
     "execution_count": 4,
     "metadata": {},
     "output_type": "execute_result"
    }
   ],
   "source": [
    "# 환경설정\n",
    "from dotenv import load_dotenv\n",
    "load_dotenv()"
   ]
  },
  {
   "cell_type": "markdown",
   "metadata": {},
   "source": [
    "# 1. Chain을 이용한 Simple LLM\n",
    "1. PromptTemplate\n",
    "2. LLM\n",
    "3. OutputParser"
   ]
  },
  {
   "cell_type": "code",
   "execution_count": 5,
   "metadata": {},
   "outputs": [],
   "source": [
    "from langchain_openai import ChatOpenAI\n",
    "from langchain.output_parsers import CommaSeparatedListOutputParser\n",
    "from langchain.prompts.chat import ChatPromptTemplate, SystemMessagePromptTemplate, HumanMessagePromptTemplate, AIMessagePromptTemplate"
   ]
  },
  {
   "cell_type": "code",
   "execution_count": 6,
   "metadata": {},
   "outputs": [],
   "source": [
    "# 1. PromptTemplate\n",
    "# from langchain import PromptTemplate\n",
    "from langchain_core.prompts import ChatPromptTemplate\n",
    "\n",
    "# prompt = PromptTemplate(\n",
    "#     template='가장 강한 포켓몬은?',\n",
    "#     input_variables=[]\n",
    "# )\n",
    "\n",
    "prompt = ChatPromptTemplate([\n",
    "    ('system', '너는 애니메이션을 잘 아는 챗봇이야. 사용자의 질문에 친절하고 상세하게 답할 수 있어.'),\n",
    "    ('user', '{question}')\n",
    "])\n",
    "\n"
   ]
  },
  {
   "cell_type": "code",
   "execution_count": 7,
   "metadata": {},
   "outputs": [],
   "source": [
    "# 2. LLM\n",
    "model = ChatOpenAI(\n",
    "    model_name='gpt-4o-mini',\n",
    "    temperature=0.3\n",
    ")"
   ]
  },
  {
   "cell_type": "code",
   "execution_count": 8,
   "metadata": {},
   "outputs": [],
   "source": [
    "# 3. OutputParser (StrOutputParser)\n",
    "from langchain_core.output_parsers import StrOutputParser\n",
    "output = StrOutputParser()"
   ]
  },
  {
   "cell_type": "code",
   "execution_count": 9,
   "metadata": {},
   "outputs": [],
   "source": [
    "# # Chain -> 질의\n",
    "# # question: 어떤 포켓몬이 가장 강해?\n",
    "\n",
    "# chain = prompt | model | output\n",
    "\n",
    "# result = chain.invoke({'question': '어떤 포켓몬이 가장 강해?'})\n",
    "\n"
   ]
  },
  {
   "cell_type": "code",
   "execution_count": 10,
   "metadata": {},
   "outputs": [],
   "source": [
    "# print(result)"
   ]
  },
  {
   "cell_type": "code",
   "execution_count": 11,
   "metadata": {},
   "outputs": [],
   "source": [
    "# from langchain_core.runnables import RunnableSequence\n",
    "# chain = RunnableSequence(prompt, model, output)\n",
    "# chain.invoke({'question': '어떤 포켓몬이 가장 강해?'})"
   ]
  },
  {
   "cell_type": "markdown",
   "metadata": {},
   "source": [
    "### 단계별 Chatbot\n",
    "- 첫 대화에서 내 이름을 알려주고, 다음 대화에서 내 이름 기억하는지 물어보기!"
   ]
  },
  {
   "cell_type": "markdown",
   "metadata": {},
   "source": [
    "1. 그냥 Chat\n",
    "- langchain_openai의 ChatOpenAI\n",
    "- langchain_core.messages의 클래스"
   ]
  },
  {
   "cell_type": "code",
   "execution_count": 12,
   "metadata": {},
   "outputs": [],
   "source": [
    "from langchain_openai import ChatOpenAI\n",
    "from langchain_core.messages import HumanMessage, SystemMessage\n",
    "\n",
    "model = ChatOpenAI(model_name='gpt-4o-mini', temperature=0.5)\n"
   ]
  },
  {
   "cell_type": "code",
   "execution_count": 13,
   "metadata": {},
   "outputs": [
    {
     "name": "stdout",
     "output_type": "stream",
     "text": [
      "사용자: 안녕 내 이름은 sj야\n",
      "AI: 안녕하세요, sj님! 만나서 반갑습니다. 어떻게 도와드릴까요?\n",
      "사용자: 내 생일이 언제라고?\n",
      "AI: 죄송하지만, 당신의 생일에 대한 정보는 알 수 없습니다. 생일을 말씀해 주시면 축하해 드릴 수 있습니다!\n"
     ]
    }
   ],
   "source": [
    "message = HumanMessage(content=\"안녕 내 이름은 sj야\")\n",
    "response = model.invoke([message])\n",
    "\n",
    "print(f\"사용자: 안녕 내 이름은 sj야\")\n",
    "print(f\"AI: {response.content}\")\n",
    "\n",
    "message2 = HumanMessage(content=\"내 생일이 언제라고?\")\n",
    "response2 = model.invoke([message2])\n",
    "\n",
    "print(f\"사용자: 내 생일이 언제라고?\")\n",
    "print(f\"AI: {response2.content}\")"
   ]
  },
  {
   "cell_type": "markdown",
   "metadata": {},
   "source": [
    "2. 직접 대화 맥락 유지\n",
    "- langchain_openai의 ChatOpenAI\n",
    "- langchain_core.messages의 클래스"
   ]
  },
  {
   "cell_type": "code",
   "execution_count": 14,
   "metadata": {},
   "outputs": [
    {
     "name": "stdout",
     "output_type": "stream",
     "text": [
      "사용자: 안녕 내 이름은 sj야\n",
      "AI: 안녕하세요, sj님! 만나서 반갑습니다. 어떻게 도와드릴까요?\n",
      "사용자: 내 생일이 언제라고?\n",
      "AI: 죄송하지만, sj님의 생일에 대한 정보는 알 수 없어요. 하지만 생일이 언제인지 말씀해 주시면, 축하 메시지를 준비해 드릴 수 있어요!\n"
     ]
    }
   ],
   "source": [
    "messages = [\n",
    "    SystemMessage(content=\"너는 대화를 잘하는 AI 어시스턴트야.\")\n",
    "]\n",
    "\n",
    "# 첫 번째 메시지\n",
    "messages.append(HumanMessage(content=\"안녕 내 이름은 sj야\"))\n",
    "response1 = model.invoke(messages)\n",
    "messages.append(response1)\n",
    "\n",
    "print(f\"사용자: 안녕 내 이름은 sj야\")\n",
    "print(f\"AI: {response1.content}\")\n",
    "\n",
    "# 두 번째 메시지 (맥락 유지)\n",
    "messages.append(HumanMessage(content=\"내 생일이 언제라고?\"))\n",
    "response2 = model.invoke(messages)\n",
    "\n",
    "print(f\"사용자: 내 생일이 언제라고?\")\n",
    "print(f\"AI: {response2.content}\")"
   ]
  },
  {
   "cell_type": "markdown",
   "metadata": {},
   "source": [
    "3. Memory로 대화 맥락 유지\n",
    "- langchain_openai의 ChatOpenAI\n",
    "- langchain_core.messages의 클래스\n",
    "- langchain_core.runnables의 클래스\n",
    "- langchain_core.prompts의 클래스"
   ]
  },
  {
   "cell_type": "code",
   "execution_count": 15,
   "metadata": {},
   "outputs": [],
   "source": [
    "from langchain_core.chat_history import BaseChatMessageHistory\n",
    "\n",
    "class InMemoryHistory(BaseChatMessageHistory):\n",
    "    def __init__(self):\n",
    "        self.messages = []\n",
    "\n",
    "    def add_messages(self, messages):\n",
    "        self.messages.extend(messages)\n",
    "\n",
    "    def clear(self):\n",
    "        self.messages = []\n",
    "\n",
    "    def __repr__(self):\n",
    "        return str(self.messages)"
   ]
  },
  {
   "cell_type": "code",
   "execution_count": 16,
   "metadata": {},
   "outputs": [],
   "source": [
    "store = {}  \n",
    "def get_by_session_id(session_id):\n",
    "    if session_id not in store:\n",
    "        store[session_id] = InMemoryHistory()\n",
    "    return store[session_id]"
   ]
  },
  {
   "cell_type": "code",
   "execution_count": 17,
   "metadata": {},
   "outputs": [
    {
     "name": "stdout",
     "output_type": "stream",
     "text": [
      "안녕, sj! 만나서 반가워. 어떻게 도와줄까요?\n",
      "죄송하지만, sj님의 생일에 대한 정보는 알 수 없어요. 생일이 언제인지 말씀해주시면 축하해드릴 수 있어요!\n"
     ]
    }
   ],
   "source": [
    "from langchain_openai import ChatOpenAI\n",
    "from langchain_core.prompts import ChatPromptTemplate, MessagesPlaceholder\n",
    "from langchain_core.runnables.history import RunnableWithMessageHistory\n",
    "\n",
    "prompt = ChatPromptTemplate.from_messages([\n",
    "    ('system', '너는 {skill}을 잘하는 AI 어시스턴트야.'),\n",
    "    MessagesPlaceholder(variable_name='history'),\n",
    "    ('human', '{query}')    \n",
    "])\n",
    "model = ChatOpenAI(model_name='gpt-4o-mini', temperature=0.5)\n",
    "chain = prompt | model\n",
    "\n",
    "chain_with_history = RunnableWithMessageHistory(\n",
    "    chain,\n",
    "    get_session_history=get_by_session_id,\n",
    "    input_messages_key='query',\n",
    "    history_messages_key='history'    \n",
    ")\n",
    "\n",
    "res = chain_with_history.invoke(\n",
    "    {'skill': '대화', 'query': '안녕 내 이름은 sj야'},\n",
    "    config={\n",
    "        'configurable': {'session_id': 'squirrel'}\n",
    "    }\n",
    ")\n",
    "\n",
    "res2 = chain_with_history.invoke(\n",
    "    {'skill': '대화', 'query': '내 생일이 언제라고?'},\n",
    "    config={\n",
    "        'configurable': {'session_id': 'squirrel'}\n",
    "    }\n",
    ")\n",
    "\n",
    "print(res.content)\n",
    "print(res2.content)"
   ]
  }
 ],
 "metadata": {
  "kernelspec": {
   "display_name": "vectordb_env",
   "language": "python",
   "name": "python3"
  },
  "language_info": {
   "codemirror_mode": {
    "name": "ipython",
    "version": 3
   },
   "file_extension": ".py",
   "mimetype": "text/x-python",
   "name": "python",
   "nbconvert_exporter": "python",
   "pygments_lexer": "ipython3",
   "version": "3.9.21"
  }
 },
 "nbformat": 4,
 "nbformat_minor": 2
}
