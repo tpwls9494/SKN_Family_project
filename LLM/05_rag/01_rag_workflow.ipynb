{
 "cells": [
  {
   "cell_type": "code",
   "execution_count": 3,
   "metadata": {},
   "outputs": [
    {
     "data": {
      "text/plain": [
       "True"
      ]
     },
     "execution_count": 3,
     "metadata": {},
     "output_type": "execute_result"
    }
   ],
   "source": [
    "from dotenv import load_dotenv\n",
    "load_dotenv()"
   ]
  },
  {
   "cell_type": "markdown",
   "metadata": {},
   "source": [
    "# 1. Indexing Phase"
   ]
  },
  {
   "cell_type": "markdown",
   "metadata": {},
   "source": [
    "### (1) Load"
   ]
  },
  {
   "cell_type": "code",
   "execution_count": 5,
   "metadata": {},
   "outputs": [],
   "source": [
    "from langchain_community.document_loaders import PyPDFLoader\n",
    "\n",
    "loader = PyPDFLoader('./data/snow-white.pdf')\n",
    "documents = loader.load()"
   ]
  },
  {
   "cell_type": "code",
   "execution_count": 6,
   "metadata": {},
   "outputs": [
    {
     "data": {
      "text/plain": [
       "[Document(metadata={'producer': 'Microsoft® PowerPoint® 2013', 'creator': 'Microsoft® PowerPoint® 2013', 'creationdate': '2023-09-12T11:20:24+09:00', 'title': 'PowerPoint 프레젠테이션', 'author': 'PC', 'moddate': '2023-09-12T11:20:24+09:00', 'source': './data/snow-white.pdf', 'total_pages': 6, 'page': 0, 'page_label': '1'}, page_content='백설공주 옛날 어느 왕국에 공주님이 태어났어요. “어쩜 이렇게 어여쁠까? 살결이 눈처럼 하얗구나. 백 설공주라고 불러야겠다.” 왕과 왕비는 갓 태어난 딸을 보며 기뻐했어요. 하지만 기쁨도 잠시, 왕비는 곧 세상을 떠나고 말았어 요.'),\n",
       " Document(metadata={'producer': 'Microsoft® PowerPoint® 2013', 'creator': 'Microsoft® PowerPoint® 2013', 'creationdate': '2023-09-12T11:20:24+09:00', 'title': 'PowerPoint 프레젠테이션', 'author': 'PC', 'moddate': '2023-09-12T11:20:24+09:00', 'source': './data/snow-white.pdf', 'total_pages': 6, 'page': 1, 'page_label': '2'}, page_content='왕은 아름다운 새 왕비를 맞았어요. 그런데 새 왕비는 자기보다 아름다운 사람을 두고 보 지 못했어요. 왕비는 진실만을 말하는 요술 거울에게 늘 이렇게 물 었어요. “거울아, 거울아. 이 세상에서 누가 가장 아름답니?” “이 세상에서 가장 아름다운 사람은 왕비님입니다.” 그 대답을 들어야만 차가운 왕비 얼굴에 미소가 번졌 지요. 시간이 흘러 백설공주는 어여쁜 소녀가 되었어요. 어느 날, 왕비는 요술 거울에게 물었지요. “거울아, 거울아. 이 세상에서 누가 가장 아름답니?” “왕비님도 아름답지만 백설공주가 더 아름답습니다.” 화가 난 왕비는 사냥꾼을 불렀어요. 왕비는 사냥꾼에게 백설공주를 죽이라고 명령했어요. 하지만 사냥꾼은 차마 그럴 수 없었어요. “가여운 공주님, 왕비님이 찾지 못하도록 멀리멀리 떠 나세요.” 백설공주는 울면서 숲으로 도망쳤어요.'),\n",
       " Document(metadata={'producer': 'Microsoft® PowerPoint® 2013', 'creator': 'Microsoft® PowerPoint® 2013', 'creationdate': '2023-09-12T11:20:24+09:00', 'title': 'PowerPoint 프레젠테이션', 'author': 'PC', 'moddate': '2023-09-12T11:20:24+09:00', 'source': './data/snow-white.pdf', 'total_pages': 6, 'page': 2, 'page_label': '3'}, page_content='숲속을 헤매던 백설공주는 외딴 오두막에 이르렀어요. 들여다보니 오두막은 비어 있었어요. “아무도 없네. 좀 쉬어 가도 될까? 어? 신기하다! 모든 게 작아.  어어? 이상하다! 모든 게 일곱. 의자도 일곱, 접시도 일곱. 어머,  침대도 일곱 개네.” 도망치느라 치진 백설공주는 식탁 위에 있던 빵을 먹고 나서 일곱 번째 침대에 쓰러져 잠들었어요. 밤이 되자 오두막 주인인 일곱 난쟁이가 돌아왔어요. 난쟁이들은 집 안이 어질러진 것을 보고 깜짝 놀랐지요. 일곱째 난쟁이가 큰 소리로 외쳤어요. “누가 내 침대에서 자고 있어!” 북적이는 소리에 잠이 깬 백설공주는 왕비를 피해 도망쳤다고 이야기했어요. “불쌍한 공주님, 우리와 함께 살아요. 조심조심 또 조심. 낯선 사람에게는 문을 열어 주지 마세요.” 며칠이 지나 왕비는 다시 요술 거울에게 누가 가장 아름다운 지 물었어요. “왕비님도 아름답지만 백설공주님이 천배는 더 아름답습니다.” “사냥꾼이 날 속였구나. 내가 직접 해치우겠어!”'),\n",
       " Document(metadata={'producer': 'Microsoft® PowerPoint® 2013', 'creator': 'Microsoft® PowerPoint® 2013', 'creationdate': '2023-09-12T11:20:24+09:00', 'title': 'PowerPoint 프레젠테이션', 'author': 'PC', 'moddate': '2023-09-12T11:20:24+09:00', 'source': './data/snow-white.pdf', 'total_pages': 6, 'page': 3, 'page_label': '4'}, page_content='왕비는 먹음직스럽게 생긴 사과를 골라 독을 발랐어요. 그리고 과일 장수로 변장했지요. 왕비는 산을 넘고 또 넘어 일곱 난쟁이의 오두막에 도착했어요. “새콤달콤 맛있는 사과가 있어요. 아가씨의 붉은 입술처럼 새빨 간 사과랍니다. 잠깐 문을 열어 보세요.” 백설공주는 고개를 저었어요. “난쟁이들이 문을 열어 주지 말라고 했어요.” 백설공주가 거절하자, 왕비는 창문 틈새로 사과를 쑥 내밀었어 요. “그럼, 맛이라도 봐요. 정말 맛있으니까. 둘이 먹다 하나가 죽어 도 모를걸요.” “탐스러운 사과네. 맛있어 보여. 한입만 아삭 깨물어 볼까?” 사과를 베어 문 순간, 백설공주는 온몸에 독이 퍼져 정신을 잃고 쓰러졌어요. “호호호. 이제 내가 세상에서 가장 아름답겠지?” 왕비는 백설공주를 버려둔 채 자리를 떠났어요.'),\n",
       " Document(metadata={'producer': 'Microsoft® PowerPoint® 2013', 'creator': 'Microsoft® PowerPoint® 2013', 'creationdate': '2023-09-12T11:20:24+09:00', 'title': 'PowerPoint 프레젠테이션', 'author': 'PC', 'moddate': '2023-09-12T11:20:24+09:00', 'source': './data/snow-white.pdf', 'total_pages': 6, 'page': 4, 'page_label': '5'}, page_content='저녁이 되자, 일곱 난쟁이가 돌아왔어요. 난쟁이들은 쓰러진 백설공주를 보고 엉엉 울었어요. 백설공주는 깊은 잠에 빠진 것처럼 보였지요. “백설공주님, 못된 왕비의 꾐에 넘어갔군요.” “여전히 아름다운 우리 공주님을 캄캄한 땅속에 묻을 순 없어.” “오래오래 볼 수 있게 유리 관에 모시자.” 어느 날, 한 왕자가 숲을 지나다가 유리관을 보았어요. “누구지? 이 아름다운 여인은?” “백설공주랍니다.” 왕자는 백설공주에게 반해 유리관을 달라고 부탁했어요. 일곱 난쟁이는 백설공주를 잘 지킨다는 약속을 받고 유리관을 내주었지요. 그런데 신하들이 유리관을 옮기다 돌부리에 툭! 백설공주 목 에서 사과 조각이 툭!  “우아, 공주님이 살아났어!”'),\n",
       " Document(metadata={'producer': 'Microsoft® PowerPoint® 2013', 'creator': 'Microsoft® PowerPoint® 2013', 'creationdate': '2023-09-12T11:20:24+09:00', 'title': 'PowerPoint 프레젠테이션', 'author': 'PC', 'moddate': '2023-09-12T11:20:24+09:00', 'source': './data/snow-white.pdf', 'total_pages': 6, 'page': 5, 'page_label': '6'}, page_content='왕자는 깨어난 백설공주를 보고 기뻐했어요. “공주님, 나는 이웃 나라 왕자입니다.” “왕자님이 나를 다시 살려 주셨군요.” “나와 결혼해 주시겠어요?” “네, 좋아요!” 두 사람은 일곱 난쟁이와 함께 오래오래 행복하게 살 았답니다.')]"
      ]
     },
     "execution_count": 6,
     "metadata": {},
     "output_type": "execute_result"
    }
   ],
   "source": [
    "# 개행문자 제거\n",
    "for doc in documents:\n",
    "    doc.page_content = doc.page_content.replace('\\n', ' ')\n",
    "\n",
    "documents"
   ]
  },
  {
   "cell_type": "markdown",
   "metadata": {},
   "source": [
    "### (2) Split"
   ]
  },
  {
   "cell_type": "code",
   "execution_count": 7,
   "metadata": {},
   "outputs": [
    {
     "data": {
      "text/plain": [
       "[Document(metadata={'producer': 'Microsoft® PowerPoint® 2013', 'creator': 'Microsoft® PowerPoint® 2013', 'creationdate': '2023-09-12T11:20:24+09:00', 'title': 'PowerPoint 프레젠테이션', 'author': 'PC', 'moddate': '2023-09-12T11:20:24+09:00', 'source': './data/snow-white.pdf', 'total_pages': 6, 'page': 0, 'page_label': '1'}, page_content='백설공주 옛날 어느 왕국에 공주님이 태어났어요. “어쩜 이렇게 어여쁠까? 살결이 눈처럼 하얗구나. 백 설공주라고 불러야겠다.” 왕과 왕비는 갓 태어난 딸을 보며 기뻐했어요. 하지만'),\n",
       " Document(metadata={'producer': 'Microsoft® PowerPoint® 2013', 'creator': 'Microsoft® PowerPoint® 2013', 'creationdate': '2023-09-12T11:20:24+09:00', 'title': 'PowerPoint 프레젠테이션', 'author': 'PC', 'moddate': '2023-09-12T11:20:24+09:00', 'source': './data/snow-white.pdf', 'total_pages': 6, 'page': 0, 'page_label': '1'}, page_content='딸을 보며 기뻐했어요. 하지만 기쁨도 잠시, 왕비는 곧 세상을 떠나고 말았어 요.'),\n",
       " Document(metadata={'producer': 'Microsoft® PowerPoint® 2013', 'creator': 'Microsoft® PowerPoint® 2013', 'creationdate': '2023-09-12T11:20:24+09:00', 'title': 'PowerPoint 프레젠테이션', 'author': 'PC', 'moddate': '2023-09-12T11:20:24+09:00', 'source': './data/snow-white.pdf', 'total_pages': 6, 'page': 1, 'page_label': '2'}, page_content='왕은 아름다운 새 왕비를 맞았어요. 그런데 새 왕비는 자기보다 아름다운 사람을 두고 보 지 못했어요. 왕비는 진실만을 말하는 요술 거울에게 늘 이렇게 물 었어요. “거울아,'),\n",
       " Document(metadata={'producer': 'Microsoft® PowerPoint® 2013', 'creator': 'Microsoft® PowerPoint® 2013', 'creationdate': '2023-09-12T11:20:24+09:00', 'title': 'PowerPoint 프레젠테이션', 'author': 'PC', 'moddate': '2023-09-12T11:20:24+09:00', 'source': './data/snow-white.pdf', 'total_pages': 6, 'page': 1, 'page_label': '2'}, page_content='늘 이렇게 물 었어요. “거울아, 거울아. 이 세상에서 누가 가장 아름답니?” “이 세상에서 가장 아름다운 사람은 왕비님입니다.” 그 대답을 들어야만 차가운 왕비 얼굴에 미소가'),\n",
       " Document(metadata={'producer': 'Microsoft® PowerPoint® 2013', 'creator': 'Microsoft® PowerPoint® 2013', 'creationdate': '2023-09-12T11:20:24+09:00', 'title': 'PowerPoint 프레젠테이션', 'author': 'PC', 'moddate': '2023-09-12T11:20:24+09:00', 'source': './data/snow-white.pdf', 'total_pages': 6, 'page': 1, 'page_label': '2'}, page_content='들어야만 차가운 왕비 얼굴에 미소가 번졌 지요. 시간이 흘러 백설공주는 어여쁜 소녀가 되었어요. 어느 날, 왕비는 요술 거울에게 물었지요. “거울아, 거울아. 이 세상에서 누가'),\n",
       " Document(metadata={'producer': 'Microsoft® PowerPoint® 2013', 'creator': 'Microsoft® PowerPoint® 2013', 'creationdate': '2023-09-12T11:20:24+09:00', 'title': 'PowerPoint 프레젠테이션', 'author': 'PC', 'moddate': '2023-09-12T11:20:24+09:00', 'source': './data/snow-white.pdf', 'total_pages': 6, 'page': 1, 'page_label': '2'}, page_content='거울아. 이 세상에서 누가 가장 아름답니?” “왕비님도 아름답지만 백설공주가 더 아름답습니다.” 화가 난 왕비는 사냥꾼을 불렀어요. 왕비는 사냥꾼에게 백설공주를 죽이라고'),\n",
       " Document(metadata={'producer': 'Microsoft® PowerPoint® 2013', 'creator': 'Microsoft® PowerPoint® 2013', 'creationdate': '2023-09-12T11:20:24+09:00', 'title': 'PowerPoint 프레젠테이션', 'author': 'PC', 'moddate': '2023-09-12T11:20:24+09:00', 'source': './data/snow-white.pdf', 'total_pages': 6, 'page': 1, 'page_label': '2'}, page_content='사냥꾼에게 백설공주를 죽이라고 명령했어요. 하지만 사냥꾼은 차마 그럴 수 없었어요. “가여운 공주님, 왕비님이 찾지 못하도록 멀리멀리 떠 나세요.” 백설공주는 울면서 숲으로'),\n",
       " Document(metadata={'producer': 'Microsoft® PowerPoint® 2013', 'creator': 'Microsoft® PowerPoint® 2013', 'creationdate': '2023-09-12T11:20:24+09:00', 'title': 'PowerPoint 프레젠테이션', 'author': 'PC', 'moddate': '2023-09-12T11:20:24+09:00', 'source': './data/snow-white.pdf', 'total_pages': 6, 'page': 1, 'page_label': '2'}, page_content='나세요.” 백설공주는 울면서 숲으로 도망쳤어요.'),\n",
       " Document(metadata={'producer': 'Microsoft® PowerPoint® 2013', 'creator': 'Microsoft® PowerPoint® 2013', 'creationdate': '2023-09-12T11:20:24+09:00', 'title': 'PowerPoint 프레젠테이션', 'author': 'PC', 'moddate': '2023-09-12T11:20:24+09:00', 'source': './data/snow-white.pdf', 'total_pages': 6, 'page': 2, 'page_label': '3'}, page_content='숲속을 헤매던 백설공주는 외딴 오두막에 이르렀어요. 들여다보니 오두막은 비어 있었어요. “아무도 없네. 좀 쉬어 가도 될까? 어? 신기하다! 모든 게 작아.  어어? 이상하다!'),\n",
       " Document(metadata={'producer': 'Microsoft® PowerPoint® 2013', 'creator': 'Microsoft® PowerPoint® 2013', 'creationdate': '2023-09-12T11:20:24+09:00', 'title': 'PowerPoint 프레젠테이션', 'author': 'PC', 'moddate': '2023-09-12T11:20:24+09:00', 'source': './data/snow-white.pdf', 'total_pages': 6, 'page': 2, 'page_label': '3'}, page_content='모든 게 작아.  어어? 이상하다! 모든 게 일곱. 의자도 일곱, 접시도 일곱. 어머,  침대도 일곱 개네.” 도망치느라 치진 백설공주는 식탁 위에 있던 빵을 먹고 나서 일곱'),\n",
       " Document(metadata={'producer': 'Microsoft® PowerPoint® 2013', 'creator': 'Microsoft® PowerPoint® 2013', 'creationdate': '2023-09-12T11:20:24+09:00', 'title': 'PowerPoint 프레젠테이션', 'author': 'PC', 'moddate': '2023-09-12T11:20:24+09:00', 'source': './data/snow-white.pdf', 'total_pages': 6, 'page': 2, 'page_label': '3'}, page_content='위에 있던 빵을 먹고 나서 일곱 번째 침대에 쓰러져 잠들었어요. 밤이 되자 오두막 주인인 일곱 난쟁이가 돌아왔어요. 난쟁이들은 집 안이 어질러진 것을 보고 깜짝 놀랐지요. 일곱째'),\n",
       " Document(metadata={'producer': 'Microsoft® PowerPoint® 2013', 'creator': 'Microsoft® PowerPoint® 2013', 'creationdate': '2023-09-12T11:20:24+09:00', 'title': 'PowerPoint 프레젠테이션', 'author': 'PC', 'moddate': '2023-09-12T11:20:24+09:00', 'source': './data/snow-white.pdf', 'total_pages': 6, 'page': 2, 'page_label': '3'}, page_content='것을 보고 깜짝 놀랐지요. 일곱째 난쟁이가 큰 소리로 외쳤어요. “누가 내 침대에서 자고 있어!” 북적이는 소리에 잠이 깬 백설공주는 왕비를 피해 도망쳤다고 이야기했어요.'),\n",
       " Document(metadata={'producer': 'Microsoft® PowerPoint® 2013', 'creator': 'Microsoft® PowerPoint® 2013', 'creationdate': '2023-09-12T11:20:24+09:00', 'title': 'PowerPoint 프레젠테이션', 'author': 'PC', 'moddate': '2023-09-12T11:20:24+09:00', 'source': './data/snow-white.pdf', 'total_pages': 6, 'page': 2, 'page_label': '3'}, page_content='피해 도망쳤다고 이야기했어요. “불쌍한 공주님, 우리와 함께 살아요. 조심조심 또 조심. 낯선 사람에게는 문을 열어 주지 마세요.” 며칠이 지나 왕비는 다시 요술 거울에게 누가'),\n",
       " Document(metadata={'producer': 'Microsoft® PowerPoint® 2013', 'creator': 'Microsoft® PowerPoint® 2013', 'creationdate': '2023-09-12T11:20:24+09:00', 'title': 'PowerPoint 프레젠테이션', 'author': 'PC', 'moddate': '2023-09-12T11:20:24+09:00', 'source': './data/snow-white.pdf', 'total_pages': 6, 'page': 2, 'page_label': '3'}, page_content='왕비는 다시 요술 거울에게 누가 가장 아름다운 지 물었어요. “왕비님도 아름답지만 백설공주님이 천배는 더 아름답습니다.” “사냥꾼이 날 속였구나. 내가 직접 해치우겠어!”'),\n",
       " Document(metadata={'producer': 'Microsoft® PowerPoint® 2013', 'creator': 'Microsoft® PowerPoint® 2013', 'creationdate': '2023-09-12T11:20:24+09:00', 'title': 'PowerPoint 프레젠테이션', 'author': 'PC', 'moddate': '2023-09-12T11:20:24+09:00', 'source': './data/snow-white.pdf', 'total_pages': 6, 'page': 3, 'page_label': '4'}, page_content='왕비는 먹음직스럽게 생긴 사과를 골라 독을 발랐어요. 그리고 과일 장수로 변장했지요. 왕비는 산을 넘고 또 넘어 일곱 난쟁이의 오두막에 도착했어요. “새콤달콤 맛있는 사과가'),\n",
       " Document(metadata={'producer': 'Microsoft® PowerPoint® 2013', 'creator': 'Microsoft® PowerPoint® 2013', 'creationdate': '2023-09-12T11:20:24+09:00', 'title': 'PowerPoint 프레젠테이션', 'author': 'PC', 'moddate': '2023-09-12T11:20:24+09:00', 'source': './data/snow-white.pdf', 'total_pages': 6, 'page': 3, 'page_label': '4'}, page_content='“새콤달콤 맛있는 사과가 있어요. 아가씨의 붉은 입술처럼 새빨 간 사과랍니다. 잠깐 문을 열어 보세요.” 백설공주는 고개를 저었어요. “난쟁이들이 문을 열어 주지 말라고'),\n",
       " Document(metadata={'producer': 'Microsoft® PowerPoint® 2013', 'creator': 'Microsoft® PowerPoint® 2013', 'creationdate': '2023-09-12T11:20:24+09:00', 'title': 'PowerPoint 프레젠테이션', 'author': 'PC', 'moddate': '2023-09-12T11:20:24+09:00', 'source': './data/snow-white.pdf', 'total_pages': 6, 'page': 3, 'page_label': '4'}, page_content='“난쟁이들이 문을 열어 주지 말라고 했어요.” 백설공주가 거절하자, 왕비는 창문 틈새로 사과를 쑥 내밀었어 요. “그럼, 맛이라도 봐요. 정말 맛있으니까. 둘이 먹다 하나가 죽어'),\n",
       " Document(metadata={'producer': 'Microsoft® PowerPoint® 2013', 'creator': 'Microsoft® PowerPoint® 2013', 'creationdate': '2023-09-12T11:20:24+09:00', 'title': 'PowerPoint 프레젠테이션', 'author': 'PC', 'moddate': '2023-09-12T11:20:24+09:00', 'source': './data/snow-white.pdf', 'total_pages': 6, 'page': 3, 'page_label': '4'}, page_content='맛있으니까. 둘이 먹다 하나가 죽어 도 모를걸요.” “탐스러운 사과네. 맛있어 보여. 한입만 아삭 깨물어 볼까?” 사과를 베어 문 순간, 백설공주는 온몸에 독이 퍼져 정신을 잃고'),\n",
       " Document(metadata={'producer': 'Microsoft® PowerPoint® 2013', 'creator': 'Microsoft® PowerPoint® 2013', 'creationdate': '2023-09-12T11:20:24+09:00', 'title': 'PowerPoint 프레젠테이션', 'author': 'PC', 'moddate': '2023-09-12T11:20:24+09:00', 'source': './data/snow-white.pdf', 'total_pages': 6, 'page': 3, 'page_label': '4'}, page_content='온몸에 독이 퍼져 정신을 잃고 쓰러졌어요. “호호호. 이제 내가 세상에서 가장 아름답겠지?” 왕비는 백설공주를 버려둔 채 자리를 떠났어요.'),\n",
       " Document(metadata={'producer': 'Microsoft® PowerPoint® 2013', 'creator': 'Microsoft® PowerPoint® 2013', 'creationdate': '2023-09-12T11:20:24+09:00', 'title': 'PowerPoint 프레젠테이션', 'author': 'PC', 'moddate': '2023-09-12T11:20:24+09:00', 'source': './data/snow-white.pdf', 'total_pages': 6, 'page': 4, 'page_label': '5'}, page_content='저녁이 되자, 일곱 난쟁이가 돌아왔어요. 난쟁이들은 쓰러진 백설공주를 보고 엉엉 울었어요. 백설공주는 깊은 잠에 빠진 것처럼 보였지요. “백설공주님, 못된 왕비의 꾐에'),\n",
       " Document(metadata={'producer': 'Microsoft® PowerPoint® 2013', 'creator': 'Microsoft® PowerPoint® 2013', 'creationdate': '2023-09-12T11:20:24+09:00', 'title': 'PowerPoint 프레젠테이션', 'author': 'PC', 'moddate': '2023-09-12T11:20:24+09:00', 'source': './data/snow-white.pdf', 'total_pages': 6, 'page': 4, 'page_label': '5'}, page_content='“백설공주님, 못된 왕비의 꾐에 넘어갔군요.” “여전히 아름다운 우리 공주님을 캄캄한 땅속에 묻을 순 없어.” “오래오래 볼 수 있게 유리 관에 모시자.” 어느 날, 한 왕자가'),\n",
       " Document(metadata={'producer': 'Microsoft® PowerPoint® 2013', 'creator': 'Microsoft® PowerPoint® 2013', 'creationdate': '2023-09-12T11:20:24+09:00', 'title': 'PowerPoint 프레젠테이션', 'author': 'PC', 'moddate': '2023-09-12T11:20:24+09:00', 'source': './data/snow-white.pdf', 'total_pages': 6, 'page': 4, 'page_label': '5'}, page_content='모시자.” 어느 날, 한 왕자가 숲을 지나다가 유리관을 보았어요. “누구지? 이 아름다운 여인은?” “백설공주랍니다.” 왕자는 백설공주에게 반해 유리관을 달라고 부탁했어요. 일곱'),\n",
       " Document(metadata={'producer': 'Microsoft® PowerPoint® 2013', 'creator': 'Microsoft® PowerPoint® 2013', 'creationdate': '2023-09-12T11:20:24+09:00', 'title': 'PowerPoint 프레젠테이션', 'author': 'PC', 'moddate': '2023-09-12T11:20:24+09:00', 'source': './data/snow-white.pdf', 'total_pages': 6, 'page': 4, 'page_label': '5'}, page_content='유리관을 달라고 부탁했어요. 일곱 난쟁이는 백설공주를 잘 지킨다는 약속을 받고 유리관을 내주었지요. 그런데 신하들이 유리관을 옮기다 돌부리에 툭! 백설공주 목 에서 사과 조각이'),\n",
       " Document(metadata={'producer': 'Microsoft® PowerPoint® 2013', 'creator': 'Microsoft® PowerPoint® 2013', 'creationdate': '2023-09-12T11:20:24+09:00', 'title': 'PowerPoint 프레젠테이션', 'author': 'PC', 'moddate': '2023-09-12T11:20:24+09:00', 'source': './data/snow-white.pdf', 'total_pages': 6, 'page': 4, 'page_label': '5'}, page_content='툭! 백설공주 목 에서 사과 조각이 툭!  “우아, 공주님이 살아났어!”'),\n",
       " Document(metadata={'producer': 'Microsoft® PowerPoint® 2013', 'creator': 'Microsoft® PowerPoint® 2013', 'creationdate': '2023-09-12T11:20:24+09:00', 'title': 'PowerPoint 프레젠테이션', 'author': 'PC', 'moddate': '2023-09-12T11:20:24+09:00', 'source': './data/snow-white.pdf', 'total_pages': 6, 'page': 5, 'page_label': '6'}, page_content='왕자는 깨어난 백설공주를 보고 기뻐했어요. “공주님, 나는 이웃 나라 왕자입니다.” “왕자님이 나를 다시 살려 주셨군요.” “나와 결혼해 주시겠어요?” “네, 좋아요!” 두 사람은'),\n",
       " Document(metadata={'producer': 'Microsoft® PowerPoint® 2013', 'creator': 'Microsoft® PowerPoint® 2013', 'creationdate': '2023-09-12T11:20:24+09:00', 'title': 'PowerPoint 프레젠테이션', 'author': 'PC', 'moddate': '2023-09-12T11:20:24+09:00', 'source': './data/snow-white.pdf', 'total_pages': 6, 'page': 5, 'page_label': '6'}, page_content='“네, 좋아요!” 두 사람은 일곱 난쟁이와 함께 오래오래 행복하게 살 았답니다.')]"
      ]
     },
     "execution_count": 7,
     "metadata": {},
     "output_type": "execute_result"
    }
   ],
   "source": [
    "from langchain.text_splitter import RecursiveCharacterTextSplitter\n",
    "\n",
    "splitter = RecursiveCharacterTextSplitter(\n",
    "    chunk_size=100,     # 각 chunk의 최대 문자 수 (기본값: 1000)\n",
    "    chunk_overlap=20    # 인접한 텍스트 조각 간 겹치는 문자 수 (기본값: 200)\n",
    ")                       # seperators: 텍스트 분할 구분자 우선순위 (기본값: ['\\n\\n', '\\n', ' ', ''])\n",
    "\n",
    "docs = splitter.split_documents(documents)\n",
    "docs"
   ]
  },
  {
   "cell_type": "markdown",
   "metadata": {},
   "source": [
    "### (3) Score"
   ]
  },
  {
   "cell_type": "code",
   "execution_count": 12,
   "metadata": {},
   "outputs": [],
   "source": [
    "# 임베딩 모델 생성\n",
    "from langchain_openai.embeddings import OpenAIEmbeddings\n",
    "\n",
    "embedding_model = OpenAIEmbeddings(model='text-embedding-3-small')"
   ]
  },
  {
   "cell_type": "code",
   "execution_count": 10,
   "metadata": {},
   "outputs": [],
   "source": [
    "#!pip install langchain-chroma"
   ]
  },
  {
   "cell_type": "code",
   "execution_count": 13,
   "metadata": {},
   "outputs": [],
   "source": [
    "from langchain_chroma.vectorstores import Chroma\n",
    "\n",
    "vector_store = Chroma.from_documents(docs, embedding_model)\n"
   ]
  },
  {
   "cell_type": "markdown",
   "metadata": {},
   "source": [
    "- Retriever를 사용한 유사도 기반 검색"
   ]
  },
  {
   "cell_type": "code",
   "execution_count": 14,
   "metadata": {},
   "outputs": [
    {
     "data": {
      "text/plain": [
       "[(Document(id='a889a376-2443-4db5-9c03-c61ee33650b3', metadata={'author': 'PC', 'creationdate': '2023-09-12T11:20:24+09:00', 'creator': 'Microsoft® PowerPoint® 2013', 'moddate': '2023-09-12T11:20:24+09:00', 'page': 1, 'page_label': '2', 'producer': 'Microsoft® PowerPoint® 2013', 'source': './data/snow-white.pdf', 'title': 'PowerPoint 프레젠테이션', 'total_pages': 6}, page_content='거울아. 이 세상에서 누가 가장 아름답니?” “왕비님도 아름답지만 백설공주가 더 아름답습니다.” 화가 난 왕비는 사냥꾼을 불렀어요. 왕비는 사냥꾼에게 백설공주를 죽이라고'),\n",
       "  0.8399926424026489),\n",
       " (Document(id='684c276c-c606-4ab7-8f5b-08bb86fb5a61', metadata={'author': 'PC', 'creationdate': '2023-09-12T11:20:24+09:00', 'creator': 'Microsoft® PowerPoint® 2013', 'moddate': '2023-09-12T11:20:24+09:00', 'page': 2, 'page_label': '3', 'producer': 'Microsoft® PowerPoint® 2013', 'source': './data/snow-white.pdf', 'title': 'PowerPoint 프레젠테이션', 'total_pages': 6}, page_content='왕비는 다시 요술 거울에게 누가 가장 아름다운 지 물었어요. “왕비님도 아름답지만 백설공주님이 천배는 더 아름답습니다.” “사냥꾼이 날 속였구나. 내가 직접 해치우겠어!”'),\n",
       "  0.8604382276535034),\n",
       " (Document(id='36a158eb-c5c8-4b46-8a1d-c0c74b9df3ac', metadata={'author': 'PC', 'creationdate': '2023-09-12T11:20:24+09:00', 'creator': 'Microsoft® PowerPoint® 2013', 'moddate': '2023-09-12T11:20:24+09:00', 'page': 4, 'page_label': '5', 'producer': 'Microsoft® PowerPoint® 2013', 'source': './data/snow-white.pdf', 'title': 'PowerPoint 프레젠테이션', 'total_pages': 6}, page_content='“백설공주님, 못된 왕비의 꾐에 넘어갔군요.” “여전히 아름다운 우리 공주님을 캄캄한 땅속에 묻을 순 없어.” “오래오래 볼 수 있게 유리 관에 모시자.” 어느 날, 한 왕자가'),\n",
       "  0.9562268257141113),\n",
       " (Document(id='d78206ef-8e83-47b0-a163-6cb6db328d04', metadata={'author': 'PC', 'creationdate': '2023-09-12T11:20:24+09:00', 'creator': 'Microsoft® PowerPoint® 2013', 'moddate': '2023-09-12T11:20:24+09:00', 'page': 0, 'page_label': '1', 'producer': 'Microsoft® PowerPoint® 2013', 'source': './data/snow-white.pdf', 'title': 'PowerPoint 프레젠테이션', 'total_pages': 6}, page_content='백설공주 옛날 어느 왕국에 공주님이 태어났어요. “어쩜 이렇게 어여쁠까? 살결이 눈처럼 하얗구나. 백 설공주라고 불러야겠다.” 왕과 왕비는 갓 태어난 딸을 보며 기뻐했어요. 하지만'),\n",
       "  1.0917634963989258)]"
      ]
     },
     "execution_count": 14,
     "metadata": {},
     "output_type": "execute_result"
    }
   ],
   "source": [
    "query = '백설공주와 왕비 중에 누가 더 아름답나요?'\n",
    "\n",
    "# vector store 직접 조회\n",
    "retrievals = (vector_store.similarity_search_with_score(query))\n",
    "retrievals"
   ]
  },
  {
   "cell_type": "code",
   "execution_count": 17,
   "metadata": {},
   "outputs": [
    {
     "data": {
      "text/plain": [
       "[[Document(id='a889a376-2443-4db5-9c03-c61ee33650b3', metadata={'author': 'PC', 'creationdate': '2023-09-12T11:20:24+09:00', 'creator': 'Microsoft® PowerPoint® 2013', 'moddate': '2023-09-12T11:20:24+09:00', 'page': 1, 'page_label': '2', 'producer': 'Microsoft® PowerPoint® 2013', 'source': './data/snow-white.pdf', 'title': 'PowerPoint 프레젠테이션', 'total_pages': 6}, page_content='거울아. 이 세상에서 누가 가장 아름답니?” “왕비님도 아름답지만 백설공주가 더 아름답습니다.” 화가 난 왕비는 사냥꾼을 불렀어요. 왕비는 사냥꾼에게 백설공주를 죽이라고'),\n",
       "  Document(id='684c276c-c606-4ab7-8f5b-08bb86fb5a61', metadata={'author': 'PC', 'creationdate': '2023-09-12T11:20:24+09:00', 'creator': 'Microsoft® PowerPoint® 2013', 'moddate': '2023-09-12T11:20:24+09:00', 'page': 2, 'page_label': '3', 'producer': 'Microsoft® PowerPoint® 2013', 'source': './data/snow-white.pdf', 'title': 'PowerPoint 프레젠테이션', 'total_pages': 6}, page_content='왕비는 다시 요술 거울에게 누가 가장 아름다운 지 물었어요. “왕비님도 아름답지만 백설공주님이 천배는 더 아름답습니다.” “사냥꾼이 날 속였구나. 내가 직접 해치우겠어!”'),\n",
       "  Document(id='36a158eb-c5c8-4b46-8a1d-c0c74b9df3ac', metadata={'author': 'PC', 'creationdate': '2023-09-12T11:20:24+09:00', 'creator': 'Microsoft® PowerPoint® 2013', 'moddate': '2023-09-12T11:20:24+09:00', 'page': 4, 'page_label': '5', 'producer': 'Microsoft® PowerPoint® 2013', 'source': './data/snow-white.pdf', 'title': 'PowerPoint 프레젠테이션', 'total_pages': 6}, page_content='“백설공주님, 못된 왕비의 꾐에 넘어갔군요.” “여전히 아름다운 우리 공주님을 캄캄한 땅속에 묻을 순 없어.” “오래오래 볼 수 있게 유리 관에 모시자.” 어느 날, 한 왕자가')]]"
      ]
     },
     "execution_count": 17,
     "metadata": {},
     "output_type": "execute_result"
    }
   ],
   "source": [
    "# Retriever를 사용한 검색\n",
    "retriever = vector_store.as_retriever(\n",
    "    search_type = 'similarity',\n",
    "    search_kwargs={'k': 3}\n",
    ")\n",
    "retriever_result = retriever.batch([query])\n",
    "retriever_result"
   ]
  },
  {
   "cell_type": "code",
   "execution_count": null,
   "metadata": {},
   "outputs": [],
   "source": []
  },
  {
   "cell_type": "markdown",
   "metadata": {},
   "source": [
    "# 2. Retrieval and Generation Phase"
   ]
  },
  {
   "cell_type": "markdown",
   "metadata": {},
   "source": [
    "### (1) 프롬프트 생성"
   ]
  },
  {
   "cell_type": "markdown",
   "metadata": {},
   "source": [
    "- 사용자 질의 + 검색된 문서"
   ]
  },
  {
   "cell_type": "code",
   "execution_count": 23,
   "metadata": {},
   "outputs": [],
   "source": [
    "from langchain_core.prompts import ChatPromptTemplate\n",
    "\n",
    "prompt = ChatPromptTemplate([\n",
    "    ('system', '당신은 어린 아이에게 꿈과 희망을 심어주는 유치원 교사입니다. 질문하는 아이에게 최대한 호응하면서 context 기반으로만 답변해 주세요.'),\n",
    "    ('user', '''\n",
    "어린이의 질문에 context만을 이용해 답변하세요.\n",
    "질문: {query}\n",
    "context: {context}\n",
    "''')\n",
    "])"
   ]
  },
  {
   "cell_type": "code",
   "execution_count": 26,
   "metadata": {},
   "outputs": [
    {
     "data": {
      "text/plain": [
       "ChatPromptValue(messages=[SystemMessage(content='당신은 어린 아이에게 꿈과 희망을 심어주는 유치원 교사입니다. 질문하는 아이에게 최대한 호응하면서 context 기반으로만 답변해 주세요.', additional_kwargs={}, response_metadata={}), HumanMessage(content=\"\\n어린이의 질문에 context만을 이용해 답변하세요.\\n질문: 백설공주가 마지막에 만난 사람은 누구인가요?\\ncontext: [(Document(id='a889a376-2443-4db5-9c03-c61ee33650b3', metadata={'author': 'PC', 'creationdate': '2023-09-12T11:20:24+09:00', 'creator': 'Microsoft® PowerPoint® 2013', 'moddate': '2023-09-12T11:20:24+09:00', 'page': 1, 'page_label': '2', 'producer': 'Microsoft® PowerPoint® 2013', 'source': './data/snow-white.pdf', 'title': 'PowerPoint 프레젠테이션', 'total_pages': 6}, page_content='거울아. 이 세상에서 누가 가장 아름답니?” “왕비님도 아름답지만 백설공주가 더 아름답습니다.” 화가 난 왕비는 사냥꾼을 불렀어요. 왕비는 사냥꾼에게 백설공주를 죽이라고'), 0.8399926424026489), (Document(id='684c276c-c606-4ab7-8f5b-08bb86fb5a61', metadata={'author': 'PC', 'creationdate': '2023-09-12T11:20:24+09:00', 'creator': 'Microsoft® PowerPoint® 2013', 'moddate': '2023-09-12T11:20:24+09:00', 'page': 2, 'page_label': '3', 'producer': 'Microsoft® PowerPoint® 2013', 'source': './data/snow-white.pdf', 'title': 'PowerPoint 프레젠테이션', 'total_pages': 6}, page_content='왕비는 다시 요술 거울에게 누가 가장 아름다운 지 물었어요. “왕비님도 아름답지만 백설공주님이 천배는 더 아름답습니다.” “사냥꾼이 날 속였구나. 내가 직접 해치우겠어!”'), 0.8604382276535034), (Document(id='36a158eb-c5c8-4b46-8a1d-c0c74b9df3ac', metadata={'author': 'PC', 'creationdate': '2023-09-12T11:20:24+09:00', 'creator': 'Microsoft® PowerPoint® 2013', 'moddate': '2023-09-12T11:20:24+09:00', 'page': 4, 'page_label': '5', 'producer': 'Microsoft® PowerPoint® 2013', 'source': './data/snow-white.pdf', 'title': 'PowerPoint 프레젠테이션', 'total_pages': 6}, page_content='“백설공주님, 못된 왕비의 꾐에 넘어갔군요.” “여전히 아름다운 우리 공주님을 캄캄한 땅속에 묻을 순 없어.” “오래오래 볼 수 있게 유리 관에 모시자.” 어느 날, 한 왕자가'), 0.9562268257141113), (Document(id='d78206ef-8e83-47b0-a163-6cb6db328d04', metadata={'author': 'PC', 'creationdate': '2023-09-12T11:20:24+09:00', 'creator': 'Microsoft® PowerPoint® 2013', 'moddate': '2023-09-12T11:20:24+09:00', 'page': 0, 'page_label': '1', 'producer': 'Microsoft® PowerPoint® 2013', 'source': './data/snow-white.pdf', 'title': 'PowerPoint 프레젠테이션', 'total_pages': 6}, page_content='백설공주 옛날 어느 왕국에 공주님이 태어났어요. “어쩜 이렇게 어여쁠까? 살결이 눈처럼 하얗구나. 백 설공주라고 불러야겠다.” 왕과 왕비는 갓 태어난 딸을 보며 기뻐했어요. 하지만'), 1.0917634963989258)]\\n\", additional_kwargs={}, response_metadata={})])"
      ]
     },
     "execution_count": 26,
     "metadata": {},
     "output_type": "execute_result"
    }
   ],
   "source": [
    "prompt.invoke({'query': query, 'context': retrievals})"
   ]
  },
  {
   "cell_type": "markdown",
   "metadata": {},
   "source": [
    "### (2) 모델 생성"
   ]
  },
  {
   "cell_type": "code",
   "execution_count": 27,
   "metadata": {},
   "outputs": [],
   "source": [
    "from langchain_openai import ChatOpenAI\n",
    "\n",
    "model = ChatOpenAI(\n",
    "    model='gpt-4o-mini',\n",
    "    temperature=0.5\n",
    ")"
   ]
  },
  {
   "cell_type": "markdown",
   "metadata": {},
   "source": [
    "### (3) Chain 생성"
   ]
  },
  {
   "cell_type": "code",
   "execution_count": 30,
   "metadata": {},
   "outputs": [],
   "source": [
    "from langchain_core.output_parsers import StrOutputParser\n",
    "from langchain_core.runnables import RunnablePassthrough\n",
    "\n",
    "# context 생성\n",
    "query = \"백설공주가 마지막으로 만난 사람은 누구인가요?\"\n",
    "retrievals = retriever.batch([query])\n",
    "context_text = \"\\n\".join([doc.page_content for doc in retrievals[0]])\n",
    "\n",
    "chain = prompt | model | StrOutputParser()"
   ]
  },
  {
   "cell_type": "markdown",
   "metadata": {},
   "source": [
    "### 사용"
   ]
  },
  {
   "cell_type": "code",
   "execution_count": 31,
   "metadata": {},
   "outputs": [
    {
     "data": {
      "text/plain": [
       "'백설공주가 마지막으로 만난 사람은 누굴까요? 이야기를 보면 백설공주가 숲으로 도망쳤을 때, 그곳에서 여러 동물 친구들을 만났을 것 같아요. 그리고 나중에 그녀를 구해준 왕자님과도 만났겠죠! 그 왕자님이 백설공주를 정말 사랑하게 되었답니다. 꿈처럼 아름다운 이야기죠?'"
      ]
     },
     "execution_count": 31,
     "metadata": {},
     "output_type": "execute_result"
    }
   ],
   "source": [
    "chain.invoke({'query': query, 'context': context_text})"
   ]
  }
 ],
 "metadata": {
  "kernelspec": {
   "display_name": "vectordb_env",
   "language": "python",
   "name": "python3"
  },
  "language_info": {
   "codemirror_mode": {
    "name": "ipython",
    "version": 3
   },
   "file_extension": ".py",
   "mimetype": "text/x-python",
   "name": "python",
   "nbconvert_exporter": "python",
   "pygments_lexer": "ipython3",
   "version": "3.9.21"
  }
 },
 "nbformat": 4,
 "nbformat_minor": 2
}
