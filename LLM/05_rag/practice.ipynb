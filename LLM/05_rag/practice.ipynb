{
 "cells": [
  {
   "cell_type": "markdown",
   "metadata": {},
   "source": [
    "# AI FAQ 챗봇 만들기 with RAG"
   ]
  },
  {
   "cell_type": "code",
   "execution_count": 9,
   "metadata": {},
   "outputs": [
    {
     "data": {
      "text/plain": [
       "True"
      ]
     },
     "execution_count": 9,
     "metadata": {},
     "output_type": "execute_result"
    }
   ],
   "source": [
    "from dotenv import load_dotenv\n",
    "load_dotenv()"
   ]
  },
  {
   "cell_type": "code",
   "execution_count": 10,
   "metadata": {},
   "outputs": [],
   "source": [
    "from langchain_openai import OpenAIEmbeddings, ChatOpenAI\n",
    "from langchain.vectorstores import Chroma\n",
    "from langchain.chains import RetrievalQA\n",
    "from langchain.prompts import PromptTemplate\n",
    "from langchain.schema import Document\n",
    "import json\n"
   ]
  },
  {
   "cell_type": "code",
   "execution_count": 11,
   "metadata": {},
   "outputs": [
    {
     "name": "stdout",
     "output_type": "stream",
     "text": [
      "FAQ 챗봇이 시작되었습니다. 종료하려면 'q' 또는 '종료'를 입력하세요.\n"
     ]
    },
    {
     "name": "stderr",
     "output_type": "stream",
     "text": [
      "/var/folders/kp/5_0zhw410tzf9tkb2lt76sw40000gn/T/ipykernel_21216/3295668952.py:64: LangChainDeprecationWarning: The method `Chain.__call__` was deprecated in langchain 0.1.0 and will be removed in 1.0. Use :meth:`~invoke` instead.\n",
      "  result = retrieval_qa({\"query\": user_input})\n"
     ]
    },
    {
     "name": "stdout",
     "output_type": "stream",
     "text": [
      "\n",
      "답변: 답변: 저희 메뉴에는 다양한 맛있는 음식이 있습니다. 추천 메뉴는 고객님의 취향에 따라 다를 수 있으니, 인기 있는 메뉴를 확인해 보시거나 직원에게 문의해 주세요!\n",
      "\n",
      "답변: 죄송하지만, \"Escape\"에 대한 정보는 제공할 수 없습니다. 다른 질문이 있으시면 도와드리겠습니다!\n",
      "챗봇을 종료합니다. 감사합니다!\n"
     ]
    }
   ],
   "source": [
    "model = ChatOpenAI(\n",
    "    model=\"gpt-4o-mini\",\n",
    "    temperature=0\n",
    ")\n",
    "\n",
    "embedding_model = OpenAIEmbeddings(model='text-embedding-3-small')\n",
    "\n",
    "with open('./data/faq_chatbot_data.json', 'r', encoding='utf-8') as f:\n",
    "    faq_data = json.load(f)\n",
    "\n",
    "documents = []\n",
    "\n",
    "for item in faq_data:\n",
    "    # 각 FAQ 항목을 Document 객체로 변환\n",
    "    doc = Document(\n",
    "        page_content=f\"질문: {item['question']}\\n답변: {item['answer']}\",\n",
    "        metadata={\"source\": \"FAQ\"}\n",
    "    )\n",
    "    documents.append(doc)\n",
    "\n",
    "chroma_vector_store = Chroma.from_documents(documents, embedding_model)\n",
    "\n",
    "retriever = chroma_vector_store.as_retriever()\n",
    "\n",
    "\n",
    "prompt_template = \"\"\"\n",
    "당신은 친절한 FAQ 챗봇입니다. 사용자의 질문에 정확하고 간결하게 답변해 주세요.\n",
    "\n",
    "FAQ 정보:\n",
    "{context}\n",
    "\n",
    "질문: {question}\n",
    "답변:\n",
    "\"\"\"\n",
    "\n",
    "PROMPT = PromptTemplate(\n",
    "    template=prompt_template,\n",
    "    input_variables=[\"context\", \"question\"]\n",
    ")\n",
    "\n",
    "# RAG 체인 생성\n",
    "retrieval_qa = RetrievalQA.from_chain_type(\n",
    "    llm=model,\n",
    "    retriever=retriever,\n",
    "    chain_type='stuff',\n",
    "    return_source_documents=True,\n",
    "    chain_type_kwargs={\"prompt\": PROMPT}\n",
    ")\n",
    "\n",
    "# 대화 시작\n",
    "print(\"FAQ 챗봇이 시작되었습니다. 종료하려면 'q' 또는 '종료'를 입력하세요.\")\n",
    "\n",
    "while True:\n",
    "    # 사용자 입력 받기\n",
    "    user_input = input(\"\\n질문을 입력하세요: \")\n",
    "    \n",
    "    # 종료 조건 확인\n",
    "    if user_input.lower() in ['q', '종료', 'quit', 'exit']:\n",
    "        print(\"챗봇을 종료합니다. 감사합니다!\")\n",
    "        break\n",
    "    \n",
    "    # 질문 처리\n",
    "    try:\n",
    "        result = retrieval_qa({\"query\": user_input})\n",
    "        print(\"\\n답변:\", result[\"result\"])\n",
    "    except Exception as e:\n",
    "        print(f\"오류가 발생했습니다: {e}\")\n",
    "        print(\"다시 시도해 주세요.\")"
   ]
  }
 ],
 "metadata": {
  "kernelspec": {
   "display_name": "vectordb_env",
   "language": "python",
   "name": "python3"
  },
  "language_info": {
   "codemirror_mode": {
    "name": "ipython",
    "version": 3
   },
   "file_extension": ".py",
   "mimetype": "text/x-python",
   "name": "python",
   "nbconvert_exporter": "python",
   "pygments_lexer": "ipython3",
   "version": "3.9.21"
  }
 },
 "nbformat": 4,
 "nbformat_minor": 2
}
