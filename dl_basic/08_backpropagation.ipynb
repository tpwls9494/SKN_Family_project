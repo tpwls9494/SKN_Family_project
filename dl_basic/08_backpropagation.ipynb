{
 "cells": [
  {
   "cell_type": "markdown",
   "metadata": {},
   "source": [
    "# 역전파(Backpropagation)"
   ]
  },
  {
   "cell_type": "markdown",
   "metadata": {},
   "source": [
    "### 연쇄법칙"
   ]
  },
  {
   "cell_type": "code",
   "execution_count": 14,
   "metadata": {},
   "outputs": [
    {
     "name": "stdout",
     "output_type": "stream",
     "text": [
      "9.0\n",
      "6.0\n"
     ]
    }
   ],
   "source": [
    "import numpy as np\n",
    "\n",
    "def forward(x):\n",
    "    y = x**2\n",
    "    return y\n",
    "\n",
    "def backward(x):\n",
    "    dy_dx = 2 * x\n",
    "    return dy_dx\n",
    "\n",
    "x = 3.0\n",
    "print(forward(x))\n",
    "print(backward(x))"
   ]
  },
  {
   "cell_type": "markdown",
   "metadata": {},
   "source": [
    "- 다층 신경망에서 연쇄법칙 적용"
   ]
  },
  {
   "cell_type": "code",
   "execution_count": 15,
   "metadata": {},
   "outputs": [
    {
     "name": "stdout",
     "output_type": "stream",
     "text": [
      "18.0\n",
      "12.0\n"
     ]
    }
   ],
   "source": [
    "def forward(x):\n",
    "    y = x**2\n",
    "    z = 2 * y\n",
    "    return z\n",
    "\n",
    "def backward(x):\n",
    "    dy_dx = 2 * x\n",
    "    dz_dy = 2\n",
    "    dz_dx = dz_dy * dy_dx\n",
    "    return dz_dx\n",
    "\n",
    "x = 3.0\n",
    "print(forward(x))\n",
    "print(backward(x))"
   ]
  },
  {
   "cell_type": "markdown",
   "metadata": {},
   "source": [
    "### 신경망에서의 활용"
   ]
  },
  {
   "cell_type": "markdown",
   "metadata": {},
   "source": [
    "- 단순 신경망 학습"
   ]
  },
  {
   "cell_type": "code",
   "execution_count": 16,
   "metadata": {},
   "outputs": [
    {
     "name": "stdout",
     "output_type": "stream",
     "text": [
      "[0.22846489 0.42846489]\n"
     ]
    }
   ],
   "source": [
    "def sigmoid(x):\n",
    "    return 1 / (1 + np.exp(-x))\n",
    "\n",
    "def sigmoid_d(x):\n",
    "    return sigmoid(x) * (1 - sigmoid(x))\n",
    "\n",
    "X = np.array([0.5, 0.8])\n",
    "y = np.array([1])\n",
    "\n",
    "W = np.array([0.2, 0.4])\n",
    "\n",
    "# 순전파\n",
    "z = np.dot(X,W)     # 은닉층\n",
    "r = sigmoid(z)      # 출력층\n",
    "\n",
    "# 오차 계산\n",
    "loss = 0.5 * (y - r) ** 2\n",
    "\n",
    "# 역전파 (기울기 계산)\n",
    "delta = (r - y) * sigmoid_d(z)\n",
    "grad_w = delta * x\n",
    "\n",
    "# 가중치 계산\n",
    "W -= 0.1 * grad_w   # 0.1 == learning_rate\n",
    "\n",
    "print(W)"
   ]
  },
  {
   "cell_type": "markdown",
   "metadata": {},
   "source": [
    "- 은닉층 추가"
   ]
  },
  {
   "cell_type": "code",
   "execution_count": 17,
   "metadata": {},
   "outputs": [
    {
     "name": "stdout",
     "output_type": "stream",
     "text": [
      "[[0.5004928]\n",
      " [0.6011264]]\n",
      "[[0.20044   0.400528 ]\n",
      " [0.100704  0.3008448]]\n"
     ]
    }
   ],
   "source": [
    "def relu(x):\n",
    "    return np.maximum(0, x)\n",
    "\n",
    "def relu_d(x):\n",
    "    return np.where(x > 0, 1 ,0)\n",
    "\n",
    "X = np.array([0.5, 0.8])                    # (2, )\n",
    "y = np.array([1])\n",
    "\n",
    "W1 = np.array([[0.2, 0.4], [0.1, 0.3]])     # (2, 2)\n",
    "b1 = np.array([0.1, 0.2])                   # (2,)\n",
    "W2 = np.array([[0.5], [0.6]])               # (2,1)\n",
    "b2 = np.array([0.3])\n",
    "\n",
    "# 순전파\n",
    "z1 = np.dot(X,W1) + b1     # 은닉층\n",
    "r1 = relu(z1)      # 출력층\n",
    "\n",
    "z2 = np.dot(r1,W2) + b2     # 은닉층\n",
    "r2 = relu(z2)      # 출력층\n",
    "\n",
    "# 역전파 (기울기 계산)\n",
    "delta2 = (r2 - 1) * relu_d(z2)\n",
    "grad_W2 = np.outer(r1, delta2)\n",
    "\n",
    "delta1 = np.dot(W2, delta2) * relu_d(z1)\n",
    "grad_W1 = np.outer(X, delta1)\n",
    "\n",
    "# 가중치 계산\n",
    "learning_rate = 0.01   # 0.01 == learning_rate\n",
    "W2 -= learning_rate * grad_W2\n",
    "W1 -= learning_rate * grad_W1\n",
    "\n",
    "print(W2)\n",
    "print(W1)"
   ]
  },
  {
   "cell_type": "markdown",
   "metadata": {},
   "source": [
    "### 수치미분과 역전파"
   ]
  },
  {
   "cell_type": "code",
   "execution_count": 18,
   "metadata": {},
   "outputs": [
    {
     "name": "stdout",
     "output_type": "stream",
     "text": [
      "6.000000000039306\n",
      "6.0\n"
     ]
    }
   ],
   "source": [
    "def f(x):\n",
    "    return x**2\n",
    "def num_d_gradient(f, x):\n",
    "    h = 1e-5\n",
    "    return (f(x + h) - f(x - h)) / (2 * h)\n",
    "\n",
    "def backward_gradient(x):\n",
    "    return 2 * x\n",
    "\n",
    "print(num_d_gradient(f, 3.0))\n",
    "print(backward_gradient(3.0))"
   ]
  },
  {
   "cell_type": "markdown",
   "metadata": {},
   "source": [
    "### 숫자 맞추기 AI"
   ]
  },
  {
   "cell_type": "code",
   "execution_count": 24,
   "metadata": {},
   "outputs": [
    {
     "name": "stdout",
     "output_type": "stream",
     "text": [
      "epoch 4 | 예측값: 17.617159481810894, 손실: 366.98945168854584\n",
      "epoch 9 | 예측값: 27.602176502414515, 손실: 127.9613095479165\n",
      "epoch 14 | 예측값: 33.49822920291075, 손실: 44.61734980632072\n",
      "epoch 19 | 예측값: 36.97978936202677, 손실: 15.55710793186395\n",
      "epoch 24 | 예측값: 39.035615820383185, 손실: 5.4244281261496585\n",
      "epoch 29 | 예측값: 40.249560785778066, 손실: 1.8913811374604281\n",
      "epoch 34 | 예측값: 40.966383148394094, 손실: 0.6594838246442655\n",
      "epoch 39 | 예측값: 41.38965958529523, 손실: 0.22994779124814219\n",
      "epoch 44 | 예측값: 41.63960008852098, 손실: 0.08017783715684376\n",
      "epoch 49 | 예측값: 41.78718745627075, 손실: 0.027956283190440422\n",
      "최종 예측값: 41.78718745627075\n"
     ]
    }
   ],
   "source": [
    "target_number = 42\n",
    "\n",
    "guess = np.random.randn()\n",
    "\n",
    "learning_rate = 0.1\n",
    "def sigmoid(x):\n",
    "    return 1 / (1 + np.exp(-x))\n",
    "\n",
    "def sigmoid_d(x):\n",
    "    return sigmoid(x) * (1 - sigmoid(x))\n",
    "\n",
    "X = np.array([0.5, 0.8])\n",
    "y = np.array([1])\n",
    "\n",
    "W = np.array([0.2, 0.4])\n",
    "\n",
    "# 순전파\n",
    "z = np.dot(X,W)     # 은닉층\n",
    "r = sigmoid(z)      # 출력층\n",
    "\n",
    "for i in range(50):\n",
    "    # 오차 계산\n",
    "    loss = 0.5 * (guess - target_number) ** 2\n",
    "\n",
    "    # 역전파 (기울기 계산)\n",
    "    grad = guess - target_number\n",
    "    \n",
    "\n",
    "    # 업데이트 (guess 계산)\n",
    "    guess -= learning_rate * grad\n",
    "\n",
    "\n",
    "    # epoch 5마다 예측값과 손실 출력\n",
    "    if i % 5 == 0:\n",
    "        print(f'epoch {i} | 예측값: {guess}, 손실: {loss}')\n",
    "\n",
    "\n",
    "# 최종 예측값 guess 출력\n",
    "print(f'최종 예측값: {guess}')"
   ]
  }
 ],
 "metadata": {
  "kernelspec": {
   "display_name": "Python 3",
   "language": "python",
   "name": "python3"
  },
  "language_info": {
   "codemirror_mode": {
    "name": "ipython",
    "version": 3
   },
   "file_extension": ".py",
   "mimetype": "text/x-python",
   "name": "python",
   "nbconvert_exporter": "python",
   "pygments_lexer": "ipython3",
   "version": "3.13.1"
  }
 },
 "nbformat": 4,
 "nbformat_minor": 2
}
